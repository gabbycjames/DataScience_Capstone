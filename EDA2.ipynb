{
 "cells": [
  {
   "cell_type": "markdown",
   "id": "76fe0925-3d9b-41bc-89dd-45316a18f691",
   "metadata": {},
   "source": [
    "# Food Desert Investigation -- Exploratory Data Analysis"
   ]
  },
  {
   "cell_type": "markdown",
   "id": "3c48ec52-deb1-4401-9afe-602429e93c8d",
   "metadata": {},
   "source": [
    "## Imports"
   ]
  },
  {
   "cell_type": "code",
   "execution_count": null,
   "id": "c3cfda3b-b7a5-48f8-a3a4-630ffaff3be7",
   "metadata": {},
   "outputs": [],
   "source": []
  }
 ],
 "metadata": {
  "kernelspec": {
   "display_name": "Python 3 (ipykernel)",
   "language": "python",
   "name": "python3"
  },
  "language_info": {
   "codemirror_mode": {
    "name": "ipython",
    "version": 3
   },
   "file_extension": ".py",
   "mimetype": "text/x-python",
   "name": "python",
   "nbconvert_exporter": "python",
   "pygments_lexer": "ipython3",
   "version": "3.11.5"
  }
 },
 "nbformat": 4,
 "nbformat_minor": 5
}
