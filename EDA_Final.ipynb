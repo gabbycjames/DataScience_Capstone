{
 "cells": [
  {
   "cell_type": "markdown",
   "id": "76fe0925-3d9b-41bc-89dd-45316a18f691",
   "metadata": {},
   "source": [
    "# Food Desert Investigation -- Exploratory Data Analysis\n",
    "Hypothesis: Access to grocery stores, specialty food stores, and recreation centers are measures populations with higher education and employment outcomes."
   ]
  },
  {
   "cell_type": "markdown",
   "id": "3c48ec52-deb1-4401-9afe-602429e93c8d",
   "metadata": {},
   "source": [
    "## Imports"
   ]
  },
  {
   "cell_type": "code",
   "execution_count": 1,
   "id": "c3cfda3b-b7a5-48f8-a3a4-630ffaff3be7",
   "metadata": {
    "tags": []
   },
   "outputs": [
    {
     "ename": "ModuleNotFoundError",
     "evalue": "No module named 'geopandas'",
     "output_type": "error",
     "traceback": [
      "\u001b[0;31m---------------------------------------------------------------------------\u001b[0m",
      "\u001b[0;31mModuleNotFoundError\u001b[0m                       Traceback (most recent call last)",
      "Cell \u001b[0;32mIn[1], line 10\u001b[0m\n\u001b[1;32m      8\u001b[0m \u001b[38;5;28;01mfrom\u001b[39;00m \u001b[38;5;21;01msklearn\u001b[39;00m\u001b[38;5;21;01m.\u001b[39;00m\u001b[38;5;21;01mmodel_selection\u001b[39;00m \u001b[38;5;28;01mimport\u001b[39;00m train_test_split\n\u001b[1;32m      9\u001b[0m \u001b[38;5;28;01mfrom\u001b[39;00m \u001b[38;5;21;01msklearn\u001b[39;00m \u001b[38;5;28;01mimport\u001b[39;00m linear_model, preprocessing \n\u001b[0;32m---> 10\u001b[0m \u001b[38;5;28;01mimport\u001b[39;00m \u001b[38;5;21;01mgeopandas\u001b[39;00m \u001b[38;5;28;01mas\u001b[39;00m \u001b[38;5;21;01mgpd\u001b[39;00m\n",
      "\u001b[0;31mModuleNotFoundError\u001b[0m: No module named 'geopandas'"
     ]
    }
   ],
   "source": [
    "import pandas as pd\n",
    "import numpy as np\n",
    "import matplotlib.pyplot as plt\n",
    "import seaborn as sns\n",
    "import statsmodels.api as sm\n",
    "from statsmodels.graphics.api import abline_plot\n",
    "from sklearn.metrics import mean_squared_error, r2_score \n",
    "from sklearn.model_selection import train_test_split\n",
    "from sklearn import linear_model, preprocessing \n",
    "import geopandas as gpd"
   ]
  },
  {
   "cell_type": "code",
   "execution_count": null,
   "id": "38b8574e-8d53-4900-a9ab-3acf9a770d3c",
   "metadata": {
    "tags": []
   },
   "outputs": [],
   "source": [
    "df = pd.read_csv('new_clean_combined.csv')"
   ]
  },
  {
   "cell_type": "markdown",
   "id": "c56c1972-2c59-48c3-9ad7-10caf8efe566",
   "metadata": {},
   "source": [
    "## Initial Review"
   ]
  },
  {
   "cell_type": "code",
   "execution_count": null,
   "id": "2451e7f9-298a-4799-97da-a90a0dd8391c",
   "metadata": {
    "tags": []
   },
   "outputs": [],
   "source": [
    "df.head()"
   ]
  },
  {
   "cell_type": "code",
   "execution_count": null,
   "id": "5a5364f9-f3f4-4d6d-85c1-a359d3355eae",
   "metadata": {
    "tags": []
   },
   "outputs": [],
   "source": [
    "df.describe()"
   ]
  },
  {
   "cell_type": "code",
   "execution_count": null,
   "id": "c3e36afe-bd2c-4cb2-83be-b8d427f42e66",
   "metadata": {
    "tags": []
   },
   "outputs": [],
   "source": [
    "df.info()"
   ]
  },
  {
   "cell_type": "code",
   "execution_count": null,
   "id": "ebc58c64-8ac7-4401-8c6c-df349bc9cea6",
   "metadata": {},
   "outputs": [],
   "source": [
    "df.hist(figsize = (25,20))\n",
    "plt.subplots_adjust(hspace=0.5);"
   ]
  },
  {
   "cell_type": "markdown",
   "id": "e93bab13-3d77-47b0-8751-eabcc32697c6",
   "metadata": {},
   "source": [
    "## Correlation"
   ]
  },
  {
   "cell_type": "code",
   "execution_count": null,
   "id": "fe3ff4c3-1bb8-4ae9-9773-ca7f35aca44d",
   "metadata": {
    "tags": []
   },
   "outputs": [],
   "source": [
    "corr = df.corr(numeric_only=True)\n",
    "corr"
   ]
  },
  {
   "cell_type": "code",
   "execution_count": null,
   "id": "92c87cbb-643f-4c38-bf48-aad07ac2534f",
   "metadata": {
    "tags": []
   },
   "outputs": [],
   "source": [
    "plt.figure(figsize=(20,20))\n",
    "_ = sns.heatmap(df.corr(numeric_only=True), annot=False)\n",
    "plt.show()"
   ]
  },
  {
   "cell_type": "markdown",
   "id": "d7edfbba-0832-44c6-805d-7b3c2dcb4f9a",
   "metadata": {},
   "source": [
    "Correlation -- Sorted (Absolute Value)"
   ]
  },
  {
   "cell_type": "code",
   "execution_count": null,
   "id": "78cb8513-ffe3-4e75-82a7-6b37ba5f86ec",
   "metadata": {
    "tags": []
   },
   "outputs": [],
   "source": [
    "abs_corr = corr.abs()"
   ]
  },
  {
   "cell_type": "code",
   "execution_count": null,
   "id": "7c2808ed-03d1-4602-9d34-94419dce0d46",
   "metadata": {
    "tags": []
   },
   "outputs": [],
   "source": [
    "s = abs_corr.unstack()\n",
    "so = s.sort_values(kind='quicksort', ascending=False)\n",
    "so = so[so > 0.6]\n",
    "so = so[so < 1.0]"
   ]
  },
  {
   "cell_type": "code",
   "execution_count": null,
   "id": "7d5722de-4755-4fdd-9d5f-34b3721dc260",
   "metadata": {
    "tags": []
   },
   "outputs": [],
   "source": [
    "sorted_correlation = pd.DataFrame(so)\n",
    "sorted_correlation.head()"
   ]
  },
  {
   "cell_type": "code",
   "execution_count": null,
   "id": "021bcd60-ee55-4849-a474-e578f07b0e09",
   "metadata": {
    "tags": []
   },
   "outputs": [],
   "source": [
    "#plt.figure(figsize=(20,20))\n",
    "#_ = sns.heatmap(sorted_correlation, annot=False)\n",
    "#plt.ylabel('Correlation of Column Variables')\n",
    "#plt.show()"
   ]
  },
  {
   "cell_type": "markdown",
   "id": "43a228b4-7a08-4775-9525-7ec744d11647",
   "metadata": {},
   "source": [
    "## Examining Variables"
   ]
  },
  {
   "cell_type": "markdown",
   "id": "9b7e08dc-c62b-4cd5-9011-aab12e6ef9db",
   "metadata": {},
   "source": [
    "### Bar plots"
   ]
  },
  {
   "cell_type": "code",
   "execution_count": null,
   "id": "fcfb7db8-9e7d-4b0c-ae7f-f006e4a1dc01",
   "metadata": {
    "tags": []
   },
   "outputs": [],
   "source": [
    "plt.figure(figsize=(8,8))\n",
    "groc_by_state = df.groupby(\"State\")['GROC16'].sum().sort_values(ascending=True)\n",
    "_ = groc_by_state.plot(kind=\"bar\", title=\"Number of Grocery Stores by State\")\n",
    "plt.show()"
   ]
  },
  {
   "cell_type": "code",
   "execution_count": null,
   "id": "48d55a57-1558-4055-8e51-b5a8d3141c6d",
   "metadata": {},
   "outputs": [],
   "source": [
    "#plt.figure(figsize=(20,20))\n",
    "groc_pop = df.groupby('State')[['GROC16','SPECS16','RECFAC16']].sum()\n",
    "(groc_pop.reindex(index=groc_pop.mean(axis=1)\n",
    "    .sort_values(ascending=False)\n",
    "    .index)\n",
    "    .plot(kind='bar', figsize=(10, 10), title='Number of restaurants by state'))\n",
    "plt.xlabel('State')\n",
    "plt.ylabel('Number');"
   ]
  },
  {
   "cell_type": "code",
   "execution_count": null,
   "id": "8bb682c2-8ba6-4334-a123-082c50130381",
   "metadata": {
    "tags": []
   },
   "outputs": [],
   "source": [
    "plt.figure(figsize=(8,8))\n",
    "spec_by_state = df.groupby(\"State\")['SPECS16'].sum().sort_values(ascending=True)\n",
    "spec_by_state.plot(kind=\"bar\", title=\"Number of Speciality Food Stores by State\")\n",
    "plt.show()"
   ]
  },
  {
   "cell_type": "code",
   "execution_count": null,
   "id": "6e447306-ea08-4b94-9dc2-9c4a4af4496c",
   "metadata": {
    "tags": []
   },
   "outputs": [],
   "source": [
    "plt.figure(figsize=(8,8))\n",
    "ff_by_state = df.groupby(\"State\")['FFR16'].sum().sort_values(ascending=True)\n",
    "ff_by_state.plot(kind=\"bar\", title=\"Number of Fast Food Restaurants by State\")\n",
    "plt.show()"
   ]
  },
  {
   "cell_type": "code",
   "execution_count": null,
   "id": "1cb58345-96a9-461c-b7c1-ed075442c516",
   "metadata": {
    "tags": []
   },
   "outputs": [],
   "source": [
    "restaurants_by_state = df.groupby('State')[['FFR16','FSR16']].sum()\n",
    "restaurants_by_state.head()"
   ]
  },
  {
   "cell_type": "code",
   "execution_count": null,
   "id": "6aeb8702-1b5f-4de5-8bc8-2a8d3d82653e",
   "metadata": {
    "tags": []
   },
   "outputs": [],
   "source": [
    "#plt.figure(figsize=(20,20))\n",
    "(restaurants_by_state.reindex(index=restaurants_by_state.mean(axis=1)\n",
    "    .sort_values(ascending=False)\n",
    "    .index)\n",
    "    .plot(kind='bar', figsize=(10, 10), title='Number of restaurants by state'))\n",
    "plt.xlabel('State')\n",
    "plt.ylabel('Number');"
   ]
  },
  {
   "cell_type": "markdown",
   "id": "7c5406f3-4811-4d07-afba-b3f728675ab1",
   "metadata": {},
   "source": [
    "### Scatter plots"
   ]
  },
  {
   "cell_type": "code",
   "execution_count": null,
   "id": "478e8508-e2f6-43e9-9535-4d9f893eee3a",
   "metadata": {
    "tags": []
   },
   "outputs": [],
   "source": [
    "# Plot number of grocery stores against number of fast food restaurants\n",
    "_ = sns.scatterplot(data=df, x='GROC16', y='FFR16', alpha=0.5)\n",
    "_ = plt.xlabel('Number of grocery stores')\n",
    "_ = plt.ylabel('Number of fast food restaurants')\n",
    "_ = plt.title(\"Relationship between the number of grocery stores and fast food restaurants\")\n",
    "plt.show()"
   ]
  },
  {
   "cell_type": "code",
   "execution_count": null,
   "id": "82325f41-c081-4e29-aa46-50db806cf9eb",
   "metadata": {
    "tags": []
   },
   "outputs": [],
   "source": [
    "# Plot number of grocery stores against number of full-service restaurants\n",
    "_ = sns.scatterplot(data=df, x='GROC16', y='FSR16', alpha=0.5)\n",
    "_ = plt.xlabel('Number of grocery stores')\n",
    "_ = plt.ylabel('Number of full service restaurants')\n",
    "_ = plt.title(\"Relationship between the number of grocery stores and full service restaurants\")\n",
    "plt.show()"
   ]
  },
  {
   "cell_type": "code",
   "execution_count": null,
   "id": "6ae60bb5-51f6-48ae-9f3d-70379fd33bed",
   "metadata": {},
   "outputs": [],
   "source": [
    "# Plot number of grocery stores against number of full-service restaurants\n",
    "_ = sns.scatterplot(data=df, x='GROC16', y='SPECS16', alpha=0.5)\n",
    "_ = plt.xlabel('Number of grocery stores')\n",
    "_ = plt.ylabel('Number of specialty food stores')\n",
    "_ = plt.title(\"Relationship between the number of grocery stores and specialty food stores\")\n",
    "plt.show()"
   ]
  },
  {
   "cell_type": "code",
   "execution_count": null,
   "id": "95bfdc13-a187-494c-8c06-b1e32ea7fd92",
   "metadata": {
    "tags": []
   },
   "outputs": [],
   "source": [
    "# Plot number of grocery stores against number of WIC-authorized stores\n",
    "_ = sns.scatterplot(data=df, x='GROC16', y='WICS16', alpha=0.5)\n",
    "_ = plt.xlabel('Number of grocery stores')\n",
    "_ = plt.ylabel('Number of WIC-authorized stores')\n",
    "_ = plt.title(\"Relationship between the number of grocery stores and WIC-authorized stores\")\n",
    "plt.show()"
   ]
  },
  {
   "cell_type": "code",
   "execution_count": null,
   "id": "60e16a71-a20e-4744-bfda-e0be11ecc1e4",
   "metadata": {},
   "outputs": [],
   "source": [
    "#_ = sns.scatterplot(data=df, x='GROC16', y='PovertyEstimateAllAges', alpha=0.5)\n",
    "_ = plt.xlabel('Number of grocery stores')\n",
    "_ = plt.ylabel('Estimated number of people in poverty')\n",
    "_ = plt.title(\"Relationship between the number of grocery stores and estimated number of people in poverty\")\n",
    "plt.show()"
   ]
  },
  {
   "cell_type": "code",
   "execution_count": null,
   "id": "420958a9-f3ab-4aba-a7f6-db138e1b6c7b",
   "metadata": {},
   "outputs": [],
   "source": [
    "#_ = sns.scatterplot(data=df, x='GROC16', y='MedianHouseholdIncome', alpha=0.5)\n",
    "_ = plt.xlabel('Number of grocery stores')\n",
    "_ = plt.ylabel('Median household income')\n",
    "_ = plt.title(\"Relationship between the number of grocery stores and median household income\")\n",
    "plt.show()"
   ]
  },
  {
   "cell_type": "markdown",
   "id": "297259c2-9425-4f14-964e-af1a1de9309b",
   "metadata": {},
   "source": [
    "### Box plots"
   ]
  },
  {
   "cell_type": "code",
   "execution_count": null,
   "id": "2f3b76bb-d15d-498d-b4a3-00d12bb61b36",
   "metadata": {},
   "outputs": [],
   "source": [
    "plt.figure(figsize=(20,20))\n",
    "_ = sns.boxplot(x='State',y='GROC16',data=df.query('GROC16 < 300'))\n",
    "_ = plt.xlabel('State')\n",
    "_ = plt.ylabel('Number of grocery stores')\n",
    "_ = plt.title('Grocery stores by state (Limited to < 300 stores)')\n",
    "plt.show"
   ]
  },
  {
   "cell_type": "code",
   "execution_count": null,
   "id": "9fda51e4-a288-4b32-ae86-e56e916da33e",
   "metadata": {},
   "outputs": [],
   "source": [
    "plt.figure(figsize=(20,20))\n",
    "_ = sns.boxplot(x='State',y='FFR16',data=df.query('FFR16 < 2000'))\n",
    "_ = plt.xlabel('State')\n",
    "_ = plt.ylabel('Number of fast food restaurants')\n",
    "_ = plt.title('Fast food restaurants by state (Limited to < 2000 restaurants)')\n",
    "plt.show"
   ]
  },
  {
   "cell_type": "code",
   "execution_count": null,
   "id": "fe5792f6-d419-4698-9017-bb72747405be",
   "metadata": {},
   "outputs": [],
   "source": [
    "plt.figure(figsize=(20,20))\n",
    "_ = sns.boxplot(x='State',y='SPECS16',data=df.query('SPECS16 < 300'))\n",
    "_ = plt.xlabel('State')\n",
    "_ = plt.ylabel('Number of specialty food stores')\n",
    "_ = plt.title('Specialty food stores by state (Limited to < 2000 restaurants)')\n",
    "plt.show"
   ]
  },
  {
   "cell_type": "code",
   "execution_count": null,
   "id": "925ea44c-3fa1-4318-9c84-acc6974e7c38",
   "metadata": {},
   "outputs": [],
   "source": [
    "ax.boxplot(df['GROC16'])\n",
    "#ax.set_xticklabels([\"Rowing\", \"Gymnastics\"])\n",
    "#ax.set_ylabel(\"Height (cm)\")\n",
    "plt.show()"
   ]
  },
  {
   "cell_type": "markdown",
   "id": "a009e8c3-51b8-40b6-a9ae-951dc3435059",
   "metadata": {},
   "source": [
    "### Comparisons using .describe()"
   ]
  },
  {
   "cell_type": "code",
   "execution_count": null,
   "id": "2b8e8157-3658-4ba4-91b8-176fbc377d0f",
   "metadata": {},
   "outputs": [],
   "source": [
    "# Grocery stores\n",
    "df['GROC16'].describe()"
   ]
  },
  {
   "cell_type": "code",
   "execution_count": null,
   "id": "60215521-9ed8-4b3c-b286-5126934b2a64",
   "metadata": {},
   "outputs": [],
   "source": [
    "# Fast food restaurants\n",
    "df['FFR16'].describe()"
   ]
  },
  {
   "cell_type": "code",
   "execution_count": null,
   "id": "0dd06dab-e6d6-4f24-b2b0-54bd0160ca46",
   "metadata": {},
   "outputs": [],
   "source": [
    "# Full service restaurants\n",
    "df['FSR16'].describe()"
   ]
  },
  {
   "cell_type": "code",
   "execution_count": null,
   "id": "efeb6da4-41ca-4b11-92fe-404741fa5a96",
   "metadata": {},
   "outputs": [],
   "source": [
    "# Specialty food stores\n",
    "df['SPECS16'].describe()"
   ]
  },
  {
   "cell_type": "code",
   "execution_count": null,
   "id": "4b334724-ff3d-4ba8-9f69-1c4df0bae386",
   "metadata": {},
   "outputs": [],
   "source": []
  },
  {
   "cell_type": "code",
   "execution_count": null,
   "id": "5491fb4e-bc03-4671-a1d4-de8df10236fa",
   "metadata": {},
   "outputs": [],
   "source": []
  }
 ],
 "metadata": {
  "kernelspec": {
   "display_name": "Python 3 (ipykernel)",
   "language": "python",
   "name": "python3"
  },
  "language_info": {
   "codemirror_mode": {
    "name": "ipython",
    "version": 3
   },
   "file_extension": ".py",
   "mimetype": "text/x-python",
   "name": "python",
   "nbconvert_exporter": "python",
   "pygments_lexer": "ipython3",
   "version": "3.11.5"
  }
 },
 "nbformat": 4,
 "nbformat_minor": 5
}
