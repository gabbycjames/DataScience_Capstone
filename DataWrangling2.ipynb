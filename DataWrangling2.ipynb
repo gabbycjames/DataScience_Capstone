{
 "cells": [
  {
   "cell_type": "markdown",
   "id": "b5ab6e1d-c7a9-429e-a9e8-b86ec0db40f5",
   "metadata": {},
   "source": [
    "# Food Desert Investigation -- Data Wrangling and Cleaning"
   ]
  },
  {
   "cell_type": "markdown",
   "id": "fba29348-6a5a-465f-a8a1-0ee7db6acd2e",
   "metadata": {
    "tags": []
   },
   "source": [
    "## Imports"
   ]
  },
  {
   "cell_type": "code",
   "execution_count": 1,
   "id": "614084fb-1a9c-4093-b37f-dba6310572bf",
   "metadata": {
    "tags": []
   },
   "outputs": [],
   "source": [
    "import pandas as pd\n",
    "import numpy as np\n",
    "import matplotlib.pyplot as plt\n",
    "import seaborn as sns"
   ]
  },
  {
   "cell_type": "markdown",
   "id": "0f1bbb2d-1eaa-4fb8-86ae-eecd0af31984",
   "metadata": {},
   "source": [
    "I am going to use Pandas DataFrames to work with the csv files I've downloaded."
   ]
  },
  {
   "cell_type": "markdown",
   "id": "69ec3e6b-523c-42ba-8f26-5f5046c90f0f",
   "metadata": {
    "tags": []
   },
   "source": [
    "## State and County Data"
   ]
  },
  {
   "cell_type": "markdown",
   "id": "2132501a-905a-4044-9428-6ad0d745a9fd",
   "metadata": {},
   "source": [
    "I am filtering the StateAndCountyData to save the columns from 2016. I am doing this because all of the food data is from 2016. I will utilize other datasets to supplement this data with demographic data."
   ]
  },
  {
   "cell_type": "code",
   "execution_count": 2,
   "id": "056c6080-6f53-4766-8a46-94ffd1e3f67f",
   "metadata": {
    "tags": []
   },
   "outputs": [
    {
     "data": {
      "text/html": [
       "<div>\n",
       "<style scoped>\n",
       "    .dataframe tbody tr th:only-of-type {\n",
       "        vertical-align: middle;\n",
       "    }\n",
       "\n",
       "    .dataframe tbody tr th {\n",
       "        vertical-align: top;\n",
       "    }\n",
       "\n",
       "    .dataframe thead th {\n",
       "        text-align: right;\n",
       "    }\n",
       "</style>\n",
       "<table border=\"1\" class=\"dataframe\">\n",
       "  <thead>\n",
       "    <tr style=\"text-align: right;\">\n",
       "      <th></th>\n",
       "      <th>FIPS</th>\n",
       "      <th>State</th>\n",
       "      <th>County</th>\n",
       "      <th>Variable_Code</th>\n",
       "      <th>Value</th>\n",
       "    </tr>\n",
       "  </thead>\n",
       "  <tbody>\n",
       "    <tr>\n",
       "      <th>0</th>\n",
       "      <td>1001</td>\n",
       "      <td>AL</td>\n",
       "      <td>Autauga</td>\n",
       "      <td>LACCESS_POP10</td>\n",
       "      <td>18428.439690</td>\n",
       "    </tr>\n",
       "    <tr>\n",
       "      <th>1</th>\n",
       "      <td>1001</td>\n",
       "      <td>AL</td>\n",
       "      <td>Autauga</td>\n",
       "      <td>LACCESS_POP15</td>\n",
       "      <td>17496.693040</td>\n",
       "    </tr>\n",
       "    <tr>\n",
       "      <th>2</th>\n",
       "      <td>1001</td>\n",
       "      <td>AL</td>\n",
       "      <td>Autauga</td>\n",
       "      <td>PCH_LACCESS_POP_10_15</td>\n",
       "      <td>-5.056026</td>\n",
       "    </tr>\n",
       "    <tr>\n",
       "      <th>3</th>\n",
       "      <td>1001</td>\n",
       "      <td>AL</td>\n",
       "      <td>Autauga</td>\n",
       "      <td>PCT_LACCESS_POP10</td>\n",
       "      <td>33.769657</td>\n",
       "    </tr>\n",
       "    <tr>\n",
       "      <th>4</th>\n",
       "      <td>1001</td>\n",
       "      <td>AL</td>\n",
       "      <td>Autauga</td>\n",
       "      <td>PCT_LACCESS_POP15</td>\n",
       "      <td>32.062255</td>\n",
       "    </tr>\n",
       "  </tbody>\n",
       "</table>\n",
       "</div>"
      ],
      "text/plain": [
       "   FIPS State   County          Variable_Code         Value\n",
       "0  1001    AL  Autauga          LACCESS_POP10  18428.439690\n",
       "1  1001    AL  Autauga          LACCESS_POP15  17496.693040\n",
       "2  1001    AL  Autauga  PCH_LACCESS_POP_10_15     -5.056026\n",
       "3  1001    AL  Autauga      PCT_LACCESS_POP10     33.769657\n",
       "4  1001    AL  Autauga      PCT_LACCESS_POP15     32.062255"
      ]
     },
     "execution_count": 2,
     "metadata": {},
     "output_type": "execute_result"
    }
   ],
   "source": [
    "file_food_atlas = 'StateAndCountyData.csv'\n",
    "data_state_county = pd.read_csv(file_food_atlas)\n",
    "data_state_county.head()"
   ]
  },
  {
   "cell_type": "code",
   "execution_count": 3,
   "id": "89d56655-7160-433e-a442-6283c6f579fe",
   "metadata": {
    "tags": []
   },
   "outputs": [
    {
     "name": "stderr",
     "output_type": "stream",
     "text": [
      "/var/folders/d7/365gnrk10q72fy9l9_q_hft80000gn/T/ipykernel_72199/3569536789.py:1: UserWarning: This pattern is interpreted as a regular expression, and has match groups. To actually get the groups, use str.extract.\n",
      "  filtered_df = data_state_county[data_state_county['Variable_Code'].str.contains('(16)$')]\n"
     ]
    }
   ],
   "source": [
    "filtered_df = data_state_county[data_state_county['Variable_Code'].str.contains('(16)$')]"
   ]
  },
  {
   "cell_type": "code",
   "execution_count": 4,
   "id": "31ac7b7c-9bdf-49df-86bf-5e4a44e40599",
   "metadata": {
    "tags": []
   },
   "outputs": [
    {
     "data": {
      "text/html": [
       "<div>\n",
       "<style scoped>\n",
       "    .dataframe tbody tr th:only-of-type {\n",
       "        vertical-align: middle;\n",
       "    }\n",
       "\n",
       "    .dataframe tbody tr th {\n",
       "        vertical-align: top;\n",
       "    }\n",
       "\n",
       "    .dataframe thead th {\n",
       "        text-align: right;\n",
       "    }\n",
       "</style>\n",
       "<table border=\"1\" class=\"dataframe\">\n",
       "  <thead>\n",
       "    <tr style=\"text-align: right;\">\n",
       "      <th></th>\n",
       "      <th>FIPS</th>\n",
       "      <th>State</th>\n",
       "      <th>County</th>\n",
       "      <th>Variable_Code</th>\n",
       "      <th>Value</th>\n",
       "    </tr>\n",
       "  </thead>\n",
       "  <tbody>\n",
       "    <tr>\n",
       "      <th>128276</th>\n",
       "      <td>1001</td>\n",
       "      <td>AL</td>\n",
       "      <td>Autauga</td>\n",
       "      <td>GROC16</td>\n",
       "      <td>3.000000</td>\n",
       "    </tr>\n",
       "    <tr>\n",
       "      <th>128277</th>\n",
       "      <td>1001</td>\n",
       "      <td>AL</td>\n",
       "      <td>Autauga</td>\n",
       "      <td>PCH_GROC_11_16</td>\n",
       "      <td>-40.000000</td>\n",
       "    </tr>\n",
       "    <tr>\n",
       "      <th>128279</th>\n",
       "      <td>1001</td>\n",
       "      <td>AL</td>\n",
       "      <td>Autauga</td>\n",
       "      <td>GROCPTH16</td>\n",
       "      <td>0.054271</td>\n",
       "    </tr>\n",
       "    <tr>\n",
       "      <th>128280</th>\n",
       "      <td>1001</td>\n",
       "      <td>AL</td>\n",
       "      <td>Autauga</td>\n",
       "      <td>PCH_GROCPTH_11_16</td>\n",
       "      <td>-40.085748</td>\n",
       "    </tr>\n",
       "    <tr>\n",
       "      <th>128282</th>\n",
       "      <td>1001</td>\n",
       "      <td>AL</td>\n",
       "      <td>Autauga</td>\n",
       "      <td>SUPERC16</td>\n",
       "      <td>1.000000</td>\n",
       "    </tr>\n",
       "  </tbody>\n",
       "</table>\n",
       "</div>"
      ],
      "text/plain": [
       "        FIPS State   County      Variable_Code      Value\n",
       "128276  1001    AL  Autauga             GROC16   3.000000\n",
       "128277  1001    AL  Autauga     PCH_GROC_11_16 -40.000000\n",
       "128279  1001    AL  Autauga          GROCPTH16   0.054271\n",
       "128280  1001    AL  Autauga  PCH_GROCPTH_11_16 -40.085748\n",
       "128282  1001    AL  Autauga           SUPERC16   1.000000"
      ]
     },
     "execution_count": 4,
     "metadata": {},
     "output_type": "execute_result"
    }
   ],
   "source": [
    "filtered_df.head()"
   ]
  },
  {
   "cell_type": "code",
   "execution_count": 5,
   "id": "33d88c8d-c0b3-4748-9703-309a7af677f6",
   "metadata": {
    "tags": []
   },
   "outputs": [
    {
     "name": "stderr",
     "output_type": "stream",
     "text": [
      "/var/folders/d7/365gnrk10q72fy9l9_q_hft80000gn/T/ipykernel_72199/3599340196.py:1: SettingWithCopyWarning: \n",
      "A value is trying to be set on a copy of a slice from a DataFrame.\n",
      "Try using .loc[row_indexer,col_indexer] = value instead\n",
      "\n",
      "See the caveats in the documentation: https://pandas.pydata.org/pandas-docs/stable/user_guide/indexing.html#returning-a-view-versus-a-copy\n",
      "  filtered_df['County'] = filtered_df['County'].str.replace(r'[^\\w\\s]', '', regex=True) # Remove punctuation\n",
      "/var/folders/d7/365gnrk10q72fy9l9_q_hft80000gn/T/ipykernel_72199/3599340196.py:2: SettingWithCopyWarning: \n",
      "A value is trying to be set on a copy of a slice from a DataFrame.\n",
      "Try using .loc[row_indexer,col_indexer] = value instead\n",
      "\n",
      "See the caveats in the documentation: https://pandas.pydata.org/pandas-docs/stable/user_guide/indexing.html#returning-a-view-versus-a-copy\n",
      "  filtered_df['County'] = filtered_df['County'].str.replace('County', '') # Remove 'County' word, only present sometimes\n",
      "/var/folders/d7/365gnrk10q72fy9l9_q_hft80000gn/T/ipykernel_72199/3599340196.py:3: SettingWithCopyWarning: \n",
      "A value is trying to be set on a copy of a slice from a DataFrame.\n",
      "Try using .loc[row_indexer,col_indexer] = value instead\n",
      "\n",
      "See the caveats in the documentation: https://pandas.pydata.org/pandas-docs/stable/user_guide/indexing.html#returning-a-view-versus-a-copy\n",
      "  filtered_df['County'] = filtered_df['County'].str.strip() # Remove leading and trailing spaces\n",
      "/var/folders/d7/365gnrk10q72fy9l9_q_hft80000gn/T/ipykernel_72199/3599340196.py:4: SettingWithCopyWarning: \n",
      "A value is trying to be set on a copy of a slice from a DataFrame.\n",
      "Try using .loc[row_indexer,col_indexer] = value instead\n",
      "\n",
      "See the caveats in the documentation: https://pandas.pydata.org/pandas-docs/stable/user_guide/indexing.html#returning-a-view-versus-a-copy\n",
      "  filtered_df['County'] = filtered_df['County'].str.lower() # Convert to lowercase\n"
     ]
    }
   ],
   "source": [
    "filtered_df['County'] = filtered_df['County'].str.replace(r'[^\\w\\s]', '', regex=True) # Remove punctuation\n",
    "filtered_df['County'] = filtered_df['County'].str.replace('County', '') # Remove 'County' word, only present sometimes\n",
    "filtered_df['County'] = filtered_df['County'].str.strip() # Remove leading and trailing spaces\n",
    "filtered_df['County'] = filtered_df['County'].str.lower() # Convert to lowercase"
   ]
  },
  {
   "cell_type": "code",
   "execution_count": 6,
   "id": "38babe24-14c1-4d4b-a099-3684cc69a205",
   "metadata": {
    "tags": []
   },
   "outputs": [
    {
     "name": "stderr",
     "output_type": "stream",
     "text": [
      "/var/folders/d7/365gnrk10q72fy9l9_q_hft80000gn/T/ipykernel_72199/3646267976.py:1: SettingWithCopyWarning: \n",
      "A value is trying to be set on a copy of a slice from a DataFrame.\n",
      "Try using .loc[row_indexer,col_indexer] = value instead\n",
      "\n",
      "See the caveats in the documentation: https://pandas.pydata.org/pandas-docs/stable/user_guide/indexing.html#returning-a-view-versus-a-copy\n",
      "  filtered_df['State'] = filtered_df.loc[:, 'State'].str.replace(r'[^\\w\\s]', '', regex=True) # Remove punctuation\n",
      "/var/folders/d7/365gnrk10q72fy9l9_q_hft80000gn/T/ipykernel_72199/3646267976.py:2: SettingWithCopyWarning: \n",
      "A value is trying to be set on a copy of a slice from a DataFrame.\n",
      "Try using .loc[row_indexer,col_indexer] = value instead\n",
      "\n",
      "See the caveats in the documentation: https://pandas.pydata.org/pandas-docs/stable/user_guide/indexing.html#returning-a-view-versus-a-copy\n",
      "  filtered_df['State'] = filtered_df['State'].str.strip() # Remove leading and trailing spaces\n",
      "/var/folders/d7/365gnrk10q72fy9l9_q_hft80000gn/T/ipykernel_72199/3646267976.py:3: SettingWithCopyWarning: \n",
      "A value is trying to be set on a copy of a slice from a DataFrame.\n",
      "Try using .loc[row_indexer,col_indexer] = value instead\n",
      "\n",
      "See the caveats in the documentation: https://pandas.pydata.org/pandas-docs/stable/user_guide/indexing.html#returning-a-view-versus-a-copy\n",
      "  filtered_df['State'] = filtered_df['State'].str.upper() # Convert to uppercase\n"
     ]
    }
   ],
   "source": [
    "filtered_df['State'] = filtered_df.loc[:, 'State'].str.replace(r'[^\\w\\s]', '', regex=True) # Remove punctuation\n",
    "filtered_df['State'] = filtered_df['State'].str.strip() # Remove leading and trailing spaces\n",
    "filtered_df['State'] = filtered_df['State'].str.upper() # Convert to uppercase"
   ]
  },
  {
   "cell_type": "code",
   "execution_count": 7,
   "id": "dfece2e3-472e-4312-968d-b54cefa5f99f",
   "metadata": {
    "tags": []
   },
   "outputs": [],
   "source": [
    "pivot_df = filtered_df.pivot_table(index=['FIPS', 'State', 'County'], columns='Variable_Code', values='Value').reset_index()"
   ]
  },
  {
   "cell_type": "code",
   "execution_count": 8,
   "id": "fc84fd14-5b40-4720-99fa-492b341942c0",
   "metadata": {
    "tags": []
   },
   "outputs": [
    {
     "data": {
      "text/html": [
       "<div>\n",
       "<style scoped>\n",
       "    .dataframe tbody tr th:only-of-type {\n",
       "        vertical-align: middle;\n",
       "    }\n",
       "\n",
       "    .dataframe tbody tr th {\n",
       "        vertical-align: top;\n",
       "    }\n",
       "\n",
       "    .dataframe thead th {\n",
       "        text-align: right;\n",
       "    }\n",
       "</style>\n",
       "<table border=\"1\" class=\"dataframe\">\n",
       "  <thead>\n",
       "    <tr style=\"text-align: right;\">\n",
       "      <th>Variable_Code</th>\n",
       "      <th>FIPS</th>\n",
       "      <th>State</th>\n",
       "      <th>County</th>\n",
       "      <th>CACFP_PART_2016</th>\n",
       "      <th>CONVS16</th>\n",
       "      <th>CONVSPTH16</th>\n",
       "      <th>FFR16</th>\n",
       "      <th>FFRPTH16</th>\n",
       "      <th>FSR16</th>\n",
       "      <th>FSRPTH16</th>\n",
       "      <th>...</th>\n",
       "      <th>SNAP_PART_RATE16</th>\n",
       "      <th>SNAP_REPORTSIMPLE16</th>\n",
       "      <th>SPECS16</th>\n",
       "      <th>SPECSPTH16</th>\n",
       "      <th>SUPERC16</th>\n",
       "      <th>SUPERCPTH16</th>\n",
       "      <th>State_Population_2016</th>\n",
       "      <th>WICS16</th>\n",
       "      <th>WICSPTH16</th>\n",
       "      <th>WIC_PART_2016</th>\n",
       "    </tr>\n",
       "  </thead>\n",
       "  <tbody>\n",
       "    <tr>\n",
       "      <th>0</th>\n",
       "      <td>1</td>\n",
       "      <td>AL</td>\n",
       "      <td>total</td>\n",
       "      <td>59447.50</td>\n",
       "      <td>NaN</td>\n",
       "      <td>NaN</td>\n",
       "      <td>NaN</td>\n",
       "      <td>NaN</td>\n",
       "      <td>NaN</td>\n",
       "      <td>NaN</td>\n",
       "      <td>...</td>\n",
       "      <td>NaN</td>\n",
       "      <td>NaN</td>\n",
       "      <td>NaN</td>\n",
       "      <td>NaN</td>\n",
       "      <td>NaN</td>\n",
       "      <td>NaN</td>\n",
       "      <td>4864745.0</td>\n",
       "      <td>NaN</td>\n",
       "      <td>NaN</td>\n",
       "      <td>1.291599e+05</td>\n",
       "    </tr>\n",
       "    <tr>\n",
       "      <th>1</th>\n",
       "      <td>2</td>\n",
       "      <td>AK</td>\n",
       "      <td>total</td>\n",
       "      <td>10039.00</td>\n",
       "      <td>NaN</td>\n",
       "      <td>NaN</td>\n",
       "      <td>NaN</td>\n",
       "      <td>NaN</td>\n",
       "      <td>NaN</td>\n",
       "      <td>NaN</td>\n",
       "      <td>...</td>\n",
       "      <td>NaN</td>\n",
       "      <td>NaN</td>\n",
       "      <td>NaN</td>\n",
       "      <td>NaN</td>\n",
       "      <td>NaN</td>\n",
       "      <td>NaN</td>\n",
       "      <td>741504.0</td>\n",
       "      <td>NaN</td>\n",
       "      <td>NaN</td>\n",
       "      <td>1.912092e+04</td>\n",
       "    </tr>\n",
       "    <tr>\n",
       "      <th>2</th>\n",
       "      <td>4</td>\n",
       "      <td>AZ</td>\n",
       "      <td>total</td>\n",
       "      <td>42618.00</td>\n",
       "      <td>NaN</td>\n",
       "      <td>NaN</td>\n",
       "      <td>NaN</td>\n",
       "      <td>NaN</td>\n",
       "      <td>NaN</td>\n",
       "      <td>NaN</td>\n",
       "      <td>...</td>\n",
       "      <td>NaN</td>\n",
       "      <td>NaN</td>\n",
       "      <td>NaN</td>\n",
       "      <td>NaN</td>\n",
       "      <td>NaN</td>\n",
       "      <td>NaN</td>\n",
       "      <td>6945452.0</td>\n",
       "      <td>NaN</td>\n",
       "      <td>NaN</td>\n",
       "      <td>1.639978e+05</td>\n",
       "    </tr>\n",
       "    <tr>\n",
       "      <th>3</th>\n",
       "      <td>5</td>\n",
       "      <td>AR</td>\n",
       "      <td>total</td>\n",
       "      <td>66903.00</td>\n",
       "      <td>NaN</td>\n",
       "      <td>NaN</td>\n",
       "      <td>NaN</td>\n",
       "      <td>NaN</td>\n",
       "      <td>NaN</td>\n",
       "      <td>NaN</td>\n",
       "      <td>...</td>\n",
       "      <td>NaN</td>\n",
       "      <td>NaN</td>\n",
       "      <td>NaN</td>\n",
       "      <td>NaN</td>\n",
       "      <td>NaN</td>\n",
       "      <td>NaN</td>\n",
       "      <td>2990410.0</td>\n",
       "      <td>NaN</td>\n",
       "      <td>NaN</td>\n",
       "      <td>8.055467e+04</td>\n",
       "    </tr>\n",
       "    <tr>\n",
       "      <th>4</th>\n",
       "      <td>6</td>\n",
       "      <td>CA</td>\n",
       "      <td>total</td>\n",
       "      <td>595088.25</td>\n",
       "      <td>NaN</td>\n",
       "      <td>NaN</td>\n",
       "      <td>NaN</td>\n",
       "      <td>NaN</td>\n",
       "      <td>NaN</td>\n",
       "      <td>NaN</td>\n",
       "      <td>...</td>\n",
       "      <td>NaN</td>\n",
       "      <td>NaN</td>\n",
       "      <td>NaN</td>\n",
       "      <td>NaN</td>\n",
       "      <td>NaN</td>\n",
       "      <td>NaN</td>\n",
       "      <td>39209127.0</td>\n",
       "      <td>NaN</td>\n",
       "      <td>NaN</td>\n",
       "      <td>1.174875e+06</td>\n",
       "    </tr>\n",
       "  </tbody>\n",
       "</table>\n",
       "<p>5 rows × 55 columns</p>\n",
       "</div>"
      ],
      "text/plain": [
       "Variable_Code  FIPS State County  CACFP_PART_2016  CONVS16  CONVSPTH16  FFR16  \\\n",
       "0                 1    AL  total         59447.50      NaN         NaN    NaN   \n",
       "1                 2    AK  total         10039.00      NaN         NaN    NaN   \n",
       "2                 4    AZ  total         42618.00      NaN         NaN    NaN   \n",
       "3                 5    AR  total         66903.00      NaN         NaN    NaN   \n",
       "4                 6    CA  total        595088.25      NaN         NaN    NaN   \n",
       "\n",
       "Variable_Code  FFRPTH16  FSR16  FSRPTH16  ...  SNAP_PART_RATE16  \\\n",
       "0                   NaN    NaN       NaN  ...               NaN   \n",
       "1                   NaN    NaN       NaN  ...               NaN   \n",
       "2                   NaN    NaN       NaN  ...               NaN   \n",
       "3                   NaN    NaN       NaN  ...               NaN   \n",
       "4                   NaN    NaN       NaN  ...               NaN   \n",
       "\n",
       "Variable_Code  SNAP_REPORTSIMPLE16  SPECS16  SPECSPTH16  SUPERC16  \\\n",
       "0                              NaN      NaN         NaN       NaN   \n",
       "1                              NaN      NaN         NaN       NaN   \n",
       "2                              NaN      NaN         NaN       NaN   \n",
       "3                              NaN      NaN         NaN       NaN   \n",
       "4                              NaN      NaN         NaN       NaN   \n",
       "\n",
       "Variable_Code  SUPERCPTH16  State_Population_2016  WICS16  WICSPTH16  \\\n",
       "0                      NaN              4864745.0     NaN        NaN   \n",
       "1                      NaN               741504.0     NaN        NaN   \n",
       "2                      NaN              6945452.0     NaN        NaN   \n",
       "3                      NaN              2990410.0     NaN        NaN   \n",
       "4                      NaN             39209127.0     NaN        NaN   \n",
       "\n",
       "Variable_Code  WIC_PART_2016  \n",
       "0               1.291599e+05  \n",
       "1               1.912092e+04  \n",
       "2               1.639978e+05  \n",
       "3               8.055467e+04  \n",
       "4               1.174875e+06  \n",
       "\n",
       "[5 rows x 55 columns]"
      ]
     },
     "execution_count": 8,
     "metadata": {},
     "output_type": "execute_result"
    }
   ],
   "source": [
    "pivot_df.head()"
   ]
  },
  {
   "cell_type": "markdown",
   "id": "f8c62940-a3b5-40d6-982b-cbb76a6b24cd",
   "metadata": {
    "tags": []
   },
   "source": [
    "### County Data"
   ]
  },
  {
   "cell_type": "code",
   "execution_count": 9,
   "id": "b6cf08b1-dfd8-4f15-8925-df84cbe6321f",
   "metadata": {
    "tags": []
   },
   "outputs": [
    {
     "data": {
      "text/html": [
       "<div>\n",
       "<style scoped>\n",
       "    .dataframe tbody tr th:only-of-type {\n",
       "        vertical-align: middle;\n",
       "    }\n",
       "\n",
       "    .dataframe tbody tr th {\n",
       "        vertical-align: top;\n",
       "    }\n",
       "\n",
       "    .dataframe thead th {\n",
       "        text-align: right;\n",
       "    }\n",
       "</style>\n",
       "<table border=\"1\" class=\"dataframe\">\n",
       "  <thead>\n",
       "    <tr style=\"text-align: right;\">\n",
       "      <th></th>\n",
       "      <th>FIPS</th>\n",
       "      <th>State</th>\n",
       "      <th>County</th>\n",
       "      <th>Variable_Code</th>\n",
       "      <th>Value</th>\n",
       "    </tr>\n",
       "  </thead>\n",
       "  <tbody>\n",
       "    <tr>\n",
       "      <th>0</th>\n",
       "      <td>1001</td>\n",
       "      <td>AL</td>\n",
       "      <td>Autauga County</td>\n",
       "      <td>2010_Census_Population</td>\n",
       "      <td>54571</td>\n",
       "    </tr>\n",
       "    <tr>\n",
       "      <th>1</th>\n",
       "      <td>1001</td>\n",
       "      <td>AL</td>\n",
       "      <td>Autauga County</td>\n",
       "      <td>Population_Estimate_2011</td>\n",
       "      <td>55208</td>\n",
       "    </tr>\n",
       "    <tr>\n",
       "      <th>2</th>\n",
       "      <td>1001</td>\n",
       "      <td>AL</td>\n",
       "      <td>Autauga County</td>\n",
       "      <td>Population_Estimate_2012</td>\n",
       "      <td>54936</td>\n",
       "    </tr>\n",
       "    <tr>\n",
       "      <th>3</th>\n",
       "      <td>1001</td>\n",
       "      <td>AL</td>\n",
       "      <td>Autauga County</td>\n",
       "      <td>Population_Estimate_2013</td>\n",
       "      <td>54713</td>\n",
       "    </tr>\n",
       "    <tr>\n",
       "      <th>4</th>\n",
       "      <td>1001</td>\n",
       "      <td>AL</td>\n",
       "      <td>Autauga County</td>\n",
       "      <td>Population_Estimate_2014</td>\n",
       "      <td>54876</td>\n",
       "    </tr>\n",
       "  </tbody>\n",
       "</table>\n",
       "</div>"
      ],
      "text/plain": [
       "   FIPS State          County             Variable_Code  Value\n",
       "0  1001    AL  Autauga County    2010_Census_Population  54571\n",
       "1  1001    AL  Autauga County  Population_Estimate_2011  55208\n",
       "2  1001    AL  Autauga County  Population_Estimate_2012  54936\n",
       "3  1001    AL  Autauga County  Population_Estimate_2013  54713\n",
       "4  1001    AL  Autauga County  Population_Estimate_2014  54876"
      ]
     },
     "execution_count": 9,
     "metadata": {},
     "output_type": "execute_result"
    }
   ],
   "source": [
    "# Importing County Dataset\n",
    "file_county_data = 'SupplementalDataCounty.csv'\n",
    "data_county = pd.read_csv(file_county_data)\n",
    "data_county.head()"
   ]
  },
  {
   "cell_type": "code",
   "execution_count": 10,
   "id": "312bcc00-4804-4e50-bed5-06e85bd4a4f9",
   "metadata": {
    "tags": []
   },
   "outputs": [
    {
     "name": "stderr",
     "output_type": "stream",
     "text": [
      "/var/folders/d7/365gnrk10q72fy9l9_q_hft80000gn/T/ipykernel_72199/208533991.py:1: UserWarning: This pattern is interpreted as a regular expression, and has match groups. To actually get the groups, use str.extract.\n",
      "  filtered_counties = data_county[data_county['Variable_Code'].str.contains('(16)$')]\n",
      "/var/folders/d7/365gnrk10q72fy9l9_q_hft80000gn/T/ipykernel_72199/208533991.py:3: SettingWithCopyWarning: \n",
      "A value is trying to be set on a copy of a slice from a DataFrame.\n",
      "Try using .loc[row_indexer,col_indexer] = value instead\n",
      "\n",
      "See the caveats in the documentation: https://pandas.pydata.org/pandas-docs/stable/user_guide/indexing.html#returning-a-view-versus-a-copy\n",
      "  filtered_counties['County'] = filtered_counties['County'].str.replace(r'[^\\w\\s]', '', regex=True) # Remove punctuation\n",
      "/var/folders/d7/365gnrk10q72fy9l9_q_hft80000gn/T/ipykernel_72199/208533991.py:4: SettingWithCopyWarning: \n",
      "A value is trying to be set on a copy of a slice from a DataFrame.\n",
      "Try using .loc[row_indexer,col_indexer] = value instead\n",
      "\n",
      "See the caveats in the documentation: https://pandas.pydata.org/pandas-docs/stable/user_guide/indexing.html#returning-a-view-versus-a-copy\n",
      "  filtered_counties['County'] = filtered_counties['County'].str.replace('County', '') # Remove 'County' word, only present sometimes\n",
      "/var/folders/d7/365gnrk10q72fy9l9_q_hft80000gn/T/ipykernel_72199/208533991.py:5: SettingWithCopyWarning: \n",
      "A value is trying to be set on a copy of a slice from a DataFrame.\n",
      "Try using .loc[row_indexer,col_indexer] = value instead\n",
      "\n",
      "See the caveats in the documentation: https://pandas.pydata.org/pandas-docs/stable/user_guide/indexing.html#returning-a-view-versus-a-copy\n",
      "  filtered_counties['County'] = filtered_counties['County'].str.strip() # Remove leading and trailing spaces\n",
      "/var/folders/d7/365gnrk10q72fy9l9_q_hft80000gn/T/ipykernel_72199/208533991.py:6: SettingWithCopyWarning: \n",
      "A value is trying to be set on a copy of a slice from a DataFrame.\n",
      "Try using .loc[row_indexer,col_indexer] = value instead\n",
      "\n",
      "See the caveats in the documentation: https://pandas.pydata.org/pandas-docs/stable/user_guide/indexing.html#returning-a-view-versus-a-copy\n",
      "  filtered_counties['County'] = filtered_counties['County'].str.lower() # Convert to lowercase\n",
      "/var/folders/d7/365gnrk10q72fy9l9_q_hft80000gn/T/ipykernel_72199/208533991.py:8: SettingWithCopyWarning: \n",
      "A value is trying to be set on a copy of a slice from a DataFrame.\n",
      "Try using .loc[row_indexer,col_indexer] = value instead\n",
      "\n",
      "See the caveats in the documentation: https://pandas.pydata.org/pandas-docs/stable/user_guide/indexing.html#returning-a-view-versus-a-copy\n",
      "  filtered_counties['State'] = filtered_counties['State'].str.replace(r'[^\\w\\s]', '', regex=True) # Remove punctuation\n",
      "/var/folders/d7/365gnrk10q72fy9l9_q_hft80000gn/T/ipykernel_72199/208533991.py:9: SettingWithCopyWarning: \n",
      "A value is trying to be set on a copy of a slice from a DataFrame.\n",
      "Try using .loc[row_indexer,col_indexer] = value instead\n",
      "\n",
      "See the caveats in the documentation: https://pandas.pydata.org/pandas-docs/stable/user_guide/indexing.html#returning-a-view-versus-a-copy\n",
      "  filtered_counties['State'] = filtered_counties['State'].str.strip() # Remove leading and trailing spaces\n",
      "/var/folders/d7/365gnrk10q72fy9l9_q_hft80000gn/T/ipykernel_72199/208533991.py:10: SettingWithCopyWarning: \n",
      "A value is trying to be set on a copy of a slice from a DataFrame.\n",
      "Try using .loc[row_indexer,col_indexer] = value instead\n",
      "\n",
      "See the caveats in the documentation: https://pandas.pydata.org/pandas-docs/stable/user_guide/indexing.html#returning-a-view-versus-a-copy\n",
      "  filtered_counties['State'] = filtered_counties['State'].str.upper() # Convert to lowercase\n"
     ]
    },
    {
     "data": {
      "text/html": [
       "<div>\n",
       "<style scoped>\n",
       "    .dataframe tbody tr th:only-of-type {\n",
       "        vertical-align: middle;\n",
       "    }\n",
       "\n",
       "    .dataframe tbody tr th {\n",
       "        vertical-align: top;\n",
       "    }\n",
       "\n",
       "    .dataframe thead th {\n",
       "        text-align: right;\n",
       "    }\n",
       "</style>\n",
       "<table border=\"1\" class=\"dataframe\">\n",
       "  <thead>\n",
       "    <tr style=\"text-align: right;\">\n",
       "      <th>Variable_Code</th>\n",
       "      <th>FIPS</th>\n",
       "      <th>State</th>\n",
       "      <th>County</th>\n",
       "      <th>Population_Estimate_2016</th>\n",
       "    </tr>\n",
       "  </thead>\n",
       "  <tbody>\n",
       "    <tr>\n",
       "      <th>0</th>\n",
       "      <td>1001</td>\n",
       "      <td>AL</td>\n",
       "      <td>autauga</td>\n",
       "      <td>55242</td>\n",
       "    </tr>\n",
       "    <tr>\n",
       "      <th>1</th>\n",
       "      <td>1003</td>\n",
       "      <td>AL</td>\n",
       "      <td>baldwin</td>\n",
       "      <td>207712</td>\n",
       "    </tr>\n",
       "    <tr>\n",
       "      <th>2</th>\n",
       "      <td>1005</td>\n",
       "      <td>AL</td>\n",
       "      <td>barbour</td>\n",
       "      <td>25819</td>\n",
       "    </tr>\n",
       "    <tr>\n",
       "      <th>3</th>\n",
       "      <td>1007</td>\n",
       "      <td>AL</td>\n",
       "      <td>bibb</td>\n",
       "      <td>22576</td>\n",
       "    </tr>\n",
       "    <tr>\n",
       "      <th>4</th>\n",
       "      <td>1009</td>\n",
       "      <td>AL</td>\n",
       "      <td>blount</td>\n",
       "      <td>57517</td>\n",
       "    </tr>\n",
       "  </tbody>\n",
       "</table>\n",
       "</div>"
      ],
      "text/plain": [
       "Variable_Code  FIPS State   County  Population_Estimate_2016\n",
       "0              1001    AL  autauga                     55242\n",
       "1              1003    AL  baldwin                    207712\n",
       "2              1005    AL  barbour                     25819\n",
       "3              1007    AL     bibb                     22576\n",
       "4              1009    AL   blount                     57517"
      ]
     },
     "execution_count": 10,
     "metadata": {},
     "output_type": "execute_result"
    }
   ],
   "source": [
    "filtered_counties = data_county[data_county['Variable_Code'].str.contains('(16)$')]\n",
    "\n",
    "filtered_counties['County'] = filtered_counties['County'].str.replace(r'[^\\w\\s]', '', regex=True) # Remove punctuation\n",
    "filtered_counties['County'] = filtered_counties['County'].str.replace('County', '') # Remove 'County' word, only present sometimes\n",
    "filtered_counties['County'] = filtered_counties['County'].str.strip() # Remove leading and trailing spaces\n",
    "filtered_counties['County'] = filtered_counties['County'].str.lower() # Convert to lowercase\n",
    "\n",
    "filtered_counties['State'] = filtered_counties['State'].str.replace(r'[^\\w\\s]', '', regex=True) # Remove punctuation\n",
    "filtered_counties['State'] = filtered_counties['State'].str.strip() # Remove leading and trailing spaces\n",
    "filtered_counties['State'] = filtered_counties['State'].str.upper() # Convert to lowercase\n",
    "\n",
    "counties = filtered_counties.pivot_table(index=['FIPS', 'State', 'County'], columns='Variable_Code', values='Value').reset_index()\n",
    "counties.head()"
   ]
  },
  {
   "cell_type": "code",
   "execution_count": 11,
   "id": "73ef9fdc-5ef7-4768-83c6-e727b39aaed9",
   "metadata": {
    "tags": []
   },
   "outputs": [],
   "source": [
    "counties = counties.drop(['State','County'], axis=1)"
   ]
  },
  {
   "cell_type": "code",
   "execution_count": 12,
   "id": "d9dd821f-db55-45d9-8bc8-1f45fb3d2545",
   "metadata": {
    "tags": []
   },
   "outputs": [
    {
     "data": {
      "text/html": [
       "<div>\n",
       "<style scoped>\n",
       "    .dataframe tbody tr th:only-of-type {\n",
       "        vertical-align: middle;\n",
       "    }\n",
       "\n",
       "    .dataframe tbody tr th {\n",
       "        vertical-align: top;\n",
       "    }\n",
       "\n",
       "    .dataframe thead th {\n",
       "        text-align: right;\n",
       "    }\n",
       "</style>\n",
       "<table border=\"1\" class=\"dataframe\">\n",
       "  <thead>\n",
       "    <tr style=\"text-align: right;\">\n",
       "      <th>Variable_Code</th>\n",
       "      <th>FIPS</th>\n",
       "      <th>Population_Estimate_2016</th>\n",
       "    </tr>\n",
       "  </thead>\n",
       "  <tbody>\n",
       "    <tr>\n",
       "      <th>0</th>\n",
       "      <td>1001</td>\n",
       "      <td>55242</td>\n",
       "    </tr>\n",
       "    <tr>\n",
       "      <th>1</th>\n",
       "      <td>1003</td>\n",
       "      <td>207712</td>\n",
       "    </tr>\n",
       "    <tr>\n",
       "      <th>2</th>\n",
       "      <td>1005</td>\n",
       "      <td>25819</td>\n",
       "    </tr>\n",
       "    <tr>\n",
       "      <th>3</th>\n",
       "      <td>1007</td>\n",
       "      <td>22576</td>\n",
       "    </tr>\n",
       "    <tr>\n",
       "      <th>4</th>\n",
       "      <td>1009</td>\n",
       "      <td>57517</td>\n",
       "    </tr>\n",
       "  </tbody>\n",
       "</table>\n",
       "</div>"
      ],
      "text/plain": [
       "Variable_Code  FIPS  Population_Estimate_2016\n",
       "0              1001                     55242\n",
       "1              1003                    207712\n",
       "2              1005                     25819\n",
       "3              1007                     22576\n",
       "4              1009                     57517"
      ]
     },
     "execution_count": 12,
     "metadata": {},
     "output_type": "execute_result"
    }
   ],
   "source": [
    "counties.head()"
   ]
  },
  {
   "cell_type": "markdown",
   "id": "e1641575-0c92-4707-b47f-568a1b0e1f09",
   "metadata": {
    "tags": []
   },
   "source": [
    "## Exploring pivot_df"
   ]
  },
  {
   "cell_type": "code",
   "execution_count": 13,
   "id": "38595ce4-86d9-41bb-ae40-b0240562e1c2",
   "metadata": {
    "tags": []
   },
   "outputs": [
    {
     "data": {
      "text/html": [
       "<div>\n",
       "<style scoped>\n",
       "    .dataframe tbody tr th:only-of-type {\n",
       "        vertical-align: middle;\n",
       "    }\n",
       "\n",
       "    .dataframe tbody tr th {\n",
       "        vertical-align: top;\n",
       "    }\n",
       "\n",
       "    .dataframe thead th {\n",
       "        text-align: right;\n",
       "    }\n",
       "</style>\n",
       "<table border=\"1\" class=\"dataframe\">\n",
       "  <thead>\n",
       "    <tr style=\"text-align: right;\">\n",
       "      <th>Variable_Code</th>\n",
       "      <th>FIPS</th>\n",
       "      <th>State</th>\n",
       "      <th>County</th>\n",
       "      <th>CACFP_PART_2016</th>\n",
       "      <th>CONVS16</th>\n",
       "      <th>CONVSPTH16</th>\n",
       "      <th>FFR16</th>\n",
       "      <th>FFRPTH16</th>\n",
       "      <th>FSR16</th>\n",
       "      <th>FSRPTH16</th>\n",
       "      <th>...</th>\n",
       "      <th>SNAP_PART_RATE16</th>\n",
       "      <th>SNAP_REPORTSIMPLE16</th>\n",
       "      <th>SPECS16</th>\n",
       "      <th>SPECSPTH16</th>\n",
       "      <th>SUPERC16</th>\n",
       "      <th>SUPERCPTH16</th>\n",
       "      <th>State_Population_2016</th>\n",
       "      <th>WICS16</th>\n",
       "      <th>WICSPTH16</th>\n",
       "      <th>WIC_PART_2016</th>\n",
       "    </tr>\n",
       "  </thead>\n",
       "  <tbody>\n",
       "    <tr>\n",
       "      <th>0</th>\n",
       "      <td>1</td>\n",
       "      <td>AL</td>\n",
       "      <td>total</td>\n",
       "      <td>59447.50</td>\n",
       "      <td>NaN</td>\n",
       "      <td>NaN</td>\n",
       "      <td>NaN</td>\n",
       "      <td>NaN</td>\n",
       "      <td>NaN</td>\n",
       "      <td>NaN</td>\n",
       "      <td>...</td>\n",
       "      <td>NaN</td>\n",
       "      <td>NaN</td>\n",
       "      <td>NaN</td>\n",
       "      <td>NaN</td>\n",
       "      <td>NaN</td>\n",
       "      <td>NaN</td>\n",
       "      <td>4864745.0</td>\n",
       "      <td>NaN</td>\n",
       "      <td>NaN</td>\n",
       "      <td>1.291599e+05</td>\n",
       "    </tr>\n",
       "    <tr>\n",
       "      <th>1</th>\n",
       "      <td>2</td>\n",
       "      <td>AK</td>\n",
       "      <td>total</td>\n",
       "      <td>10039.00</td>\n",
       "      <td>NaN</td>\n",
       "      <td>NaN</td>\n",
       "      <td>NaN</td>\n",
       "      <td>NaN</td>\n",
       "      <td>NaN</td>\n",
       "      <td>NaN</td>\n",
       "      <td>...</td>\n",
       "      <td>NaN</td>\n",
       "      <td>NaN</td>\n",
       "      <td>NaN</td>\n",
       "      <td>NaN</td>\n",
       "      <td>NaN</td>\n",
       "      <td>NaN</td>\n",
       "      <td>741504.0</td>\n",
       "      <td>NaN</td>\n",
       "      <td>NaN</td>\n",
       "      <td>1.912092e+04</td>\n",
       "    </tr>\n",
       "    <tr>\n",
       "      <th>2</th>\n",
       "      <td>4</td>\n",
       "      <td>AZ</td>\n",
       "      <td>total</td>\n",
       "      <td>42618.00</td>\n",
       "      <td>NaN</td>\n",
       "      <td>NaN</td>\n",
       "      <td>NaN</td>\n",
       "      <td>NaN</td>\n",
       "      <td>NaN</td>\n",
       "      <td>NaN</td>\n",
       "      <td>...</td>\n",
       "      <td>NaN</td>\n",
       "      <td>NaN</td>\n",
       "      <td>NaN</td>\n",
       "      <td>NaN</td>\n",
       "      <td>NaN</td>\n",
       "      <td>NaN</td>\n",
       "      <td>6945452.0</td>\n",
       "      <td>NaN</td>\n",
       "      <td>NaN</td>\n",
       "      <td>1.639978e+05</td>\n",
       "    </tr>\n",
       "    <tr>\n",
       "      <th>3</th>\n",
       "      <td>5</td>\n",
       "      <td>AR</td>\n",
       "      <td>total</td>\n",
       "      <td>66903.00</td>\n",
       "      <td>NaN</td>\n",
       "      <td>NaN</td>\n",
       "      <td>NaN</td>\n",
       "      <td>NaN</td>\n",
       "      <td>NaN</td>\n",
       "      <td>NaN</td>\n",
       "      <td>...</td>\n",
       "      <td>NaN</td>\n",
       "      <td>NaN</td>\n",
       "      <td>NaN</td>\n",
       "      <td>NaN</td>\n",
       "      <td>NaN</td>\n",
       "      <td>NaN</td>\n",
       "      <td>2990410.0</td>\n",
       "      <td>NaN</td>\n",
       "      <td>NaN</td>\n",
       "      <td>8.055467e+04</td>\n",
       "    </tr>\n",
       "    <tr>\n",
       "      <th>4</th>\n",
       "      <td>6</td>\n",
       "      <td>CA</td>\n",
       "      <td>total</td>\n",
       "      <td>595088.25</td>\n",
       "      <td>NaN</td>\n",
       "      <td>NaN</td>\n",
       "      <td>NaN</td>\n",
       "      <td>NaN</td>\n",
       "      <td>NaN</td>\n",
       "      <td>NaN</td>\n",
       "      <td>...</td>\n",
       "      <td>NaN</td>\n",
       "      <td>NaN</td>\n",
       "      <td>NaN</td>\n",
       "      <td>NaN</td>\n",
       "      <td>NaN</td>\n",
       "      <td>NaN</td>\n",
       "      <td>39209127.0</td>\n",
       "      <td>NaN</td>\n",
       "      <td>NaN</td>\n",
       "      <td>1.174875e+06</td>\n",
       "    </tr>\n",
       "  </tbody>\n",
       "</table>\n",
       "<p>5 rows × 55 columns</p>\n",
       "</div>"
      ],
      "text/plain": [
       "Variable_Code  FIPS State County  CACFP_PART_2016  CONVS16  CONVSPTH16  FFR16  \\\n",
       "0                 1    AL  total         59447.50      NaN         NaN    NaN   \n",
       "1                 2    AK  total         10039.00      NaN         NaN    NaN   \n",
       "2                 4    AZ  total         42618.00      NaN         NaN    NaN   \n",
       "3                 5    AR  total         66903.00      NaN         NaN    NaN   \n",
       "4                 6    CA  total        595088.25      NaN         NaN    NaN   \n",
       "\n",
       "Variable_Code  FFRPTH16  FSR16  FSRPTH16  ...  SNAP_PART_RATE16  \\\n",
       "0                   NaN    NaN       NaN  ...               NaN   \n",
       "1                   NaN    NaN       NaN  ...               NaN   \n",
       "2                   NaN    NaN       NaN  ...               NaN   \n",
       "3                   NaN    NaN       NaN  ...               NaN   \n",
       "4                   NaN    NaN       NaN  ...               NaN   \n",
       "\n",
       "Variable_Code  SNAP_REPORTSIMPLE16  SPECS16  SPECSPTH16  SUPERC16  \\\n",
       "0                              NaN      NaN         NaN       NaN   \n",
       "1                              NaN      NaN         NaN       NaN   \n",
       "2                              NaN      NaN         NaN       NaN   \n",
       "3                              NaN      NaN         NaN       NaN   \n",
       "4                              NaN      NaN         NaN       NaN   \n",
       "\n",
       "Variable_Code  SUPERCPTH16  State_Population_2016  WICS16  WICSPTH16  \\\n",
       "0                      NaN              4864745.0     NaN        NaN   \n",
       "1                      NaN               741504.0     NaN        NaN   \n",
       "2                      NaN              6945452.0     NaN        NaN   \n",
       "3                      NaN              2990410.0     NaN        NaN   \n",
       "4                      NaN             39209127.0     NaN        NaN   \n",
       "\n",
       "Variable_Code  WIC_PART_2016  \n",
       "0               1.291599e+05  \n",
       "1               1.912092e+04  \n",
       "2               1.639978e+05  \n",
       "3               8.055467e+04  \n",
       "4               1.174875e+06  \n",
       "\n",
       "[5 rows x 55 columns]"
      ]
     },
     "execution_count": 13,
     "metadata": {},
     "output_type": "execute_result"
    }
   ],
   "source": [
    "pivot_df.head()"
   ]
  },
  {
   "cell_type": "code",
   "execution_count": 14,
   "id": "55cbed98-07a1-4450-b058-149921d99488",
   "metadata": {
    "tags": []
   },
   "outputs": [
    {
     "name": "stdout",
     "output_type": "stream",
     "text": [
      "<class 'pandas.core.frame.DataFrame'>\n",
      "RangeIndex: 3328 entries, 0 to 3327\n",
      "Data columns (total 55 columns):\n",
      " #   Column                    Non-Null Count  Dtype  \n",
      "---  ------                    --------------  -----  \n",
      " 0   FIPS                      3328 non-null   int64  \n",
      " 1   State                     3328 non-null   object \n",
      " 2   County                    3328 non-null   object \n",
      " 3   CACFP_PART_2016           51 non-null     float64\n",
      " 4   CONVS16                   3143 non-null   float64\n",
      " 5   CONVSPTH16                3143 non-null   float64\n",
      " 6   FFR16                     3143 non-null   float64\n",
      " 7   FFRPTH16                  3143 non-null   float64\n",
      " 8   FSR16                     3143 non-null   float64\n",
      " 9   FSRPTH16                  3143 non-null   float64\n",
      " 10  GROC16                    3143 non-null   float64\n",
      " 11  GROCPTH16                 3143 non-null   float64\n",
      " 12  NSLP_PART_2016            51 non-null     float64\n",
      " 13  PCH_CONVSPTH_11_16        3122 non-null   float64\n",
      " 14  PCH_CONVS_11_16           3117 non-null   float64\n",
      " 15  PCH_FFRPTH_11_16          3091 non-null   float64\n",
      " 16  PCH_FFR_11_16             3086 non-null   float64\n",
      " 17  PCH_FSRPTH_11_16          3120 non-null   float64\n",
      " 18  PCH_FSR_11_16             3115 non-null   float64\n",
      " 19  PCH_GROCPTH_11_16         3127 non-null   float64\n",
      " 20  PCH_GROC_11_16            3122 non-null   float64\n",
      " 21  PCH_PC_WIC_REDEMP_11_16   1808 non-null   float64\n",
      " 22  PCH_RECFACPTH_11_16       3000 non-null   float64\n",
      " 23  PCH_RECFAC_11_16          3000 non-null   float64\n",
      " 24  PCH_REDEMP_WICS_11_16     2983 non-null   float64\n",
      " 25  PCH_SPECSPTH_11_16        2896 non-null   float64\n",
      " 26  PCH_SPECS_11_16           2893 non-null   float64\n",
      " 27  PCH_SUPERCPTH_11_16       3011 non-null   float64\n",
      " 28  PCH_SUPERC_11_16          3010 non-null   float64\n",
      " 29  PCH_WICINFANTCHILD_14_16  3143 non-null   float64\n",
      " 30  PCH_WICSPTH_11_16         2981 non-null   float64\n",
      " 31  PCH_WICS_11_16            2984 non-null   float64\n",
      " 32  PCH_WICWOMEN_14_16        3143 non-null   float64\n",
      " 33  PCT_WICINFANTCHILD16      3143 non-null   float64\n",
      " 34  PCT_WICWOMEN16            3143 non-null   float64\n",
      " 35  PC_WIC_REDEMP16           1857 non-null   float64\n",
      " 36  Population_Estimate_2016  3142 non-null   float64\n",
      " 37  RECFAC16                  3143 non-null   float64\n",
      " 38  RECFACPTH16               3143 non-null   float64\n",
      " 39  REDEMP_WICS16             2985 non-null   float64\n",
      " 40  SBP_PART_2016             51 non-null     float64\n",
      " 41  SFSP_PART_2016            51 non-null     float64\n",
      " 42  SNAP_BBCE16               3143 non-null   float64\n",
      " 43  SNAP_CAP16                3143 non-null   float64\n",
      " 44  SNAP_OAPP16               3143 non-null   float64\n",
      " 45  SNAP_PART_RATE16          3143 non-null   float64\n",
      " 46  SNAP_REPORTSIMPLE16       3143 non-null   float64\n",
      " 47  SPECS16                   3143 non-null   float64\n",
      " 48  SPECSPTH16                3143 non-null   float64\n",
      " 49  SUPERC16                  3143 non-null   float64\n",
      " 50  SUPERCPTH16               3143 non-null   float64\n",
      " 51  State_Population_2016     51 non-null     float64\n",
      " 52  WICS16                    2985 non-null   float64\n",
      " 53  WICSPTH16                 2982 non-null   float64\n",
      " 54  WIC_PART_2016             51 non-null     float64\n",
      "dtypes: float64(52), int64(1), object(2)\n",
      "memory usage: 1.4+ MB\n"
     ]
    }
   ],
   "source": [
    "pivot_df.info()"
   ]
  },
  {
   "cell_type": "code",
   "execution_count": 15,
   "id": "bb1ff360-bab3-491a-9ba5-80ce3c095f70",
   "metadata": {
    "tags": []
   },
   "outputs": [
    {
     "data": {
      "text/html": [
       "<div>\n",
       "<style scoped>\n",
       "    .dataframe tbody tr th:only-of-type {\n",
       "        vertical-align: middle;\n",
       "    }\n",
       "\n",
       "    .dataframe tbody tr th {\n",
       "        vertical-align: top;\n",
       "    }\n",
       "\n",
       "    .dataframe thead th {\n",
       "        text-align: right;\n",
       "    }\n",
       "</style>\n",
       "<table border=\"1\" class=\"dataframe\">\n",
       "  <thead>\n",
       "    <tr style=\"text-align: right;\">\n",
       "      <th>Variable_Code</th>\n",
       "      <th>FIPS</th>\n",
       "      <th>CACFP_PART_2016</th>\n",
       "      <th>CONVS16</th>\n",
       "      <th>CONVSPTH16</th>\n",
       "      <th>FFR16</th>\n",
       "      <th>FFRPTH16</th>\n",
       "      <th>FSR16</th>\n",
       "      <th>FSRPTH16</th>\n",
       "      <th>GROC16</th>\n",
       "      <th>GROCPTH16</th>\n",
       "      <th>...</th>\n",
       "      <th>SNAP_PART_RATE16</th>\n",
       "      <th>SNAP_REPORTSIMPLE16</th>\n",
       "      <th>SPECS16</th>\n",
       "      <th>SPECSPTH16</th>\n",
       "      <th>SUPERC16</th>\n",
       "      <th>SUPERCPTH16</th>\n",
       "      <th>State_Population_2016</th>\n",
       "      <th>WICS16</th>\n",
       "      <th>WICSPTH16</th>\n",
       "      <th>WIC_PART_2016</th>\n",
       "    </tr>\n",
       "  </thead>\n",
       "  <tbody>\n",
       "    <tr>\n",
       "      <th>count</th>\n",
       "      <td>3328.000000</td>\n",
       "      <td>51.000000</td>\n",
       "      <td>3143.00000</td>\n",
       "      <td>3143.000000</td>\n",
       "      <td>3143.000000</td>\n",
       "      <td>3143.000000</td>\n",
       "      <td>3143.000000</td>\n",
       "      <td>3143.000000</td>\n",
       "      <td>3143.000000</td>\n",
       "      <td>3143.000000</td>\n",
       "      <td>...</td>\n",
       "      <td>3143.000000</td>\n",
       "      <td>3143.0</td>\n",
       "      <td>3143.000000</td>\n",
       "      <td>3143.000000</td>\n",
       "      <td>3143.000000</td>\n",
       "      <td>3143.000000</td>\n",
       "      <td>5.100000e+01</td>\n",
       "      <td>2985.000000</td>\n",
       "      <td>2982.000000</td>\n",
       "      <td>5.100000e+01</td>\n",
       "    </tr>\n",
       "    <tr>\n",
       "      <th>mean</th>\n",
       "      <td>29764.681490</td>\n",
       "      <td>85921.333333</td>\n",
       "      <td>40.35762</td>\n",
       "      <td>0.595571</td>\n",
       "      <td>75.696787</td>\n",
       "      <td>0.584822</td>\n",
       "      <td>78.551066</td>\n",
       "      <td>0.775831</td>\n",
       "      <td>20.807827</td>\n",
       "      <td>0.243835</td>\n",
       "      <td>...</td>\n",
       "      <td>84.001372</td>\n",
       "      <td>1.0</td>\n",
       "      <td>7.458479</td>\n",
       "      <td>0.055450</td>\n",
       "      <td>1.782055</td>\n",
       "      <td>0.018255</td>\n",
       "      <td>6.334732e+06</td>\n",
       "      <td>14.577889</td>\n",
       "      <td>0.217240</td>\n",
       "      <td>1.474524e+05</td>\n",
       "    </tr>\n",
       "    <tr>\n",
       "      <th>std</th>\n",
       "      <td>15635.421817</td>\n",
       "      <td>118749.706301</td>\n",
       "      <td>97.01666</td>\n",
       "      <td>0.304968</td>\n",
       "      <td>268.845823</td>\n",
       "      <td>0.307703</td>\n",
       "      <td>269.993476</td>\n",
       "      <td>0.567851</td>\n",
       "      <td>90.196535</td>\n",
       "      <td>0.216536</td>\n",
       "      <td>...</td>\n",
       "      <td>9.223259</td>\n",
       "      <td>0.0</td>\n",
       "      <td>29.697479</td>\n",
       "      <td>0.075095</td>\n",
       "      <td>4.310650</td>\n",
       "      <td>0.022460</td>\n",
       "      <td>7.242171e+06</td>\n",
       "      <td>48.084899</td>\n",
       "      <td>0.191315</td>\n",
       "      <td>2.065493e+05</td>\n",
       "    </tr>\n",
       "    <tr>\n",
       "      <th>min</th>\n",
       "      <td>1.000000</td>\n",
       "      <td>7532.750000</td>\n",
       "      <td>0.00000</td>\n",
       "      <td>0.000000</td>\n",
       "      <td>0.000000</td>\n",
       "      <td>0.000000</td>\n",
       "      <td>0.000000</td>\n",
       "      <td>0.000000</td>\n",
       "      <td>0.000000</td>\n",
       "      <td>0.000000</td>\n",
       "      <td>...</td>\n",
       "      <td>56.037000</td>\n",
       "      <td>1.0</td>\n",
       "      <td>0.000000</td>\n",
       "      <td>0.000000</td>\n",
       "      <td>0.000000</td>\n",
       "      <td>0.000000</td>\n",
       "      <td>5.842900e+05</td>\n",
       "      <td>1.000000</td>\n",
       "      <td>0.004938</td>\n",
       "      <td>1.078283e+04</td>\n",
       "    </tr>\n",
       "    <tr>\n",
       "      <th>25%</th>\n",
       "      <td>18110.500000</td>\n",
       "      <td>19351.875000</td>\n",
       "      <td>7.00000</td>\n",
       "      <td>0.401678</td>\n",
       "      <td>5.000000</td>\n",
       "      <td>0.418769</td>\n",
       "      <td>7.000000</td>\n",
       "      <td>0.495050</td>\n",
       "      <td>2.000000</td>\n",
       "      <td>0.132983</td>\n",
       "      <td>...</td>\n",
       "      <td>76.151000</td>\n",
       "      <td>1.0</td>\n",
       "      <td>0.000000</td>\n",
       "      <td>0.000000</td>\n",
       "      <td>0.000000</td>\n",
       "      <td>0.000000</td>\n",
       "      <td>1.756930e+06</td>\n",
       "      <td>2.000000</td>\n",
       "      <td>0.114667</td>\n",
       "      <td>3.856721e+04</td>\n",
       "    </tr>\n",
       "    <tr>\n",
       "      <th>50%</th>\n",
       "      <td>29072.000000</td>\n",
       "      <td>49185.750000</td>\n",
       "      <td>15.00000</td>\n",
       "      <td>0.542005</td>\n",
       "      <td>15.000000</td>\n",
       "      <td>0.588565</td>\n",
       "      <td>18.000000</td>\n",
       "      <td>0.672495</td>\n",
       "      <td>5.000000</td>\n",
       "      <td>0.186116</td>\n",
       "      <td>...</td>\n",
       "      <td>84.002000</td>\n",
       "      <td>1.0</td>\n",
       "      <td>1.000000</td>\n",
       "      <td>0.042268</td>\n",
       "      <td>1.000000</td>\n",
       "      <td>0.014654</td>\n",
       "      <td>4.438229e+06</td>\n",
       "      <td>5.000000</td>\n",
       "      <td>0.165353</td>\n",
       "      <td>1.001519e+05</td>\n",
       "    </tr>\n",
       "    <tr>\n",
       "      <th>75%</th>\n",
       "      <td>45067.500000</td>\n",
       "      <td>90559.125000</td>\n",
       "      <td>35.00000</td>\n",
       "      <td>0.722071</td>\n",
       "      <td>45.000000</td>\n",
       "      <td>0.748136</td>\n",
       "      <td>48.000000</td>\n",
       "      <td>0.894307</td>\n",
       "      <td>12.000000</td>\n",
       "      <td>0.279887</td>\n",
       "      <td>...</td>\n",
       "      <td>90.379000</td>\n",
       "      <td>1.0</td>\n",
       "      <td>4.000000</td>\n",
       "      <td>0.079363</td>\n",
       "      <td>1.500000</td>\n",
       "      <td>0.029268</td>\n",
       "      <td>7.120066e+06</td>\n",
       "      <td>10.000000</td>\n",
       "      <td>0.247699</td>\n",
       "      <td>1.515955e+05</td>\n",
       "    </tr>\n",
       "    <tr>\n",
       "      <th>max</th>\n",
       "      <td>56045.000000</td>\n",
       "      <td>595088.250000</td>\n",
       "      <td>2199.00000</td>\n",
       "      <td>3.680982</td>\n",
       "      <td>8264.000000</td>\n",
       "      <td>5.805515</td>\n",
       "      <td>8113.000000</td>\n",
       "      <td>11.611030</td>\n",
       "      <td>2495.000000</td>\n",
       "      <td>3.267974</td>\n",
       "      <td>...</td>\n",
       "      <td>100.000000</td>\n",
       "      <td>1.0</td>\n",
       "      <td>787.000000</td>\n",
       "      <td>1.095690</td>\n",
       "      <td>97.000000</td>\n",
       "      <td>0.250752</td>\n",
       "      <td>3.920913e+07</td>\n",
       "      <td>1188.000000</td>\n",
       "      <td>3.262643</td>\n",
       "      <td>1.174875e+06</td>\n",
       "    </tr>\n",
       "  </tbody>\n",
       "</table>\n",
       "<p>8 rows × 53 columns</p>\n",
       "</div>"
      ],
      "text/plain": [
       "Variable_Code          FIPS  CACFP_PART_2016     CONVS16   CONVSPTH16  \\\n",
       "count           3328.000000        51.000000  3143.00000  3143.000000   \n",
       "mean           29764.681490     85921.333333    40.35762     0.595571   \n",
       "std            15635.421817    118749.706301    97.01666     0.304968   \n",
       "min                1.000000      7532.750000     0.00000     0.000000   \n",
       "25%            18110.500000     19351.875000     7.00000     0.401678   \n",
       "50%            29072.000000     49185.750000    15.00000     0.542005   \n",
       "75%            45067.500000     90559.125000    35.00000     0.722071   \n",
       "max            56045.000000    595088.250000  2199.00000     3.680982   \n",
       "\n",
       "Variable_Code        FFR16     FFRPTH16        FSR16     FSRPTH16  \\\n",
       "count          3143.000000  3143.000000  3143.000000  3143.000000   \n",
       "mean             75.696787     0.584822    78.551066     0.775831   \n",
       "std             268.845823     0.307703   269.993476     0.567851   \n",
       "min               0.000000     0.000000     0.000000     0.000000   \n",
       "25%               5.000000     0.418769     7.000000     0.495050   \n",
       "50%              15.000000     0.588565    18.000000     0.672495   \n",
       "75%              45.000000     0.748136    48.000000     0.894307   \n",
       "max            8264.000000     5.805515  8113.000000    11.611030   \n",
       "\n",
       "Variable_Code       GROC16    GROCPTH16  ...  SNAP_PART_RATE16  \\\n",
       "count          3143.000000  3143.000000  ...       3143.000000   \n",
       "mean             20.807827     0.243835  ...         84.001372   \n",
       "std              90.196535     0.216536  ...          9.223259   \n",
       "min               0.000000     0.000000  ...         56.037000   \n",
       "25%               2.000000     0.132983  ...         76.151000   \n",
       "50%               5.000000     0.186116  ...         84.002000   \n",
       "75%              12.000000     0.279887  ...         90.379000   \n",
       "max            2495.000000     3.267974  ...        100.000000   \n",
       "\n",
       "Variable_Code  SNAP_REPORTSIMPLE16      SPECS16   SPECSPTH16     SUPERC16  \\\n",
       "count                       3143.0  3143.000000  3143.000000  3143.000000   \n",
       "mean                           1.0     7.458479     0.055450     1.782055   \n",
       "std                            0.0    29.697479     0.075095     4.310650   \n",
       "min                            1.0     0.000000     0.000000     0.000000   \n",
       "25%                            1.0     0.000000     0.000000     0.000000   \n",
       "50%                            1.0     1.000000     0.042268     1.000000   \n",
       "75%                            1.0     4.000000     0.079363     1.500000   \n",
       "max                            1.0   787.000000     1.095690    97.000000   \n",
       "\n",
       "Variable_Code  SUPERCPTH16  State_Population_2016       WICS16    WICSPTH16  \\\n",
       "count          3143.000000           5.100000e+01  2985.000000  2982.000000   \n",
       "mean              0.018255           6.334732e+06    14.577889     0.217240   \n",
       "std               0.022460           7.242171e+06    48.084899     0.191315   \n",
       "min               0.000000           5.842900e+05     1.000000     0.004938   \n",
       "25%               0.000000           1.756930e+06     2.000000     0.114667   \n",
       "50%               0.014654           4.438229e+06     5.000000     0.165353   \n",
       "75%               0.029268           7.120066e+06    10.000000     0.247699   \n",
       "max               0.250752           3.920913e+07  1188.000000     3.262643   \n",
       "\n",
       "Variable_Code  WIC_PART_2016  \n",
       "count           5.100000e+01  \n",
       "mean            1.474524e+05  \n",
       "std             2.065493e+05  \n",
       "min             1.078283e+04  \n",
       "25%             3.856721e+04  \n",
       "50%             1.001519e+05  \n",
       "75%             1.515955e+05  \n",
       "max             1.174875e+06  \n",
       "\n",
       "[8 rows x 53 columns]"
      ]
     },
     "execution_count": 15,
     "metadata": {},
     "output_type": "execute_result"
    }
   ],
   "source": [
    "pivot_df.describe()"
   ]
  },
  {
   "cell_type": "code",
   "execution_count": 16,
   "id": "e936fc93-7a55-40a8-ae6a-6d7d93260dce",
   "metadata": {
    "tags": []
   },
   "outputs": [
    {
     "data": {
      "text/plain": [
       "Index(['FIPS', 'State', 'County', 'CACFP_PART_2016', 'CONVS16', 'CONVSPTH16',\n",
       "       'FFR16', 'FFRPTH16', 'FSR16', 'FSRPTH16', 'GROC16', 'GROCPTH16',\n",
       "       'NSLP_PART_2016', 'PCH_CONVSPTH_11_16', 'PCH_CONVS_11_16',\n",
       "       'PCH_FFRPTH_11_16', 'PCH_FFR_11_16', 'PCH_FSRPTH_11_16',\n",
       "       'PCH_FSR_11_16', 'PCH_GROCPTH_11_16', 'PCH_GROC_11_16',\n",
       "       'PCH_PC_WIC_REDEMP_11_16', 'PCH_RECFACPTH_11_16', 'PCH_RECFAC_11_16',\n",
       "       'PCH_REDEMP_WICS_11_16', 'PCH_SPECSPTH_11_16', 'PCH_SPECS_11_16',\n",
       "       'PCH_SUPERCPTH_11_16', 'PCH_SUPERC_11_16', 'PCH_WICINFANTCHILD_14_16',\n",
       "       'PCH_WICSPTH_11_16', 'PCH_WICS_11_16', 'PCH_WICWOMEN_14_16',\n",
       "       'PCT_WICINFANTCHILD16', 'PCT_WICWOMEN16', 'PC_WIC_REDEMP16',\n",
       "       'Population_Estimate_2016', 'RECFAC16', 'RECFACPTH16', 'REDEMP_WICS16',\n",
       "       'SBP_PART_2016', 'SFSP_PART_2016', 'SNAP_BBCE16', 'SNAP_CAP16',\n",
       "       'SNAP_OAPP16', 'SNAP_PART_RATE16', 'SNAP_REPORTSIMPLE16', 'SPECS16',\n",
       "       'SPECSPTH16', 'SUPERC16', 'SUPERCPTH16', 'State_Population_2016',\n",
       "       'WICS16', 'WICSPTH16', 'WIC_PART_2016'],\n",
       "      dtype='object', name='Variable_Code')"
      ]
     },
     "execution_count": 16,
     "metadata": {},
     "output_type": "execute_result"
    }
   ],
   "source": [
    "pivot_df.columns"
   ]
  },
  {
   "cell_type": "code",
   "execution_count": 17,
   "id": "7b025060-ee50-4cb5-81d4-577c46e06766",
   "metadata": {
    "tags": []
   },
   "outputs": [
    {
     "data": {
      "text/plain": [
       "Variable_Code\n",
       "FIPS                          int64\n",
       "State                        object\n",
       "County                       object\n",
       "CACFP_PART_2016             float64\n",
       "CONVS16                     float64\n",
       "CONVSPTH16                  float64\n",
       "FFR16                       float64\n",
       "FFRPTH16                    float64\n",
       "FSR16                       float64\n",
       "FSRPTH16                    float64\n",
       "GROC16                      float64\n",
       "GROCPTH16                   float64\n",
       "NSLP_PART_2016              float64\n",
       "PCH_CONVSPTH_11_16          float64\n",
       "PCH_CONVS_11_16             float64\n",
       "PCH_FFRPTH_11_16            float64\n",
       "PCH_FFR_11_16               float64\n",
       "PCH_FSRPTH_11_16            float64\n",
       "PCH_FSR_11_16               float64\n",
       "PCH_GROCPTH_11_16           float64\n",
       "PCH_GROC_11_16              float64\n",
       "PCH_PC_WIC_REDEMP_11_16     float64\n",
       "PCH_RECFACPTH_11_16         float64\n",
       "PCH_RECFAC_11_16            float64\n",
       "PCH_REDEMP_WICS_11_16       float64\n",
       "PCH_SPECSPTH_11_16          float64\n",
       "PCH_SPECS_11_16             float64\n",
       "PCH_SUPERCPTH_11_16         float64\n",
       "PCH_SUPERC_11_16            float64\n",
       "PCH_WICINFANTCHILD_14_16    float64\n",
       "PCH_WICSPTH_11_16           float64\n",
       "PCH_WICS_11_16              float64\n",
       "PCH_WICWOMEN_14_16          float64\n",
       "PCT_WICINFANTCHILD16        float64\n",
       "PCT_WICWOMEN16              float64\n",
       "PC_WIC_REDEMP16             float64\n",
       "Population_Estimate_2016    float64\n",
       "RECFAC16                    float64\n",
       "RECFACPTH16                 float64\n",
       "REDEMP_WICS16               float64\n",
       "SBP_PART_2016               float64\n",
       "SFSP_PART_2016              float64\n",
       "SNAP_BBCE16                 float64\n",
       "SNAP_CAP16                  float64\n",
       "SNAP_OAPP16                 float64\n",
       "SNAP_PART_RATE16            float64\n",
       "SNAP_REPORTSIMPLE16         float64\n",
       "SPECS16                     float64\n",
       "SPECSPTH16                  float64\n",
       "SUPERC16                    float64\n",
       "SUPERCPTH16                 float64\n",
       "State_Population_2016       float64\n",
       "WICS16                      float64\n",
       "WICSPTH16                   float64\n",
       "WIC_PART_2016               float64\n",
       "dtype: object"
      ]
     },
     "execution_count": 17,
     "metadata": {},
     "output_type": "execute_result"
    }
   ],
   "source": [
    "pivot_df.dtypes"
   ]
  },
  {
   "cell_type": "markdown",
   "id": "3b730788-5738-4e72-aa09-a6ec6517d450",
   "metadata": {
    "tags": []
   },
   "source": [
    "## Cleaning"
   ]
  },
  {
   "cell_type": "markdown",
   "id": "8b507ff1-bff1-4dd6-a0b3-d0ea3dfabf3c",
   "metadata": {},
   "source": [
    "### Null values"
   ]
  },
  {
   "cell_type": "code",
   "execution_count": 18,
   "id": "7ae981cf-726f-4b00-8aa8-eb0d601d0b92",
   "metadata": {
    "tags": []
   },
   "outputs": [
    {
     "data": {
      "text/html": [
       "<div>\n",
       "<style scoped>\n",
       "    .dataframe tbody tr th:only-of-type {\n",
       "        vertical-align: middle;\n",
       "    }\n",
       "\n",
       "    .dataframe tbody tr th {\n",
       "        vertical-align: top;\n",
       "    }\n",
       "\n",
       "    .dataframe thead th {\n",
       "        text-align: right;\n",
       "    }\n",
       "</style>\n",
       "<table border=\"1\" class=\"dataframe\">\n",
       "  <thead>\n",
       "    <tr style=\"text-align: right;\">\n",
       "      <th>Variable_Code</th>\n",
       "      <th>FIPS</th>\n",
       "      <th>State</th>\n",
       "      <th>County</th>\n",
       "      <th>CACFP_PART_2016</th>\n",
       "      <th>CONVS16</th>\n",
       "      <th>CONVSPTH16</th>\n",
       "      <th>FFR16</th>\n",
       "      <th>FFRPTH16</th>\n",
       "      <th>FSR16</th>\n",
       "      <th>FSRPTH16</th>\n",
       "      <th>...</th>\n",
       "      <th>SNAP_PART_RATE16</th>\n",
       "      <th>SNAP_REPORTSIMPLE16</th>\n",
       "      <th>SPECS16</th>\n",
       "      <th>SPECSPTH16</th>\n",
       "      <th>SUPERC16</th>\n",
       "      <th>SUPERCPTH16</th>\n",
       "      <th>State_Population_2016</th>\n",
       "      <th>WICS16</th>\n",
       "      <th>WICSPTH16</th>\n",
       "      <th>WIC_PART_2016</th>\n",
       "    </tr>\n",
       "  </thead>\n",
       "  <tbody>\n",
       "    <tr>\n",
       "      <th>0</th>\n",
       "      <td>False</td>\n",
       "      <td>False</td>\n",
       "      <td>False</td>\n",
       "      <td>False</td>\n",
       "      <td>True</td>\n",
       "      <td>True</td>\n",
       "      <td>True</td>\n",
       "      <td>True</td>\n",
       "      <td>True</td>\n",
       "      <td>True</td>\n",
       "      <td>...</td>\n",
       "      <td>True</td>\n",
       "      <td>True</td>\n",
       "      <td>True</td>\n",
       "      <td>True</td>\n",
       "      <td>True</td>\n",
       "      <td>True</td>\n",
       "      <td>False</td>\n",
       "      <td>True</td>\n",
       "      <td>True</td>\n",
       "      <td>False</td>\n",
       "    </tr>\n",
       "    <tr>\n",
       "      <th>1</th>\n",
       "      <td>False</td>\n",
       "      <td>False</td>\n",
       "      <td>False</td>\n",
       "      <td>False</td>\n",
       "      <td>True</td>\n",
       "      <td>True</td>\n",
       "      <td>True</td>\n",
       "      <td>True</td>\n",
       "      <td>True</td>\n",
       "      <td>True</td>\n",
       "      <td>...</td>\n",
       "      <td>True</td>\n",
       "      <td>True</td>\n",
       "      <td>True</td>\n",
       "      <td>True</td>\n",
       "      <td>True</td>\n",
       "      <td>True</td>\n",
       "      <td>False</td>\n",
       "      <td>True</td>\n",
       "      <td>True</td>\n",
       "      <td>False</td>\n",
       "    </tr>\n",
       "    <tr>\n",
       "      <th>2</th>\n",
       "      <td>False</td>\n",
       "      <td>False</td>\n",
       "      <td>False</td>\n",
       "      <td>False</td>\n",
       "      <td>True</td>\n",
       "      <td>True</td>\n",
       "      <td>True</td>\n",
       "      <td>True</td>\n",
       "      <td>True</td>\n",
       "      <td>True</td>\n",
       "      <td>...</td>\n",
       "      <td>True</td>\n",
       "      <td>True</td>\n",
       "      <td>True</td>\n",
       "      <td>True</td>\n",
       "      <td>True</td>\n",
       "      <td>True</td>\n",
       "      <td>False</td>\n",
       "      <td>True</td>\n",
       "      <td>True</td>\n",
       "      <td>False</td>\n",
       "    </tr>\n",
       "    <tr>\n",
       "      <th>3</th>\n",
       "      <td>False</td>\n",
       "      <td>False</td>\n",
       "      <td>False</td>\n",
       "      <td>False</td>\n",
       "      <td>True</td>\n",
       "      <td>True</td>\n",
       "      <td>True</td>\n",
       "      <td>True</td>\n",
       "      <td>True</td>\n",
       "      <td>True</td>\n",
       "      <td>...</td>\n",
       "      <td>True</td>\n",
       "      <td>True</td>\n",
       "      <td>True</td>\n",
       "      <td>True</td>\n",
       "      <td>True</td>\n",
       "      <td>True</td>\n",
       "      <td>False</td>\n",
       "      <td>True</td>\n",
       "      <td>True</td>\n",
       "      <td>False</td>\n",
       "    </tr>\n",
       "    <tr>\n",
       "      <th>4</th>\n",
       "      <td>False</td>\n",
       "      <td>False</td>\n",
       "      <td>False</td>\n",
       "      <td>False</td>\n",
       "      <td>True</td>\n",
       "      <td>True</td>\n",
       "      <td>True</td>\n",
       "      <td>True</td>\n",
       "      <td>True</td>\n",
       "      <td>True</td>\n",
       "      <td>...</td>\n",
       "      <td>True</td>\n",
       "      <td>True</td>\n",
       "      <td>True</td>\n",
       "      <td>True</td>\n",
       "      <td>True</td>\n",
       "      <td>True</td>\n",
       "      <td>False</td>\n",
       "      <td>True</td>\n",
       "      <td>True</td>\n",
       "      <td>False</td>\n",
       "    </tr>\n",
       "    <tr>\n",
       "      <th>...</th>\n",
       "      <td>...</td>\n",
       "      <td>...</td>\n",
       "      <td>...</td>\n",
       "      <td>...</td>\n",
       "      <td>...</td>\n",
       "      <td>...</td>\n",
       "      <td>...</td>\n",
       "      <td>...</td>\n",
       "      <td>...</td>\n",
       "      <td>...</td>\n",
       "      <td>...</td>\n",
       "      <td>...</td>\n",
       "      <td>...</td>\n",
       "      <td>...</td>\n",
       "      <td>...</td>\n",
       "      <td>...</td>\n",
       "      <td>...</td>\n",
       "      <td>...</td>\n",
       "      <td>...</td>\n",
       "      <td>...</td>\n",
       "      <td>...</td>\n",
       "    </tr>\n",
       "    <tr>\n",
       "      <th>3323</th>\n",
       "      <td>False</td>\n",
       "      <td>False</td>\n",
       "      <td>False</td>\n",
       "      <td>True</td>\n",
       "      <td>False</td>\n",
       "      <td>False</td>\n",
       "      <td>False</td>\n",
       "      <td>False</td>\n",
       "      <td>False</td>\n",
       "      <td>False</td>\n",
       "      <td>...</td>\n",
       "      <td>False</td>\n",
       "      <td>False</td>\n",
       "      <td>False</td>\n",
       "      <td>False</td>\n",
       "      <td>False</td>\n",
       "      <td>False</td>\n",
       "      <td>True</td>\n",
       "      <td>False</td>\n",
       "      <td>False</td>\n",
       "      <td>True</td>\n",
       "    </tr>\n",
       "    <tr>\n",
       "      <th>3324</th>\n",
       "      <td>False</td>\n",
       "      <td>False</td>\n",
       "      <td>False</td>\n",
       "      <td>True</td>\n",
       "      <td>False</td>\n",
       "      <td>False</td>\n",
       "      <td>False</td>\n",
       "      <td>False</td>\n",
       "      <td>False</td>\n",
       "      <td>False</td>\n",
       "      <td>...</td>\n",
       "      <td>False</td>\n",
       "      <td>False</td>\n",
       "      <td>False</td>\n",
       "      <td>False</td>\n",
       "      <td>False</td>\n",
       "      <td>False</td>\n",
       "      <td>True</td>\n",
       "      <td>False</td>\n",
       "      <td>False</td>\n",
       "      <td>True</td>\n",
       "    </tr>\n",
       "    <tr>\n",
       "      <th>3325</th>\n",
       "      <td>False</td>\n",
       "      <td>False</td>\n",
       "      <td>False</td>\n",
       "      <td>True</td>\n",
       "      <td>False</td>\n",
       "      <td>False</td>\n",
       "      <td>False</td>\n",
       "      <td>False</td>\n",
       "      <td>False</td>\n",
       "      <td>False</td>\n",
       "      <td>...</td>\n",
       "      <td>False</td>\n",
       "      <td>False</td>\n",
       "      <td>False</td>\n",
       "      <td>False</td>\n",
       "      <td>False</td>\n",
       "      <td>False</td>\n",
       "      <td>True</td>\n",
       "      <td>False</td>\n",
       "      <td>False</td>\n",
       "      <td>True</td>\n",
       "    </tr>\n",
       "    <tr>\n",
       "      <th>3326</th>\n",
       "      <td>False</td>\n",
       "      <td>False</td>\n",
       "      <td>False</td>\n",
       "      <td>True</td>\n",
       "      <td>False</td>\n",
       "      <td>False</td>\n",
       "      <td>False</td>\n",
       "      <td>False</td>\n",
       "      <td>False</td>\n",
       "      <td>False</td>\n",
       "      <td>...</td>\n",
       "      <td>False</td>\n",
       "      <td>False</td>\n",
       "      <td>False</td>\n",
       "      <td>False</td>\n",
       "      <td>False</td>\n",
       "      <td>False</td>\n",
       "      <td>True</td>\n",
       "      <td>False</td>\n",
       "      <td>False</td>\n",
       "      <td>True</td>\n",
       "    </tr>\n",
       "    <tr>\n",
       "      <th>3327</th>\n",
       "      <td>False</td>\n",
       "      <td>False</td>\n",
       "      <td>False</td>\n",
       "      <td>True</td>\n",
       "      <td>False</td>\n",
       "      <td>False</td>\n",
       "      <td>False</td>\n",
       "      <td>False</td>\n",
       "      <td>False</td>\n",
       "      <td>False</td>\n",
       "      <td>...</td>\n",
       "      <td>False</td>\n",
       "      <td>False</td>\n",
       "      <td>False</td>\n",
       "      <td>False</td>\n",
       "      <td>False</td>\n",
       "      <td>False</td>\n",
       "      <td>True</td>\n",
       "      <td>False</td>\n",
       "      <td>False</td>\n",
       "      <td>True</td>\n",
       "    </tr>\n",
       "  </tbody>\n",
       "</table>\n",
       "<p>3328 rows × 55 columns</p>\n",
       "</div>"
      ],
      "text/plain": [
       "Variable_Code   FIPS  State  County  CACFP_PART_2016  CONVS16  CONVSPTH16  \\\n",
       "0              False  False   False            False     True        True   \n",
       "1              False  False   False            False     True        True   \n",
       "2              False  False   False            False     True        True   \n",
       "3              False  False   False            False     True        True   \n",
       "4              False  False   False            False     True        True   \n",
       "...              ...    ...     ...              ...      ...         ...   \n",
       "3323           False  False   False             True    False       False   \n",
       "3324           False  False   False             True    False       False   \n",
       "3325           False  False   False             True    False       False   \n",
       "3326           False  False   False             True    False       False   \n",
       "3327           False  False   False             True    False       False   \n",
       "\n",
       "Variable_Code  FFR16  FFRPTH16  FSR16  FSRPTH16  ...  SNAP_PART_RATE16  \\\n",
       "0               True      True   True      True  ...              True   \n",
       "1               True      True   True      True  ...              True   \n",
       "2               True      True   True      True  ...              True   \n",
       "3               True      True   True      True  ...              True   \n",
       "4               True      True   True      True  ...              True   \n",
       "...              ...       ...    ...       ...  ...               ...   \n",
       "3323           False     False  False     False  ...             False   \n",
       "3324           False     False  False     False  ...             False   \n",
       "3325           False     False  False     False  ...             False   \n",
       "3326           False     False  False     False  ...             False   \n",
       "3327           False     False  False     False  ...             False   \n",
       "\n",
       "Variable_Code  SNAP_REPORTSIMPLE16  SPECS16  SPECSPTH16  SUPERC16  \\\n",
       "0                             True     True        True      True   \n",
       "1                             True     True        True      True   \n",
       "2                             True     True        True      True   \n",
       "3                             True     True        True      True   \n",
       "4                             True     True        True      True   \n",
       "...                            ...      ...         ...       ...   \n",
       "3323                         False    False       False     False   \n",
       "3324                         False    False       False     False   \n",
       "3325                         False    False       False     False   \n",
       "3326                         False    False       False     False   \n",
       "3327                         False    False       False     False   \n",
       "\n",
       "Variable_Code  SUPERCPTH16  State_Population_2016  WICS16  WICSPTH16  \\\n",
       "0                     True                  False    True       True   \n",
       "1                     True                  False    True       True   \n",
       "2                     True                  False    True       True   \n",
       "3                     True                  False    True       True   \n",
       "4                     True                  False    True       True   \n",
       "...                    ...                    ...     ...        ...   \n",
       "3323                 False                   True   False      False   \n",
       "3324                 False                   True   False      False   \n",
       "3325                 False                   True   False      False   \n",
       "3326                 False                   True   False      False   \n",
       "3327                 False                   True   False      False   \n",
       "\n",
       "Variable_Code  WIC_PART_2016  \n",
       "0                      False  \n",
       "1                      False  \n",
       "2                      False  \n",
       "3                      False  \n",
       "4                      False  \n",
       "...                      ...  \n",
       "3323                    True  \n",
       "3324                    True  \n",
       "3325                    True  \n",
       "3326                    True  \n",
       "3327                    True  \n",
       "\n",
       "[3328 rows x 55 columns]"
      ]
     },
     "execution_count": 18,
     "metadata": {},
     "output_type": "execute_result"
    }
   ],
   "source": [
    "pivot_df.isna()"
   ]
  },
  {
   "cell_type": "code",
   "execution_count": 19,
   "id": "56bff265-589a-4ac7-b8f9-a2dbe8d0c6f3",
   "metadata": {
    "tags": []
   },
   "outputs": [
    {
     "data": {
      "text/plain": [
       "Variable_Code\n",
       "WIC_PART_2016               3277\n",
       "SBP_PART_2016               3277\n",
       "NSLP_PART_2016              3277\n",
       "CACFP_PART_2016             3277\n",
       "State_Population_2016       3277\n",
       "SFSP_PART_2016              3277\n",
       "PCH_PC_WIC_REDEMP_11_16     1520\n",
       "PC_WIC_REDEMP16             1471\n",
       "PCH_SPECS_11_16              435\n",
       "PCH_SPECSPTH_11_16           432\n",
       "PCH_WICSPTH_11_16            347\n",
       "WICSPTH16                    346\n",
       "PCH_REDEMP_WICS_11_16        345\n",
       "PCH_WICS_11_16               344\n",
       "REDEMP_WICS16                343\n",
       "WICS16                       343\n",
       "PCH_RECFAC_11_16             328\n",
       "PCH_RECFACPTH_11_16          328\n",
       "PCH_SUPERC_11_16             318\n",
       "PCH_SUPERCPTH_11_16          317\n",
       "PCH_FFR_11_16                242\n",
       "PCH_FFRPTH_11_16             237\n",
       "PCH_FSR_11_16                213\n",
       "PCH_CONVS_11_16              211\n",
       "PCH_FSRPTH_11_16             208\n",
       "PCH_GROC_11_16               206\n",
       "PCH_CONVSPTH_11_16           206\n",
       "PCH_GROCPTH_11_16            201\n",
       "Population_Estimate_2016     186\n",
       "SNAP_REPORTSIMPLE16          185\n",
       "SNAP_CAP16                   185\n",
       "SNAP_OAPP16                  185\n",
       "SNAP_PART_RATE16             185\n",
       "SUPERCPTH16                  185\n",
       "SPECS16                      185\n",
       "SPECSPTH16                   185\n",
       "SUPERC16                     185\n",
       "FFR16                        185\n",
       "CONVSPTH16                   185\n",
       "CONVS16                      185\n",
       "SNAP_BBCE16                  185\n",
       "RECFAC16                     185\n",
       "FFRPTH16                     185\n",
       "FSR16                        185\n",
       "RECFACPTH16                  185\n",
       "FSRPTH16                     185\n",
       "PCT_WICWOMEN16               185\n",
       "PCT_WICINFANTCHILD16         185\n",
       "PCH_WICWOMEN_14_16           185\n",
       "GROC16                       185\n",
       "GROCPTH16                    185\n",
       "PCH_WICINFANTCHILD_14_16     185\n",
       "State                          0\n",
       "County                         0\n",
       "FIPS                           0\n",
       "dtype: int64"
      ]
     },
     "execution_count": 19,
     "metadata": {},
     "output_type": "execute_result"
    }
   ],
   "source": [
    "pivot_df.isna().sum().sort_values(ascending=False)"
   ]
  },
  {
   "cell_type": "code",
   "execution_count": 20,
   "id": "72454f11-9397-4b74-bc20-e6ea8e618bdb",
   "metadata": {
    "tags": []
   },
   "outputs": [
    {
     "data": {
      "text/html": [
       "<div>\n",
       "<style scoped>\n",
       "    .dataframe tbody tr th:only-of-type {\n",
       "        vertical-align: middle;\n",
       "    }\n",
       "\n",
       "    .dataframe tbody tr th {\n",
       "        vertical-align: top;\n",
       "    }\n",
       "\n",
       "    .dataframe thead th {\n",
       "        text-align: right;\n",
       "    }\n",
       "</style>\n",
       "<table border=\"1\" class=\"dataframe\">\n",
       "  <thead>\n",
       "    <tr style=\"text-align: right;\">\n",
       "      <th></th>\n",
       "      <th>Sum</th>\n",
       "      <th>Percent</th>\n",
       "    </tr>\n",
       "    <tr>\n",
       "      <th>Variable_Code</th>\n",
       "      <th></th>\n",
       "      <th></th>\n",
       "    </tr>\n",
       "  </thead>\n",
       "  <tbody>\n",
       "    <tr>\n",
       "      <th>CACFP_PART_2016</th>\n",
       "      <td>3277</td>\n",
       "      <td>98.467548</td>\n",
       "    </tr>\n",
       "    <tr>\n",
       "      <th>NSLP_PART_2016</th>\n",
       "      <td>3277</td>\n",
       "      <td>98.467548</td>\n",
       "    </tr>\n",
       "    <tr>\n",
       "      <th>SBP_PART_2016</th>\n",
       "      <td>3277</td>\n",
       "      <td>98.467548</td>\n",
       "    </tr>\n",
       "    <tr>\n",
       "      <th>SFSP_PART_2016</th>\n",
       "      <td>3277</td>\n",
       "      <td>98.467548</td>\n",
       "    </tr>\n",
       "    <tr>\n",
       "      <th>State_Population_2016</th>\n",
       "      <td>3277</td>\n",
       "      <td>98.467548</td>\n",
       "    </tr>\n",
       "    <tr>\n",
       "      <th>WIC_PART_2016</th>\n",
       "      <td>3277</td>\n",
       "      <td>98.467548</td>\n",
       "    </tr>\n",
       "  </tbody>\n",
       "</table>\n",
       "</div>"
      ],
      "text/plain": [
       "                        Sum    Percent\n",
       "Variable_Code                         \n",
       "CACFP_PART_2016        3277  98.467548\n",
       "NSLP_PART_2016         3277  98.467548\n",
       "SBP_PART_2016          3277  98.467548\n",
       "SFSP_PART_2016         3277  98.467548\n",
       "State_Population_2016  3277  98.467548\n",
       "WIC_PART_2016          3277  98.467548"
      ]
     },
     "execution_count": 20,
     "metadata": {},
     "output_type": "execute_result"
    }
   ],
   "source": [
    "missing_sum = pivot_df.isnull().sum()\n",
    "missing_percent = 100 * pivot_df.isnull().mean()\n",
    "missing = pd.concat([missing_sum, missing_percent], axis=1)\n",
    "missing = missing.sort_values([0, 1], ascending=False)\n",
    "\n",
    "missing = missing.rename(columns = {1:'Percent'})\n",
    "missing = missing.rename(columns = {0:'Sum'})\n",
    "\n",
    "missing[missing.Percent > 50]"
   ]
  },
  {
   "cell_type": "markdown",
   "id": "9f5b52c4-9178-4de4-9741-b6a0799be1c5",
   "metadata": {},
   "source": [
    "The above columns ('CACFP_PART_2016', 'NSLP_PART_2016', 'SBP_PART_2016', 'SFSP_PART_2016', 'State_Population_2016', 'WIC_PART_2016') are all state totals. Instead of dropping these columns, I am going to input the state total for every county in the state. This will allow me to keep these columns as part of the data."
   ]
  },
  {
   "cell_type": "code",
   "execution_count": 21,
   "id": "4196b852-9c4d-48de-ae7b-3396788458c1",
   "metadata": {
    "tags": []
   },
   "outputs": [
    {
     "data": {
      "text/plain": [
       "0        59447.50\n",
       "1        10039.00\n",
       "2        42618.00\n",
       "3        66903.00\n",
       "4       595088.25\n",
       "          ...    \n",
       "3323      7532.75\n",
       "3324      7532.75\n",
       "3325      7532.75\n",
       "3326      7532.75\n",
       "3327      7532.75\n",
       "Name: CACFP_PART_2016, Length: 3328, dtype: float64"
      ]
     },
     "execution_count": 21,
     "metadata": {},
     "output_type": "execute_result"
    }
   ],
   "source": [
    "def fill_missing(df, col):\n",
    "    state_total = df.groupby(\"State\")[col].sum().to_dict()\n",
    "    df[col] = df[col].fillna(df[\"State\"].map(state_total))\n",
    "    return df[col]\n",
    "\n",
    "fill_missing(pivot_df, 'CACFP_PART_2016')"
   ]
  },
  {
   "cell_type": "code",
   "execution_count": 22,
   "id": "e3a4d788-f048-456f-96b9-6bf01304b522",
   "metadata": {
    "tags": []
   },
   "outputs": [
    {
     "data": {
      "text/plain": [
       "1      10039.0\n",
       "118    10039.0\n",
       "119    10039.0\n",
       "120    10039.0\n",
       "121    10039.0\n",
       "122    10039.0\n",
       "123    10039.0\n",
       "124    10039.0\n",
       "125    10039.0\n",
       "126    10039.0\n",
       "127    10039.0\n",
       "128    10039.0\n",
       "129    10039.0\n",
       "130    10039.0\n",
       "131    10039.0\n",
       "132    10039.0\n",
       "133    10039.0\n",
       "134    10039.0\n",
       "135    10039.0\n",
       "136    10039.0\n",
       "137    10039.0\n",
       "138    10039.0\n",
       "139    10039.0\n",
       "140    10039.0\n",
       "141    10039.0\n",
       "142    10039.0\n",
       "143    10039.0\n",
       "144    10039.0\n",
       "145    10039.0\n",
       "146    10039.0\n",
       "147    10039.0\n",
       "148    10039.0\n",
       "149    10039.0\n",
       "150    10039.0\n",
       "151    10039.0\n",
       "152    10039.0\n",
       "153    10039.0\n",
       "154    10039.0\n",
       "155    10039.0\n",
       "156    10039.0\n",
       "157    10039.0\n",
       "158    10039.0\n",
       "159    10039.0\n",
       "160    10039.0\n",
       "161    10039.0\n",
       "162    10039.0\n",
       "163    10039.0\n",
       "164    10039.0\n",
       "165    10039.0\n",
       "166    10039.0\n",
       "167    10039.0\n",
       "168    10039.0\n",
       "169    10039.0\n",
       "170    10039.0\n",
       "171    10039.0\n",
       "172    10039.0\n",
       "173    10039.0\n",
       "174    10039.0\n",
       "175    10039.0\n",
       "Name: CACFP_PART_2016, dtype: float64"
      ]
     },
     "execution_count": 22,
     "metadata": {},
     "output_type": "execute_result"
    }
   ],
   "source": [
    "# Checking my method. It works!\n",
    "pivot_df[pivot_df['State']=='AK']['CACFP_PART_2016']"
   ]
  },
  {
   "cell_type": "code",
   "execution_count": 23,
   "id": "f904e188-55cb-45ae-94c6-59c1f309f9b2",
   "metadata": {
    "tags": []
   },
   "outputs": [
    {
     "data": {
      "text/plain": [
       "0       1.291599e+05\n",
       "1       1.912092e+04\n",
       "2       1.639978e+05\n",
       "3       8.055467e+04\n",
       "4       1.174875e+06\n",
       "            ...     \n",
       "3323    1.078283e+04\n",
       "3324    1.078283e+04\n",
       "3325    1.078283e+04\n",
       "3326    1.078283e+04\n",
       "3327    1.078283e+04\n",
       "Name: WIC_PART_2016, Length: 3328, dtype: float64"
      ]
     },
     "execution_count": 23,
     "metadata": {},
     "output_type": "execute_result"
    }
   ],
   "source": [
    "fill_missing(pivot_df, 'NSLP_PART_2016')\n",
    "fill_missing(pivot_df, 'SBP_PART_2016')\n",
    "fill_missing(pivot_df, 'SFSP_PART_2016')\n",
    "fill_missing(pivot_df, 'State_Population_2016')\n",
    "fill_missing(pivot_df, 'WIC_PART_2016')"
   ]
  },
  {
   "cell_type": "code",
   "execution_count": 24,
   "id": "fb924638-6d21-4a6a-b5bb-4b702b21e509",
   "metadata": {
    "tags": []
   },
   "outputs": [
    {
     "data": {
      "text/plain": [
       "Variable_Code\n",
       "PCH_PC_WIC_REDEMP_11_16     1520\n",
       "PC_WIC_REDEMP16             1471\n",
       "PCH_SPECS_11_16              435\n",
       "PCH_SPECSPTH_11_16           432\n",
       "PCH_WICSPTH_11_16            347\n",
       "WICSPTH16                    346\n",
       "PCH_REDEMP_WICS_11_16        345\n",
       "PCH_WICS_11_16               344\n",
       "WICS16                       343\n",
       "REDEMP_WICS16                343\n",
       "PCH_RECFAC_11_16             328\n",
       "PCH_RECFACPTH_11_16          328\n",
       "PCH_SUPERC_11_16             318\n",
       "PCH_SUPERCPTH_11_16          317\n",
       "PCH_FFR_11_16                242\n",
       "PCH_FFRPTH_11_16             237\n",
       "PCH_FSR_11_16                213\n",
       "PCH_CONVS_11_16              211\n",
       "PCH_FSRPTH_11_16             208\n",
       "PCH_GROC_11_16               206\n",
       "PCH_CONVSPTH_11_16           206\n",
       "PCH_GROCPTH_11_16            201\n",
       "Population_Estimate_2016     186\n",
       "SUPERC16                     185\n",
       "RECFAC16                     185\n",
       "RECFACPTH16                  185\n",
       "CONVS16                      185\n",
       "SNAP_CAP16                   185\n",
       "SPECSPTH16                   185\n",
       "SNAP_BBCE16                  185\n",
       "PCT_WICWOMEN16               185\n",
       "SNAP_OAPP16                  185\n",
       "SNAP_PART_RATE16             185\n",
       "CONVSPTH16                   185\n",
       "FFRPTH16                     185\n",
       "PCT_WICINFANTCHILD16         185\n",
       "PCH_WICWOMEN_14_16           185\n",
       "FFR16                        185\n",
       "PCH_WICINFANTCHILD_14_16     185\n",
       "FSR16                        185\n",
       "SUPERCPTH16                  185\n",
       "FSRPTH16                     185\n",
       "GROC16                       185\n",
       "GROCPTH16                    185\n",
       "SPECS16                      185\n",
       "SNAP_REPORTSIMPLE16          185\n",
       "State_Population_2016          0\n",
       "FIPS                           0\n",
       "SFSP_PART_2016                 0\n",
       "SBP_PART_2016                  0\n",
       "State                          0\n",
       "NSLP_PART_2016                 0\n",
       "CACFP_PART_2016                0\n",
       "County                         0\n",
       "WIC_PART_2016                  0\n",
       "dtype: int64"
      ]
     },
     "execution_count": 24,
     "metadata": {},
     "output_type": "execute_result"
    }
   ],
   "source": [
    "pivot_df.isna().sum().sort_values(ascending=False)"
   ]
  },
  {
   "cell_type": "markdown",
   "id": "c2311ee1-c165-401a-82a3-87c941f268fa",
   "metadata": {
    "tags": []
   },
   "source": [
    "PCH_PC_WIC_REDEMP_11_16 is WIC redemptions per capita (% change), 2011-2016. Since I am not including any data from 2011, I am going to drop this column. It also happens to be a column with many missing values."
   ]
  },
  {
   "cell_type": "code",
   "execution_count": 25,
   "id": "8c78ab84-68ba-447c-9e16-29712a1485e8",
   "metadata": {
    "tags": []
   },
   "outputs": [],
   "source": [
    "pivot_df = pivot_df.drop('PCH_PC_WIC_REDEMP_11_16', axis=1)"
   ]
  },
  {
   "cell_type": "markdown",
   "id": "bc3f29bf-1011-4e2c-b2fe-e875e804f962",
   "metadata": {},
   "source": [
    "As with the column above, I will drop every column that contains a year other than 2016."
   ]
  },
  {
   "cell_type": "code",
   "execution_count": 26,
   "id": "e0d21249-8f80-4eec-9863-9a1dca7070c0",
   "metadata": {
    "tags": []
   },
   "outputs": [
    {
     "data": {
      "text/plain": [
       "Index(['FIPS', 'State', 'County', 'CACFP_PART_2016', 'CONVS16', 'CONVSPTH16',\n",
       "       'FFR16', 'FFRPTH16', 'FSR16', 'FSRPTH16', 'GROC16', 'GROCPTH16',\n",
       "       'NSLP_PART_2016', 'PCT_WICINFANTCHILD16', 'PCT_WICWOMEN16',\n",
       "       'PC_WIC_REDEMP16', 'Population_Estimate_2016', 'RECFAC16',\n",
       "       'RECFACPTH16', 'REDEMP_WICS16', 'SBP_PART_2016', 'SFSP_PART_2016',\n",
       "       'SNAP_BBCE16', 'SNAP_CAP16', 'SNAP_OAPP16', 'SNAP_PART_RATE16',\n",
       "       'SNAP_REPORTSIMPLE16', 'SPECS16', 'SPECSPTH16', 'SUPERC16',\n",
       "       'SUPERCPTH16', 'State_Population_2016', 'WICS16', 'WICSPTH16',\n",
       "       'WIC_PART_2016'],\n",
       "      dtype='object', name='Variable_Code')"
      ]
     },
     "execution_count": 26,
     "metadata": {},
     "output_type": "execute_result"
    }
   ],
   "source": [
    "pivot_df = pivot_df[pivot_df.columns.drop(list(pivot_df.filter(regex='11|14')))]\n",
    "pivot_df.columns"
   ]
  },
  {
   "cell_type": "markdown",
   "id": "da29b877-faaa-4423-8bb2-8ef58dce07e8",
   "metadata": {},
   "source": [
    "Checking for null values after removing columns containing dates other than 2016."
   ]
  },
  {
   "cell_type": "code",
   "execution_count": 27,
   "id": "c3f29866-f1c5-453a-b104-f598f1c2fe6f",
   "metadata": {
    "tags": []
   },
   "outputs": [
    {
     "data": {
      "text/plain": [
       "Variable_Code\n",
       "PC_WIC_REDEMP16             1471\n",
       "WICSPTH16                    346\n",
       "WICS16                       343\n",
       "REDEMP_WICS16                343\n",
       "Population_Estimate_2016     186\n",
       "RECFAC16                     185\n",
       "SNAP_PART_RATE16             185\n",
       "SNAP_OAPP16                  185\n",
       "SNAP_CAP16                   185\n",
       "SNAP_BBCE16                  185\n",
       "SPECSPTH16                   185\n",
       "SUPERC16                     185\n",
       "RECFACPTH16                  185\n",
       "SUPERCPTH16                  185\n",
       "PCT_WICINFANTCHILD16         185\n",
       "PCT_WICWOMEN16               185\n",
       "SPECS16                      185\n",
       "GROCPTH16                    185\n",
       "GROC16                       185\n",
       "FSRPTH16                     185\n",
       "FSR16                        185\n",
       "FFRPTH16                     185\n",
       "FFR16                        185\n",
       "CONVSPTH16                   185\n",
       "CONVS16                      185\n",
       "SNAP_REPORTSIMPLE16          185\n",
       "State_Population_2016          0\n",
       "FIPS                           0\n",
       "SFSP_PART_2016                 0\n",
       "SBP_PART_2016                  0\n",
       "State                          0\n",
       "NSLP_PART_2016                 0\n",
       "CACFP_PART_2016                0\n",
       "County                         0\n",
       "WIC_PART_2016                  0\n",
       "dtype: int64"
      ]
     },
     "execution_count": 27,
     "metadata": {},
     "output_type": "execute_result"
    }
   ],
   "source": [
    "pivot_df.isna().sum().sort_values(ascending=False)"
   ]
  },
  {
   "cell_type": "markdown",
   "id": "6d50e64b-b3d9-4f54-ac37-def64fc9335b",
   "metadata": {},
   "source": [
    "WIC is the Special Supplemental Nutrition Program for Women, Infants, and Children (WIC). For more information, please visit this link: https://www.fns.usda.gov/wic\n",
    "\n",
    "I am dropping the column, PC_WIC_REDEMP16. This column is missing 1471 values, and I believe I can access information regarding WIC through other variables such as WICSPTH16 (WIC-authorized stores/1,000 pop), WICS16 (WIC-authorized stores), REDEMP_WICS16 (WIC redemptions/WIC-authorized stores), PCT_WICINFANTCHILD16 (WIC % infant and children participants), and PCT_WICWOMEN16 (WIC % women participants).\n",
    "\n",
    "These columns are also missing quite a few values, but I will impute the median value by state for each missing value."
   ]
  },
  {
   "cell_type": "code",
   "execution_count": 28,
   "id": "84138150-9103-4d26-a7ab-0c48e451c0f6",
   "metadata": {
    "tags": []
   },
   "outputs": [],
   "source": [
    "pivot_df = pivot_df.drop('PC_WIC_REDEMP16', axis=1)"
   ]
  },
  {
   "cell_type": "code",
   "execution_count": 29,
   "id": "8771ba54-30b5-4d88-ba04-786d90fc3d1a",
   "metadata": {
    "tags": []
   },
   "outputs": [],
   "source": [
    "def impute_median(df, col):\n",
    "    state_total = df.groupby(\"State\")[col].median().to_dict()\n",
    "    df[col] = df[col].fillna(df[\"State\"].map(state_total))\n",
    "    return df[col]"
   ]
  },
  {
   "cell_type": "code",
   "execution_count": 30,
   "id": "b02ed569-0b01-45c4-8ecf-30ca94369fc3",
   "metadata": {
    "tags": []
   },
   "outputs": [
    {
     "data": {
      "text/plain": [
       "0       3.309759\n",
       "1       3.065642\n",
       "2       2.850142\n",
       "3       3.595835\n",
       "4       3.249196\n",
       "          ...   \n",
       "3323    2.375607\n",
       "3324    2.375607\n",
       "3325    2.375607\n",
       "3326    2.375607\n",
       "3327    2.375607\n",
       "Name: PCT_WICWOMEN16, Length: 3328, dtype: float64"
      ]
     },
     "execution_count": 30,
     "metadata": {},
     "output_type": "execute_result"
    }
   ],
   "source": [
    "impute_median(pivot_df, 'WICSPTH16')\n",
    "impute_median(pivot_df, 'WICS16')\n",
    "impute_median(pivot_df, 'REDEMP_WICS16')\n",
    "impute_median(pivot_df, 'PCT_WICINFANTCHILD16')\n",
    "impute_median(pivot_df, 'PCT_WICWOMEN16')"
   ]
  },
  {
   "cell_type": "code",
   "execution_count": 31,
   "id": "81b8e727-d5f9-45d6-a910-6390944c1b51",
   "metadata": {
    "tags": []
   },
   "outputs": [
    {
     "data": {
      "text/plain": [
       "Variable_Code\n",
       "FIPS                          0\n",
       "WICS16                        0\n",
       "State_Population_2016         0\n",
       "SFSP_PART_2016                0\n",
       "SBP_PART_2016                 0\n",
       "REDEMP_WICS16                 0\n",
       "WICSPTH16                     0\n",
       "PCT_WICWOMEN16                0\n",
       "PCT_WICINFANTCHILD16          0\n",
       "NSLP_PART_2016                0\n",
       "WIC_PART_2016                 0\n",
       "State                         0\n",
       "County                        0\n",
       "CACFP_PART_2016               0\n",
       "GROCPTH16                   185\n",
       "SUPERCPTH16                 185\n",
       "SUPERC16                    185\n",
       "SPECSPTH16                  185\n",
       "SPECS16                     185\n",
       "SNAP_REPORTSIMPLE16         185\n",
       "SNAP_PART_RATE16            185\n",
       "SNAP_OAPP16                 185\n",
       "SNAP_CAP16                  185\n",
       "SNAP_BBCE16                 185\n",
       "CONVS16                     185\n",
       "CONVSPTH16                  185\n",
       "RECFACPTH16                 185\n",
       "FFR16                       185\n",
       "FFRPTH16                    185\n",
       "FSR16                       185\n",
       "FSRPTH16                    185\n",
       "GROC16                      185\n",
       "RECFAC16                    185\n",
       "Population_Estimate_2016    186\n",
       "dtype: int64"
      ]
     },
     "execution_count": 31,
     "metadata": {},
     "output_type": "execute_result"
    }
   ],
   "source": [
    "pivot_df.isna().sum().sort_values(ascending=True)"
   ]
  },
  {
   "cell_type": "markdown",
   "id": "a267a14e-69d8-486a-847f-c0d2608f1474",
   "metadata": {},
   "source": [
    "SNAP is the Supplemental Nutrition Assistance Program. SNAP offers benefits on EBT cards for low income families to supplement their grocery store budgets. Read more about SNAP here: https://www.fns.usda.gov/snap/supplemental-nutrition-assistance-program\n",
    "\n",
    "I am going to impute the median value by state for each county row for the column, SNAP_PART_RATE16. This column represents SNAP participants (% eligible population)."
   ]
  },
  {
   "cell_type": "code",
   "execution_count": 32,
   "id": "7d81932b-16af-4a1b-974d-caa6928ed755",
   "metadata": {
    "tags": []
   },
   "outputs": [
    {
     "data": {
      "text/plain": [
       "0       86.898\n",
       "1       71.454\n",
       "2       73.500\n",
       "3       72.327\n",
       "4       71.944\n",
       "         ...  \n",
       "3323    56.037\n",
       "3324    56.037\n",
       "3325    56.037\n",
       "3326    56.037\n",
       "3327    56.037\n",
       "Name: SNAP_PART_RATE16, Length: 3328, dtype: float64"
      ]
     },
     "execution_count": 32,
     "metadata": {},
     "output_type": "execute_result"
    }
   ],
   "source": [
    "impute_median(pivot_df, 'SNAP_PART_RATE16')"
   ]
  },
  {
   "cell_type": "code",
   "execution_count": 33,
   "id": "69e5a0f6-1758-4101-91ef-6454a82b3a9b",
   "metadata": {
    "tags": []
   },
   "outputs": [
    {
     "data": {
      "text/html": [
       "<div>\n",
       "<style scoped>\n",
       "    .dataframe tbody tr th:only-of-type {\n",
       "        vertical-align: middle;\n",
       "    }\n",
       "\n",
       "    .dataframe tbody tr th {\n",
       "        vertical-align: top;\n",
       "    }\n",
       "\n",
       "    .dataframe thead th {\n",
       "        text-align: right;\n",
       "    }\n",
       "</style>\n",
       "<table border=\"1\" class=\"dataframe\">\n",
       "  <thead>\n",
       "    <tr style=\"text-align: right;\">\n",
       "      <th>Variable_Code</th>\n",
       "      <th>GROC16</th>\n",
       "    </tr>\n",
       "  </thead>\n",
       "  <tbody>\n",
       "    <tr>\n",
       "      <th>0</th>\n",
       "      <td>NaN</td>\n",
       "    </tr>\n",
       "    <tr>\n",
       "      <th>1</th>\n",
       "      <td>NaN</td>\n",
       "    </tr>\n",
       "    <tr>\n",
       "      <th>2</th>\n",
       "      <td>NaN</td>\n",
       "    </tr>\n",
       "    <tr>\n",
       "      <th>3</th>\n",
       "      <td>NaN</td>\n",
       "    </tr>\n",
       "    <tr>\n",
       "      <th>4</th>\n",
       "      <td>NaN</td>\n",
       "    </tr>\n",
       "    <tr>\n",
       "      <th>...</th>\n",
       "      <td>...</td>\n",
       "    </tr>\n",
       "    <tr>\n",
       "      <th>3323</th>\n",
       "      <td>4.0</td>\n",
       "    </tr>\n",
       "    <tr>\n",
       "      <th>3324</th>\n",
       "      <td>11.0</td>\n",
       "    </tr>\n",
       "    <tr>\n",
       "      <th>3325</th>\n",
       "      <td>2.0</td>\n",
       "    </tr>\n",
       "    <tr>\n",
       "      <th>3326</th>\n",
       "      <td>2.0</td>\n",
       "    </tr>\n",
       "    <tr>\n",
       "      <th>3327</th>\n",
       "      <td>4.0</td>\n",
       "    </tr>\n",
       "  </tbody>\n",
       "</table>\n",
       "<p>3328 rows × 1 columns</p>\n",
       "</div>"
      ],
      "text/plain": [
       "Variable_Code  GROC16\n",
       "0                 NaN\n",
       "1                 NaN\n",
       "2                 NaN\n",
       "3                 NaN\n",
       "4                 NaN\n",
       "...               ...\n",
       "3323              4.0\n",
       "3324             11.0\n",
       "3325              2.0\n",
       "3326              2.0\n",
       "3327              4.0\n",
       "\n",
       "[3328 rows x 1 columns]"
      ]
     },
     "execution_count": 33,
     "metadata": {},
     "output_type": "execute_result"
    }
   ],
   "source": [
    "pivot_df[['GROC16']]"
   ]
  },
  {
   "cell_type": "code",
   "execution_count": 34,
   "id": "318951cf-0d66-4f79-b9db-3238ffe4f894",
   "metadata": {
    "tags": []
   },
   "outputs": [
    {
     "data": {
      "text/html": [
       "<div>\n",
       "<style scoped>\n",
       "    .dataframe tbody tr th:only-of-type {\n",
       "        vertical-align: middle;\n",
       "    }\n",
       "\n",
       "    .dataframe tbody tr th {\n",
       "        vertical-align: top;\n",
       "    }\n",
       "\n",
       "    .dataframe thead th {\n",
       "        text-align: right;\n",
       "    }\n",
       "</style>\n",
       "<table border=\"1\" class=\"dataframe\">\n",
       "  <thead>\n",
       "    <tr style=\"text-align: right;\">\n",
       "      <th>Variable_Code</th>\n",
       "      <th>FIPS</th>\n",
       "      <th>State</th>\n",
       "      <th>County</th>\n",
       "      <th>CACFP_PART_2016</th>\n",
       "      <th>CONVS16</th>\n",
       "      <th>CONVSPTH16</th>\n",
       "      <th>FFR16</th>\n",
       "      <th>FFRPTH16</th>\n",
       "      <th>FSR16</th>\n",
       "      <th>FSRPTH16</th>\n",
       "      <th>...</th>\n",
       "      <th>SNAP_PART_RATE16</th>\n",
       "      <th>SNAP_REPORTSIMPLE16</th>\n",
       "      <th>SPECS16</th>\n",
       "      <th>SPECSPTH16</th>\n",
       "      <th>SUPERC16</th>\n",
       "      <th>SUPERCPTH16</th>\n",
       "      <th>State_Population_2016</th>\n",
       "      <th>WICS16</th>\n",
       "      <th>WICSPTH16</th>\n",
       "      <th>WIC_PART_2016</th>\n",
       "    </tr>\n",
       "  </thead>\n",
       "  <tbody>\n",
       "    <tr>\n",
       "      <th>0</th>\n",
       "      <td>1</td>\n",
       "      <td>AL</td>\n",
       "      <td>total</td>\n",
       "      <td>59447.5</td>\n",
       "      <td>NaN</td>\n",
       "      <td>NaN</td>\n",
       "      <td>NaN</td>\n",
       "      <td>NaN</td>\n",
       "      <td>NaN</td>\n",
       "      <td>NaN</td>\n",
       "      <td>...</td>\n",
       "      <td>86.898</td>\n",
       "      <td>NaN</td>\n",
       "      <td>NaN</td>\n",
       "      <td>NaN</td>\n",
       "      <td>NaN</td>\n",
       "      <td>NaN</td>\n",
       "      <td>4864745.0</td>\n",
       "      <td>6.0</td>\n",
       "      <td>0.178992</td>\n",
       "      <td>129159.9167</td>\n",
       "    </tr>\n",
       "  </tbody>\n",
       "</table>\n",
       "<p>1 rows × 34 columns</p>\n",
       "</div>"
      ],
      "text/plain": [
       "Variable_Code  FIPS State County  CACFP_PART_2016  CONVS16  CONVSPTH16  FFR16  \\\n",
       "0                 1    AL  total          59447.5      NaN         NaN    NaN   \n",
       "\n",
       "Variable_Code  FFRPTH16  FSR16  FSRPTH16  ...  SNAP_PART_RATE16  \\\n",
       "0                   NaN    NaN       NaN  ...            86.898   \n",
       "\n",
       "Variable_Code  SNAP_REPORTSIMPLE16  SPECS16  SPECSPTH16  SUPERC16  \\\n",
       "0                              NaN      NaN         NaN       NaN   \n",
       "\n",
       "Variable_Code  SUPERCPTH16  State_Population_2016  WICS16  WICSPTH16  \\\n",
       "0                      NaN              4864745.0     6.0   0.178992   \n",
       "\n",
       "Variable_Code  WIC_PART_2016  \n",
       "0                129159.9167  \n",
       "\n",
       "[1 rows x 34 columns]"
      ]
     },
     "execution_count": 34,
     "metadata": {},
     "output_type": "execute_result"
    }
   ],
   "source": [
    "pivot_df[pivot_df.index==0]"
   ]
  },
  {
   "cell_type": "code",
   "execution_count": 35,
   "id": "96ed5c4f-d959-4727-8057-00c94bfad566",
   "metadata": {
    "tags": []
   },
   "outputs": [
    {
     "data": {
      "text/html": [
       "<div>\n",
       "<style scoped>\n",
       "    .dataframe tbody tr th:only-of-type {\n",
       "        vertical-align: middle;\n",
       "    }\n",
       "\n",
       "    .dataframe tbody tr th {\n",
       "        vertical-align: top;\n",
       "    }\n",
       "\n",
       "    .dataframe thead th {\n",
       "        text-align: right;\n",
       "    }\n",
       "</style>\n",
       "<table border=\"1\" class=\"dataframe\">\n",
       "  <thead>\n",
       "    <tr style=\"text-align: right;\">\n",
       "      <th>Variable_Code</th>\n",
       "      <th>FIPS</th>\n",
       "      <th>State</th>\n",
       "      <th>County</th>\n",
       "      <th>CACFP_PART_2016</th>\n",
       "      <th>CONVS16</th>\n",
       "      <th>CONVSPTH16</th>\n",
       "      <th>FFR16</th>\n",
       "      <th>FFRPTH16</th>\n",
       "      <th>FSR16</th>\n",
       "      <th>FSRPTH16</th>\n",
       "      <th>...</th>\n",
       "      <th>SNAP_PART_RATE16</th>\n",
       "      <th>SNAP_REPORTSIMPLE16</th>\n",
       "      <th>SPECS16</th>\n",
       "      <th>SPECSPTH16</th>\n",
       "      <th>SUPERC16</th>\n",
       "      <th>SUPERCPTH16</th>\n",
       "      <th>State_Population_2016</th>\n",
       "      <th>WICS16</th>\n",
       "      <th>WICSPTH16</th>\n",
       "      <th>WIC_PART_2016</th>\n",
       "    </tr>\n",
       "  </thead>\n",
       "  <tbody>\n",
       "    <tr>\n",
       "      <th>1</th>\n",
       "      <td>2</td>\n",
       "      <td>AK</td>\n",
       "      <td>total</td>\n",
       "      <td>10039.0</td>\n",
       "      <td>NaN</td>\n",
       "      <td>NaN</td>\n",
       "      <td>NaN</td>\n",
       "      <td>NaN</td>\n",
       "      <td>NaN</td>\n",
       "      <td>NaN</td>\n",
       "      <td>...</td>\n",
       "      <td>71.454</td>\n",
       "      <td>NaN</td>\n",
       "      <td>NaN</td>\n",
       "      <td>NaN</td>\n",
       "      <td>NaN</td>\n",
       "      <td>NaN</td>\n",
       "      <td>741504.0</td>\n",
       "      <td>3.0</td>\n",
       "      <td>0.615642</td>\n",
       "      <td>19120.9167</td>\n",
       "    </tr>\n",
       "  </tbody>\n",
       "</table>\n",
       "<p>1 rows × 34 columns</p>\n",
       "</div>"
      ],
      "text/plain": [
       "Variable_Code  FIPS State County  CACFP_PART_2016  CONVS16  CONVSPTH16  FFR16  \\\n",
       "1                 2    AK  total          10039.0      NaN         NaN    NaN   \n",
       "\n",
       "Variable_Code  FFRPTH16  FSR16  FSRPTH16  ...  SNAP_PART_RATE16  \\\n",
       "1                   NaN    NaN       NaN  ...            71.454   \n",
       "\n",
       "Variable_Code  SNAP_REPORTSIMPLE16  SPECS16  SPECSPTH16  SUPERC16  \\\n",
       "1                              NaN      NaN         NaN       NaN   \n",
       "\n",
       "Variable_Code  SUPERCPTH16  State_Population_2016  WICS16  WICSPTH16  \\\n",
       "1                      NaN               741504.0     3.0   0.615642   \n",
       "\n",
       "Variable_Code  WIC_PART_2016  \n",
       "1                 19120.9167  \n",
       "\n",
       "[1 rows x 34 columns]"
      ]
     },
     "execution_count": 35,
     "metadata": {},
     "output_type": "execute_result"
    }
   ],
   "source": [
    "pivot_df[pivot_df.index==1]"
   ]
  },
  {
   "cell_type": "code",
   "execution_count": 36,
   "id": "182611bc-858d-4d29-99c0-12cb0512c712",
   "metadata": {
    "tags": []
   },
   "outputs": [
    {
     "data": {
      "text/html": [
       "<div>\n",
       "<style scoped>\n",
       "    .dataframe tbody tr th:only-of-type {\n",
       "        vertical-align: middle;\n",
       "    }\n",
       "\n",
       "    .dataframe tbody tr th {\n",
       "        vertical-align: top;\n",
       "    }\n",
       "\n",
       "    .dataframe thead th {\n",
       "        text-align: right;\n",
       "    }\n",
       "</style>\n",
       "<table border=\"1\" class=\"dataframe\">\n",
       "  <thead>\n",
       "    <tr style=\"text-align: right;\">\n",
       "      <th>Variable_Code</th>\n",
       "      <th>FIPS</th>\n",
       "      <th>State</th>\n",
       "      <th>County</th>\n",
       "      <th>CACFP_PART_2016</th>\n",
       "      <th>CONVS16</th>\n",
       "      <th>CONVSPTH16</th>\n",
       "      <th>FFR16</th>\n",
       "      <th>FFRPTH16</th>\n",
       "      <th>FSR16</th>\n",
       "      <th>FSRPTH16</th>\n",
       "      <th>...</th>\n",
       "      <th>SNAP_PART_RATE16</th>\n",
       "      <th>SNAP_REPORTSIMPLE16</th>\n",
       "      <th>SPECS16</th>\n",
       "      <th>SPECSPTH16</th>\n",
       "      <th>SUPERC16</th>\n",
       "      <th>SUPERCPTH16</th>\n",
       "      <th>State_Population_2016</th>\n",
       "      <th>WICS16</th>\n",
       "      <th>WICSPTH16</th>\n",
       "      <th>WIC_PART_2016</th>\n",
       "    </tr>\n",
       "  </thead>\n",
       "  <tbody>\n",
       "    <tr>\n",
       "      <th>3</th>\n",
       "      <td>5</td>\n",
       "      <td>AR</td>\n",
       "      <td>total</td>\n",
       "      <td>66903.0</td>\n",
       "      <td>NaN</td>\n",
       "      <td>NaN</td>\n",
       "      <td>NaN</td>\n",
       "      <td>NaN</td>\n",
       "      <td>NaN</td>\n",
       "      <td>NaN</td>\n",
       "      <td>...</td>\n",
       "      <td>72.327</td>\n",
       "      <td>NaN</td>\n",
       "      <td>NaN</td>\n",
       "      <td>NaN</td>\n",
       "      <td>NaN</td>\n",
       "      <td>NaN</td>\n",
       "      <td>2990410.0</td>\n",
       "      <td>4.0</td>\n",
       "      <td>0.147361</td>\n",
       "      <td>80554.6667</td>\n",
       "    </tr>\n",
       "  </tbody>\n",
       "</table>\n",
       "<p>1 rows × 34 columns</p>\n",
       "</div>"
      ],
      "text/plain": [
       "Variable_Code  FIPS State County  CACFP_PART_2016  CONVS16  CONVSPTH16  FFR16  \\\n",
       "3                 5    AR  total          66903.0      NaN         NaN    NaN   \n",
       "\n",
       "Variable_Code  FFRPTH16  FSR16  FSRPTH16  ...  SNAP_PART_RATE16  \\\n",
       "3                   NaN    NaN       NaN  ...            72.327   \n",
       "\n",
       "Variable_Code  SNAP_REPORTSIMPLE16  SPECS16  SPECSPTH16  SUPERC16  \\\n",
       "3                              NaN      NaN         NaN       NaN   \n",
       "\n",
       "Variable_Code  SUPERCPTH16  State_Population_2016  WICS16  WICSPTH16  \\\n",
       "3                      NaN              2990410.0     4.0   0.147361   \n",
       "\n",
       "Variable_Code  WIC_PART_2016  \n",
       "3                 80554.6667  \n",
       "\n",
       "[1 rows x 34 columns]"
      ]
     },
     "execution_count": 36,
     "metadata": {},
     "output_type": "execute_result"
    }
   ],
   "source": [
    "pivot_df[pivot_df.index==3]"
   ]
  },
  {
   "cell_type": "markdown",
   "id": "af3242d7-4734-4f3e-bde1-55282069c245",
   "metadata": {},
   "source": [
    "It looks like observations that are missing values for GROC16 are also missing many other column values; therefore, I am going to drop all observations with missing data for GROC16."
   ]
  },
  {
   "cell_type": "code",
   "execution_count": 37,
   "id": "4123fe68-fc52-4cb8-9a56-61de689b73ed",
   "metadata": {
    "tags": []
   },
   "outputs": [],
   "source": [
    "pivot_df = pivot_df[pivot_df['GROC16'].notna()]"
   ]
  },
  {
   "cell_type": "code",
   "execution_count": 38,
   "id": "39b07d49-eb4f-48b9-b3a3-1772776097a0",
   "metadata": {
    "tags": []
   },
   "outputs": [
    {
     "data": {
      "text/html": [
       "<div>\n",
       "<style scoped>\n",
       "    .dataframe tbody tr th:only-of-type {\n",
       "        vertical-align: middle;\n",
       "    }\n",
       "\n",
       "    .dataframe tbody tr th {\n",
       "        vertical-align: top;\n",
       "    }\n",
       "\n",
       "    .dataframe thead th {\n",
       "        text-align: right;\n",
       "    }\n",
       "</style>\n",
       "<table border=\"1\" class=\"dataframe\">\n",
       "  <thead>\n",
       "    <tr style=\"text-align: right;\">\n",
       "      <th>Variable_Code</th>\n",
       "      <th>GROC16</th>\n",
       "    </tr>\n",
       "  </thead>\n",
       "  <tbody>\n",
       "    <tr>\n",
       "      <th>51</th>\n",
       "      <td>3.0</td>\n",
       "    </tr>\n",
       "    <tr>\n",
       "      <th>52</th>\n",
       "      <td>29.0</td>\n",
       "    </tr>\n",
       "    <tr>\n",
       "      <th>53</th>\n",
       "      <td>4.0</td>\n",
       "    </tr>\n",
       "    <tr>\n",
       "      <th>54</th>\n",
       "      <td>5.0</td>\n",
       "    </tr>\n",
       "    <tr>\n",
       "      <th>55</th>\n",
       "      <td>5.0</td>\n",
       "    </tr>\n",
       "    <tr>\n",
       "      <th>...</th>\n",
       "      <td>...</td>\n",
       "    </tr>\n",
       "    <tr>\n",
       "      <th>3323</th>\n",
       "      <td>4.0</td>\n",
       "    </tr>\n",
       "    <tr>\n",
       "      <th>3324</th>\n",
       "      <td>11.0</td>\n",
       "    </tr>\n",
       "    <tr>\n",
       "      <th>3325</th>\n",
       "      <td>2.0</td>\n",
       "    </tr>\n",
       "    <tr>\n",
       "      <th>3326</th>\n",
       "      <td>2.0</td>\n",
       "    </tr>\n",
       "    <tr>\n",
       "      <th>3327</th>\n",
       "      <td>4.0</td>\n",
       "    </tr>\n",
       "  </tbody>\n",
       "</table>\n",
       "<p>3143 rows × 1 columns</p>\n",
       "</div>"
      ],
      "text/plain": [
       "Variable_Code  GROC16\n",
       "51                3.0\n",
       "52               29.0\n",
       "53                4.0\n",
       "54                5.0\n",
       "55                5.0\n",
       "...               ...\n",
       "3323              4.0\n",
       "3324             11.0\n",
       "3325              2.0\n",
       "3326              2.0\n",
       "3327              4.0\n",
       "\n",
       "[3143 rows x 1 columns]"
      ]
     },
     "execution_count": 38,
     "metadata": {},
     "output_type": "execute_result"
    }
   ],
   "source": [
    "pivot_df[['GROC16']]"
   ]
  },
  {
   "cell_type": "code",
   "execution_count": 39,
   "id": "0ef73a53-a037-48ee-b99d-dcd99a8eb422",
   "metadata": {
    "tags": []
   },
   "outputs": [
    {
     "data": {
      "text/plain": [
       "Variable_Code\n",
       "Population_Estimate_2016    135\n",
       "FIPS                          0\n",
       "SNAP_REPORTSIMPLE16           0\n",
       "SFSP_PART_2016                0\n",
       "SNAP_BBCE16                   0\n",
       "SNAP_CAP16                    0\n",
       "SNAP_OAPP16                   0\n",
       "SNAP_PART_RATE16              0\n",
       "SPECS16                       0\n",
       "REDEMP_WICS16                 0\n",
       "SPECSPTH16                    0\n",
       "SUPERC16                      0\n",
       "SUPERCPTH16                   0\n",
       "State_Population_2016         0\n",
       "WICS16                        0\n",
       "WICSPTH16                     0\n",
       "SBP_PART_2016                 0\n",
       "RECFACPTH16                   0\n",
       "State                         0\n",
       "RECFAC16                      0\n",
       "PCT_WICWOMEN16                0\n",
       "PCT_WICINFANTCHILD16          0\n",
       "NSLP_PART_2016                0\n",
       "GROCPTH16                     0\n",
       "GROC16                        0\n",
       "FSRPTH16                      0\n",
       "FSR16                         0\n",
       "FFRPTH16                      0\n",
       "FFR16                         0\n",
       "CONVSPTH16                    0\n",
       "CONVS16                       0\n",
       "CACFP_PART_2016               0\n",
       "County                        0\n",
       "WIC_PART_2016                 0\n",
       "dtype: int64"
      ]
     },
     "execution_count": 39,
     "metadata": {},
     "output_type": "execute_result"
    }
   ],
   "source": [
    "pivot_df.isna().sum().sort_values(ascending=False)"
   ]
  },
  {
   "cell_type": "markdown",
   "id": "ff68e364-6f06-4ad7-9559-f5489ea7899c",
   "metadata": {},
   "source": [
    "The only column that still contains missing values is Population_Estimate_2016, so I will use the Population_Estimate_2016 column from the counties DataFrame."
   ]
  },
  {
   "cell_type": "code",
   "execution_count": 40,
   "id": "3e6feea3-6018-43ff-bdfa-d96e163bcb36",
   "metadata": {
    "tags": []
   },
   "outputs": [],
   "source": [
    "pivot_df = pivot_df.drop('Population_Estimate_2016', axis=1)"
   ]
  },
  {
   "cell_type": "code",
   "execution_count": 41,
   "id": "d7a9584d-0378-4344-9ce6-66d61505ca16",
   "metadata": {
    "tags": []
   },
   "outputs": [],
   "source": [
    "pivot_df = pd.merge(pivot_df, counties, on='FIPS')"
   ]
  },
  {
   "cell_type": "code",
   "execution_count": 42,
   "id": "80592383-a207-4e22-a5c9-d32db83a8188",
   "metadata": {
    "tags": []
   },
   "outputs": [
    {
     "data": {
      "text/plain": [
       "Variable_Code\n",
       "FIPS                        0\n",
       "State                       0\n",
       "County                      0\n",
       "CACFP_PART_2016             0\n",
       "CONVS16                     0\n",
       "CONVSPTH16                  0\n",
       "FFR16                       0\n",
       "FFRPTH16                    0\n",
       "FSR16                       0\n",
       "FSRPTH16                    0\n",
       "GROC16                      0\n",
       "GROCPTH16                   0\n",
       "NSLP_PART_2016              0\n",
       "PCT_WICINFANTCHILD16        0\n",
       "PCT_WICWOMEN16              0\n",
       "RECFAC16                    0\n",
       "RECFACPTH16                 0\n",
       "REDEMP_WICS16               0\n",
       "SBP_PART_2016               0\n",
       "SFSP_PART_2016              0\n",
       "SNAP_BBCE16                 0\n",
       "SNAP_CAP16                  0\n",
       "SNAP_OAPP16                 0\n",
       "SNAP_PART_RATE16            0\n",
       "SNAP_REPORTSIMPLE16         0\n",
       "SPECS16                     0\n",
       "SPECSPTH16                  0\n",
       "SUPERC16                    0\n",
       "SUPERCPTH16                 0\n",
       "State_Population_2016       0\n",
       "WICS16                      0\n",
       "WICSPTH16                   0\n",
       "WIC_PART_2016               0\n",
       "Population_Estimate_2016    0\n",
       "dtype: int64"
      ]
     },
     "execution_count": 42,
     "metadata": {},
     "output_type": "execute_result"
    }
   ],
   "source": [
    "pivot_df.isna().sum()"
   ]
  },
  {
   "cell_type": "markdown",
   "id": "ea687ed3-ae00-43f6-aca7-cd4abf4ecdc2",
   "metadata": {
    "tags": []
   },
   "source": [
    "### Changing data types"
   ]
  },
  {
   "cell_type": "code",
   "execution_count": 43,
   "id": "ca8542e6-4aa3-4fdf-8e82-34b4e8f9fa1b",
   "metadata": {
    "tags": []
   },
   "outputs": [
    {
     "data": {
      "text/plain": [
       "Variable_Code\n",
       "FIPS                          int64\n",
       "State                        object\n",
       "County                       object\n",
       "CACFP_PART_2016             float64\n",
       "CONVS16                     float64\n",
       "CONVSPTH16                  float64\n",
       "FFR16                       float64\n",
       "FFRPTH16                    float64\n",
       "FSR16                       float64\n",
       "FSRPTH16                    float64\n",
       "GROC16                      float64\n",
       "GROCPTH16                   float64\n",
       "NSLP_PART_2016              float64\n",
       "PCT_WICINFANTCHILD16        float64\n",
       "PCT_WICWOMEN16              float64\n",
       "RECFAC16                    float64\n",
       "RECFACPTH16                 float64\n",
       "REDEMP_WICS16               float64\n",
       "SBP_PART_2016               float64\n",
       "SFSP_PART_2016              float64\n",
       "SNAP_BBCE16                 float64\n",
       "SNAP_CAP16                  float64\n",
       "SNAP_OAPP16                 float64\n",
       "SNAP_PART_RATE16            float64\n",
       "SNAP_REPORTSIMPLE16         float64\n",
       "SPECS16                     float64\n",
       "SPECSPTH16                  float64\n",
       "SUPERC16                    float64\n",
       "SUPERCPTH16                 float64\n",
       "State_Population_2016       float64\n",
       "WICS16                      float64\n",
       "WICSPTH16                   float64\n",
       "WIC_PART_2016               float64\n",
       "Population_Estimate_2016      int64\n",
       "dtype: object"
      ]
     },
     "execution_count": 43,
     "metadata": {},
     "output_type": "execute_result"
    }
   ],
   "source": [
    "pivot_df.dtypes"
   ]
  },
  {
   "cell_type": "markdown",
   "id": "addcefee-4f71-4ebc-b848-04314e5a9bfe",
   "metadata": {},
   "source": [
    "#### State_Population_2016\n",
    "This should not be a float variable because people cannot be counted as decimals."
   ]
  },
  {
   "cell_type": "code",
   "execution_count": 44,
   "id": "1101f495-8f81-4dbd-9d02-27a43713d5ce",
   "metadata": {
    "tags": []
   },
   "outputs": [],
   "source": [
    "pivot_df['State_Population_2016'] = pivot_df['State_Population_2016'].astype('int')"
   ]
  },
  {
   "cell_type": "markdown",
   "id": "9a9a13d5-eb55-4246-9e6a-cd36d33c85a0",
   "metadata": {},
   "source": [
    "#### Population_Estimate_2016\n",
    "This should not be a float variable for the same reason as State_Population_2016. People are counted in whole numbers."
   ]
  },
  {
   "cell_type": "code",
   "execution_count": 45,
   "id": "306f5903-2d51-42ef-815e-d88838986a69",
   "metadata": {
    "tags": []
   },
   "outputs": [],
   "source": [
    "pivot_df['Population_Estimate_2016'] = pivot_df['Population_Estimate_2016'].astype('int')"
   ]
  },
  {
   "cell_type": "markdown",
   "id": "8847e9ed-61ed-4520-88ad-e7e85ef938f4",
   "metadata": {},
   "source": [
    "#### Grocery and Convenience stores\n",
    "The columns listed below are all counts of physical locations, so they cannot be floats. They must be integers."
   ]
  },
  {
   "cell_type": "code",
   "execution_count": 46,
   "id": "3ecbb684-b705-4cdc-9f8a-2a1f7afa7607",
   "metadata": {
    "tags": []
   },
   "outputs": [],
   "source": [
    "pivot_df['GROC16'] = pivot_df['GROC16'].astype('int') # Count of grocery stores\n",
    "pivot_df['CONVS16'] = pivot_df['CONVS16'].astype('int') # Count of convenience stores\n",
    "pivot_df['RECFAC16'] = pivot_df['RECFAC16'].astype('int') # Count of recreation & fitness facilities\n",
    "pivot_df['SPECS16'] = pivot_df['SPECS16'].astype('int') # Count of specialized food stores\n",
    "pivot_df['SUPERC16'] = pivot_df['SUPERC16'].astype('int') # Count of supercenters & club stores\n",
    "pivot_df['FFR16'] = pivot_df['FFR16'].astype('int') # Count of fast-food restaurants\n",
    "pivot_df['FSR16'] = pivot_df['FSR16'].astype('int') # Count of full-service restaurants"
   ]
  },
  {
   "cell_type": "code",
   "execution_count": 47,
   "id": "8eadd550-dc85-46cb-b477-b2e978e80049",
   "metadata": {
    "tags": []
   },
   "outputs": [
    {
     "data": {
      "text/plain": [
       "Variable_Code\n",
       "FIPS                          int64\n",
       "State                        object\n",
       "County                       object\n",
       "CACFP_PART_2016             float64\n",
       "CONVS16                       int64\n",
       "CONVSPTH16                  float64\n",
       "FFR16                         int64\n",
       "FFRPTH16                    float64\n",
       "FSR16                         int64\n",
       "FSRPTH16                    float64\n",
       "GROC16                        int64\n",
       "GROCPTH16                   float64\n",
       "NSLP_PART_2016              float64\n",
       "PCT_WICINFANTCHILD16        float64\n",
       "PCT_WICWOMEN16              float64\n",
       "RECFAC16                      int64\n",
       "RECFACPTH16                 float64\n",
       "REDEMP_WICS16               float64\n",
       "SBP_PART_2016               float64\n",
       "SFSP_PART_2016              float64\n",
       "SNAP_BBCE16                 float64\n",
       "SNAP_CAP16                  float64\n",
       "SNAP_OAPP16                 float64\n",
       "SNAP_PART_RATE16            float64\n",
       "SNAP_REPORTSIMPLE16         float64\n",
       "SPECS16                       int64\n",
       "SPECSPTH16                  float64\n",
       "SUPERC16                      int64\n",
       "SUPERCPTH16                 float64\n",
       "State_Population_2016         int64\n",
       "WICS16                      float64\n",
       "WICSPTH16                   float64\n",
       "WIC_PART_2016               float64\n",
       "Population_Estimate_2016      int64\n",
       "dtype: object"
      ]
     },
     "execution_count": 47,
     "metadata": {},
     "output_type": "execute_result"
    }
   ],
   "source": [
    "pivot_df.dtypes"
   ]
  },
  {
   "cell_type": "markdown",
   "id": "c775b9a4-48a1-469b-8ee9-28829934e51a",
   "metadata": {},
   "source": [
    "All columns pertaining to counts of stores per 1,000 people must also be integers."
   ]
  },
  {
   "cell_type": "code",
   "execution_count": 48,
   "id": "ef55a0b2-8828-4aee-8d6b-8d854612ec22",
   "metadata": {
    "tags": []
   },
   "outputs": [],
   "source": [
    "pivot_df['RECFACPTH16'] = pivot_df['RECFACPTH16'].astype('int') # Count of recreation & fitness facilities per 1,000 pop\n",
    "pivot_df['CONVSPTH16'] = pivot_df['CONVSPTH16'].astype('int') # Count of convenience stores per 1,000 pop\n",
    "pivot_df['FFRPTH16'] = pivot_df['FFRPTH16'].astype('int') # Count of fast-food restaurants per 1,000 pop\n",
    "pivot_df['FSRPTH16'] = pivot_df['FSRPTH16'].astype('int') # Count of full-service restaurants per 1,000 pop\n",
    "pivot_df['GROCPTH16'] = pivot_df['GROCPTH16'].astype('int') # Count of grocery stores per 1,000 pop\n",
    "pivot_df['SPECSPTH16'] = pivot_df['SPECSPTH16'].astype('int') # Count of specialized food stores per 1,000 pop\n",
    "pivot_df['SUPERCPTH16'] = pivot_df['SUPERCPTH16'].astype('int') # Count of supercenter food & club stores per 1,000 pop"
   ]
  },
  {
   "cell_type": "code",
   "execution_count": 49,
   "id": "edb2fe36-c979-4a0d-8a84-e55001e741b9",
   "metadata": {
    "tags": []
   },
   "outputs": [
    {
     "data": {
      "text/plain": [
       "Variable_Code\n",
       "FIPS                          int64\n",
       "State                        object\n",
       "County                       object\n",
       "CACFP_PART_2016             float64\n",
       "CONVS16                       int64\n",
       "CONVSPTH16                    int64\n",
       "FFR16                         int64\n",
       "FFRPTH16                      int64\n",
       "FSR16                         int64\n",
       "FSRPTH16                      int64\n",
       "GROC16                        int64\n",
       "GROCPTH16                     int64\n",
       "NSLP_PART_2016              float64\n",
       "PCT_WICINFANTCHILD16        float64\n",
       "PCT_WICWOMEN16              float64\n",
       "RECFAC16                      int64\n",
       "RECFACPTH16                   int64\n",
       "REDEMP_WICS16               float64\n",
       "SBP_PART_2016               float64\n",
       "SFSP_PART_2016              float64\n",
       "SNAP_BBCE16                 float64\n",
       "SNAP_CAP16                  float64\n",
       "SNAP_OAPP16                 float64\n",
       "SNAP_PART_RATE16            float64\n",
       "SNAP_REPORTSIMPLE16         float64\n",
       "SPECS16                       int64\n",
       "SPECSPTH16                    int64\n",
       "SUPERC16                      int64\n",
       "SUPERCPTH16                   int64\n",
       "State_Population_2016         int64\n",
       "WICS16                      float64\n",
       "WICSPTH16                   float64\n",
       "WIC_PART_2016               float64\n",
       "Population_Estimate_2016      int64\n",
       "dtype: object"
      ]
     },
     "execution_count": 49,
     "metadata": {},
     "output_type": "execute_result"
    }
   ],
   "source": [
    "pivot_df.dtypes"
   ]
  },
  {
   "cell_type": "code",
   "execution_count": 50,
   "id": "352e8fa2-aa5b-4542-bf09-2a8eba163da4",
   "metadata": {},
   "outputs": [
    {
     "data": {
      "text/html": [
       "<div>\n",
       "<style scoped>\n",
       "    .dataframe tbody tr th:only-of-type {\n",
       "        vertical-align: middle;\n",
       "    }\n",
       "\n",
       "    .dataframe tbody tr th {\n",
       "        vertical-align: top;\n",
       "    }\n",
       "\n",
       "    .dataframe thead th {\n",
       "        text-align: right;\n",
       "    }\n",
       "</style>\n",
       "<table border=\"1\" class=\"dataframe\">\n",
       "  <thead>\n",
       "    <tr style=\"text-align: right;\">\n",
       "      <th>Variable_Code</th>\n",
       "      <th>FIPS</th>\n",
       "      <th>State</th>\n",
       "      <th>County</th>\n",
       "      <th>CACFP_PART_2016</th>\n",
       "      <th>CONVS16</th>\n",
       "      <th>CONVSPTH16</th>\n",
       "      <th>FFR16</th>\n",
       "      <th>FFRPTH16</th>\n",
       "      <th>FSR16</th>\n",
       "      <th>FSRPTH16</th>\n",
       "      <th>...</th>\n",
       "      <th>SNAP_REPORTSIMPLE16</th>\n",
       "      <th>SPECS16</th>\n",
       "      <th>SPECSPTH16</th>\n",
       "      <th>SUPERC16</th>\n",
       "      <th>SUPERCPTH16</th>\n",
       "      <th>State_Population_2016</th>\n",
       "      <th>WICS16</th>\n",
       "      <th>WICSPTH16</th>\n",
       "      <th>WIC_PART_2016</th>\n",
       "      <th>Population_Estimate_2016</th>\n",
       "    </tr>\n",
       "  </thead>\n",
       "  <tbody>\n",
       "    <tr>\n",
       "      <th>0</th>\n",
       "      <td>1001</td>\n",
       "      <td>AL</td>\n",
       "      <td>autauga</td>\n",
       "      <td>59447.5</td>\n",
       "      <td>31</td>\n",
       "      <td>0</td>\n",
       "      <td>44</td>\n",
       "      <td>0</td>\n",
       "      <td>31</td>\n",
       "      <td>0</td>\n",
       "      <td>...</td>\n",
       "      <td>1.0</td>\n",
       "      <td>1</td>\n",
       "      <td>0</td>\n",
       "      <td>1</td>\n",
       "      <td>0</td>\n",
       "      <td>4864745</td>\n",
       "      <td>5.0</td>\n",
       "      <td>0.090511</td>\n",
       "      <td>129159.9167</td>\n",
       "      <td>55242</td>\n",
       "    </tr>\n",
       "    <tr>\n",
       "      <th>1</th>\n",
       "      <td>1003</td>\n",
       "      <td>AL</td>\n",
       "      <td>baldwin</td>\n",
       "      <td>59447.5</td>\n",
       "      <td>118</td>\n",
       "      <td>0</td>\n",
       "      <td>156</td>\n",
       "      <td>0</td>\n",
       "      <td>236</td>\n",
       "      <td>1</td>\n",
       "      <td>...</td>\n",
       "      <td>1.0</td>\n",
       "      <td>27</td>\n",
       "      <td>0</td>\n",
       "      <td>7</td>\n",
       "      <td>0</td>\n",
       "      <td>4864745</td>\n",
       "      <td>28.0</td>\n",
       "      <td>0.134802</td>\n",
       "      <td>129159.9167</td>\n",
       "      <td>207712</td>\n",
       "    </tr>\n",
       "    <tr>\n",
       "      <th>2</th>\n",
       "      <td>1005</td>\n",
       "      <td>AL</td>\n",
       "      <td>barbour</td>\n",
       "      <td>59447.5</td>\n",
       "      <td>19</td>\n",
       "      <td>0</td>\n",
       "      <td>23</td>\n",
       "      <td>0</td>\n",
       "      <td>14</td>\n",
       "      <td>0</td>\n",
       "      <td>...</td>\n",
       "      <td>1.0</td>\n",
       "      <td>2</td>\n",
       "      <td>0</td>\n",
       "      <td>1</td>\n",
       "      <td>0</td>\n",
       "      <td>4864745</td>\n",
       "      <td>6.0</td>\n",
       "      <td>0.232387</td>\n",
       "      <td>129159.9167</td>\n",
       "      <td>25819</td>\n",
       "    </tr>\n",
       "    <tr>\n",
       "      <th>3</th>\n",
       "      <td>1007</td>\n",
       "      <td>AL</td>\n",
       "      <td>bibb</td>\n",
       "      <td>59447.5</td>\n",
       "      <td>15</td>\n",
       "      <td>0</td>\n",
       "      <td>7</td>\n",
       "      <td>0</td>\n",
       "      <td>7</td>\n",
       "      <td>0</td>\n",
       "      <td>...</td>\n",
       "      <td>1.0</td>\n",
       "      <td>0</td>\n",
       "      <td>0</td>\n",
       "      <td>1</td>\n",
       "      <td>0</td>\n",
       "      <td>4864745</td>\n",
       "      <td>5.0</td>\n",
       "      <td>0.221474</td>\n",
       "      <td>129159.9167</td>\n",
       "      <td>22576</td>\n",
       "    </tr>\n",
       "    <tr>\n",
       "      <th>4</th>\n",
       "      <td>1009</td>\n",
       "      <td>AL</td>\n",
       "      <td>blount</td>\n",
       "      <td>59447.5</td>\n",
       "      <td>27</td>\n",
       "      <td>0</td>\n",
       "      <td>23</td>\n",
       "      <td>0</td>\n",
       "      <td>12</td>\n",
       "      <td>0</td>\n",
       "      <td>...</td>\n",
       "      <td>1.0</td>\n",
       "      <td>0</td>\n",
       "      <td>0</td>\n",
       "      <td>1</td>\n",
       "      <td>0</td>\n",
       "      <td>4864745</td>\n",
       "      <td>8.0</td>\n",
       "      <td>0.139089</td>\n",
       "      <td>129159.9167</td>\n",
       "      <td>57517</td>\n",
       "    </tr>\n",
       "  </tbody>\n",
       "</table>\n",
       "<p>5 rows × 34 columns</p>\n",
       "</div>"
      ],
      "text/plain": [
       "Variable_Code  FIPS State   County  CACFP_PART_2016  CONVS16  CONVSPTH16  \\\n",
       "0              1001    AL  autauga          59447.5       31           0   \n",
       "1              1003    AL  baldwin          59447.5      118           0   \n",
       "2              1005    AL  barbour          59447.5       19           0   \n",
       "3              1007    AL     bibb          59447.5       15           0   \n",
       "4              1009    AL   blount          59447.5       27           0   \n",
       "\n",
       "Variable_Code  FFR16  FFRPTH16  FSR16  FSRPTH16  ...  SNAP_REPORTSIMPLE16  \\\n",
       "0                 44         0     31         0  ...                  1.0   \n",
       "1                156         0    236         1  ...                  1.0   \n",
       "2                 23         0     14         0  ...                  1.0   \n",
       "3                  7         0      7         0  ...                  1.0   \n",
       "4                 23         0     12         0  ...                  1.0   \n",
       "\n",
       "Variable_Code  SPECS16  SPECSPTH16  SUPERC16  SUPERCPTH16  \\\n",
       "0                    1           0         1            0   \n",
       "1                   27           0         7            0   \n",
       "2                    2           0         1            0   \n",
       "3                    0           0         1            0   \n",
       "4                    0           0         1            0   \n",
       "\n",
       "Variable_Code  State_Population_2016  WICS16  WICSPTH16  WIC_PART_2016  \\\n",
       "0                            4864745     5.0   0.090511    129159.9167   \n",
       "1                            4864745    28.0   0.134802    129159.9167   \n",
       "2                            4864745     6.0   0.232387    129159.9167   \n",
       "3                            4864745     5.0   0.221474    129159.9167   \n",
       "4                            4864745     8.0   0.139089    129159.9167   \n",
       "\n",
       "Variable_Code  Population_Estimate_2016  \n",
       "0                                 55242  \n",
       "1                                207712  \n",
       "2                                 25819  \n",
       "3                                 22576  \n",
       "4                                 57517  \n",
       "\n",
       "[5 rows x 34 columns]"
      ]
     },
     "execution_count": 50,
     "metadata": {},
     "output_type": "execute_result"
    }
   ],
   "source": [
    "pivot_df.head()"
   ]
  },
  {
   "cell_type": "markdown",
   "id": "1d54d5e5-f6f5-413c-883d-df4c04e4979e",
   "metadata": {},
   "source": [
    "### Correlation"
   ]
  },
  {
   "cell_type": "code",
   "execution_count": 51,
   "id": "41f5242c-7008-4baa-b583-742fb0acd5d9",
   "metadata": {},
   "outputs": [
    {
     "data": {
      "image/png": "[encoded data removed]",
      "text/plain": [
       "<Figure size 1000x1000 with 2 Axes>"
      ]
     },
     "metadata": {},
     "output_type": "display_data"
    }
   ],
   "source": [
    "plt.figure(figsize=(10,10))\n",
    "_ = sns.heatmap(pivot_df.corr(numeric_only=True), annot=False)\n",
    "plt.show()"
   ]
  },
  {
   "cell_type": "code",
   "execution_count": 52,
   "id": "0ab3cf47-c720-45ee-897c-5c59274db784",
   "metadata": {},
   "outputs": [
    {
     "data": {
      "text/html": [
       "<div>\n",
       "<style scoped>\n",
       "    .dataframe tbody tr th:only-of-type {\n",
       "        vertical-align: middle;\n",
       "    }\n",
       "\n",
       "    .dataframe tbody tr th {\n",
       "        vertical-align: top;\n",
       "    }\n",
       "\n",
       "    .dataframe thead th {\n",
       "        text-align: right;\n",
       "    }\n",
       "</style>\n",
       "<table border=\"1\" class=\"dataframe\">\n",
       "  <thead>\n",
       "    <tr style=\"text-align: right;\">\n",
       "      <th>Variable_Code</th>\n",
       "      <th>SNAP_REPORTSIMPLE16</th>\n",
       "    </tr>\n",
       "  </thead>\n",
       "  <tbody>\n",
       "    <tr>\n",
       "      <th>0</th>\n",
       "      <td>1.0</td>\n",
       "    </tr>\n",
       "    <tr>\n",
       "      <th>1</th>\n",
       "      <td>1.0</td>\n",
       "    </tr>\n",
       "    <tr>\n",
       "      <th>2</th>\n",
       "      <td>1.0</td>\n",
       "    </tr>\n",
       "    <tr>\n",
       "      <th>3</th>\n",
       "      <td>1.0</td>\n",
       "    </tr>\n",
       "    <tr>\n",
       "      <th>4</th>\n",
       "      <td>1.0</td>\n",
       "    </tr>\n",
       "    <tr>\n",
       "      <th>...</th>\n",
       "      <td>...</td>\n",
       "    </tr>\n",
       "    <tr>\n",
       "      <th>3135</th>\n",
       "      <td>1.0</td>\n",
       "    </tr>\n",
       "    <tr>\n",
       "      <th>3136</th>\n",
       "      <td>1.0</td>\n",
       "    </tr>\n",
       "    <tr>\n",
       "      <th>3137</th>\n",
       "      <td>1.0</td>\n",
       "    </tr>\n",
       "    <tr>\n",
       "      <th>3138</th>\n",
       "      <td>1.0</td>\n",
       "    </tr>\n",
       "    <tr>\n",
       "      <th>3139</th>\n",
       "      <td>1.0</td>\n",
       "    </tr>\n",
       "  </tbody>\n",
       "</table>\n",
       "<p>3140 rows × 1 columns</p>\n",
       "</div>"
      ],
      "text/plain": [
       "Variable_Code  SNAP_REPORTSIMPLE16\n",
       "0                              1.0\n",
       "1                              1.0\n",
       "2                              1.0\n",
       "3                              1.0\n",
       "4                              1.0\n",
       "...                            ...\n",
       "3135                           1.0\n",
       "3136                           1.0\n",
       "3137                           1.0\n",
       "3138                           1.0\n",
       "3139                           1.0\n",
       "\n",
       "[3140 rows x 1 columns]"
      ]
     },
     "execution_count": 52,
     "metadata": {},
     "output_type": "execute_result"
    }
   ],
   "source": [
    "pivot_df[['SNAP_REPORTSIMPLE16']]"
   ]
  },
  {
   "cell_type": "code",
   "execution_count": 53,
   "id": "009e2ae7-fda9-43c3-ade0-6f4b6ec69cdc",
   "metadata": {},
   "outputs": [],
   "source": [
    "pivot_df = pivot_df.drop('SNAP_REPORTSIMPLE16', axis=1)"
   ]
  },
  {
   "cell_type": "code",
   "execution_count": 54,
   "id": "e218f573-2774-4190-b411-c35ece071c4f",
   "metadata": {},
   "outputs": [
    {
     "data": {
      "text/html": [
       "<div>\n",
       "<style scoped>\n",
       "    .dataframe tbody tr th:only-of-type {\n",
       "        vertical-align: middle;\n",
       "    }\n",
       "\n",
       "    .dataframe tbody tr th {\n",
       "        vertical-align: top;\n",
       "    }\n",
       "\n",
       "    .dataframe thead th {\n",
       "        text-align: right;\n",
       "    }\n",
       "</style>\n",
       "<table border=\"1\" class=\"dataframe\">\n",
       "  <thead>\n",
       "    <tr style=\"text-align: right;\">\n",
       "      <th>Variable_Code</th>\n",
       "      <th>SUPERCPTH16</th>\n",
       "    </tr>\n",
       "  </thead>\n",
       "  <tbody>\n",
       "    <tr>\n",
       "      <th>0</th>\n",
       "      <td>0</td>\n",
       "    </tr>\n",
       "    <tr>\n",
       "      <th>1</th>\n",
       "      <td>0</td>\n",
       "    </tr>\n",
       "    <tr>\n",
       "      <th>2</th>\n",
       "      <td>0</td>\n",
       "    </tr>\n",
       "    <tr>\n",
       "      <th>3</th>\n",
       "      <td>0</td>\n",
       "    </tr>\n",
       "    <tr>\n",
       "      <th>4</th>\n",
       "      <td>0</td>\n",
       "    </tr>\n",
       "    <tr>\n",
       "      <th>...</th>\n",
       "      <td>...</td>\n",
       "    </tr>\n",
       "    <tr>\n",
       "      <th>3135</th>\n",
       "      <td>0</td>\n",
       "    </tr>\n",
       "    <tr>\n",
       "      <th>3136</th>\n",
       "      <td>0</td>\n",
       "    </tr>\n",
       "    <tr>\n",
       "      <th>3137</th>\n",
       "      <td>0</td>\n",
       "    </tr>\n",
       "    <tr>\n",
       "      <th>3138</th>\n",
       "      <td>0</td>\n",
       "    </tr>\n",
       "    <tr>\n",
       "      <th>3139</th>\n",
       "      <td>0</td>\n",
       "    </tr>\n",
       "  </tbody>\n",
       "</table>\n",
       "<p>3140 rows × 1 columns</p>\n",
       "</div>"
      ],
      "text/plain": [
       "Variable_Code  SUPERCPTH16\n",
       "0                        0\n",
       "1                        0\n",
       "2                        0\n",
       "3                        0\n",
       "4                        0\n",
       "...                    ...\n",
       "3135                     0\n",
       "3136                     0\n",
       "3137                     0\n",
       "3138                     0\n",
       "3139                     0\n",
       "\n",
       "[3140 rows x 1 columns]"
      ]
     },
     "execution_count": 54,
     "metadata": {},
     "output_type": "execute_result"
    }
   ],
   "source": [
    "pivot_df[['SUPERCPTH16']]"
   ]
  },
  {
   "cell_type": "markdown",
   "id": "977bb2d4-4de2-487c-b83f-20df6ab58123",
   "metadata": {},
   "source": [
    "I want to save pivot_df in this current state as a csv before I continue with the next stage where I drop columns and add more demographic data."
   ]
  },
  {
   "cell_type": "code",
   "execution_count": 55,
   "id": "a89cf5d7-04f5-4d3d-8c9e-e55fc94c014f",
   "metadata": {},
   "outputs": [],
   "source": [
    "pivot_df.to_csv('groc.csv', index=False)"
   ]
  },
  {
   "cell_type": "markdown",
   "id": "c75d9668-09ed-46fe-908e-247298993a9a",
   "metadata": {},
   "source": [
    "### Dropping Columns\n",
    "I will drop columns that are not helpful or are duplicative."
   ]
  },
  {
   "cell_type": "code",
   "execution_count": 56,
   "id": "7da66cff-7d55-4979-ba97-9379a8631586",
   "metadata": {},
   "outputs": [],
   "source": [
    "drop_groc = ['CONVSPTH16','FFRPTH16','FSRPTH16','GROCPTH16','RECFACPTH16','SPECSPTH16','SUPERCPTH16','WICSPTH16']\n",
    "pivot_df = pivot_df.drop(drop_groc, axis=1)"
   ]
  },
  {
   "cell_type": "code",
   "execution_count": 57,
   "id": "fc4aaf92-8d44-4ce2-a2c8-6f738fea98d0",
   "metadata": {},
   "outputs": [
    {
     "data": {
      "text/plain": [
       "Index(['FIPS', 'State', 'County', 'CACFP_PART_2016', 'CONVS16', 'FFR16',\n",
       "       'FSR16', 'GROC16', 'NSLP_PART_2016', 'PCT_WICINFANTCHILD16',\n",
       "       'PCT_WICWOMEN16', 'RECFAC16', 'REDEMP_WICS16', 'SBP_PART_2016',\n",
       "       'SFSP_PART_2016', 'SNAP_BBCE16', 'SNAP_CAP16', 'SNAP_OAPP16',\n",
       "       'SNAP_PART_RATE16', 'SPECS16', 'SUPERC16', 'State_Population_2016',\n",
       "       'WICS16', 'WIC_PART_2016', 'Population_Estimate_2016'],\n",
       "      dtype='object', name='Variable_Code')"
      ]
     },
     "execution_count": 57,
     "metadata": {},
     "output_type": "execute_result"
    }
   ],
   "source": [
    "pivot_df.columns"
   ]
  },
  {
   "cell_type": "markdown",
   "id": "e772321a-bca8-4430-bb24-d9d8035c43ce",
   "metadata": {},
   "source": [
    "#### Next Steps\n",
    "pivot_df contains information regarding food stores, restaurants, nutrition programs, and basic population data. The next step in my data wrangling and cleaning process is to add more demographic data from 2016. I will do this using census data: https://data.census.gov/table/ACSST1Y2016.S1701?q=2016%20demographic&t=Income%20and%20Poverty&g=010XX00US"
   ]
  },
  {
   "cell_type": "markdown",
   "id": "5cbc03f0-31eb-4332-b8c6-9ac5c0bcb8d0",
   "metadata": {},
   "source": [
    "## County Poverty"
   ]
  },
  {
   "cell_type": "code",
   "execution_count": 58,
   "id": "e0f055f0-60ca-4900-baa7-2982cd59caf7",
   "metadata": {},
   "outputs": [],
   "source": [
    "pov = pd.read_csv('povbycounty.csv')"
   ]
  },
  {
   "cell_type": "code",
   "execution_count": 59,
   "id": "5ab56da0-c541-4e3b-9e23-a6ac7532bed8",
   "metadata": {},
   "outputs": [
    {
     "data": {
      "text/html": [
       "<div>\n",
       "<style scoped>\n",
       "    .dataframe tbody tr th:only-of-type {\n",
       "        vertical-align: middle;\n",
       "    }\n",
       "\n",
       "    .dataframe tbody tr th {\n",
       "        vertical-align: top;\n",
       "    }\n",
       "\n",
       "    .dataframe thead th {\n",
       "        text-align: right;\n",
       "    }\n",
       "</style>\n",
       "<table border=\"1\" class=\"dataframe\">\n",
       "  <thead>\n",
       "    <tr style=\"text-align: right;\">\n",
       "      <th></th>\n",
       "      <th>Table with column headers in rows 3 and 4</th>\n",
       "      <th>Unnamed: 1</th>\n",
       "      <th>Unnamed: 2</th>\n",
       "      <th>Unnamed: 3</th>\n",
       "      <th>Unnamed: 4</th>\n",
       "      <th>Unnamed: 5</th>\n",
       "      <th>Unnamed: 6</th>\n",
       "      <th>Unnamed: 7</th>\n",
       "      <th>Unnamed: 8</th>\n",
       "      <th>Unnamed: 9</th>\n",
       "      <th>...</th>\n",
       "      <th>Unnamed: 21</th>\n",
       "      <th>Unnamed: 22</th>\n",
       "      <th>Unnamed: 23</th>\n",
       "      <th>Unnamed: 24</th>\n",
       "      <th>Unnamed: 25</th>\n",
       "      <th>Unnamed: 26</th>\n",
       "      <th>Unnamed: 27</th>\n",
       "      <th>Unnamed: 28</th>\n",
       "      <th>Unnamed: 29</th>\n",
       "      <th>Unnamed: 30</th>\n",
       "    </tr>\n",
       "  </thead>\n",
       "  <tbody>\n",
       "    <tr>\n",
       "      <th>0</th>\n",
       "      <td>2016 Poverty and Median Household Income Estim...</td>\n",
       "      <td>NaN</td>\n",
       "      <td>NaN</td>\n",
       "      <td>NaN</td>\n",
       "      <td>NaN</td>\n",
       "      <td>NaN</td>\n",
       "      <td>NaN</td>\n",
       "      <td>NaN</td>\n",
       "      <td>NaN</td>\n",
       "      <td>NaN</td>\n",
       "      <td>...</td>\n",
       "      <td>NaN</td>\n",
       "      <td>NaN</td>\n",
       "      <td>NaN</td>\n",
       "      <td>NaN</td>\n",
       "      <td>NaN</td>\n",
       "      <td>NaN</td>\n",
       "      <td>NaN</td>\n",
       "      <td>NaN</td>\n",
       "      <td>NaN</td>\n",
       "      <td>NaN</td>\n",
       "    </tr>\n",
       "    <tr>\n",
       "      <th>1</th>\n",
       "      <td>Geographic Information</td>\n",
       "      <td>NaN</td>\n",
       "      <td>NaN</td>\n",
       "      <td>NaN</td>\n",
       "      <td>All Ages</td>\n",
       "      <td>NaN</td>\n",
       "      <td>NaN</td>\n",
       "      <td>NaN</td>\n",
       "      <td>NaN</td>\n",
       "      <td>NaN</td>\n",
       "      <td>...</td>\n",
       "      <td>NaN</td>\n",
       "      <td>Median Household Income</td>\n",
       "      <td>NaN</td>\n",
       "      <td>NaN</td>\n",
       "      <td>Age 0-4</td>\n",
       "      <td>NaN</td>\n",
       "      <td>NaN</td>\n",
       "      <td>NaN</td>\n",
       "      <td>NaN</td>\n",
       "      <td>NaN</td>\n",
       "    </tr>\n",
       "    <tr>\n",
       "      <th>2</th>\n",
       "      <td>State FIPS Code</td>\n",
       "      <td>County FIPS Code</td>\n",
       "      <td>Postal Code</td>\n",
       "      <td>Name</td>\n",
       "      <td>Poverty Estimate, All Ages</td>\n",
       "      <td>90% CI Lower Bound</td>\n",
       "      <td>90% CI Upper Bound</td>\n",
       "      <td>Poverty Percent, All Ages</td>\n",
       "      <td>90% CI Lower Bound</td>\n",
       "      <td>90% CI Upper Bound</td>\n",
       "      <td>...</td>\n",
       "      <td>90% CI Upper Bound</td>\n",
       "      <td>Median Household Income</td>\n",
       "      <td>90% CI Lower Bound</td>\n",
       "      <td>90% CI Upper Bound</td>\n",
       "      <td>Poverty Estimate, Age 0-4</td>\n",
       "      <td>90% CI Lower Bound</td>\n",
       "      <td>90% CI Upper Bound</td>\n",
       "      <td>Poverty Percent, Age 0-4</td>\n",
       "      <td>90% CI Lower Bound</td>\n",
       "      <td>90% CI Upper Bound</td>\n",
       "    </tr>\n",
       "    <tr>\n",
       "      <th>3</th>\n",
       "      <td>00</td>\n",
       "      <td>000</td>\n",
       "      <td>US</td>\n",
       "      <td>United States</td>\n",
       "      <td>44,268,996</td>\n",
       "      <td>44,022,086</td>\n",
       "      <td>44,515,906</td>\n",
       "      <td>14.0</td>\n",
       "      <td>13.9</td>\n",
       "      <td>14.1</td>\n",
       "      <td>...</td>\n",
       "      <td>18.5</td>\n",
       "      <td>57,617</td>\n",
       "      <td>57,502</td>\n",
       "      <td>57,732</td>\n",
       "      <td>4,156,949</td>\n",
       "      <td>4,108,397</td>\n",
       "      <td>4,205,501</td>\n",
       "      <td>21.3</td>\n",
       "      <td>21.1</td>\n",
       "      <td>21.5</td>\n",
       "    </tr>\n",
       "    <tr>\n",
       "      <th>4</th>\n",
       "      <td>01</td>\n",
       "      <td>000</td>\n",
       "      <td>AL</td>\n",
       "      <td>Alabama</td>\n",
       "      <td>814,197</td>\n",
       "      <td>796,927</td>\n",
       "      <td>831,467</td>\n",
       "      <td>17.2</td>\n",
       "      <td>16.8</td>\n",
       "      <td>17.6</td>\n",
       "      <td>...</td>\n",
       "      <td>24.6</td>\n",
       "      <td>46,309</td>\n",
       "      <td>45,650</td>\n",
       "      <td>46,968</td>\n",
       "      <td>78,675</td>\n",
       "      <td>74,257</td>\n",
       "      <td>83,093</td>\n",
       "      <td>27.4</td>\n",
       "      <td>25.9</td>\n",
       "      <td>28.9</td>\n",
       "    </tr>\n",
       "  </tbody>\n",
       "</table>\n",
       "<p>5 rows × 31 columns</p>\n",
       "</div>"
      ],
      "text/plain": [
       "           Table with column headers in rows 3 and 4        Unnamed: 1  \\\n",
       "0  2016 Poverty and Median Household Income Estim...               NaN   \n",
       "1                             Geographic Information               NaN   \n",
       "2                                    State FIPS Code  County FIPS Code   \n",
       "3                                                 00               000   \n",
       "4                                                 01               000   \n",
       "\n",
       "    Unnamed: 2     Unnamed: 3                  Unnamed: 4          Unnamed: 5  \\\n",
       "0          NaN            NaN                         NaN                 NaN   \n",
       "1          NaN            NaN                    All Ages                 NaN   \n",
       "2  Postal Code           Name  Poverty Estimate, All Ages  90% CI Lower Bound   \n",
       "3           US  United States                  44,268,996          44,022,086   \n",
       "4           AL        Alabama                     814,197             796,927   \n",
       "\n",
       "           Unnamed: 6                 Unnamed: 7          Unnamed: 8  \\\n",
       "0                 NaN                        NaN                 NaN   \n",
       "1                 NaN                        NaN                 NaN   \n",
       "2  90% CI Upper Bound  Poverty Percent, All Ages  90% CI Lower Bound   \n",
       "3          44,515,906                       14.0                13.9   \n",
       "4             831,467                       17.2                16.8   \n",
       "\n",
       "           Unnamed: 9  ...         Unnamed: 21              Unnamed: 22  \\\n",
       "0                 NaN  ...                 NaN                      NaN   \n",
       "1                 NaN  ...                 NaN  Median Household Income   \n",
       "2  90% CI Upper Bound  ...  90% CI Upper Bound  Median Household Income   \n",
       "3                14.1  ...                18.5                   57,617   \n",
       "4                17.6  ...                24.6                   46,309   \n",
       "\n",
       "          Unnamed: 23         Unnamed: 24                Unnamed: 25  \\\n",
       "0                 NaN                 NaN                        NaN   \n",
       "1                 NaN                 NaN                    Age 0-4   \n",
       "2  90% CI Lower Bound  90% CI Upper Bound  Poverty Estimate, Age 0-4   \n",
       "3              57,502              57,732                  4,156,949   \n",
       "4              45,650              46,968                     78,675   \n",
       "\n",
       "          Unnamed: 26         Unnamed: 27               Unnamed: 28  \\\n",
       "0                 NaN                 NaN                       NaN   \n",
       "1                 NaN                 NaN                       NaN   \n",
       "2  90% CI Lower Bound  90% CI Upper Bound  Poverty Percent, Age 0-4   \n",
       "3           4,108,397           4,205,501                      21.3   \n",
       "4              74,257              83,093                      27.4   \n",
       "\n",
       "          Unnamed: 29         Unnamed: 30  \n",
       "0                 NaN                 NaN  \n",
       "1                 NaN                 NaN  \n",
       "2  90% CI Lower Bound  90% CI Upper Bound  \n",
       "3                21.1                21.5  \n",
       "4                25.9                28.9  \n",
       "\n",
       "[5 rows x 31 columns]"
      ]
     },
     "execution_count": 59,
     "metadata": {},
     "output_type": "execute_result"
    }
   ],
   "source": [
    "pov.head()"
   ]
  },
  {
   "cell_type": "code",
   "execution_count": 60,
   "id": "cb4cfd64-594b-4b25-b706-562c7bb7311c",
   "metadata": {},
   "outputs": [
    {
     "data": {
      "text/plain": [
       "Index(['Table with column headers in rows 3 and 4', 'Unnamed: 1', 'Unnamed: 2',\n",
       "       'Unnamed: 3', 'Unnamed: 4', 'Unnamed: 5', 'Unnamed: 6', 'Unnamed: 7',\n",
       "       'Unnamed: 8', 'Unnamed: 9', 'Unnamed: 10', 'Unnamed: 11', 'Unnamed: 12',\n",
       "       'Unnamed: 13', 'Unnamed: 14', 'Unnamed: 15', 'Unnamed: 16',\n",
       "       'Unnamed: 17', 'Unnamed: 18', 'Unnamed: 19', 'Unnamed: 20',\n",
       "       'Unnamed: 21', 'Unnamed: 22', 'Unnamed: 23', 'Unnamed: 24',\n",
       "       'Unnamed: 25', 'Unnamed: 26', 'Unnamed: 27', 'Unnamed: 28',\n",
       "       'Unnamed: 29', 'Unnamed: 30'],\n",
       "      dtype='object')"
      ]
     },
     "execution_count": 60,
     "metadata": {},
     "output_type": "execute_result"
    }
   ],
   "source": [
    "pov.columns"
   ]
  },
  {
   "cell_type": "code",
   "execution_count": 61,
   "id": "767b3a25-7be7-4650-a76f-5fc6419550d4",
   "metadata": {},
   "outputs": [],
   "source": [
    "pov.columns = pov.columns.str.replace(' ','',regex=True)"
   ]
  },
  {
   "cell_type": "code",
   "execution_count": 62,
   "id": "7081af08-e24d-453a-8c21-49f1963e720e",
   "metadata": {},
   "outputs": [
    {
     "data": {
      "text/plain": [
       "Index(['Tablewithcolumnheadersinrows3and4', 'Unnamed:1', 'Unnamed:2',\n",
       "       'Unnamed:3', 'Unnamed:4', 'Unnamed:5', 'Unnamed:6', 'Unnamed:7',\n",
       "       'Unnamed:8', 'Unnamed:9', 'Unnamed:10', 'Unnamed:11', 'Unnamed:12',\n",
       "       'Unnamed:13', 'Unnamed:14', 'Unnamed:15', 'Unnamed:16', 'Unnamed:17',\n",
       "       'Unnamed:18', 'Unnamed:19', 'Unnamed:20', 'Unnamed:21', 'Unnamed:22',\n",
       "       'Unnamed:23', 'Unnamed:24', 'Unnamed:25', 'Unnamed:26', 'Unnamed:27',\n",
       "       'Unnamed:28', 'Unnamed:29', 'Unnamed:30'],\n",
       "      dtype='object')"
      ]
     },
     "execution_count": 62,
     "metadata": {},
     "output_type": "execute_result"
    }
   ],
   "source": [
    "pov.columns"
   ]
  },
  {
   "cell_type": "code",
   "execution_count": 63,
   "id": "e6adc44c-2dbd-4c8c-a9d0-5adf2a9a41c9",
   "metadata": {},
   "outputs": [],
   "source": [
    "pov = pov.drop('Tablewithcolumnheadersinrows3and4',axis=1)"
   ]
  },
  {
   "cell_type": "code",
   "execution_count": 64,
   "id": "2018a369-9de6-4339-a0ec-6c5a21a57424",
   "metadata": {},
   "outputs": [
    {
     "data": {
      "text/html": [
       "<div>\n",
       "<style scoped>\n",
       "    .dataframe tbody tr th:only-of-type {\n",
       "        vertical-align: middle;\n",
       "    }\n",
       "\n",
       "    .dataframe tbody tr th {\n",
       "        vertical-align: top;\n",
       "    }\n",
       "\n",
       "    .dataframe thead th {\n",
       "        text-align: right;\n",
       "    }\n",
       "</style>\n",
       "<table border=\"1\" class=\"dataframe\">\n",
       "  <thead>\n",
       "    <tr style=\"text-align: right;\">\n",
       "      <th></th>\n",
       "      <th>Unnamed:1</th>\n",
       "      <th>Unnamed:2</th>\n",
       "      <th>Unnamed:3</th>\n",
       "      <th>Unnamed:4</th>\n",
       "      <th>Unnamed:5</th>\n",
       "      <th>Unnamed:6</th>\n",
       "      <th>Unnamed:7</th>\n",
       "      <th>Unnamed:8</th>\n",
       "      <th>Unnamed:9</th>\n",
       "      <th>Unnamed:10</th>\n",
       "      <th>...</th>\n",
       "      <th>Unnamed:21</th>\n",
       "      <th>Unnamed:22</th>\n",
       "      <th>Unnamed:23</th>\n",
       "      <th>Unnamed:24</th>\n",
       "      <th>Unnamed:25</th>\n",
       "      <th>Unnamed:26</th>\n",
       "      <th>Unnamed:27</th>\n",
       "      <th>Unnamed:28</th>\n",
       "      <th>Unnamed:29</th>\n",
       "      <th>Unnamed:30</th>\n",
       "    </tr>\n",
       "  </thead>\n",
       "  <tbody>\n",
       "    <tr>\n",
       "      <th>0</th>\n",
       "      <td>NaN</td>\n",
       "      <td>NaN</td>\n",
       "      <td>NaN</td>\n",
       "      <td>NaN</td>\n",
       "      <td>NaN</td>\n",
       "      <td>NaN</td>\n",
       "      <td>NaN</td>\n",
       "      <td>NaN</td>\n",
       "      <td>NaN</td>\n",
       "      <td>NaN</td>\n",
       "      <td>...</td>\n",
       "      <td>NaN</td>\n",
       "      <td>NaN</td>\n",
       "      <td>NaN</td>\n",
       "      <td>NaN</td>\n",
       "      <td>NaN</td>\n",
       "      <td>NaN</td>\n",
       "      <td>NaN</td>\n",
       "      <td>NaN</td>\n",
       "      <td>NaN</td>\n",
       "      <td>NaN</td>\n",
       "    </tr>\n",
       "    <tr>\n",
       "      <th>1</th>\n",
       "      <td>NaN</td>\n",
       "      <td>NaN</td>\n",
       "      <td>NaN</td>\n",
       "      <td>All Ages</td>\n",
       "      <td>NaN</td>\n",
       "      <td>NaN</td>\n",
       "      <td>NaN</td>\n",
       "      <td>NaN</td>\n",
       "      <td>NaN</td>\n",
       "      <td>Age 0-17</td>\n",
       "      <td>...</td>\n",
       "      <td>NaN</td>\n",
       "      <td>Median Household Income</td>\n",
       "      <td>NaN</td>\n",
       "      <td>NaN</td>\n",
       "      <td>Age 0-4</td>\n",
       "      <td>NaN</td>\n",
       "      <td>NaN</td>\n",
       "      <td>NaN</td>\n",
       "      <td>NaN</td>\n",
       "      <td>NaN</td>\n",
       "    </tr>\n",
       "    <tr>\n",
       "      <th>2</th>\n",
       "      <td>County FIPS Code</td>\n",
       "      <td>Postal Code</td>\n",
       "      <td>Name</td>\n",
       "      <td>Poverty Estimate, All Ages</td>\n",
       "      <td>90% CI Lower Bound</td>\n",
       "      <td>90% CI Upper Bound</td>\n",
       "      <td>Poverty Percent, All Ages</td>\n",
       "      <td>90% CI Lower Bound</td>\n",
       "      <td>90% CI Upper Bound</td>\n",
       "      <td>Poverty Estimate, Age 0-17</td>\n",
       "      <td>...</td>\n",
       "      <td>90% CI Upper Bound</td>\n",
       "      <td>Median Household Income</td>\n",
       "      <td>90% CI Lower Bound</td>\n",
       "      <td>90% CI Upper Bound</td>\n",
       "      <td>Poverty Estimate, Age 0-4</td>\n",
       "      <td>90% CI Lower Bound</td>\n",
       "      <td>90% CI Upper Bound</td>\n",
       "      <td>Poverty Percent, Age 0-4</td>\n",
       "      <td>90% CI Lower Bound</td>\n",
       "      <td>90% CI Upper Bound</td>\n",
       "    </tr>\n",
       "    <tr>\n",
       "      <th>3</th>\n",
       "      <td>000</td>\n",
       "      <td>US</td>\n",
       "      <td>United States</td>\n",
       "      <td>44,268,996</td>\n",
       "      <td>44,022,086</td>\n",
       "      <td>44,515,906</td>\n",
       "      <td>14.0</td>\n",
       "      <td>13.9</td>\n",
       "      <td>14.1</td>\n",
       "      <td>14,115,713</td>\n",
       "      <td>...</td>\n",
       "      <td>18.5</td>\n",
       "      <td>57,617</td>\n",
       "      <td>57,502</td>\n",
       "      <td>57,732</td>\n",
       "      <td>4,156,949</td>\n",
       "      <td>4,108,397</td>\n",
       "      <td>4,205,501</td>\n",
       "      <td>21.3</td>\n",
       "      <td>21.1</td>\n",
       "      <td>21.5</td>\n",
       "    </tr>\n",
       "    <tr>\n",
       "      <th>4</th>\n",
       "      <td>000</td>\n",
       "      <td>AL</td>\n",
       "      <td>Alabama</td>\n",
       "      <td>814,197</td>\n",
       "      <td>796,927</td>\n",
       "      <td>831,467</td>\n",
       "      <td>17.2</td>\n",
       "      <td>16.8</td>\n",
       "      <td>17.6</td>\n",
       "      <td>267,674</td>\n",
       "      <td>...</td>\n",
       "      <td>24.6</td>\n",
       "      <td>46,309</td>\n",
       "      <td>45,650</td>\n",
       "      <td>46,968</td>\n",
       "      <td>78,675</td>\n",
       "      <td>74,257</td>\n",
       "      <td>83,093</td>\n",
       "      <td>27.4</td>\n",
       "      <td>25.9</td>\n",
       "      <td>28.9</td>\n",
       "    </tr>\n",
       "  </tbody>\n",
       "</table>\n",
       "<p>5 rows × 30 columns</p>\n",
       "</div>"
      ],
      "text/plain": [
       "          Unnamed:1    Unnamed:2      Unnamed:3                   Unnamed:4  \\\n",
       "0               NaN          NaN            NaN                         NaN   \n",
       "1               NaN          NaN            NaN                    All Ages   \n",
       "2  County FIPS Code  Postal Code           Name  Poverty Estimate, All Ages   \n",
       "3               000           US  United States                  44,268,996   \n",
       "4               000           AL        Alabama                     814,197   \n",
       "\n",
       "            Unnamed:5           Unnamed:6                  Unnamed:7  \\\n",
       "0                 NaN                 NaN                        NaN   \n",
       "1                 NaN                 NaN                        NaN   \n",
       "2  90% CI Lower Bound  90% CI Upper Bound  Poverty Percent, All Ages   \n",
       "3          44,022,086          44,515,906                       14.0   \n",
       "4             796,927             831,467                       17.2   \n",
       "\n",
       "            Unnamed:8           Unnamed:9                  Unnamed:10  ...  \\\n",
       "0                 NaN                 NaN                         NaN  ...   \n",
       "1                 NaN                 NaN                    Age 0-17  ...   \n",
       "2  90% CI Lower Bound  90% CI Upper Bound  Poverty Estimate, Age 0-17  ...   \n",
       "3                13.9                14.1                  14,115,713  ...   \n",
       "4                16.8                17.6                     267,674  ...   \n",
       "\n",
       "           Unnamed:21               Unnamed:22          Unnamed:23  \\\n",
       "0                 NaN                      NaN                 NaN   \n",
       "1                 NaN  Median Household Income                 NaN   \n",
       "2  90% CI Upper Bound  Median Household Income  90% CI Lower Bound   \n",
       "3                18.5                   57,617              57,502   \n",
       "4                24.6                   46,309              45,650   \n",
       "\n",
       "           Unnamed:24                 Unnamed:25          Unnamed:26  \\\n",
       "0                 NaN                        NaN                 NaN   \n",
       "1                 NaN                    Age 0-4                 NaN   \n",
       "2  90% CI Upper Bound  Poverty Estimate, Age 0-4  90% CI Lower Bound   \n",
       "3              57,732                  4,156,949           4,108,397   \n",
       "4              46,968                     78,675              74,257   \n",
       "\n",
       "           Unnamed:27                Unnamed:28          Unnamed:29  \\\n",
       "0                 NaN                       NaN                 NaN   \n",
       "1                 NaN                       NaN                 NaN   \n",
       "2  90% CI Upper Bound  Poverty Percent, Age 0-4  90% CI Lower Bound   \n",
       "3           4,205,501                      21.3                21.1   \n",
       "4              83,093                      27.4                25.9   \n",
       "\n",
       "           Unnamed:30  \n",
       "0                 NaN  \n",
       "1                 NaN  \n",
       "2  90% CI Upper Bound  \n",
       "3                21.5  \n",
       "4                28.9  \n",
       "\n",
       "[5 rows x 30 columns]"
      ]
     },
     "execution_count": 64,
     "metadata": {},
     "output_type": "execute_result"
    }
   ],
   "source": [
    "pov.head()"
   ]
  },
  {
   "cell_type": "code",
   "execution_count": 65,
   "id": "e85e448f-0581-47a5-8f2c-6f08725e288d",
   "metadata": {},
   "outputs": [],
   "source": [
    "pov = pov.drop([0,1])"
   ]
  },
  {
   "cell_type": "code",
   "execution_count": 66,
   "id": "af62c9bd-ea89-4ae0-951f-5e0beaa46f5c",
   "metadata": {},
   "outputs": [
    {
     "data": {
      "text/html": [
       "<div>\n",
       "<style scoped>\n",
       "    .dataframe tbody tr th:only-of-type {\n",
       "        vertical-align: middle;\n",
       "    }\n",
       "\n",
       "    .dataframe tbody tr th {\n",
       "        vertical-align: top;\n",
       "    }\n",
       "\n",
       "    .dataframe thead th {\n",
       "        text-align: right;\n",
       "    }\n",
       "</style>\n",
       "<table border=\"1\" class=\"dataframe\">\n",
       "  <thead>\n",
       "    <tr style=\"text-align: right;\">\n",
       "      <th></th>\n",
       "      <th>Unnamed:1</th>\n",
       "      <th>Unnamed:2</th>\n",
       "      <th>Unnamed:3</th>\n",
       "      <th>Unnamed:4</th>\n",
       "      <th>Unnamed:5</th>\n",
       "      <th>Unnamed:6</th>\n",
       "      <th>Unnamed:7</th>\n",
       "      <th>Unnamed:8</th>\n",
       "      <th>Unnamed:9</th>\n",
       "      <th>Unnamed:10</th>\n",
       "      <th>...</th>\n",
       "      <th>Unnamed:21</th>\n",
       "      <th>Unnamed:22</th>\n",
       "      <th>Unnamed:23</th>\n",
       "      <th>Unnamed:24</th>\n",
       "      <th>Unnamed:25</th>\n",
       "      <th>Unnamed:26</th>\n",
       "      <th>Unnamed:27</th>\n",
       "      <th>Unnamed:28</th>\n",
       "      <th>Unnamed:29</th>\n",
       "      <th>Unnamed:30</th>\n",
       "    </tr>\n",
       "  </thead>\n",
       "  <tbody>\n",
       "    <tr>\n",
       "      <th>2</th>\n",
       "      <td>County FIPS Code</td>\n",
       "      <td>Postal Code</td>\n",
       "      <td>Name</td>\n",
       "      <td>Poverty Estimate, All Ages</td>\n",
       "      <td>90% CI Lower Bound</td>\n",
       "      <td>90% CI Upper Bound</td>\n",
       "      <td>Poverty Percent, All Ages</td>\n",
       "      <td>90% CI Lower Bound</td>\n",
       "      <td>90% CI Upper Bound</td>\n",
       "      <td>Poverty Estimate, Age 0-17</td>\n",
       "      <td>...</td>\n",
       "      <td>90% CI Upper Bound</td>\n",
       "      <td>Median Household Income</td>\n",
       "      <td>90% CI Lower Bound</td>\n",
       "      <td>90% CI Upper Bound</td>\n",
       "      <td>Poverty Estimate, Age 0-4</td>\n",
       "      <td>90% CI Lower Bound</td>\n",
       "      <td>90% CI Upper Bound</td>\n",
       "      <td>Poverty Percent, Age 0-4</td>\n",
       "      <td>90% CI Lower Bound</td>\n",
       "      <td>90% CI Upper Bound</td>\n",
       "    </tr>\n",
       "    <tr>\n",
       "      <th>3</th>\n",
       "      <td>000</td>\n",
       "      <td>US</td>\n",
       "      <td>United States</td>\n",
       "      <td>44,268,996</td>\n",
       "      <td>44,022,086</td>\n",
       "      <td>44,515,906</td>\n",
       "      <td>14.0</td>\n",
       "      <td>13.9</td>\n",
       "      <td>14.1</td>\n",
       "      <td>14,115,713</td>\n",
       "      <td>...</td>\n",
       "      <td>18.5</td>\n",
       "      <td>57,617</td>\n",
       "      <td>57,502</td>\n",
       "      <td>57,732</td>\n",
       "      <td>4,156,949</td>\n",
       "      <td>4,108,397</td>\n",
       "      <td>4,205,501</td>\n",
       "      <td>21.3</td>\n",
       "      <td>21.1</td>\n",
       "      <td>21.5</td>\n",
       "    </tr>\n",
       "    <tr>\n",
       "      <th>4</th>\n",
       "      <td>000</td>\n",
       "      <td>AL</td>\n",
       "      <td>Alabama</td>\n",
       "      <td>814,197</td>\n",
       "      <td>796,927</td>\n",
       "      <td>831,467</td>\n",
       "      <td>17.2</td>\n",
       "      <td>16.8</td>\n",
       "      <td>17.6</td>\n",
       "      <td>267,674</td>\n",
       "      <td>...</td>\n",
       "      <td>24.6</td>\n",
       "      <td>46,309</td>\n",
       "      <td>45,650</td>\n",
       "      <td>46,968</td>\n",
       "      <td>78,675</td>\n",
       "      <td>74,257</td>\n",
       "      <td>83,093</td>\n",
       "      <td>27.4</td>\n",
       "      <td>25.9</td>\n",
       "      <td>28.9</td>\n",
       "    </tr>\n",
       "    <tr>\n",
       "      <th>5</th>\n",
       "      <td>001</td>\n",
       "      <td>AL</td>\n",
       "      <td>Autauga County</td>\n",
       "      <td>7,444</td>\n",
       "      <td>6,255</td>\n",
       "      <td>8,633</td>\n",
       "      <td>13.5</td>\n",
       "      <td>11.3</td>\n",
       "      <td>15.7</td>\n",
       "      <td>2,588</td>\n",
       "      <td>...</td>\n",
       "      <td>22.0</td>\n",
       "      <td>54,487</td>\n",
       "      <td>50,886</td>\n",
       "      <td>58,088</td>\n",
       "      <td>.</td>\n",
       "      <td>.</td>\n",
       "      <td>.</td>\n",
       "      <td>.</td>\n",
       "      <td>.</td>\n",
       "      <td>.</td>\n",
       "    </tr>\n",
       "    <tr>\n",
       "      <th>6</th>\n",
       "      <td>003</td>\n",
       "      <td>AL</td>\n",
       "      <td>Baldwin County</td>\n",
       "      <td>24,005</td>\n",
       "      <td>20,132</td>\n",
       "      <td>27,878</td>\n",
       "      <td>11.7</td>\n",
       "      <td>9.8</td>\n",
       "      <td>13.6</td>\n",
       "      <td>7,881</td>\n",
       "      <td>...</td>\n",
       "      <td>20.4</td>\n",
       "      <td>56,460</td>\n",
       "      <td>53,250</td>\n",
       "      <td>59,670</td>\n",
       "      <td>.</td>\n",
       "      <td>.</td>\n",
       "      <td>.</td>\n",
       "      <td>.</td>\n",
       "      <td>.</td>\n",
       "      <td>.</td>\n",
       "    </tr>\n",
       "  </tbody>\n",
       "</table>\n",
       "<p>5 rows × 30 columns</p>\n",
       "</div>"
      ],
      "text/plain": [
       "          Unnamed:1    Unnamed:2       Unnamed:3                   Unnamed:4  \\\n",
       "2  County FIPS Code  Postal Code            Name  Poverty Estimate, All Ages   \n",
       "3               000           US   United States                  44,268,996   \n",
       "4               000           AL         Alabama                     814,197   \n",
       "5               001           AL  Autauga County                       7,444   \n",
       "6               003           AL  Baldwin County                      24,005   \n",
       "\n",
       "            Unnamed:5           Unnamed:6                  Unnamed:7  \\\n",
       "2  90% CI Lower Bound  90% CI Upper Bound  Poverty Percent, All Ages   \n",
       "3          44,022,086          44,515,906                       14.0   \n",
       "4             796,927             831,467                       17.2   \n",
       "5               6,255               8,633                       13.5   \n",
       "6              20,132              27,878                       11.7   \n",
       "\n",
       "            Unnamed:8           Unnamed:9                  Unnamed:10  ...  \\\n",
       "2  90% CI Lower Bound  90% CI Upper Bound  Poverty Estimate, Age 0-17  ...   \n",
       "3                13.9                14.1                  14,115,713  ...   \n",
       "4                16.8                17.6                     267,674  ...   \n",
       "5                11.3                15.7                       2,588  ...   \n",
       "6                 9.8                13.6                       7,881  ...   \n",
       "\n",
       "           Unnamed:21               Unnamed:22          Unnamed:23  \\\n",
       "2  90% CI Upper Bound  Median Household Income  90% CI Lower Bound   \n",
       "3                18.5                   57,617              57,502   \n",
       "4                24.6                   46,309              45,650   \n",
       "5                22.0                   54,487              50,886   \n",
       "6                20.4                   56,460              53,250   \n",
       "\n",
       "           Unnamed:24                 Unnamed:25          Unnamed:26  \\\n",
       "2  90% CI Upper Bound  Poverty Estimate, Age 0-4  90% CI Lower Bound   \n",
       "3              57,732                  4,156,949           4,108,397   \n",
       "4              46,968                     78,675              74,257   \n",
       "5              58,088                          .                   .   \n",
       "6              59,670                          .                   .   \n",
       "\n",
       "           Unnamed:27                Unnamed:28          Unnamed:29  \\\n",
       "2  90% CI Upper Bound  Poverty Percent, Age 0-4  90% CI Lower Bound   \n",
       "3           4,205,501                      21.3                21.1   \n",
       "4              83,093                      27.4                25.9   \n",
       "5                   .                         .                   .   \n",
       "6                   .                         .                   .   \n",
       "\n",
       "           Unnamed:30  \n",
       "2  90% CI Upper Bound  \n",
       "3                21.5  \n",
       "4                28.9  \n",
       "5                   .  \n",
       "6                   .  \n",
       "\n",
       "[5 rows x 30 columns]"
      ]
     },
     "execution_count": 66,
     "metadata": {},
     "output_type": "execute_result"
    }
   ],
   "source": [
    "pov.head()"
   ]
  },
  {
   "cell_type": "code",
   "execution_count": 67,
   "id": "2c7631a9-758e-49e2-b622-1b541d7c04b8",
   "metadata": {},
   "outputs": [],
   "source": [
    "pov = pov.rename(columns=pov.iloc[0])"
   ]
  },
  {
   "cell_type": "code",
   "execution_count": 68,
   "id": "7042f33e-7f64-476d-b0d9-cd496b5169b1",
   "metadata": {},
   "outputs": [],
   "source": [
    "pov = pov.drop([2])"
   ]
  },
  {
   "cell_type": "code",
   "execution_count": 69,
   "id": "b64351f0-3ebf-4c3d-8305-9da31b746af2",
   "metadata": {},
   "outputs": [
    {
     "data": {
      "text/html": [
       "<div>\n",
       "<style scoped>\n",
       "    .dataframe tbody tr th:only-of-type {\n",
       "        vertical-align: middle;\n",
       "    }\n",
       "\n",
       "    .dataframe tbody tr th {\n",
       "        vertical-align: top;\n",
       "    }\n",
       "\n",
       "    .dataframe thead th {\n",
       "        text-align: right;\n",
       "    }\n",
       "</style>\n",
       "<table border=\"1\" class=\"dataframe\">\n",
       "  <thead>\n",
       "    <tr style=\"text-align: right;\">\n",
       "      <th></th>\n",
       "      <th>County FIPS Code</th>\n",
       "      <th>Postal Code</th>\n",
       "      <th>Name</th>\n",
       "      <th>Poverty Estimate, All Ages</th>\n",
       "      <th>90% CI Lower Bound</th>\n",
       "      <th>90% CI Upper Bound</th>\n",
       "      <th>Poverty Percent, All Ages</th>\n",
       "      <th>90% CI Lower Bound</th>\n",
       "      <th>90% CI Upper Bound</th>\n",
       "      <th>Poverty Estimate, Age 0-17</th>\n",
       "      <th>...</th>\n",
       "      <th>90% CI Upper Bound</th>\n",
       "      <th>Median Household Income</th>\n",
       "      <th>90% CI Lower Bound</th>\n",
       "      <th>90% CI Upper Bound</th>\n",
       "      <th>Poverty Estimate, Age 0-4</th>\n",
       "      <th>90% CI Lower Bound</th>\n",
       "      <th>90% CI Upper Bound</th>\n",
       "      <th>Poverty Percent, Age 0-4</th>\n",
       "      <th>90% CI Lower Bound</th>\n",
       "      <th>90% CI Upper Bound</th>\n",
       "    </tr>\n",
       "  </thead>\n",
       "  <tbody>\n",
       "    <tr>\n",
       "      <th>3</th>\n",
       "      <td>000</td>\n",
       "      <td>US</td>\n",
       "      <td>United States</td>\n",
       "      <td>44,268,996</td>\n",
       "      <td>44,022,086</td>\n",
       "      <td>44,515,906</td>\n",
       "      <td>14.0</td>\n",
       "      <td>13.9</td>\n",
       "      <td>14.1</td>\n",
       "      <td>14,115,713</td>\n",
       "      <td>...</td>\n",
       "      <td>18.5</td>\n",
       "      <td>57,617</td>\n",
       "      <td>57,502</td>\n",
       "      <td>57,732</td>\n",
       "      <td>4,156,949</td>\n",
       "      <td>4,108,397</td>\n",
       "      <td>4,205,501</td>\n",
       "      <td>21.3</td>\n",
       "      <td>21.1</td>\n",
       "      <td>21.5</td>\n",
       "    </tr>\n",
       "    <tr>\n",
       "      <th>4</th>\n",
       "      <td>000</td>\n",
       "      <td>AL</td>\n",
       "      <td>Alabama</td>\n",
       "      <td>814,197</td>\n",
       "      <td>796,927</td>\n",
       "      <td>831,467</td>\n",
       "      <td>17.2</td>\n",
       "      <td>16.8</td>\n",
       "      <td>17.6</td>\n",
       "      <td>267,674</td>\n",
       "      <td>...</td>\n",
       "      <td>24.6</td>\n",
       "      <td>46,309</td>\n",
       "      <td>45,650</td>\n",
       "      <td>46,968</td>\n",
       "      <td>78,675</td>\n",
       "      <td>74,257</td>\n",
       "      <td>83,093</td>\n",
       "      <td>27.4</td>\n",
       "      <td>25.9</td>\n",
       "      <td>28.9</td>\n",
       "    </tr>\n",
       "    <tr>\n",
       "      <th>5</th>\n",
       "      <td>001</td>\n",
       "      <td>AL</td>\n",
       "      <td>Autauga County</td>\n",
       "      <td>7,444</td>\n",
       "      <td>6,255</td>\n",
       "      <td>8,633</td>\n",
       "      <td>13.5</td>\n",
       "      <td>11.3</td>\n",
       "      <td>15.7</td>\n",
       "      <td>2,588</td>\n",
       "      <td>...</td>\n",
       "      <td>22.0</td>\n",
       "      <td>54,487</td>\n",
       "      <td>50,886</td>\n",
       "      <td>58,088</td>\n",
       "      <td>.</td>\n",
       "      <td>.</td>\n",
       "      <td>.</td>\n",
       "      <td>.</td>\n",
       "      <td>.</td>\n",
       "      <td>.</td>\n",
       "    </tr>\n",
       "    <tr>\n",
       "      <th>6</th>\n",
       "      <td>003</td>\n",
       "      <td>AL</td>\n",
       "      <td>Baldwin County</td>\n",
       "      <td>24,005</td>\n",
       "      <td>20,132</td>\n",
       "      <td>27,878</td>\n",
       "      <td>11.7</td>\n",
       "      <td>9.8</td>\n",
       "      <td>13.6</td>\n",
       "      <td>7,881</td>\n",
       "      <td>...</td>\n",
       "      <td>20.4</td>\n",
       "      <td>56,460</td>\n",
       "      <td>53,250</td>\n",
       "      <td>59,670</td>\n",
       "      <td>.</td>\n",
       "      <td>.</td>\n",
       "      <td>.</td>\n",
       "      <td>.</td>\n",
       "      <td>.</td>\n",
       "      <td>.</td>\n",
       "    </tr>\n",
       "    <tr>\n",
       "      <th>7</th>\n",
       "      <td>005</td>\n",
       "      <td>AL</td>\n",
       "      <td>Barbour County</td>\n",
       "      <td>6,787</td>\n",
       "      <td>5,551</td>\n",
       "      <td>8,023</td>\n",
       "      <td>29.9</td>\n",
       "      <td>24.5</td>\n",
       "      <td>35.3</td>\n",
       "      <td>2,146</td>\n",
       "      <td>...</td>\n",
       "      <td>45.2</td>\n",
       "      <td>32,884</td>\n",
       "      <td>29,684</td>\n",
       "      <td>36,084</td>\n",
       "      <td>.</td>\n",
       "      <td>.</td>\n",
       "      <td>.</td>\n",
       "      <td>.</td>\n",
       "      <td>.</td>\n",
       "      <td>.</td>\n",
       "    </tr>\n",
       "  </tbody>\n",
       "</table>\n",
       "<p>5 rows × 30 columns</p>\n",
       "</div>"
      ],
      "text/plain": [
       "  County FIPS Code Postal Code            Name Poverty Estimate, All Ages  \\\n",
       "3              000          US   United States                 44,268,996   \n",
       "4              000          AL         Alabama                    814,197   \n",
       "5              001          AL  Autauga County                      7,444   \n",
       "6              003          AL  Baldwin County                     24,005   \n",
       "7              005          AL  Barbour County                      6,787   \n",
       "\n",
       "  90% CI Lower Bound 90% CI Upper Bound Poverty Percent, All Ages  \\\n",
       "3         44,022,086         44,515,906                      14.0   \n",
       "4            796,927            831,467                      17.2   \n",
       "5              6,255              8,633                      13.5   \n",
       "6             20,132             27,878                      11.7   \n",
       "7              5,551              8,023                      29.9   \n",
       "\n",
       "  90% CI Lower Bound 90% CI Upper Bound Poverty Estimate, Age 0-17  ...  \\\n",
       "3               13.9               14.1                 14,115,713  ...   \n",
       "4               16.8               17.6                    267,674  ...   \n",
       "5               11.3               15.7                      2,588  ...   \n",
       "6                9.8               13.6                      7,881  ...   \n",
       "7               24.5               35.3                      2,146  ...   \n",
       "\n",
       "  90% CI Upper Bound Median Household Income 90% CI Lower Bound  \\\n",
       "3               18.5                  57,617             57,502   \n",
       "4               24.6                  46,309             45,650   \n",
       "5               22.0                  54,487             50,886   \n",
       "6               20.4                  56,460             53,250   \n",
       "7               45.2                  32,884             29,684   \n",
       "\n",
       "  90% CI Upper Bound Poverty Estimate, Age 0-4 90% CI Lower Bound  \\\n",
       "3             57,732                 4,156,949          4,108,397   \n",
       "4             46,968                    78,675             74,257   \n",
       "5             58,088                         .                  .   \n",
       "6             59,670                         .                  .   \n",
       "7             36,084                         .                  .   \n",
       "\n",
       "  90% CI Upper Bound Poverty Percent, Age 0-4 90% CI Lower Bound  \\\n",
       "3          4,205,501                     21.3               21.1   \n",
       "4             83,093                     27.4               25.9   \n",
       "5                  .                        .                  .   \n",
       "6                  .                        .                  .   \n",
       "7                  .                        .                  .   \n",
       "\n",
       "  90% CI Upper Bound  \n",
       "3               21.5  \n",
       "4               28.9  \n",
       "5                  .  \n",
       "6                  .  \n",
       "7                  .  \n",
       "\n",
       "[5 rows x 30 columns]"
      ]
     },
     "execution_count": 69,
     "metadata": {},
     "output_type": "execute_result"
    }
   ],
   "source": [
    "pov.head()"
   ]
  },
  {
   "cell_type": "code",
   "execution_count": 73,
   "id": "01b246e0-b1d0-43f1-858b-00813d69234d",
   "metadata": {},
   "outputs": [],
   "source": [
    "pov.columns = pov.columns.str.replace(' ', '',regex=True)\n",
    "pov.columns = pov.columns.str.replace('%', 'percent',regex=True)\n",
    "#pov.columns = pov.columns.str.replace(',', '',regex=True)"
   ]
  },
  {
   "cell_type": "code",
   "execution_count": 74,
   "id": "62bdfbb7-9d45-4fd5-b0e2-4a5b52031a8d",
   "metadata": {},
   "outputs": [
    {
     "data": {
      "text/plain": [
       "Index(['CountyFIPSCode', 'PostalCode', 'Name', 'PovertyEstimateAllAges',\n",
       "       '90percentCILowerBound', '90percentCIUpperBound',\n",
       "       'PovertyPercentAllAges', '90percentCILowerBound',\n",
       "       '90percentCIUpperBound', 'PovertyEstimateAge0-17',\n",
       "       '90percentCILowerBound', '90percentCIUpperBound',\n",
       "       'PovertyPercentAge0-17', '90percentCILowerBound',\n",
       "       '90percentCIUpperBound', 'PovertyEstimateAge5-17inFamilies',\n",
       "       '90percentCILowerBound', '90percentCIUpperBound',\n",
       "       'PovertyPercentAge5-17inFamilies', '90percentCILowerBound',\n",
       "       '90percentCIUpperBound', 'MedianHouseholdIncome',\n",
       "       '90percentCILowerBound', '90percentCIUpperBound',\n",
       "       'PovertyEstimateAge0-4', '90percentCILowerBound',\n",
       "       '90percentCIUpperBound', 'PovertyPercentAge0-4',\n",
       "       '90percentCILowerBound', '90percentCIUpperBound'],\n",
       "      dtype='object')"
      ]
     },
     "execution_count": 74,
     "metadata": {},
     "output_type": "execute_result"
    }
   ],
   "source": [
    "pov.columns"
   ]
  },
  {
   "cell_type": "code",
   "execution_count": 75,
   "id": "39d7b663-d7ad-41b4-9514-a09204313ff6",
   "metadata": {},
   "outputs": [
    {
     "ename": "KeyError",
     "evalue": "\"['90percentCILowerBound' '90percentCIUpperBound' 'PovertyPercent,AllAges'\\n '90percentCILowerBound' '90percentCIUpperBound' 'PovertyEstimate,Age0-17'\\n '90percentCILowerBound' '90percentCIUpperBound' 'PovertyPercent,Age0-17'\\n '90percentCILowerBound' '90percentCIUpperBound'\\n 'PovertyEstimate,Age5-17inFamilies' '90percentCILowerBound'\\n '90percentCIUpperBound' 'PovertyPercent,Age5-17inFamilies'\\n '90percentCILowerBound' '90percentCIUpperBound' '90percentCILowerBound'\\n '90percentCIUpperBound' 'PovertyEstimate,Age0-4' '90percentCILowerBound'\\n '90percentCIUpperBound' 'PovertyPercent,Age0-4' '90percentCILowerBound'\\n '90percentCIUpperBound'] not found in axis\"",
     "output_type": "error",
     "traceback": [
      "\u001b[0;31m---------------------------------------------------------------------------\u001b[0m",
      "\u001b[0;31mKeyError\u001b[0m                                  Traceback (most recent call last)",
      "\u001b[0;32m/var/folders/d7/365gnrk10q72fy9l9_q_hft80000gn/T/ipykernel_72199/3517666415.py\u001b[0m in \u001b[0;36m?\u001b[0;34m()\u001b[0m\n\u001b[1;32m      9\u001b[0m        \u001b[0;34m'90percentCIUpperBound'\u001b[0m\u001b[0;34m,\u001b[0m\u001b[0;34m'90percentCILowerBound'\u001b[0m\u001b[0;34m,\u001b[0m \u001b[0;34m'90percentCIUpperBound'\u001b[0m\u001b[0;34m,\u001b[0m\u001b[0;34m\u001b[0m\u001b[0;34m\u001b[0m\u001b[0m\n\u001b[1;32m     10\u001b[0m        \u001b[0;34m'PovertyEstimate,Age0-4'\u001b[0m\u001b[0;34m,\u001b[0m \u001b[0;34m'90percentCILowerBound'\u001b[0m\u001b[0;34m,\u001b[0m\u001b[0;34m\u001b[0m\u001b[0;34m\u001b[0m\u001b[0m\n\u001b[1;32m     11\u001b[0m        \u001b[0;34m'90percentCIUpperBound'\u001b[0m\u001b[0;34m,\u001b[0m \u001b[0;34m'PovertyPercent,Age0-4'\u001b[0m\u001b[0;34m,\u001b[0m\u001b[0;34m\u001b[0m\u001b[0;34m\u001b[0m\u001b[0m\n\u001b[1;32m     12\u001b[0m        '90percentCILowerBound', '90percentCIUpperBound']\n\u001b[0;32m---> 13\u001b[0;31m \u001b[0mpov\u001b[0m \u001b[0;34m=\u001b[0m \u001b[0mpov\u001b[0m\u001b[0;34m.\u001b[0m\u001b[0mdrop\u001b[0m\u001b[0;34m(\u001b[0m\u001b[0mtodrop\u001b[0m\u001b[0;34m,\u001b[0m \u001b[0maxis\u001b[0m\u001b[0;34m=\u001b[0m\u001b[0;36m1\u001b[0m\u001b[0;34m)\u001b[0m\u001b[0;34m\u001b[0m\u001b[0;34m\u001b[0m\u001b[0m\n\u001b[0m",
      "\u001b[0;32m~/anaconda3/lib/python3.11/site-packages/pandas/core/frame.py\u001b[0m in \u001b[0;36m?\u001b[0;34m(self, labels, axis, index, columns, level, inplace, errors)\u001b[0m\n\u001b[1;32m   5254\u001b[0m                 \u001b[0mweight\u001b[0m  \u001b[0;36m250.0\u001b[0m   \u001b[0;36m150.0\u001b[0m\u001b[0;34m\u001b[0m\u001b[0;34m\u001b[0m\u001b[0m\n\u001b[1;32m   5255\u001b[0m         \u001b[0mfalcon\u001b[0m  \u001b[0mspeed\u001b[0m   \u001b[0;36m320.0\u001b[0m   \u001b[0;36m250.0\u001b[0m\u001b[0;34m\u001b[0m\u001b[0;34m\u001b[0m\u001b[0m\n\u001b[1;32m   5256\u001b[0m                 \u001b[0mweight\u001b[0m  \u001b[0;36m1.0\u001b[0m     \u001b[0;36m0.8\u001b[0m\u001b[0;34m\u001b[0m\u001b[0;34m\u001b[0m\u001b[0m\n\u001b[1;32m   5257\u001b[0m         \"\"\"\n\u001b[0;32m-> 5258\u001b[0;31m         return super().drop(\n\u001b[0m\u001b[1;32m   5259\u001b[0m             \u001b[0mlabels\u001b[0m\u001b[0;34m=\u001b[0m\u001b[0mlabels\u001b[0m\u001b[0;34m,\u001b[0m\u001b[0;34m\u001b[0m\u001b[0;34m\u001b[0m\u001b[0m\n\u001b[1;32m   5260\u001b[0m             \u001b[0maxis\u001b[0m\u001b[0;34m=\u001b[0m\u001b[0maxis\u001b[0m\u001b[0;34m,\u001b[0m\u001b[0;34m\u001b[0m\u001b[0;34m\u001b[0m\u001b[0m\n\u001b[1;32m   5261\u001b[0m             \u001b[0mindex\u001b[0m\u001b[0;34m=\u001b[0m\u001b[0mindex\u001b[0m\u001b[0;34m,\u001b[0m\u001b[0;34m\u001b[0m\u001b[0;34m\u001b[0m\u001b[0m\n",
      "\u001b[0;32m~/anaconda3/lib/python3.11/site-packages/pandas/core/generic.py\u001b[0m in \u001b[0;36m?\u001b[0;34m(self, labels, axis, index, columns, level, inplace, errors)\u001b[0m\n\u001b[1;32m   4545\u001b[0m         \u001b[0mobj\u001b[0m \u001b[0;34m=\u001b[0m \u001b[0mself\u001b[0m\u001b[0;34m\u001b[0m\u001b[0;34m\u001b[0m\u001b[0m\n\u001b[1;32m   4546\u001b[0m \u001b[0;34m\u001b[0m\u001b[0m\n\u001b[1;32m   4547\u001b[0m         \u001b[0;32mfor\u001b[0m \u001b[0maxis\u001b[0m\u001b[0;34m,\u001b[0m \u001b[0mlabels\u001b[0m \u001b[0;32min\u001b[0m \u001b[0maxes\u001b[0m\u001b[0;34m.\u001b[0m\u001b[0mitems\u001b[0m\u001b[0;34m(\u001b[0m\u001b[0;34m)\u001b[0m\u001b[0;34m:\u001b[0m\u001b[0;34m\u001b[0m\u001b[0;34m\u001b[0m\u001b[0m\n\u001b[1;32m   4548\u001b[0m             \u001b[0;32mif\u001b[0m \u001b[0mlabels\u001b[0m \u001b[0;32mis\u001b[0m \u001b[0;32mnot\u001b[0m \u001b[0;32mNone\u001b[0m\u001b[0;34m:\u001b[0m\u001b[0;34m\u001b[0m\u001b[0;34m\u001b[0m\u001b[0m\n\u001b[0;32m-> 4549\u001b[0;31m                 \u001b[0mobj\u001b[0m \u001b[0;34m=\u001b[0m \u001b[0mobj\u001b[0m\u001b[0;34m.\u001b[0m\u001b[0m_drop_axis\u001b[0m\u001b[0;34m(\u001b[0m\u001b[0mlabels\u001b[0m\u001b[0;34m,\u001b[0m \u001b[0maxis\u001b[0m\u001b[0;34m,\u001b[0m \u001b[0mlevel\u001b[0m\u001b[0;34m=\u001b[0m\u001b[0mlevel\u001b[0m\u001b[0;34m,\u001b[0m \u001b[0merrors\u001b[0m\u001b[0;34m=\u001b[0m\u001b[0merrors\u001b[0m\u001b[0;34m)\u001b[0m\u001b[0;34m\u001b[0m\u001b[0;34m\u001b[0m\u001b[0m\n\u001b[0m\u001b[1;32m   4550\u001b[0m \u001b[0;34m\u001b[0m\u001b[0m\n\u001b[1;32m   4551\u001b[0m         \u001b[0;32mif\u001b[0m \u001b[0minplace\u001b[0m\u001b[0;34m:\u001b[0m\u001b[0;34m\u001b[0m\u001b[0;34m\u001b[0m\u001b[0m\n\u001b[1;32m   4552\u001b[0m             \u001b[0mself\u001b[0m\u001b[0;34m.\u001b[0m\u001b[0m_update_inplace\u001b[0m\u001b[0;34m(\u001b[0m\u001b[0mobj\u001b[0m\u001b[0;34m)\u001b[0m\u001b[0;34m\u001b[0m\u001b[0;34m\u001b[0m\u001b[0m\n",
      "\u001b[0;32m~/anaconda3/lib/python3.11/site-packages/pandas/core/generic.py\u001b[0m in \u001b[0;36m?\u001b[0;34m(self, labels, axis, level, errors, only_slice)\u001b[0m\n\u001b[1;32m   4616\u001b[0m                 \u001b[0mmask\u001b[0m \u001b[0;34m=\u001b[0m \u001b[0;34m~\u001b[0m\u001b[0maxis\u001b[0m\u001b[0;34m.\u001b[0m\u001b[0misin\u001b[0m\u001b[0;34m(\u001b[0m\u001b[0mlabels\u001b[0m\u001b[0;34m)\u001b[0m\u001b[0;34m\u001b[0m\u001b[0;34m\u001b[0m\u001b[0m\n\u001b[1;32m   4617\u001b[0m                 \u001b[0;31m# Check if label doesn't exist along axis\u001b[0m\u001b[0;34m\u001b[0m\u001b[0;34m\u001b[0m\u001b[0m\n\u001b[1;32m   4618\u001b[0m                 \u001b[0mlabels_missing\u001b[0m \u001b[0;34m=\u001b[0m \u001b[0;34m(\u001b[0m\u001b[0maxis\u001b[0m\u001b[0;34m.\u001b[0m\u001b[0mget_indexer_for\u001b[0m\u001b[0;34m(\u001b[0m\u001b[0mlabels\u001b[0m\u001b[0;34m)\u001b[0m \u001b[0;34m==\u001b[0m \u001b[0;34m-\u001b[0m\u001b[0;36m1\u001b[0m\u001b[0;34m)\u001b[0m\u001b[0;34m.\u001b[0m\u001b[0many\u001b[0m\u001b[0;34m(\u001b[0m\u001b[0;34m)\u001b[0m\u001b[0;34m\u001b[0m\u001b[0;34m\u001b[0m\u001b[0m\n\u001b[1;32m   4619\u001b[0m                 \u001b[0;32mif\u001b[0m \u001b[0merrors\u001b[0m \u001b[0;34m==\u001b[0m \u001b[0;34m\"raise\"\u001b[0m \u001b[0;32mand\u001b[0m \u001b[0mlabels_missing\u001b[0m\u001b[0;34m:\u001b[0m\u001b[0;34m\u001b[0m\u001b[0;34m\u001b[0m\u001b[0m\n\u001b[0;32m-> 4620\u001b[0;31m                     \u001b[0;32mraise\u001b[0m \u001b[0mKeyError\u001b[0m\u001b[0;34m(\u001b[0m\u001b[0;34mf\"{labels} not found in axis\"\u001b[0m\u001b[0;34m)\u001b[0m\u001b[0;34m\u001b[0m\u001b[0;34m\u001b[0m\u001b[0m\n\u001b[0m\u001b[1;32m   4621\u001b[0m \u001b[0;34m\u001b[0m\u001b[0m\n\u001b[1;32m   4622\u001b[0m             \u001b[0;32mif\u001b[0m \u001b[0mis_extension_array_dtype\u001b[0m\u001b[0;34m(\u001b[0m\u001b[0mmask\u001b[0m\u001b[0;34m.\u001b[0m\u001b[0mdtype\u001b[0m\u001b[0;34m)\u001b[0m\u001b[0;34m:\u001b[0m\u001b[0;34m\u001b[0m\u001b[0;34m\u001b[0m\u001b[0m\n\u001b[1;32m   4623\u001b[0m                 \u001b[0;31m# GH#45860\u001b[0m\u001b[0;34m\u001b[0m\u001b[0;34m\u001b[0m\u001b[0m\n",
      "\u001b[0;31mKeyError\u001b[0m: \"['90percentCILowerBound' '90percentCIUpperBound' 'PovertyPercent,AllAges'\\n '90percentCILowerBound' '90percentCIUpperBound' 'PovertyEstimate,Age0-17'\\n '90percentCILowerBound' '90percentCIUpperBound' 'PovertyPercent,Age0-17'\\n '90percentCILowerBound' '90percentCIUpperBound'\\n 'PovertyEstimate,Age5-17inFamilies' '90percentCILowerBound'\\n '90percentCIUpperBound' 'PovertyPercent,Age5-17inFamilies'\\n '90percentCILowerBound' '90percentCIUpperBound' '90percentCILowerBound'\\n '90percentCIUpperBound' 'PovertyEstimate,Age0-4' '90percentCILowerBound'\\n '90percentCIUpperBound' 'PovertyPercent,Age0-4' '90percentCILowerBound'\\n '90percentCIUpperBound'] not found in axis\""
     ]
    }
   ],
   "source": [
    "todrop = ['90percentCILowerBound', '90percentCIUpperBound',\n",
    "       'PovertyPercent,AllAges', '90percentCILowerBound',\n",
    "       '90percentCIUpperBound', 'PovertyEstimate,Age0-17',\n",
    "       '90percentCILowerBound', '90percentCIUpperBound',\n",
    "       'PovertyPercent,Age0-17', '90percentCILowerBound',\n",
    "       '90percentCIUpperBound', 'PovertyEstimate,Age5-17inFamilies',\n",
    "       '90percentCILowerBound', '90percentCIUpperBound',\n",
    "       'PovertyPercent,Age5-17inFamilies', '90percentCILowerBound',\n",
    "       '90percentCIUpperBound','90percentCILowerBound', '90percentCIUpperBound',\n",
    "       'PovertyEstimate,Age0-4', '90percentCILowerBound',\n",
    "       '90percentCIUpperBound', 'PovertyPercent,Age0-4',\n",
    "       '90percentCILowerBound', '90percentCIUpperBound']\n",
    "pov = pov.drop(todrop, axis=1)"
   ]
  },
  {
   "cell_type": "code",
   "execution_count": null,
   "id": "2be0480b-3007-4572-8805-4919d73a4684",
   "metadata": {},
   "outputs": [],
   "source": [
    "pov.head()"
   ]
  },
  {
   "cell_type": "code",
   "execution_count": null,
   "id": "a06dd3ae-b0cb-482f-8488-f26b2b43b6dc",
   "metadata": {},
   "outputs": [],
   "source": [
    "pov.columns = pov.columns.str.replace('PostalCode','State',regex=True)\n",
    "pov.columns = pov.columns.str.replace('Name','County',regex=True)\n",
    "pov.columns = pov.columns.str.replace('CountyFIPSCode','CountyFIPS',regex=True)"
   ]
  },
  {
   "cell_type": "code",
   "execution_count": null,
   "id": "5d5febcc-f6a8-49d1-8a6a-f026db9f017e",
   "metadata": {},
   "outputs": [],
   "source": [
    "pov['County'] = pov['County'].str.lower() # Convert to lowercase\n",
    "pov['County'] = pov['County'].str.replace('county','',regex=True) # Remove the word 'County'\n",
    "#pov['County'] = pov['County'].str.strip()\n",
    "pov['County'] = pov['County'].str.replace(r'[^\\w\\s]', '', regex=True)"
   ]
  },
  {
   "cell_type": "code",
   "execution_count": null,
   "id": "98170657-d6bf-4e17-adff-d048caf24ffa",
   "metadata": {},
   "outputs": [],
   "source": [
    "pov.head()"
   ]
  },
  {
   "cell_type": "code",
   "execution_count": null,
   "id": "b73dca04-b287-4807-86fc-dabc809af892",
   "metadata": {},
   "outputs": [],
   "source": [
    "pov.isna().sum()"
   ]
  },
  {
   "cell_type": "code",
   "execution_count": null,
   "id": "60717945-2716-4a0b-ba41-ca9fa62bf747",
   "metadata": {},
   "outputs": [],
   "source": [
    "pov.dtypes"
   ]
  },
  {
   "cell_type": "code",
   "execution_count": null,
   "id": "76d003a5-51ae-4302-b010-8747bb82f5ac",
   "metadata": {},
   "outputs": [],
   "source": [
    "pov = pov.replace(',','', regex=True)\n",
    "pov = pov.replace('.','', regex=True)\n",
    "pov = pov.replace(' ','',regex=True)"
   ]
  },
  {
   "cell_type": "code",
   "execution_count": null,
   "id": "38f359db-9217-4586-a773-028e203da553",
   "metadata": {},
   "outputs": [],
   "source": [
    "pov['PovertyEstimateAllAges'] = pov['PovertyEstimateAllAges'].astype('int')"
   ]
  },
  {
   "cell_type": "markdown",
   "id": "b9d054f2-18bf-4bc3-943a-a4e32871f99a",
   "metadata": {},
   "source": [
    "## Demographic Data"
   ]
  },
  {
   "cell_type": "markdown",
   "id": "4092a46a-b91d-4107-8854-12ed3a7bd40b",
   "metadata": {
    "jp-MarkdownHeadingCollapsed": true,
    "tags": []
   },
   "source": [
    "### Income Data"
   ]
  },
  {
   "cell_type": "code",
   "execution_count": null,
   "id": "9bf5ca42-c2f4-4d61-ac4c-95895143efa5",
   "metadata": {
    "tags": []
   },
   "outputs": [],
   "source": [
    "income_file = 'Income.csv'\n",
    "income = pd.read_csv(income_file)"
   ]
  },
  {
   "cell_type": "markdown",
   "id": "ba3c6620-c5d5-4e13-988d-83d267834ecc",
   "metadata": {},
   "source": [
    "income contains income data by state by household status. I might include this later if I need to add more demographic data."
   ]
  },
  {
   "cell_type": "code",
   "execution_count": null,
   "id": "10470b87-eff5-4681-8b5b-3513cd319ebc",
   "metadata": {
    "tags": []
   },
   "outputs": [],
   "source": [
    "income.head()"
   ]
  },
  {
   "cell_type": "code",
   "execution_count": null,
   "id": "d86e3074-5e33-4846-bf13-d0fe489c3735",
   "metadata": {
    "tags": []
   },
   "outputs": [],
   "source": [
    "income.columns"
   ]
  },
  {
   "cell_type": "code",
   "execution_count": null,
   "id": "0202b767-d0f6-48bb-8028-dcc559807e35",
   "metadata": {
    "tags": []
   },
   "outputs": [],
   "source": [
    "income = income.drop(['Puerto Rico!!Households!!Estimate','Puerto Rico!!Households!!Margin of Error',\n",
    "       'Puerto Rico!!Families!!Estimate',\n",
    "       'Puerto Rico!!Families!!Margin of Error',\n",
    "       'Puerto Rico!!Married-couple families!!Estimate',\n",
    "       'Puerto Rico!!Married-couple families!!Margin of Error',\n",
    "       'Puerto Rico!!Nonfamily households!!Estimate',\n",
    "       'Puerto Rico!!Nonfamily households!!Margin of Error'], axis=1)"
   ]
  },
  {
   "cell_type": "code",
   "execution_count": null,
   "id": "e8f6d44d-3fac-47e4-aadf-377ae5d458a0",
   "metadata": {
    "tags": []
   },
   "outputs": [],
   "source": [
    "income.columns"
   ]
  },
  {
   "cell_type": "code",
   "execution_count": null,
   "id": "1c2e31c2-eff1-40b7-bbed-99c96030aa0a",
   "metadata": {
    "tags": []
   },
   "outputs": [],
   "source": [
    "income = income.drop(['United States!!Households!!Margin of Error',\n",
    "       'United States!!Families!!Estimate',\n",
    "       'United States!!Families!!Margin of Error',\n",
    "       'United States!!Married-couple families!!Estimate',\n",
    "       'United States!!Married-couple families!!Margin of Error',\n",
    "       'United States!!Nonfamily households!!Estimate',\n",
    "       'United States!!Nonfamily households!!Margin of Error'], axis=1)"
   ]
  },
  {
   "cell_type": "code",
   "execution_count": null,
   "id": "6d48fe47-c8c9-42d0-9726-870f54f55643",
   "metadata": {
    "tags": []
   },
   "outputs": [],
   "source": [
    "income.columns"
   ]
  },
  {
   "cell_type": "code",
   "execution_count": null,
   "id": "0ef8c255-660f-4bed-ba98-0af3911e2e1f",
   "metadata": {
    "tags": []
   },
   "outputs": [],
   "source": [
    "income = income.drop('United States!!Households!!Estimate', axis=1)"
   ]
  },
  {
   "cell_type": "code",
   "execution_count": null,
   "id": "5ecfab30-ef5f-4221-9c2f-17788f4c3932",
   "metadata": {
    "tags": []
   },
   "outputs": [],
   "source": [
    "state_names = ['AL', 'AK', 'AZ', 'AR', 'CA', 'CO', 'CT', 'DE', 'DC', 'FL', 'GA', 'HI', 'ID', 'IL', 'IN', 'IA', 'KS', 'KY', 'LA', 'ME', 'MD', 'MA', 'MI', 'MN', 'MS', 'MO', 'MT', 'NE', 'NV', 'NH', 'NJ', 'NM', 'NY', 'NC', 'ND', 'OH', 'OK', 'OR', 'PA', 'RI', 'SC', 'SD', 'TN', 'TX', 'UT', 'VT', 'VA', 'WA', 'WV', 'WI', 'WY']"
   ]
  },
  {
   "cell_type": "code",
   "execution_count": null,
   "id": "7534fe0f-5fdc-44d8-87cf-75d46980fd1b",
   "metadata": {
    "tags": []
   },
   "outputs": [],
   "source": [
    "income.columns = income.columns.str.replace(r'[^\\w\\s]', '', regex=True)"
   ]
  },
  {
   "cell_type": "code",
   "execution_count": null,
   "id": "ddc7aaf7-8839-47f1-b91a-a56b1bf387db",
   "metadata": {
    "tags": []
   },
   "outputs": [],
   "source": [
    "income.columns"
   ]
  },
  {
   "cell_type": "code",
   "execution_count": null,
   "id": "ac5cc396-73f0-4f78-bfed-2b727c1fff67",
   "metadata": {
    "tags": []
   },
   "outputs": [],
   "source": [
    "cols_to_drop = income.columns[income.columns.str.contains('Margin')]\n",
    "income.drop(cols_to_drop, axis=1, inplace=True)"
   ]
  },
  {
   "cell_type": "code",
   "execution_count": null,
   "id": "911d1e5c-99b5-49be-a75d-e09208eee121",
   "metadata": {
    "tags": []
   },
   "outputs": [],
   "source": [
    "income.columns = income.columns.str.replace(' ', '', regex=True)"
   ]
  },
  {
   "cell_type": "code",
   "execution_count": null,
   "id": "93427726-5d50-4650-b597-1886a11f74df",
   "metadata": {
    "tags": []
   },
   "outputs": [],
   "source": [
    "income.columns"
   ]
  },
  {
   "cell_type": "code",
   "execution_count": null,
   "id": "480a801d-b1f0-46c4-ab1f-310534ad59ad",
   "metadata": {
    "tags": []
   },
   "outputs": [],
   "source": [
    "income.isna().sum()"
   ]
  },
  {
   "cell_type": "code",
   "execution_count": null,
   "id": "78367a7e-1a8f-433c-bf06-a0ac59be5cae",
   "metadata": {
    "tags": []
   },
   "outputs": [],
   "source": [
    "income.head()"
   ]
  },
  {
   "cell_type": "code",
   "execution_count": null,
   "id": "36a6f760-1ac5-4e53-895f-637445ddd2fb",
   "metadata": {
    "tags": []
   },
   "outputs": [],
   "source": [
    "income.columns = income.columns.str.replace(r'[^\\w\\s]', '', regex=True)"
   ]
  },
  {
   "cell_type": "code",
   "execution_count": null,
   "id": "889621be-1b64-4a4d-a8d7-1396414f7cea",
   "metadata": {
    "tags": []
   },
   "outputs": [],
   "source": [
    "income.columns = income.columns.str.replace(' ', '', regex=True)"
   ]
  },
  {
   "cell_type": "code",
   "execution_count": null,
   "id": "e881aa54-fa68-4047-b1b4-bda0f9c82224",
   "metadata": {
    "tags": []
   },
   "outputs": [],
   "source": [
    "income.columns = income.columns.str.replace('LabelGrouping', 'Income', regex=True)"
   ]
  },
  {
   "cell_type": "code",
   "execution_count": null,
   "id": "d1718b48-e45e-4624-9616-2668100c7b4b",
   "metadata": {
    "tags": []
   },
   "outputs": [],
   "source": [
    "income.head()"
   ]
  },
  {
   "cell_type": "code",
   "execution_count": null,
   "id": "7506f4b5-27fa-4032-a0f3-d4277a8f4a15",
   "metadata": {
    "tags": []
   },
   "outputs": [],
   "source": [
    "income = income.set_index('Income')"
   ]
  },
  {
   "cell_type": "code",
   "execution_count": null,
   "id": "184c30da-f0b1-4195-9ae7-17c8cd5ea935",
   "metadata": {
    "tags": []
   },
   "outputs": [],
   "source": [
    "drop = income.columns[income.columns.str.contains('Married')]"
   ]
  },
  {
   "cell_type": "code",
   "execution_count": null,
   "id": "ecb9aada-0af9-482c-bc67-a4dd3023a68b",
   "metadata": {
    "tags": []
   },
   "outputs": [],
   "source": [
    "income = income.drop(drop, axis=1)"
   ]
  },
  {
   "cell_type": "code",
   "execution_count": null,
   "id": "0d6ecba9-fe0f-44b8-921e-c0b8c5833e10",
   "metadata": {
    "tags": []
   },
   "outputs": [],
   "source": [
    "drop1 = income.columns[income.columns.str.contains('Families')]"
   ]
  },
  {
   "cell_type": "code",
   "execution_count": null,
   "id": "95bfe48f-fb44-43b9-9374-eb8195832a5b",
   "metadata": {
    "tags": []
   },
   "outputs": [],
   "source": [
    "income = income.drop(drop1, axis=1)"
   ]
  },
  {
   "cell_type": "code",
   "execution_count": null,
   "id": "afc80317-14ef-4bfd-a8db-ad50ed2bcec4",
   "metadata": {
    "tags": []
   },
   "outputs": [],
   "source": [
    "drop2 = income.columns[income.columns.str.contains('Nonfamily')]"
   ]
  },
  {
   "cell_type": "code",
   "execution_count": null,
   "id": "7c3e98ee-0261-4c1a-b678-8f4dd417d0d7",
   "metadata": {
    "tags": []
   },
   "outputs": [],
   "source": [
    "income = income.drop(drop2, axis=1)"
   ]
  },
  {
   "cell_type": "code",
   "execution_count": null,
   "id": "21f2829a-7e84-4e60-99d1-84bf3b1b4740",
   "metadata": {
    "tags": []
   },
   "outputs": [],
   "source": [
    "income.head()"
   ]
  },
  {
   "cell_type": "code",
   "execution_count": null,
   "id": "14a05955-e322-45b7-9cb5-a7f967ca758a",
   "metadata": {
    "tags": []
   },
   "outputs": [],
   "source": [
    "income = income.set_axis(state_names, axis=1)"
   ]
  },
  {
   "cell_type": "code",
   "execution_count": null,
   "id": "6bc78efd-7dfa-4a81-8c11-7de55061f5a1",
   "metadata": {
    "tags": []
   },
   "outputs": [],
   "source": [
    "income.head()"
   ]
  },
  {
   "cell_type": "code",
   "execution_count": null,
   "id": "d69d6170-e1e3-440f-83b8-e860499fa087",
   "metadata": {
    "tags": []
   },
   "outputs": [],
   "source": [
    "income = income.T"
   ]
  },
  {
   "cell_type": "code",
   "execution_count": null,
   "id": "b0d77db1-8d51-470a-b9fc-d065e35a8e2c",
   "metadata": {
    "tags": []
   },
   "outputs": [],
   "source": [
    "income.head()"
   ]
  },
  {
   "cell_type": "code",
   "execution_count": null,
   "id": "fe9ec826-9d31-4f22-bcb1-4c0c90cba6e0",
   "metadata": {},
   "outputs": [],
   "source": [
    "income.columns = income.columns.str.replace(' ', '', regex=True)"
   ]
  },
  {
   "cell_type": "code",
   "execution_count": null,
   "id": "64e325c7-00cc-4d21-a196-239ade86dc9c",
   "metadata": {
    "tags": []
   },
   "outputs": [],
   "source": [
    "income.columns = income.columns.str.replace(r'[^\\w\\s]', '', regex=True)"
   ]
  },
  {
   "cell_type": "code",
   "execution_count": null,
   "id": "25f93c46-20e4-4aa0-93e8-f1ed38f86c04",
   "metadata": {
    "scrolled": true
   },
   "outputs": [],
   "source": [
    "income.dtypes"
   ]
  },
  {
   "cell_type": "code",
   "execution_count": null,
   "id": "f4d5c24a-d81b-4166-993a-584857789f82",
   "metadata": {},
   "outputs": [],
   "source": [
    "income['Total'] = income['Total'].replace(r'[^\\w\\s]', '', regex=True)"
   ]
  },
  {
   "cell_type": "code",
   "execution_count": null,
   "id": "d7faf8fd-3814-4eb0-9a80-6a30325fb785",
   "metadata": {},
   "outputs": [],
   "source": [
    "income = income.replace('X',0)"
   ]
  },
  {
   "cell_type": "code",
   "execution_count": null,
   "id": "d5cebb0e-23cb-4cda-a55c-68c39c60191b",
   "metadata": {},
   "outputs": [],
   "source": [
    "income.isna().sum()"
   ]
  },
  {
   "cell_type": "code",
   "execution_count": null,
   "id": "2c5d96c3-af52-4a87-ae39-361e80bf3b5c",
   "metadata": {},
   "outputs": [],
   "source": [
    "income = income.drop('PERCENTALLOCATED', axis=1)"
   ]
  },
  {
   "cell_type": "code",
   "execution_count": null,
   "id": "c9ce8c7d-cc96-4c43-a2ce-22de0b19fb43",
   "metadata": {},
   "outputs": [],
   "source": [
    "income = income.replace('%','',regex=True)"
   ]
  },
  {
   "cell_type": "code",
   "execution_count": null,
   "id": "a6e596a5-44a5-411d-bbeb-2f72a91f3a47",
   "metadata": {},
   "outputs": [],
   "source": [
    "income = income.replace(',','',regex=True)"
   ]
  },
  {
   "cell_type": "code",
   "execution_count": null,
   "id": "3426ec20-b535-4c1f-9970-53669f2ff4e2",
   "metadata": {},
   "outputs": [],
   "source": [
    "income = income.replace('X',0,regex=True)"
   ]
  },
  {
   "cell_type": "code",
   "execution_count": null,
   "id": "1a3fc9b1-c2ad-4805-b730-43d55e731bb9",
   "metadata": {},
   "outputs": [],
   "source": [
    "income = income.astype(float)"
   ]
  },
  {
   "cell_type": "code",
   "execution_count": null,
   "id": "53d40da7-9664-4f44-a1dc-beeb517cdfc4",
   "metadata": {},
   "outputs": [],
   "source": [
    "income = income.rename_axis('State').reset_index()"
   ]
  },
  {
   "cell_type": "code",
   "execution_count": null,
   "id": "e70a260c-5f94-4161-95ed-a6043e33e993",
   "metadata": {},
   "outputs": [],
   "source": [
    "income.head()"
   ]
  },
  {
   "cell_type": "code",
   "execution_count": null,
   "id": "6645508b-b8f3-40ea-a74f-9b58cd30d8c2",
   "metadata": {},
   "outputs": [],
   "source": [
    "income.isna().sum()"
   ]
  },
  {
   "cell_type": "code",
   "execution_count": null,
   "id": "bc500f94-153a-4ca1-a805-cd4a986343cd",
   "metadata": {},
   "outputs": [],
   "source": [
    "income.describe()"
   ]
  },
  {
   "cell_type": "code",
   "execution_count": null,
   "id": "79f9ec16-792e-473a-ba3e-412e6f03f26b",
   "metadata": {},
   "outputs": [],
   "source": [
    "income.info()"
   ]
  },
  {
   "cell_type": "markdown",
   "id": "b91d3027-0069-40c5-9dec-cb918363a81f",
   "metadata": {},
   "source": [
    "All data is missing for Familyincomeinthepast12months and Nonfamilyincomeinthepast12months, so I am dropping both columns."
   ]
  },
  {
   "cell_type": "code",
   "execution_count": null,
   "id": "741b48c4-980d-46b8-8d7c-628a1e524649",
   "metadata": {},
   "outputs": [],
   "source": [
    "income = income.drop('Familyincomeinthepast12months', axis=1)"
   ]
  },
  {
   "cell_type": "code",
   "execution_count": null,
   "id": "9a37829c-e2aa-4e1c-9479-de5e2381945c",
   "metadata": {},
   "outputs": [],
   "source": [
    "income = income.drop('Nonfamilyincomeinthepast12months', axis=1)"
   ]
  },
  {
   "cell_type": "code",
   "execution_count": null,
   "id": "3d45a8f2-07c0-4a6f-8970-d4b71e97b0cf",
   "metadata": {},
   "outputs": [],
   "source": [
    "income.head()"
   ]
  },
  {
   "cell_type": "markdown",
   "id": "ff1bef71-c9c8-466c-a97b-d64874c50777",
   "metadata": {},
   "source": [
    "### Demographic data"
   ]
  },
  {
   "cell_type": "markdown",
   "id": "1dc252bd-13b1-4195-9446-060f8b063b0e",
   "metadata": {
    "jp-MarkdownHeadingCollapsed": true,
    "tags": []
   },
   "source": [
    "#### Importing Demographic Data\n"
   ]
  },
  {
   "cell_type": "code",
   "execution_count": null,
   "id": "caac05f6-a670-4877-9e2e-f9107df8e6c7",
   "metadata": {
    "tags": []
   },
   "outputs": [],
   "source": [
    "demographic_file = 'Demographics.csv'\n",
    "demo = pd.read_csv(demographic_file)"
   ]
  },
  {
   "cell_type": "markdown",
   "id": "1fd456e4-4644-402a-8ec2-99de1bc54614",
   "metadata": {
    "jp-MarkdownHeadingCollapsed": true,
    "tags": []
   },
   "source": [
    "#### Exploring data\n",
    "demo contains demographic data by state, including information regarding age, employment status, educational attainment, etc.\n",
    "\n",
    "I will organize the data to eventually merge with pivot_df."
   ]
  },
  {
   "cell_type": "code",
   "execution_count": null,
   "id": "994b139d-e31d-4203-a8f7-7f8d4ad1c7bf",
   "metadata": {
    "tags": []
   },
   "outputs": [],
   "source": [
    "demo.head()"
   ]
  },
  {
   "cell_type": "markdown",
   "id": "d35f7362-7fc2-47c1-839a-a438dde21021",
   "metadata": {
    "jp-MarkdownHeadingCollapsed": true,
    "tags": []
   },
   "source": [
    "#### Organizing data\n",
    "I am going to drop columns for the United States overall as well as Puerto Rico. My data from pivot_df does not contain United States country data or data for Puerto Rico, so I want to drop these columns."
   ]
  },
  {
   "cell_type": "code",
   "execution_count": null,
   "id": "4a04a473-cc41-41de-b777-9fec45d74ba1",
   "metadata": {
    "tags": []
   },
   "outputs": [],
   "source": [
    "cols_to_drop1 = demo.columns[demo.columns.str.contains('United')]\n",
    "demo.drop(cols_to_drop1, axis=1, inplace=True)"
   ]
  },
  {
   "cell_type": "code",
   "execution_count": null,
   "id": "b2ba6870-c6b6-4e2b-8177-c64d29819a81",
   "metadata": {
    "tags": []
   },
   "outputs": [],
   "source": [
    "cols_to_drop2 = demo.columns[demo.columns.str.contains('Puerto')]\n",
    "demo.drop(cols_to_drop2, axis=1, inplace=True)"
   ]
  },
  {
   "cell_type": "markdown",
   "id": "cf07ce23-2faf-414a-ba6c-dceee0804e9e",
   "metadata": {},
   "source": [
    "I am going to drop all columns pertaining to the margin of error. I will also need to drop the \"BelowPoverty\" columns because I want to keep demographic data for the entire population of each state. My goal is to eventually transpose the data to mirror pivot_df. To do so, I need one column for each state in the demo dataframe. I want to keep the \"TotalEstimate\" for each state to get an understanding of the demographics for each state."
   ]
  },
  {
   "cell_type": "code",
   "execution_count": null,
   "id": "92a1037e-bfbc-46cc-b1e6-3c4a35fe7b45",
   "metadata": {
    "tags": []
   },
   "outputs": [],
   "source": [
    "cols_to_drop3 = demo.columns[demo.columns.str.contains('Margin')]\n",
    "demo.drop(cols_to_drop3, axis=1, inplace=True)"
   ]
  },
  {
   "cell_type": "code",
   "execution_count": null,
   "id": "4d6e7a92-fd11-4213-b95a-5cd86a7519a6",
   "metadata": {
    "tags": []
   },
   "outputs": [],
   "source": [
    "demo.columns = demo.columns.str.replace(r'[^\\w\\s]', '', regex=True)"
   ]
  },
  {
   "cell_type": "code",
   "execution_count": null,
   "id": "5faa3d75-fb96-4adb-8888-109a195f03b4",
   "metadata": {
    "tags": []
   },
   "outputs": [],
   "source": [
    "demo.columns = demo.columns.str.replace(' ', '', regex=True)"
   ]
  },
  {
   "cell_type": "code",
   "execution_count": null,
   "id": "4bae7c3d-5b68-4d32-9463-35e8458b7bdd",
   "metadata": {
    "tags": []
   },
   "outputs": [],
   "source": [
    "demo.columns = demo.columns.str.replace('LabelGrouping', 'State', regex=True)"
   ]
  },
  {
   "cell_type": "code",
   "execution_count": null,
   "id": "be59fff5-5b65-4143-b412-d7413adc4e4a",
   "metadata": {
    "tags": []
   },
   "outputs": [],
   "source": [
    "demo.columns"
   ]
  },
  {
   "cell_type": "code",
   "execution_count": null,
   "id": "de5862ef-35b7-47ce-97cb-28346eb72246",
   "metadata": {
    "tags": []
   },
   "outputs": [],
   "source": [
    "demo.head()"
   ]
  },
  {
   "cell_type": "code",
   "execution_count": null,
   "id": "3b797d0a-621a-4388-baaa-d8ebacb3d947",
   "metadata": {
    "tags": []
   },
   "outputs": [],
   "source": [
    "demo = demo.set_index('State')"
   ]
  },
  {
   "cell_type": "code",
   "execution_count": null,
   "id": "91a73e8d-60d7-4615-8cee-2e478b05dbb9",
   "metadata": {
    "tags": []
   },
   "outputs": [],
   "source": [
    "demo.head()"
   ]
  },
  {
   "cell_type": "code",
   "execution_count": null,
   "id": "fda9f270-21da-4036-b093-c72a24c2085a",
   "metadata": {
    "tags": []
   },
   "outputs": [],
   "source": [
    "demo_total = demo"
   ]
  },
  {
   "cell_type": "code",
   "execution_count": null,
   "id": "c1913ffc-f717-49bc-bebc-eca2f8894566",
   "metadata": {
    "tags": []
   },
   "outputs": [],
   "source": [
    "drop = demo_total.columns[demo_total.columns.str.contains('TotalEstimate')]"
   ]
  },
  {
   "cell_type": "code",
   "execution_count": null,
   "id": "7e541b04-6f6b-41ad-9c05-20a131548591",
   "metadata": {
    "tags": []
   },
   "outputs": [],
   "source": [
    "demo_total = demo_total.drop(drop, axis=1)"
   ]
  },
  {
   "cell_type": "code",
   "execution_count": null,
   "id": "2a49c0f9-fdae-410f-9953-14ac6cc647f1",
   "metadata": {
    "tags": []
   },
   "outputs": [],
   "source": [
    "demo_total.head()"
   ]
  },
  {
   "cell_type": "code",
   "execution_count": null,
   "id": "ac659921-7719-40d0-ac40-156b0ccfe3fe",
   "metadata": {
    "tags": []
   },
   "outputs": [],
   "source": [
    "drop_percent = demo_total.columns[demo_total.columns.str.contains('Percent')]\n",
    "demo_total = demo_total.drop(drop_percent, axis=1)\n",
    "demo_total.head()"
   ]
  },
  {
   "cell_type": "code",
   "execution_count": null,
   "id": "10544d8b-bea2-46ee-892c-58943b7b28dc",
   "metadata": {
    "tags": []
   },
   "outputs": [],
   "source": [
    "demo_total = demo_total.set_axis(state_names, axis=1)"
   ]
  },
  {
   "cell_type": "code",
   "execution_count": null,
   "id": "7d914393-bf5b-40d5-bad6-7a0da1cfbfc1",
   "metadata": {
    "tags": []
   },
   "outputs": [],
   "source": [
    "demo_total.columns = demo_total.columns.str.replace(' ', '', regex=True)"
   ]
  },
  {
   "cell_type": "markdown",
   "id": "1c7f5a90-5bf8-4246-b73f-32fbd4fdb89f",
   "metadata": {
    "tags": []
   },
   "source": [
    "#### Transposing DataFrame to match pivot_df"
   ]
  },
  {
   "cell_type": "code",
   "execution_count": null,
   "id": "e736937d-6b67-487e-af6a-82b64c6dbcff",
   "metadata": {
    "tags": []
   },
   "outputs": [],
   "source": [
    "demo_total = demo_total.T"
   ]
  },
  {
   "cell_type": "code",
   "execution_count": null,
   "id": "bf76a70a-3ffe-422a-87b5-0adb0f546ffe",
   "metadata": {
    "tags": []
   },
   "outputs": [],
   "source": [
    "demo_total.columns = demo_total.columns.str.replace('LabelGrouping','State', regex=True)\n",
    "demo_total.head()"
   ]
  },
  {
   "cell_type": "code",
   "execution_count": null,
   "id": "b3204f9d-825d-4886-a4c3-fcc5d67440b0",
   "metadata": {
    "tags": []
   },
   "outputs": [],
   "source": [
    "demo_total.columns = demo_total.columns.str.replace(' ', '_', regex=True)"
   ]
  },
  {
   "cell_type": "code",
   "execution_count": null,
   "id": "da22b5be-e237-4008-b495-f566353c2fba",
   "metadata": {
    "tags": []
   },
   "outputs": [],
   "source": [
    "demo_total.columns"
   ]
  },
  {
   "cell_type": "markdown",
   "id": "6e432a79-a0de-4409-9d66-1df8c8d80fa2",
   "metadata": {},
   "source": [
    "I am going to drop the columns that contain no data. These columns were titles in the initial dataset, but they are not contributing to my current dataframe. I will add them into a list called \"drop_cols\"."
   ]
  },
  {
   "cell_type": "code",
   "execution_count": null,
   "id": "00cdb7f0-3710-4a69-8b6d-a6f9e5f15edc",
   "metadata": {
    "tags": []
   },
   "outputs": [],
   "source": [
    "drop_cols = ['AGE','SEX','RACE_AND_HISPANIC_OR_LATINO_ORIGIN','EDUCATIONAL_ATTAINMENT','EMPLOYMENT_STATUS','WORK_EXPERIENCE','ALL_INDIVIDUALS_WITH_INCOME_BELOW_THE_FOLLOWING_POVERTY_RATIOS','UNRELATED_INDIVIDUALS_FOR_WHOM_POVERTY_STATUS_IS_DETERMINED']\n",
    "demo_total = demo_total.drop(drop_cols, axis=1)"
   ]
  },
  {
   "cell_type": "code",
   "execution_count": null,
   "id": "3f2a92e2-72ed-4acf-b718-a7b46368efa0",
   "metadata": {
    "tags": []
   },
   "outputs": [],
   "source": [
    "demo_total.columns"
   ]
  },
  {
   "cell_type": "code",
   "execution_count": null,
   "id": "82e5ebb6-aa0d-44d2-a654-3ebc42b42a4a",
   "metadata": {
    "tags": []
   },
   "outputs": [],
   "source": [
    "demo_total.columns = demo_total.columns.str.replace('    Whitealone','White', regex=True)\n",
    "demo_total.columns = demo_total.columns.str.replace('    BlackorAfricanAmericanalone','AfricanAmerican', regex=True)\n",
    "demo_total.columns = demo_total.columns.str.replace('Hispanic_or_Latino_origin_(of_any_race)','Hispanic',regex=True)\n",
    "demo_total.columns = demo_total.columns.str.replace('        Less_than_high_school_graduate','Less_than_HS',regex=True)"
   ]
  },
  {
   "cell_type": "code",
   "execution_count": null,
   "id": "cea3eeb5-5c13-4808-8b55-2ceb2ed2805a",
   "metadata": {
    "tags": []
   },
   "outputs": [],
   "source": [
    "demo_total.columns = demo_total.columns.str.strip()"
   ]
  },
  {
   "cell_type": "code",
   "execution_count": null,
   "id": "031e11f2-e294-40d1-94c3-05c89b38fd20",
   "metadata": {
    "tags": []
   },
   "outputs": [],
   "source": [
    "demo_total.columns"
   ]
  },
  {
   "cell_type": "code",
   "execution_count": null,
   "id": "4efbd5a0-6b7a-4f12-83d7-d3fda37f8ac9",
   "metadata": {
    "tags": []
   },
   "outputs": [],
   "source": [
    "demo_total.isna().sum()"
   ]
  },
  {
   "cell_type": "code",
   "execution_count": null,
   "id": "6bb429f4-ba8c-4b5f-a31f-11b62998a5b7",
   "metadata": {
    "tags": []
   },
   "outputs": [],
   "source": [
    "demo_total.dtypes"
   ]
  },
  {
   "cell_type": "markdown",
   "id": "3f1c2b1c-d0db-4539-a7c9-37ead14c9bea",
   "metadata": {},
   "source": [
    "It looks like all of the variables for demo_total are objects. I think they should be changed to integers or floats."
   ]
  },
  {
   "cell_type": "code",
   "execution_count": null,
   "id": "472ea140-977f-4fce-aede-ba036e6fdcd6",
   "metadata": {
    "tags": []
   },
   "outputs": [],
   "source": [
    "demo_total = demo_total.replace(r'[^\\w\\s]', '', regex=True) # Remove punctuation"
   ]
  },
  {
   "cell_type": "code",
   "execution_count": null,
   "id": "d65f4da4-a4fa-4e82-84dc-d124c7c333c0",
   "metadata": {
    "tags": []
   },
   "outputs": [],
   "source": [
    "demo_total['Under_18_years'] = demo_total['Under_18_years'].astype(int)"
   ]
  },
  {
   "cell_type": "code",
   "execution_count": null,
   "id": "29e3c1f5-51f0-4650-a036-08747311812b",
   "metadata": {
    "tags": []
   },
   "outputs": [],
   "source": [
    "demo_total.iloc[:,0:13] = demo_total.iloc[:,0:13].astype(int)"
   ]
  },
  {
   "cell_type": "code",
   "execution_count": null,
   "id": "914daa5c-d667-4663-b720-ff03efb92658",
   "metadata": {
    "tags": []
   },
   "outputs": [],
   "source": [
    "demo_total[['Black_or_African_American_alone']]"
   ]
  },
  {
   "cell_type": "code",
   "execution_count": null,
   "id": "c447be03-5191-4798-aa34-003d248e3d0e",
   "metadata": {
    "tags": []
   },
   "outputs": [],
   "source": [
    "demo_total['Black_or_African_American_alone'] = demo_total['Black_or_African_American_alone'].replace('N', 0)\n",
    "demo_total['Black_or_African_American_alone'] = demo_total['Black_or_African_American_alone'].astype(int)"
   ]
  },
  {
   "cell_type": "code",
   "execution_count": null,
   "id": "d9c50d7d-08e1-4ce2-84b4-215d14aea9f7",
   "metadata": {
    "tags": []
   },
   "outputs": [],
   "source": [
    "demo_total = demo_total.replace('N',0)"
   ]
  },
  {
   "cell_type": "code",
   "execution_count": null,
   "id": "5837bfe5",
   "metadata": {
    "tags": []
   },
   "outputs": [],
   "source": [
    "demo_total = demo_total.replace('X',0)"
   ]
  },
  {
   "cell_type": "code",
   "execution_count": null,
   "id": "bab44f8b-5e8e-40e8-ac9e-70ef38bba4f3",
   "metadata": {
    "tags": []
   },
   "outputs": [],
   "source": [
    "demo_total = demo_total.astype(int)\n",
    "demo_total.dtypes"
   ]
  },
  {
   "cell_type": "code",
   "execution_count": null,
   "id": "87809621-9724-4ef6-86c4-2f5c1e6f1d0b",
   "metadata": {
    "tags": []
   },
   "outputs": [],
   "source": [
    "demo_total = demo_total.drop(demo_total.columns[[-1,28,29,31,32,46,47,48,49,50,51,52,53,54,55,56]], axis=1)"
   ]
  },
  {
   "cell_type": "code",
   "execution_count": null,
   "id": "b727f0dc-4f62-4a0c-bdbb-301c3aeaeac8",
   "metadata": {
    "tags": []
   },
   "outputs": [],
   "source": [
    "demo_total.columns"
   ]
  },
  {
   "cell_type": "markdown",
   "id": "6057ef7f-562a-4eac-889a-37cbae865f08",
   "metadata": {},
   "source": [
    "I am dropping columns that I will not be including in my EDA and modeling. These columns are redundant, and the same data is included elsewhere."
   ]
  },
  {
   "cell_type": "code",
   "execution_count": null,
   "id": "58abf57b-d1f1-431d-ba04-42360252f437",
   "metadata": {},
   "outputs": [],
   "source": [
    "drop2 = ['Related_children_of_householder_under_18_years','60_years_and_over','50_percent_of_poverty_level', '125_percent_of_poverty_level',\n",
    "       '150_percent_of_poverty_level', '185_percent_of_poverty_level',\n",
    "       '200_percent_of_poverty_level', '300_percent_of_poverty_level',\n",
    "       '400_percent_of_poverty_level', '500_percent_of_poverty_level','White_alone,_not_Hispanic_or_Latino','Population_25_years_and_over','Civilian_labor_force_16_years_and_over','Worked_full-time,_year-round_in_the_past_12_months',\n",
    "       'Worked_less_than_full-time,_year-round_in_the_past_12_months']\n",
    "demo_total = demo_total.drop(drop2, axis=1)"
   ]
  },
  {
   "cell_type": "code",
   "execution_count": null,
   "id": "3e7220b3-5d93-4ee8-aa11-ab4ba2422348",
   "metadata": {},
   "outputs": [],
   "source": [
    "demo_total.columns"
   ]
  },
  {
   "cell_type": "code",
   "execution_count": null,
   "id": "3edc0f55-1843-4d4e-84e8-ca6915cfdbe1",
   "metadata": {},
   "outputs": [],
   "source": [
    "drop3 = ['Population_for_whom_poverty_status_is_determined','Under_5_years','5_to_17_years','Population_16_years_and_over','18_to_64_years']\n",
    "demo_total = demo_total.drop(drop3, axis=1)"
   ]
  },
  {
   "cell_type": "code",
   "execution_count": null,
   "id": "e85dc200-821b-437b-bceb-10a61e407050",
   "metadata": {},
   "outputs": [],
   "source": [
    "drop4 = ['Two_or_more_races','Some_other_race_alone']\n",
    "demo_total = demo_total.drop(drop4, axis=1)"
   ]
  },
  {
   "cell_type": "code",
   "execution_count": null,
   "id": "d239537b-f211-483b-8f45-a2ea7a2b9ba7",
   "metadata": {},
   "outputs": [],
   "source": [
    "demo_total.columns = demo_total.columns.str.replace(\"'\",'',regex=True)"
   ]
  },
  {
   "cell_type": "code",
   "execution_count": null,
   "id": "a7227cc9-84e7-4e1c-bee3-482551697f76",
   "metadata": {},
   "outputs": [],
   "source": [
    "demo_total.columns = demo_total.columns.str.replace(r'[^\\w\\s]', '',regex=True)"
   ]
  },
  {
   "cell_type": "code",
   "execution_count": null,
   "id": "5e1a1963-083e-4abf-a182-92eaddeb68e8",
   "metadata": {},
   "outputs": [],
   "source": [
    "demo_total.columns"
   ]
  },
  {
   "cell_type": "code",
   "execution_count": null,
   "id": "b03d7fcd-12a8-4397-bc6f-b2838213ac17",
   "metadata": {},
   "outputs": [],
   "source": [
    "demo_total.columns = demo_total.columns.str.replace('White_alone','White',regex=True)\n",
    "demo_total.columns = demo_total.columns.str.replace('Black_or_African_American_alone','African_american',regex=True)\n",
    "demo_total.columns = demo_total.columns.str.replace('High_school_graduate_includes_equivalency','HS_GED',regex=True)\n",
    "demo_total.columns = demo_total.columns.str.replace('Some_college,_associates_degree','Some_college',regex=True)\n",
    "demo_total.columns = demo_total.columns.str.replace('Asian_alone','Asian',regex=True)\n",
    "demo_total.columns = demo_total.columns.str.replace('Worked_parttime_or_partyear_in_the_past_12_months','Some_work',regex=True)\n",
    "demo_total.columns = demo_total.columns.str.replace('Native_Hawaiian_and_Other_Pacific_Islander_alone','Pacific_islander',regex=True)\n",
    "demo_total.columns = demo_total.columns.str.replace('American_Indian_and_Alaska_Native_alone','Native_american',regex=True)\n",
    "demo_total.columns = demo_total.columns.str.replace('Hispanic_or_Latino_origin_of_any_race','Latino',regex=True)\n",
    "demo_total.columns = demo_total.columns.str.replace('Less_than_high_school_graduate','Some_HS',regex=True)\n",
    "demo_total.columns = demo_total.columns.str.replace('Bachelors_degree_or_higher','Bachelors',regex=True)\n",
    "demo_total.columns = demo_total.columns.str.replace('Some_college_associates_degree','Some_college',regex=True)"
   ]
  },
  {
   "cell_type": "code",
   "execution_count": null,
   "id": "48f87f4e-857a-4fb4-9465-0ea892553439",
   "metadata": {},
   "outputs": [],
   "source": [
    "demo_total.columns"
   ]
  },
  {
   "cell_type": "markdown",
   "id": "abbef958-4bfd-4b2f-8ac8-9a541460cdca",
   "metadata": {
    "jp-MarkdownHeadingCollapsed": true
   },
   "source": [
    "## Combining Demographic and Grocery Store Data"
   ]
  },
  {
   "cell_type": "code",
   "execution_count": null,
   "id": "64c7b264-0fa7-4616-8674-4895cdc4ac81",
   "metadata": {
    "tags": []
   },
   "outputs": [],
   "source": [
    "pivot_df.head()"
   ]
  },
  {
   "cell_type": "code",
   "execution_count": null,
   "id": "c0505679-3b76-4959-9a9b-895c342d44b8",
   "metadata": {
    "tags": []
   },
   "outputs": [],
   "source": [
    "demo_total.head()"
   ]
  },
  {
   "cell_type": "markdown",
   "id": "bb3e31a8-28db-490a-beee-a4ce79c9a15d",
   "metadata": {},
   "source": [
    "I need to reset the index for demo_total, so I can merge the data."
   ]
  },
  {
   "cell_type": "code",
   "execution_count": null,
   "id": "ad076488-5ad8-447c-bc1b-1fbe9c13906b",
   "metadata": {
    "tags": []
   },
   "outputs": [],
   "source": [
    "demo_total = demo_total.rename_axis('State').reset_index()\n",
    "\n",
    "demo_total.head()"
   ]
  },
  {
   "cell_type": "markdown",
   "id": "85a37dee-9e80-4aa2-8712-ed30cee7d04b",
   "metadata": {},
   "source": [
    "I will combine these two DataFrames on the State columns."
   ]
  },
  {
   "cell_type": "code",
   "execution_count": null,
   "id": "2b79a46c-6319-410a-ac2b-591fd6cb7431",
   "metadata": {
    "tags": []
   },
   "outputs": [],
   "source": [
    "df_full = pd.merge(pivot_df, demo_total, on='State')"
   ]
  },
  {
   "cell_type": "code",
   "execution_count": null,
   "id": "76816101-cf5a-4614-b112-c3970648fa6a",
   "metadata": {
    "tags": []
   },
   "outputs": [],
   "source": [
    "df_full.head()"
   ]
  },
  {
   "cell_type": "markdown",
   "id": "10af3583-0227-40df-b3ef-4c9b38197dcc",
   "metadata": {},
   "source": [
    "I now need to also combine df_full with income."
   ]
  },
  {
   "cell_type": "code",
   "execution_count": null,
   "id": "1aeb4956-afbd-416f-884e-29a059c84d40",
   "metadata": {},
   "outputs": [],
   "source": [
    "df_full = pd.merge(df_full, income, on='State')"
   ]
  },
  {
   "cell_type": "code",
   "execution_count": null,
   "id": "031c40e2-b55a-43b2-b0f2-25f4d7a06b85",
   "metadata": {},
   "outputs": [],
   "source": [
    "df_full.head()"
   ]
  },
  {
   "cell_type": "code",
   "execution_count": null,
   "id": "61585ee5-c6cc-4870-a1e2-d34f6cc6825d",
   "metadata": {
    "tags": []
   },
   "outputs": [],
   "source": [
    "df_full.dtypes"
   ]
  },
  {
   "cell_type": "code",
   "execution_count": null,
   "id": "f685436c-1571-4877-9451-0e279467dd45",
   "metadata": {
    "tags": []
   },
   "outputs": [],
   "source": [
    "df_full.columns"
   ]
  },
  {
   "cell_type": "code",
   "execution_count": null,
   "id": "b85a19de-7e34-465d-851a-b567c0e2312e",
   "metadata": {},
   "outputs": [],
   "source": [
    "drop5 = ['Total','200000ormore']\n",
    "df_full = df_full.drop(drop5, axis=1)"
   ]
  },
  {
   "cell_type": "code",
   "execution_count": null,
   "id": "7eb9c215-b05a-49e4-8da9-81ed42065e93",
   "metadata": {
    "tags": []
   },
   "outputs": [],
   "source": [
    "df_full.hist(figsize = (25,20))\n",
    "plt.subplots_adjust(hspace=0.5);"
   ]
  },
  {
   "cell_type": "code",
   "execution_count": null,
   "id": "f0e087b9-f65f-455a-a4c9-12c6e834eeba",
   "metadata": {
    "tags": []
   },
   "outputs": [],
   "source": [
    "df_full.iloc[:,7:25].hist(figsize = (25,20),bins=30)\n",
    "plt.subplots_adjust(hspace=0.5);"
   ]
  },
  {
   "cell_type": "markdown",
   "id": "68acef5f-00fe-4678-bd1e-b4f034ba30f3",
   "metadata": {},
   "source": [
    "## Save data as csv"
   ]
  },
  {
   "cell_type": "code",
   "execution_count": null,
   "id": "c8b85591-f87e-46e6-b8da-07619b9757e7",
   "metadata": {
    "tags": []
   },
   "outputs": [],
   "source": [
    "df_full.to_csv('clean_combined.csv', index=False)"
   ]
  }
 ],
 "metadata": {
  "kernelspec": {
   "display_name": "Python 3 (ipykernel)",
   "language": "python",
   "name": "python3"
  },
  "language_info": {
   "codemirror_mode": {
    "name": "ipython",
    "version": 3
   },
   "file_extension": ".py",
   "mimetype": "text/x-python",
   "name": "python",
   "nbconvert_exporter": "python",
   "pygments_lexer": "ipython3",
   "version": "3.11.5"
  }
 },
 "nbformat": 4,
 "nbformat_minor": 5
}
