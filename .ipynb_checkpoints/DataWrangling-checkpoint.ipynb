{
 "cells": [
  {
   "cell_type": "markdown",
   "id": "301defb0-c0b8-4eea-b44d-0af1a83c1f15",
   "metadata": {
    "tags": []
   },
   "source": [
    "This notebook is for Data Wrangling and Cleaning"
   ]
  },
  {
   "cell_type": "code",
   "execution_count": 1,
   "id": "627a5892-c1fd-4d0a-8e8a-bfe5bc3ce9b0",
   "metadata": {
    "tags": []
   },
   "outputs": [],
   "source": [
    "# Imports\n",
    "import pandas as pd"
   ]
  },
  {
   "cell_type": "markdown",
   "id": "95c912bc-4f12-44ae-b15a-8325e6e4a9f1",
   "metadata": {},
   "source": [
    "This is the main dataset that contains information for each Food Environment Atlas category."
   ]
  },
  {
   "cell_type": "code",
   "execution_count": 2,
   "id": "8a28961e-10fe-4a35-a54f-66941c68e669",
   "metadata": {
    "tags": []
   },
   "outputs": [
    {
     "data": {
      "text/html": [
       "<div>\n",
       "<style scoped>\n",
       "    .dataframe tbody tr th:only-of-type {\n",
       "        vertical-align: middle;\n",
       "    }\n",
       "\n",
       "    .dataframe tbody tr th {\n",
       "        vertical-align: top;\n",
       "    }\n",
       "\n",
       "    .dataframe thead th {\n",
       "        text-align: right;\n",
       "    }\n",
       "</style>\n",
       "<table border=\"1\" class=\"dataframe\">\n",
       "  <thead>\n",
       "    <tr style=\"text-align: right;\">\n",
       "      <th></th>\n",
       "      <th>FIPS</th>\n",
       "      <th>State</th>\n",
       "      <th>County</th>\n",
       "      <th>Variable_Code</th>\n",
       "      <th>Value</th>\n",
       "    </tr>\n",
       "  </thead>\n",
       "  <tbody>\n",
       "    <tr>\n",
       "      <th>0</th>\n",
       "      <td>1001</td>\n",
       "      <td>AL</td>\n",
       "      <td>Autauga</td>\n",
       "      <td>LACCESS_POP10</td>\n",
       "      <td>18428.439690</td>\n",
       "    </tr>\n",
       "    <tr>\n",
       "      <th>1</th>\n",
       "      <td>1001</td>\n",
       "      <td>AL</td>\n",
       "      <td>Autauga</td>\n",
       "      <td>LACCESS_POP15</td>\n",
       "      <td>17496.693040</td>\n",
       "    </tr>\n",
       "    <tr>\n",
       "      <th>2</th>\n",
       "      <td>1001</td>\n",
       "      <td>AL</td>\n",
       "      <td>Autauga</td>\n",
       "      <td>PCH_LACCESS_POP_10_15</td>\n",
       "      <td>-5.056026</td>\n",
       "    </tr>\n",
       "    <tr>\n",
       "      <th>3</th>\n",
       "      <td>1001</td>\n",
       "      <td>AL</td>\n",
       "      <td>Autauga</td>\n",
       "      <td>PCT_LACCESS_POP10</td>\n",
       "      <td>33.769657</td>\n",
       "    </tr>\n",
       "    <tr>\n",
       "      <th>4</th>\n",
       "      <td>1001</td>\n",
       "      <td>AL</td>\n",
       "      <td>Autauga</td>\n",
       "      <td>PCT_LACCESS_POP15</td>\n",
       "      <td>32.062255</td>\n",
       "    </tr>\n",
       "  </tbody>\n",
       "</table>\n",
       "</div>"
      ],
      "text/plain": [
       "   FIPS State   County          Variable_Code         Value\n",
       "0  1001    AL  Autauga          LACCESS_POP10  18428.439690\n",
       "1  1001    AL  Autauga          LACCESS_POP15  17496.693040\n",
       "2  1001    AL  Autauga  PCH_LACCESS_POP_10_15     -5.056026\n",
       "3  1001    AL  Autauga      PCT_LACCESS_POP10     33.769657\n",
       "4  1001    AL  Autauga      PCT_LACCESS_POP15     32.062255"
      ]
     },
     "execution_count": 2,
     "metadata": {},
     "output_type": "execute_result"
    }
   ],
   "source": [
    "# Importing Dataset\n",
    "file_food_atlas = 'StateAndCountyData.csv'\n",
    "data_state_county = pd.read_csv(file_food_atlas)\n",
    "data_state_county.head()"
   ]
  },
  {
   "cell_type": "code",
   "execution_count": 3,
   "id": "46c3d756-1007-498a-939e-8fd82544df72",
   "metadata": {
    "tags": []
   },
   "outputs": [
    {
     "data": {
      "text/plain": [
       "FIPS               int64\n",
       "State             object\n",
       "County            object\n",
       "Variable_Code     object\n",
       "Value            float64\n",
       "dtype: object"
      ]
     },
     "execution_count": 3,
     "metadata": {},
     "output_type": "execute_result"
    }
   ],
   "source": [
    "data_state_county.dtypes"
   ]
  },
  {
   "cell_type": "code",
   "execution_count": 4,
   "id": "24eedefe-d9a7-49e6-9c34-285182484bba",
   "metadata": {
    "tags": []
   },
   "outputs": [
    {
     "name": "stdout",
     "output_type": "stream",
     "text": [
      "<class 'pandas.core.frame.DataFrame'>\n",
      "RangeIndex: 852810 entries, 0 to 852809\n",
      "Data columns (total 5 columns):\n",
      " #   Column         Non-Null Count   Dtype  \n",
      "---  ------         --------------   -----  \n",
      " 0   FIPS           852810 non-null  int64  \n",
      " 1   State          852810 non-null  object \n",
      " 2   County         852810 non-null  object \n",
      " 3   Variable_Code  852810 non-null  object \n",
      " 4   Value          852810 non-null  float64\n",
      "dtypes: float64(1), int64(1), object(3)\n",
      "memory usage: 32.5+ MB\n"
     ]
    }
   ],
   "source": [
    "data_state_county.info()"
   ]
  },
  {
   "cell_type": "code",
   "execution_count": 5,
   "id": "446e084f-5c67-40b4-88fa-423d246d36ed",
   "metadata": {
    "tags": []
   },
   "outputs": [
    {
     "data": {
      "text/html": [
       "<div>\n",
       "<style scoped>\n",
       "    .dataframe tbody tr th:only-of-type {\n",
       "        vertical-align: middle;\n",
       "    }\n",
       "\n",
       "    .dataframe tbody tr th {\n",
       "        vertical-align: top;\n",
       "    }\n",
       "\n",
       "    .dataframe thead th {\n",
       "        text-align: right;\n",
       "    }\n",
       "</style>\n",
       "<table border=\"1\" class=\"dataframe\">\n",
       "  <thead>\n",
       "    <tr style=\"text-align: right;\">\n",
       "      <th></th>\n",
       "      <th>FIPS</th>\n",
       "      <th>Value</th>\n",
       "    </tr>\n",
       "  </thead>\n",
       "  <tbody>\n",
       "    <tr>\n",
       "      <th>count</th>\n",
       "      <td>852810.000000</td>\n",
       "      <td>8.528100e+05</td>\n",
       "    </tr>\n",
       "    <tr>\n",
       "      <th>mean</th>\n",
       "      <td>30336.233835</td>\n",
       "      <td>1.053919e+04</td>\n",
       "    </tr>\n",
       "    <tr>\n",
       "      <th>std</th>\n",
       "      <td>15188.596259</td>\n",
       "      <td>2.148199e+05</td>\n",
       "    </tr>\n",
       "    <tr>\n",
       "      <th>min</th>\n",
       "      <td>1.000000</td>\n",
       "      <td>-1.000000e+02</td>\n",
       "    </tr>\n",
       "    <tr>\n",
       "      <th>25%</th>\n",
       "      <td>18171.000000</td>\n",
       "      <td>0.000000e+00</td>\n",
       "    </tr>\n",
       "    <tr>\n",
       "      <th>50%</th>\n",
       "      <td>29171.000000</td>\n",
       "      <td>3.000000e+00</td>\n",
       "    </tr>\n",
       "    <tr>\n",
       "      <th>75%</th>\n",
       "      <td>45069.000000</td>\n",
       "      <td>2.910000e+01</td>\n",
       "    </tr>\n",
       "    <tr>\n",
       "      <th>max</th>\n",
       "      <td>56045.000000</td>\n",
       "      <td>3.955704e+07</td>\n",
       "    </tr>\n",
       "  </tbody>\n",
       "</table>\n",
       "</div>"
      ],
      "text/plain": [
       "                FIPS         Value\n",
       "count  852810.000000  8.528100e+05\n",
       "mean    30336.233835  1.053919e+04\n",
       "std     15188.596259  2.148199e+05\n",
       "min         1.000000 -1.000000e+02\n",
       "25%     18171.000000  0.000000e+00\n",
       "50%     29171.000000  3.000000e+00\n",
       "75%     45069.000000  2.910000e+01\n",
       "max     56045.000000  3.955704e+07"
      ]
     },
     "execution_count": 5,
     "metadata": {},
     "output_type": "execute_result"
    }
   ],
   "source": [
    "data_state_county.describe()"
   ]
  },
  {
   "cell_type": "markdown",
   "id": "586840dc-7521-4c11-b454-4323e5e1a522",
   "metadata": {},
   "source": [
    "Importing State Dataset -- This dataset contains supplemental information at the state level"
   ]
  },
  {
   "cell_type": "code",
   "execution_count": 6,
   "id": "a2348e80-09be-4a21-80ad-97d75d849473",
   "metadata": {
    "tags": []
   },
   "outputs": [
    {
     "data": {
      "text/html": [
       "<div>\n",
       "<style scoped>\n",
       "    .dataframe tbody tr th:only-of-type {\n",
       "        vertical-align: middle;\n",
       "    }\n",
       "\n",
       "    .dataframe tbody tr th {\n",
       "        vertical-align: top;\n",
       "    }\n",
       "\n",
       "    .dataframe thead th {\n",
       "        text-align: right;\n",
       "    }\n",
       "</style>\n",
       "<table border=\"1\" class=\"dataframe\">\n",
       "  <thead>\n",
       "    <tr style=\"text-align: right;\">\n",
       "      <th></th>\n",
       "      <th>State_FIPS</th>\n",
       "      <th>State</th>\n",
       "      <th>Variable_Code</th>\n",
       "      <th>Value</th>\n",
       "    </tr>\n",
       "  </thead>\n",
       "  <tbody>\n",
       "    <tr>\n",
       "      <th>0</th>\n",
       "      <td>1</td>\n",
       "      <td>AL</td>\n",
       "      <td>WIC_PART_2012</td>\n",
       "      <td>141899.8333</td>\n",
       "    </tr>\n",
       "    <tr>\n",
       "      <th>1</th>\n",
       "      <td>1</td>\n",
       "      <td>AL</td>\n",
       "      <td>WIC_PART_2013</td>\n",
       "      <td>139000.5000</td>\n",
       "    </tr>\n",
       "    <tr>\n",
       "      <th>2</th>\n",
       "      <td>1</td>\n",
       "      <td>AL</td>\n",
       "      <td>WIC_PART_2014</td>\n",
       "      <td>131046.2500</td>\n",
       "    </tr>\n",
       "    <tr>\n",
       "      <th>3</th>\n",
       "      <td>1</td>\n",
       "      <td>AL</td>\n",
       "      <td>WIC_PART_2015</td>\n",
       "      <td>132132.7500</td>\n",
       "    </tr>\n",
       "    <tr>\n",
       "      <th>4</th>\n",
       "      <td>1</td>\n",
       "      <td>AL</td>\n",
       "      <td>WIC_PART_2016</td>\n",
       "      <td>129159.9167</td>\n",
       "    </tr>\n",
       "  </tbody>\n",
       "</table>\n",
       "</div>"
      ],
      "text/plain": [
       "   State_FIPS State  Variable_Code        Value\n",
       "0           1    AL  WIC_PART_2012  141899.8333\n",
       "1           1    AL  WIC_PART_2013  139000.5000\n",
       "2           1    AL  WIC_PART_2014  131046.2500\n",
       "3           1    AL  WIC_PART_2015  132132.7500\n",
       "4           1    AL  WIC_PART_2016  129159.9167"
      ]
     },
     "execution_count": 6,
     "metadata": {},
     "output_type": "execute_result"
    }
   ],
   "source": [
    "# Importing State Dataset\n",
    "file_state_data = 'SupplementalDataState.csv'\n",
    "data_state = pd.read_csv(file_state_data)\n",
    "data_state.head()"
   ]
  },
  {
   "cell_type": "markdown",
   "id": "57a1a3dc-23f2-4230-9214-fa2ec0fecdfe",
   "metadata": {},
   "source": [
    "Importing County Dataset -- This dataset contains supplemental information"
   ]
  },
  {
   "cell_type": "code",
   "execution_count": 7,
   "id": "d459e9f6-0013-4002-a977-fba67f18d3d7",
   "metadata": {
    "tags": []
   },
   "outputs": [
    {
     "data": {
      "text/html": [
       "<div>\n",
       "<style scoped>\n",
       "    .dataframe tbody tr th:only-of-type {\n",
       "        vertical-align: middle;\n",
       "    }\n",
       "\n",
       "    .dataframe tbody tr th {\n",
       "        vertical-align: top;\n",
       "    }\n",
       "\n",
       "    .dataframe thead th {\n",
       "        text-align: right;\n",
       "    }\n",
       "</style>\n",
       "<table border=\"1\" class=\"dataframe\">\n",
       "  <thead>\n",
       "    <tr style=\"text-align: right;\">\n",
       "      <th></th>\n",
       "      <th>FIPS</th>\n",
       "      <th>State</th>\n",
       "      <th>County</th>\n",
       "      <th>Variable_Code</th>\n",
       "      <th>Value</th>\n",
       "    </tr>\n",
       "  </thead>\n",
       "  <tbody>\n",
       "    <tr>\n",
       "      <th>0</th>\n",
       "      <td>1001</td>\n",
       "      <td>AL</td>\n",
       "      <td>Autauga County</td>\n",
       "      <td>2010_Census_Population</td>\n",
       "      <td>54571</td>\n",
       "    </tr>\n",
       "    <tr>\n",
       "      <th>1</th>\n",
       "      <td>1001</td>\n",
       "      <td>AL</td>\n",
       "      <td>Autauga County</td>\n",
       "      <td>Population_Estimate_2011</td>\n",
       "      <td>55208</td>\n",
       "    </tr>\n",
       "    <tr>\n",
       "      <th>2</th>\n",
       "      <td>1001</td>\n",
       "      <td>AL</td>\n",
       "      <td>Autauga County</td>\n",
       "      <td>Population_Estimate_2012</td>\n",
       "      <td>54936</td>\n",
       "    </tr>\n",
       "    <tr>\n",
       "      <th>3</th>\n",
       "      <td>1001</td>\n",
       "      <td>AL</td>\n",
       "      <td>Autauga County</td>\n",
       "      <td>Population_Estimate_2013</td>\n",
       "      <td>54713</td>\n",
       "    </tr>\n",
       "    <tr>\n",
       "      <th>4</th>\n",
       "      <td>1001</td>\n",
       "      <td>AL</td>\n",
       "      <td>Autauga County</td>\n",
       "      <td>Population_Estimate_2014</td>\n",
       "      <td>54876</td>\n",
       "    </tr>\n",
       "  </tbody>\n",
       "</table>\n",
       "</div>"
      ],
      "text/plain": [
       "   FIPS State          County             Variable_Code  Value\n",
       "0  1001    AL  Autauga County    2010_Census_Population  54571\n",
       "1  1001    AL  Autauga County  Population_Estimate_2011  55208\n",
       "2  1001    AL  Autauga County  Population_Estimate_2012  54936\n",
       "3  1001    AL  Autauga County  Population_Estimate_2013  54713\n",
       "4  1001    AL  Autauga County  Population_Estimate_2014  54876"
      ]
     },
     "execution_count": 7,
     "metadata": {},
     "output_type": "execute_result"
    }
   ],
   "source": [
    "# Importing County Dataset\n",
    "file_county_data = 'SupplementalDataCounty.csv'\n",
    "data_county = pd.read_csv(file_county_data)\n",
    "data_county.head()"
   ]
  },
  {
   "cell_type": "code",
   "execution_count": 8,
   "id": "5741e0e8-a79d-401d-aa0a-8038a9c10204",
   "metadata": {
    "tags": []
   },
   "outputs": [
    {
     "data": {
      "text/plain": [
       "FIPS              int64\n",
       "State            object\n",
       "County           object\n",
       "Variable_Code    object\n",
       "Value             int64\n",
       "dtype: object"
      ]
     },
     "execution_count": 8,
     "metadata": {},
     "output_type": "execute_result"
    }
   ],
   "source": [
    "data_county.dtypes"
   ]
  },
  {
   "cell_type": "markdown",
   "id": "b0348de9-1277-43b7-9ae9-91d8733f058e",
   "metadata": {},
   "source": [
    "Importing Variable List -- Might be useful later"
   ]
  },
  {
   "cell_type": "code",
   "execution_count": 9,
   "id": "1df918f9-a0bb-4ff3-8336-143da7a63045",
   "metadata": {
    "tags": []
   },
   "outputs": [
    {
     "data": {
      "text/html": [
       "<div>\n",
       "<style scoped>\n",
       "    .dataframe tbody tr th:only-of-type {\n",
       "        vertical-align: middle;\n",
       "    }\n",
       "\n",
       "    .dataframe tbody tr th {\n",
       "        vertical-align: top;\n",
       "    }\n",
       "\n",
       "    .dataframe thead th {\n",
       "        text-align: right;\n",
       "    }\n",
       "</style>\n",
       "<table border=\"1\" class=\"dataframe\">\n",
       "  <thead>\n",
       "    <tr style=\"text-align: right;\">\n",
       "      <th></th>\n",
       "      <th>Variable_Name</th>\n",
       "      <th>Category_Name</th>\n",
       "      <th>Category_Code</th>\n",
       "      <th>Subcategory_Name</th>\n",
       "      <th>Variable_Code</th>\n",
       "      <th>Geography</th>\n",
       "      <th>Units</th>\n",
       "    </tr>\n",
       "  </thead>\n",
       "  <tbody>\n",
       "    <tr>\n",
       "      <th>0</th>\n",
       "      <td>Population, low access to store, 2010</td>\n",
       "      <td>Access and Proximity to Grocery Store</td>\n",
       "      <td>ACCESS</td>\n",
       "      <td>Overall</td>\n",
       "      <td>LACCESS_POP10</td>\n",
       "      <td>CNTY10</td>\n",
       "      <td>Count</td>\n",
       "    </tr>\n",
       "    <tr>\n",
       "      <th>1</th>\n",
       "      <td>Population, low access to store, 2015</td>\n",
       "      <td>Access and Proximity to Grocery Store</td>\n",
       "      <td>ACCESS</td>\n",
       "      <td>Overall</td>\n",
       "      <td>LACCESS_POP15</td>\n",
       "      <td>CNTY10</td>\n",
       "      <td>Count</td>\n",
       "    </tr>\n",
       "    <tr>\n",
       "      <th>2</th>\n",
       "      <td>Population, low access to store (% change), 20...</td>\n",
       "      <td>Access and Proximity to Grocery Store</td>\n",
       "      <td>ACCESS</td>\n",
       "      <td>Overall</td>\n",
       "      <td>PCH_LACCESS_POP_10_15</td>\n",
       "      <td>CNTY10</td>\n",
       "      <td>% change</td>\n",
       "    </tr>\n",
       "    <tr>\n",
       "      <th>3</th>\n",
       "      <td>Population, low access to store (%), 2010</td>\n",
       "      <td>Access and Proximity to Grocery Store</td>\n",
       "      <td>ACCESS</td>\n",
       "      <td>Overall</td>\n",
       "      <td>PCT_LACCESS_POP10</td>\n",
       "      <td>CNTY10</td>\n",
       "      <td>Percent</td>\n",
       "    </tr>\n",
       "    <tr>\n",
       "      <th>4</th>\n",
       "      <td>Population, low access to store (%), 2015</td>\n",
       "      <td>Access and Proximity to Grocery Store</td>\n",
       "      <td>ACCESS</td>\n",
       "      <td>Overall</td>\n",
       "      <td>PCT_LACCESS_POP15</td>\n",
       "      <td>CNTY10</td>\n",
       "      <td>Percent</td>\n",
       "    </tr>\n",
       "  </tbody>\n",
       "</table>\n",
       "</div>"
      ],
      "text/plain": [
       "                                       Variable_Name  \\\n",
       "0              Population, low access to store, 2010   \n",
       "1              Population, low access to store, 2015   \n",
       "2  Population, low access to store (% change), 20...   \n",
       "3          Population, low access to store (%), 2010   \n",
       "4          Population, low access to store (%), 2015   \n",
       "\n",
       "                           Category_Name Category_Code Subcategory_Name  \\\n",
       "0  Access and Proximity to Grocery Store        ACCESS          Overall   \n",
       "1  Access and Proximity to Grocery Store        ACCESS          Overall   \n",
       "2  Access and Proximity to Grocery Store        ACCESS          Overall   \n",
       "3  Access and Proximity to Grocery Store        ACCESS          Overall   \n",
       "4  Access and Proximity to Grocery Store        ACCESS          Overall   \n",
       "\n",
       "           Variable_Code Geography     Units  \n",
       "0          LACCESS_POP10    CNTY10     Count  \n",
       "1          LACCESS_POP15    CNTY10     Count  \n",
       "2  PCH_LACCESS_POP_10_15    CNTY10  % change  \n",
       "3      PCT_LACCESS_POP10    CNTY10   Percent  \n",
       "4      PCT_LACCESS_POP15    CNTY10   Percent  "
      ]
     },
     "execution_count": 9,
     "metadata": {},
     "output_type": "execute_result"
    }
   ],
   "source": [
    "file_variables = 'VariableList.csv'\n",
    "variable_list = pd.read_csv(file_variables)\n",
    "variable_list.head()"
   ]
  },
  {
   "cell_type": "code",
   "execution_count": 10,
   "id": "16e7c1f2-7d13-42f5-a96a-7fd63104c139",
   "metadata": {
    "tags": []
   },
   "outputs": [
    {
     "data": {
      "text/plain": [
       "Variable_Name       object\n",
       "Category_Name       object\n",
       "Category_Code       object\n",
       "Subcategory_Name    object\n",
       "Variable_Code       object\n",
       "Geography           object\n",
       "Units               object\n",
       "dtype: object"
      ]
     },
     "execution_count": 10,
     "metadata": {},
     "output_type": "execute_result"
    }
   ],
   "source": [
    "variable_list.dtypes"
   ]
  },
  {
   "cell_type": "markdown",
   "id": "634a719a-1c50-4546-930f-0e1f2c5cf628",
   "metadata": {},
   "source": [
    "Reviewing the data_state_county data more closely"
   ]
  },
  {
   "cell_type": "code",
   "execution_count": 11,
   "id": "ae4286b6-b310-4fbe-a234-7187c06fe8c1",
   "metadata": {
    "tags": []
   },
   "outputs": [
    {
     "data": {
      "text/html": [
       "<div>\n",
       "<style scoped>\n",
       "    .dataframe tbody tr th:only-of-type {\n",
       "        vertical-align: middle;\n",
       "    }\n",
       "\n",
       "    .dataframe tbody tr th {\n",
       "        vertical-align: top;\n",
       "    }\n",
       "\n",
       "    .dataframe thead th {\n",
       "        text-align: right;\n",
       "    }\n",
       "</style>\n",
       "<table border=\"1\" class=\"dataframe\">\n",
       "  <thead>\n",
       "    <tr style=\"text-align: right;\">\n",
       "      <th></th>\n",
       "      <th>FIPS</th>\n",
       "      <th>State</th>\n",
       "      <th>County</th>\n",
       "      <th>Variable_Code</th>\n",
       "      <th>Value</th>\n",
       "    </tr>\n",
       "  </thead>\n",
       "  <tbody>\n",
       "    <tr>\n",
       "      <th>0</th>\n",
       "      <td>1001</td>\n",
       "      <td>AL</td>\n",
       "      <td>Autauga</td>\n",
       "      <td>LACCESS_POP10</td>\n",
       "      <td>1.842844e+04</td>\n",
       "    </tr>\n",
       "    <tr>\n",
       "      <th>1</th>\n",
       "      <td>1001</td>\n",
       "      <td>AL</td>\n",
       "      <td>Autauga</td>\n",
       "      <td>LACCESS_POP15</td>\n",
       "      <td>1.749669e+04</td>\n",
       "    </tr>\n",
       "    <tr>\n",
       "      <th>2</th>\n",
       "      <td>1001</td>\n",
       "      <td>AL</td>\n",
       "      <td>Autauga</td>\n",
       "      <td>PCH_LACCESS_POP_10_15</td>\n",
       "      <td>-5.056026e+00</td>\n",
       "    </tr>\n",
       "    <tr>\n",
       "      <th>3</th>\n",
       "      <td>1001</td>\n",
       "      <td>AL</td>\n",
       "      <td>Autauga</td>\n",
       "      <td>PCT_LACCESS_POP10</td>\n",
       "      <td>3.376966e+01</td>\n",
       "    </tr>\n",
       "    <tr>\n",
       "      <th>4</th>\n",
       "      <td>1001</td>\n",
       "      <td>AL</td>\n",
       "      <td>Autauga</td>\n",
       "      <td>PCT_LACCESS_POP15</td>\n",
       "      <td>3.206225e+01</td>\n",
       "    </tr>\n",
       "    <tr>\n",
       "      <th>...</th>\n",
       "      <td>...</td>\n",
       "      <td>...</td>\n",
       "      <td>...</td>\n",
       "      <td>...</td>\n",
       "      <td>...</td>\n",
       "    </tr>\n",
       "    <tr>\n",
       "      <th>850705</th>\n",
       "      <td>1</td>\n",
       "      <td>AL</td>\n",
       "      <td>Total</td>\n",
       "      <td>State_Population_2014</td>\n",
       "      <td>4.842481e+06</td>\n",
       "    </tr>\n",
       "    <tr>\n",
       "      <th>850706</th>\n",
       "      <td>1</td>\n",
       "      <td>AL</td>\n",
       "      <td>Total</td>\n",
       "      <td>State_Population_2015</td>\n",
       "      <td>4.853160e+06</td>\n",
       "    </tr>\n",
       "    <tr>\n",
       "      <th>850707</th>\n",
       "      <td>1</td>\n",
       "      <td>AL</td>\n",
       "      <td>Total</td>\n",
       "      <td>State_Population_2016</td>\n",
       "      <td>4.864745e+06</td>\n",
       "    </tr>\n",
       "    <tr>\n",
       "      <th>850708</th>\n",
       "      <td>1</td>\n",
       "      <td>AL</td>\n",
       "      <td>Total</td>\n",
       "      <td>State_Population_2017</td>\n",
       "      <td>4.875120e+06</td>\n",
       "    </tr>\n",
       "    <tr>\n",
       "      <th>850709</th>\n",
       "      <td>1</td>\n",
       "      <td>AL</td>\n",
       "      <td>Total</td>\n",
       "      <td>State_Population_2018</td>\n",
       "      <td>4.887871e+06</td>\n",
       "    </tr>\n",
       "  </tbody>\n",
       "</table>\n",
       "<p>18504 rows × 5 columns</p>\n",
       "</div>"
      ],
      "text/plain": [
       "        FIPS State   County          Variable_Code         Value\n",
       "0       1001    AL  Autauga          LACCESS_POP10  1.842844e+04\n",
       "1       1001    AL  Autauga          LACCESS_POP15  1.749669e+04\n",
       "2       1001    AL  Autauga  PCH_LACCESS_POP_10_15 -5.056026e+00\n",
       "3       1001    AL  Autauga      PCT_LACCESS_POP10  3.376966e+01\n",
       "4       1001    AL  Autauga      PCT_LACCESS_POP15  3.206225e+01\n",
       "...      ...   ...      ...                    ...           ...\n",
       "850705     1    AL    Total  State_Population_2014  4.842481e+06\n",
       "850706     1    AL    Total  State_Population_2015  4.853160e+06\n",
       "850707     1    AL    Total  State_Population_2016  4.864745e+06\n",
       "850708     1    AL    Total  State_Population_2017  4.875120e+06\n",
       "850709     1    AL    Total  State_Population_2018  4.887871e+06\n",
       "\n",
       "[18504 rows x 5 columns]"
      ]
     },
     "execution_count": 11,
     "metadata": {},
     "output_type": "execute_result"
    }
   ],
   "source": [
    "# The different variables are contained in the Variable_Code column\n",
    "# Each Variable_Code is available for each state\n",
    "data_state_county[data_state_county['State']=='AL']"
   ]
  },
  {
   "cell_type": "code",
   "execution_count": 12,
   "id": "ce1c9a59-6d0a-4874-be1b-779a5be5d584",
   "metadata": {
    "tags": []
   },
   "outputs": [
    {
     "data": {
      "text/plain": [
       "FIPS               int64\n",
       "State             object\n",
       "County            object\n",
       "Variable_Code     object\n",
       "Value            float64\n",
       "dtype: object"
      ]
     },
     "execution_count": 12,
     "metadata": {},
     "output_type": "execute_result"
    }
   ],
   "source": [
    "data_state_county.dtypes"
   ]
  },
  {
   "cell_type": "code",
   "execution_count": 13,
   "id": "00452d0b-3294-42b6-8d73-f80dfa09e56d",
   "metadata": {
    "tags": []
   },
   "outputs": [],
   "source": [
    "# Changing State from object to string\n",
    "data_state_county['State'] = data_state_county['State'].astype('string')"
   ]
  },
  {
   "cell_type": "code",
   "execution_count": 14,
   "id": "906f52ed-5df5-4457-b332-459510515b86",
   "metadata": {
    "tags": []
   },
   "outputs": [],
   "source": [
    "# Changing County from object to string\n",
    "data_state_county['County'] = data_state_county['County'].astype('string')"
   ]
  },
  {
   "cell_type": "code",
   "execution_count": 15,
   "id": "5510aaed-33a2-4972-8fe4-a9a2ce5f8362",
   "metadata": {
    "tags": []
   },
   "outputs": [],
   "source": [
    "assert data_state_county['County'].dtype == 'string'"
   ]
  },
  {
   "cell_type": "code",
   "execution_count": 16,
   "id": "a4843508-622d-41ab-873b-7eb74aafcb90",
   "metadata": {
    "tags": []
   },
   "outputs": [],
   "source": [
    "assert data_state_county['State'].dtype == 'string'"
   ]
  },
  {
   "cell_type": "markdown",
   "id": "3d6e764a-c6af-4a6a-a3a5-0f3027641819",
   "metadata": {},
   "source": [
    "Finding missing values"
   ]
  },
  {
   "cell_type": "code",
   "execution_count": 17,
   "id": "6c3b0d14-b493-4775-8e0f-f8927f08fd5f",
   "metadata": {
    "tags": []
   },
   "outputs": [
    {
     "data": {
      "text/plain": [
       "FIPS             0\n",
       "State            0\n",
       "County           0\n",
       "Variable_Code    0\n",
       "Value            0\n",
       "dtype: int64"
      ]
     },
     "execution_count": 17,
     "metadata": {},
     "output_type": "execute_result"
    }
   ],
   "source": [
    "#There are no missing values\n",
    "data_state_county.isna().sum()"
   ]
  },
  {
   "cell_type": "markdown",
   "id": "f0be5f78-83e5-400d-b97d-54450fdfb396",
   "metadata": {},
   "source": [
    "Subsetting and grouping"
   ]
  },
  {
   "cell_type": "code",
   "execution_count": 18,
   "id": "1676f542-b95f-4ab0-a94d-49c853bce35f",
   "metadata": {
    "tags": []
   },
   "outputs": [
    {
     "data": {
      "text/html": [
       "<div>\n",
       "<style scoped>\n",
       "    .dataframe tbody tr th:only-of-type {\n",
       "        vertical-align: middle;\n",
       "    }\n",
       "\n",
       "    .dataframe tbody tr th {\n",
       "        vertical-align: top;\n",
       "    }\n",
       "\n",
       "    .dataframe thead th {\n",
       "        text-align: right;\n",
       "    }\n",
       "</style>\n",
       "<table border=\"1\" class=\"dataframe\">\n",
       "  <thead>\n",
       "    <tr style=\"text-align: right;\">\n",
       "      <th></th>\n",
       "      <th>FIPS</th>\n",
       "      <th>State</th>\n",
       "      <th>County</th>\n",
       "      <th>Variable_Code</th>\n",
       "      <th>Value</th>\n",
       "    </tr>\n",
       "  </thead>\n",
       "  <tbody>\n",
       "    <tr>\n",
       "      <th>64423</th>\n",
       "      <td>29189</td>\n",
       "      <td>MO</td>\n",
       "      <td>St. Louis</td>\n",
       "      <td>LACCESS_POP10</td>\n",
       "      <td>264849.564300</td>\n",
       "    </tr>\n",
       "    <tr>\n",
       "      <th>64424</th>\n",
       "      <td>29189</td>\n",
       "      <td>MO</td>\n",
       "      <td>St. Louis</td>\n",
       "      <td>LACCESS_POP15</td>\n",
       "      <td>267303.233300</td>\n",
       "    </tr>\n",
       "    <tr>\n",
       "      <th>64425</th>\n",
       "      <td>29189</td>\n",
       "      <td>MO</td>\n",
       "      <td>St. Louis</td>\n",
       "      <td>PCH_LACCESS_POP_10_15</td>\n",
       "      <td>0.926439</td>\n",
       "    </tr>\n",
       "    <tr>\n",
       "      <th>64426</th>\n",
       "      <td>29189</td>\n",
       "      <td>MO</td>\n",
       "      <td>St. Louis</td>\n",
       "      <td>PCT_LACCESS_POP10</td>\n",
       "      <td>26.512689</td>\n",
       "    </tr>\n",
       "    <tr>\n",
       "      <th>64427</th>\n",
       "      <td>29189</td>\n",
       "      <td>MO</td>\n",
       "      <td>St. Louis</td>\n",
       "      <td>PCT_LACCESS_POP15</td>\n",
       "      <td>26.758313</td>\n",
       "    </tr>\n",
       "    <tr>\n",
       "      <th>...</th>\n",
       "      <td>...</td>\n",
       "      <td>...</td>\n",
       "      <td>...</td>\n",
       "      <td>...</td>\n",
       "      <td>...</td>\n",
       "    </tr>\n",
       "    <tr>\n",
       "      <th>799217</th>\n",
       "      <td>29510</td>\n",
       "      <td>MO</td>\n",
       "      <td>St. Louis</td>\n",
       "      <td>PERPOV10</td>\n",
       "      <td>1.000000</td>\n",
       "    </tr>\n",
       "    <tr>\n",
       "      <th>799218</th>\n",
       "      <td>29510</td>\n",
       "      <td>MO</td>\n",
       "      <td>St. Louis</td>\n",
       "      <td>CHILDPOVRATE15</td>\n",
       "      <td>39.300000</td>\n",
       "    </tr>\n",
       "    <tr>\n",
       "      <th>799219</th>\n",
       "      <td>29510</td>\n",
       "      <td>MO</td>\n",
       "      <td>St. Louis</td>\n",
       "      <td>PERCHLDPOV10</td>\n",
       "      <td>1.000000</td>\n",
       "    </tr>\n",
       "    <tr>\n",
       "      <th>799220</th>\n",
       "      <td>29510</td>\n",
       "      <td>MO</td>\n",
       "      <td>St. Louis</td>\n",
       "      <td>METRO13</td>\n",
       "      <td>1.000000</td>\n",
       "    </tr>\n",
       "    <tr>\n",
       "      <th>799221</th>\n",
       "      <td>29510</td>\n",
       "      <td>MO</td>\n",
       "      <td>St. Louis</td>\n",
       "      <td>POPLOSS10</td>\n",
       "      <td>1.000000</td>\n",
       "    </tr>\n",
       "  </tbody>\n",
       "</table>\n",
       "<p>469 rows × 5 columns</p>\n",
       "</div>"
      ],
      "text/plain": [
       "         FIPS State     County          Variable_Code          Value\n",
       "64423   29189    MO  St. Louis          LACCESS_POP10  264849.564300\n",
       "64424   29189    MO  St. Louis          LACCESS_POP15  267303.233300\n",
       "64425   29189    MO  St. Louis  PCH_LACCESS_POP_10_15       0.926439\n",
       "64426   29189    MO  St. Louis      PCT_LACCESS_POP10      26.512689\n",
       "64427   29189    MO  St. Louis      PCT_LACCESS_POP15      26.758313\n",
       "...       ...   ...        ...                    ...            ...\n",
       "799217  29510    MO  St. Louis               PERPOV10       1.000000\n",
       "799218  29510    MO  St. Louis         CHILDPOVRATE15      39.300000\n",
       "799219  29510    MO  St. Louis           PERCHLDPOV10       1.000000\n",
       "799220  29510    MO  St. Louis                METRO13       1.000000\n",
       "799221  29510    MO  St. Louis              POPLOSS10       1.000000\n",
       "\n",
       "[469 rows x 5 columns]"
      ]
     },
     "execution_count": 18,
     "metadata": {},
     "output_type": "execute_result"
    }
   ],
   "source": [
    "is_mo = data_state_county['State'] == 'MO'\n",
    "is_stl = data_state_county['County'] == 'St. Louis'\n",
    "data_state_county[is_mo & is_stl]"
   ]
  },
  {
   "cell_type": "code",
   "execution_count": 19,
   "id": "4d941379-8220-436a-9f63-da1810a65148",
   "metadata": {
    "tags": []
   },
   "outputs": [],
   "source": [
    "# data_state_county.pivot_tables(values="
   ]
  },
  {
   "cell_type": "code",
   "execution_count": 23,
   "id": "90a1193e-9016-4bdb-961d-cea3960cd37c",
   "metadata": {
    "tags": []
   },
   "outputs": [],
   "source": [
    "LACCESS_POP10 = data_state_county[data_state_county['Variable_Code'] == 'LACCESS_POP10']"
   ]
  },
  {
   "cell_type": "code",
   "execution_count": 24,
   "id": "4ca8931e-4869-408a-85f9-32a3819eb3f9",
   "metadata": {
    "tags": []
   },
   "outputs": [
    {
     "name": "stdout",
     "output_type": "stream",
     "text": [
      "         FIPS State      County  Variable_Code         Value\n",
      "0        1001    AL     Autauga  LACCESS_POP10  18428.439690\n",
      "41       1003    AL     Baldwin  LACCESS_POP10  35210.814080\n",
      "82       1005    AL     Barbour  LACCESS_POP10   5722.305602\n",
      "123      1007    AL        Bibb  LACCESS_POP10   1044.867327\n",
      "164      1009    AL      Blount  LACCESS_POP10   1548.175559\n",
      "...       ...   ...         ...            ...           ...\n",
      "128070  56037    WY  Sweetwater  LACCESS_POP10  13391.715500\n",
      "128111  56039    WY       Teton  LACCESS_POP10   6212.423697\n",
      "128152  56041    WY       Uinta  LACCESS_POP10   4270.147119\n",
      "128193  56043    WY    Washakie  LACCESS_POP10    931.411647\n",
      "128234  56045    WY      Weston  LACCESS_POP10   1240.493102\n",
      "\n",
      "[3143 rows x 5 columns]\n"
     ]
    }
   ],
   "source": [
    "print(LACCESS_POP10)"
   ]
  },
  {
   "cell_type": "code",
   "execution_count": null,
   "id": "57d9f528-2f77-49b3-a661-294cf0a83c3b",
   "metadata": {},
   "outputs": [],
   "source": []
  }
 ],
 "metadata": {
  "kernelspec": {
   "display_name": "Python 3 (ipykernel)",
   "language": "python",
   "name": "python3"
  },
  "language_info": {
   "codemirror_mode": {
    "name": "ipython",
    "version": 3
   },
   "file_extension": ".py",
   "mimetype": "text/x-python",
   "name": "python",
   "nbconvert_exporter": "python",
   "pygments_lexer": "ipython3",
   "version": "3.11.5"
  }
 },
 "nbformat": 4,
 "nbformat_minor": 5
}
