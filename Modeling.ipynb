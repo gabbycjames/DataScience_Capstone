{
  "cells": [
    {
      "cell_type": "markdown",
      "metadata": {
        "id": "view-in-github",
        "colab_type": "text"
      },
      "source": [
        "<a href=\"https://colab.research.google.com/github/gabbycjames/DataScience_Capstone/blob/main/Modeling.ipynb\" target=\"_parent\"><img src=\"https://colab.research.google.com/assets/colab-badge.svg\" alt=\"Open In Colab\"/></a>"
      ]
    },
    {
      "cell_type": "markdown",
      "id": "6a8db0d8-d871-4215-92c0-d2653cb60d27",
      "metadata": {
        "id": "6a8db0d8-d871-4215-92c0-d2653cb60d27"
      },
      "source": [
        "# Food Desert Investigation -- Modeling"
      ]
    },
    {
      "cell_type": "markdown",
      "id": "75d5a74c-9431-4000-89dd-6b32d1f2ed7e",
      "metadata": {
        "id": "75d5a74c-9431-4000-89dd-6b32d1f2ed7e"
      },
      "source": [
        "## Imports"
      ]
    },
    {
      "cell_type": "code",
      "execution_count": 1,
      "id": "afc8e903-1d42-4475-b6ad-15fda0b2a787",
      "metadata": {
        "id": "afc8e903-1d42-4475-b6ad-15fda0b2a787"
      },
      "outputs": [],
      "source": [
        "import os\n",
        "import pandas as pd\n",
        "from datetime import datetime, timedelta\n",
        "import seaborn as sns\n",
        "import matplotlib.pyplot as plt\n",
        "import numpy as np\n",
        "%matplotlib inline\n",
        "import plotly.graph_objects as go"
      ]
    },
    {
      "cell_type": "markdown",
      "id": "73f24b5f-a1af-44d5-bf4d-ed60ca7b4e57",
      "metadata": {
        "id": "73f24b5f-a1af-44d5-bf4d-ed60ca7b4e57"
      },
      "source": [
        "## Data"
      ]
    },
    {
      "cell_type": "code",
      "source": [
        "from google.colab import drive\n",
        "drive.mount('/content/drive')"
      ],
      "metadata": {
        "colab": {
          "base_uri": "https://localhost:8080/"
        },
        "id": "6ioJ3b7_IObq",
        "outputId": "f8cb9ec2-e3d3-453d-a727-46dd075d8f9f"
      },
      "id": "6ioJ3b7_IObq",
      "execution_count": 2,
      "outputs": [
        {
          "output_type": "stream",
          "name": "stdout",
          "text": [
            "Mounted at /content/drive\n"
          ]
        }
      ]
    },
    {
      "cell_type": "code",
      "source": [
        "#%cd drive/My Drive/ColabNotebooks/(DataScience_Capstone/Modeling.i)"
      ],
      "metadata": {
        "id": "6X3pidK2IcwY"
      },
      "id": "6X3pidK2IcwY",
      "execution_count": 3,
      "outputs": []
    },
    {
      "cell_type": "code",
      "execution_count": 4,
      "id": "5b3e3be6-9004-4d36-b70e-f0ba0f931638",
      "metadata": {
        "id": "5b3e3be6-9004-4d36-b70e-f0ba0f931638"
      },
      "outputs": [],
      "source": [
        "df = pd.read_csv('/content/drive/MyDrive/DataScience_Capstone/scaled_data.csv')"
      ]
    },
    {
      "cell_type": "code",
      "execution_count": 5,
      "id": "10f7f9c4-86a2-4551-9ea6-3ce487229e8f",
      "metadata": {
        "id": "10f7f9c4-86a2-4551-9ea6-3ce487229e8f",
        "colab": {
          "base_uri": "https://localhost:8080/",
          "height": 253
        },
        "outputId": "a19becaf-a56a-41c5-c1d7-43675de97e0d"
      },
      "outputs": [
        {
          "output_type": "execute_result",
          "data": {
            "text/plain": [
              "       FIPS  CACFP_PART_2016   CONVS16     FFR16     FSR16    GROC16  \\\n",
              "0 -1.939205         -0.45354 -0.096774 -0.118123 -0.176332 -0.197530   \n",
              "1 -1.939073         -0.45354  0.799750  0.298354  0.582731  0.090641   \n",
              "2 -1.938941         -0.45354 -0.220432 -0.196213 -0.239279 -0.186447   \n",
              "3 -1.938809         -0.45354 -0.261652 -0.255709 -0.265198 -0.175363   \n",
              "4 -1.938677         -0.45354 -0.137993 -0.196213 -0.246684 -0.175363   \n",
              "\n",
              "   NSLP_PART_2016  PCT_WICINFANTCHILD16  PCT_WICWOMEN16  RECFAC16  ...  \\\n",
              "0          -0.398               1.35391        0.898924 -0.130226  ...   \n",
              "1          -0.398               1.35391        0.898924  0.275224  ...   \n",
              "2          -0.398               1.35391        0.898924 -0.292406  ...   \n",
              "3          -0.398               1.35391        0.898924 -0.265376  ...   \n",
              "4          -0.398               1.35391        0.898924 -0.184286  ...   \n",
              "\n",
              "      Asian    Latino    HS_GED  Bachelors  Employed  Unemployed   Midwest  \\\n",
              "0 -0.450608 -0.439182 -0.317678  -0.486712 -0.432052   -0.366769 -0.710826   \n",
              "1 -0.450608 -0.439182 -0.317678  -0.486712 -0.432052   -0.366769 -0.710826   \n",
              "2 -0.450608 -0.439182 -0.317678  -0.486712 -0.432052   -0.366769 -0.710826   \n",
              "3 -0.450608 -0.439182 -0.317678  -0.486712 -0.432052   -0.366769 -0.710826   \n",
              "4 -0.450608 -0.439182 -0.317678  -0.486712 -0.432052   -0.366769 -0.710826   \n",
              "\n",
              "   Northeast     South      West  \n",
              "0  -0.272468  1.099162 -0.407414  \n",
              "1  -0.272468  1.099162 -0.407414  \n",
              "2  -0.272468  1.099162 -0.407414  \n",
              "3  -0.272468  1.099162 -0.407414  \n",
              "4  -0.272468  1.099162 -0.407414  \n",
              "\n",
              "[5 rows x 33 columns]"
            ],
            "text/html": [
              "\n",
              "  <div id=\"df-fd03be6c-09a5-433c-bf94-134eb6fdae6b\" class=\"colab-df-container\">\n",
              "    <div>\n",
              "<style scoped>\n",
              "    .dataframe tbody tr th:only-of-type {\n",
              "        vertical-align: middle;\n",
              "    }\n",
              "\n",
              "    .dataframe tbody tr th {\n",
              "        vertical-align: top;\n",
              "    }\n",
              "\n",
              "    .dataframe thead th {\n",
              "        text-align: right;\n",
              "    }\n",
              "</style>\n",
              "<table border=\"1\" class=\"dataframe\">\n",
              "  <thead>\n",
              "    <tr style=\"text-align: right;\">\n",
              "      <th></th>\n",
              "      <th>FIPS</th>\n",
              "      <th>CACFP_PART_2016</th>\n",
              "      <th>CONVS16</th>\n",
              "      <th>FFR16</th>\n",
              "      <th>FSR16</th>\n",
              "      <th>GROC16</th>\n",
              "      <th>NSLP_PART_2016</th>\n",
              "      <th>PCT_WICINFANTCHILD16</th>\n",
              "      <th>PCT_WICWOMEN16</th>\n",
              "      <th>RECFAC16</th>\n",
              "      <th>...</th>\n",
              "      <th>Asian</th>\n",
              "      <th>Latino</th>\n",
              "      <th>HS_GED</th>\n",
              "      <th>Bachelors</th>\n",
              "      <th>Employed</th>\n",
              "      <th>Unemployed</th>\n",
              "      <th>Midwest</th>\n",
              "      <th>Northeast</th>\n",
              "      <th>South</th>\n",
              "      <th>West</th>\n",
              "    </tr>\n",
              "  </thead>\n",
              "  <tbody>\n",
              "    <tr>\n",
              "      <th>0</th>\n",
              "      <td>-1.939205</td>\n",
              "      <td>-0.45354</td>\n",
              "      <td>-0.096774</td>\n",
              "      <td>-0.118123</td>\n",
              "      <td>-0.176332</td>\n",
              "      <td>-0.197530</td>\n",
              "      <td>-0.398</td>\n",
              "      <td>1.35391</td>\n",
              "      <td>0.898924</td>\n",
              "      <td>-0.130226</td>\n",
              "      <td>...</td>\n",
              "      <td>-0.450608</td>\n",
              "      <td>-0.439182</td>\n",
              "      <td>-0.317678</td>\n",
              "      <td>-0.486712</td>\n",
              "      <td>-0.432052</td>\n",
              "      <td>-0.366769</td>\n",
              "      <td>-0.710826</td>\n",
              "      <td>-0.272468</td>\n",
              "      <td>1.099162</td>\n",
              "      <td>-0.407414</td>\n",
              "    </tr>\n",
              "    <tr>\n",
              "      <th>1</th>\n",
              "      <td>-1.939073</td>\n",
              "      <td>-0.45354</td>\n",
              "      <td>0.799750</td>\n",
              "      <td>0.298354</td>\n",
              "      <td>0.582731</td>\n",
              "      <td>0.090641</td>\n",
              "      <td>-0.398</td>\n",
              "      <td>1.35391</td>\n",
              "      <td>0.898924</td>\n",
              "      <td>0.275224</td>\n",
              "      <td>...</td>\n",
              "      <td>-0.450608</td>\n",
              "      <td>-0.439182</td>\n",
              "      <td>-0.317678</td>\n",
              "      <td>-0.486712</td>\n",
              "      <td>-0.432052</td>\n",
              "      <td>-0.366769</td>\n",
              "      <td>-0.710826</td>\n",
              "      <td>-0.272468</td>\n",
              "      <td>1.099162</td>\n",
              "      <td>-0.407414</td>\n",
              "    </tr>\n",
              "    <tr>\n",
              "      <th>2</th>\n",
              "      <td>-1.938941</td>\n",
              "      <td>-0.45354</td>\n",
              "      <td>-0.220432</td>\n",
              "      <td>-0.196213</td>\n",
              "      <td>-0.239279</td>\n",
              "      <td>-0.186447</td>\n",
              "      <td>-0.398</td>\n",
              "      <td>1.35391</td>\n",
              "      <td>0.898924</td>\n",
              "      <td>-0.292406</td>\n",
              "      <td>...</td>\n",
              "      <td>-0.450608</td>\n",
              "      <td>-0.439182</td>\n",
              "      <td>-0.317678</td>\n",
              "      <td>-0.486712</td>\n",
              "      <td>-0.432052</td>\n",
              "      <td>-0.366769</td>\n",
              "      <td>-0.710826</td>\n",
              "      <td>-0.272468</td>\n",
              "      <td>1.099162</td>\n",
              "      <td>-0.407414</td>\n",
              "    </tr>\n",
              "    <tr>\n",
              "      <th>3</th>\n",
              "      <td>-1.938809</td>\n",
              "      <td>-0.45354</td>\n",
              "      <td>-0.261652</td>\n",
              "      <td>-0.255709</td>\n",
              "      <td>-0.265198</td>\n",
              "      <td>-0.175363</td>\n",
              "      <td>-0.398</td>\n",
              "      <td>1.35391</td>\n",
              "      <td>0.898924</td>\n",
              "      <td>-0.265376</td>\n",
              "      <td>...</td>\n",
              "      <td>-0.450608</td>\n",
              "      <td>-0.439182</td>\n",
              "      <td>-0.317678</td>\n",
              "      <td>-0.486712</td>\n",
              "      <td>-0.432052</td>\n",
              "      <td>-0.366769</td>\n",
              "      <td>-0.710826</td>\n",
              "      <td>-0.272468</td>\n",
              "      <td>1.099162</td>\n",
              "      <td>-0.407414</td>\n",
              "    </tr>\n",
              "    <tr>\n",
              "      <th>4</th>\n",
              "      <td>-1.938677</td>\n",
              "      <td>-0.45354</td>\n",
              "      <td>-0.137993</td>\n",
              "      <td>-0.196213</td>\n",
              "      <td>-0.246684</td>\n",
              "      <td>-0.175363</td>\n",
              "      <td>-0.398</td>\n",
              "      <td>1.35391</td>\n",
              "      <td>0.898924</td>\n",
              "      <td>-0.184286</td>\n",
              "      <td>...</td>\n",
              "      <td>-0.450608</td>\n",
              "      <td>-0.439182</td>\n",
              "      <td>-0.317678</td>\n",
              "      <td>-0.486712</td>\n",
              "      <td>-0.432052</td>\n",
              "      <td>-0.366769</td>\n",
              "      <td>-0.710826</td>\n",
              "      <td>-0.272468</td>\n",
              "      <td>1.099162</td>\n",
              "      <td>-0.407414</td>\n",
              "    </tr>\n",
              "  </tbody>\n",
              "</table>\n",
              "<p>5 rows × 33 columns</p>\n",
              "</div>\n",
              "    <div class=\"colab-df-buttons\">\n",
              "\n",
              "  <div class=\"colab-df-container\">\n",
              "    <button class=\"colab-df-convert\" onclick=\"convertToInteractive('df-fd03be6c-09a5-433c-bf94-134eb6fdae6b')\"\n",
              "            title=\"Convert this dataframe to an interactive table.\"\n",
              "            style=\"display:none;\">\n",
              "\n",
              "  <svg xmlns=\"http://www.w3.org/2000/svg\" height=\"24px\" viewBox=\"0 -960 960 960\">\n",
              "    <path d=\"M120-120v-720h720v720H120Zm60-500h600v-160H180v160Zm220 220h160v-160H400v160Zm0 220h160v-160H400v160ZM180-400h160v-160H180v160Zm440 0h160v-160H620v160ZM180-180h160v-160H180v160Zm440 0h160v-160H620v160Z\"/>\n",
              "  </svg>\n",
              "    </button>\n",
              "\n",
              "  <style>\n",
              "    .colab-df-container {\n",
              "      display:flex;\n",
              "      gap: 12px;\n",
              "    }\n",
              "\n",
              "    .colab-df-convert {\n",
              "      background-color: #E8F0FE;\n",
              "      border: none;\n",
              "      border-radius: 50%;\n",
              "      cursor: pointer;\n",
              "      display: none;\n",
              "      fill: #1967D2;\n",
              "      height: 32px;\n",
              "      padding: 0 0 0 0;\n",
              "      width: 32px;\n",
              "    }\n",
              "\n",
              "    .colab-df-convert:hover {\n",
              "      background-color: #E2EBFA;\n",
              "      box-shadow: 0px 1px 2px rgba(60, 64, 67, 0.3), 0px 1px 3px 1px rgba(60, 64, 67, 0.15);\n",
              "      fill: #174EA6;\n",
              "    }\n",
              "\n",
              "    .colab-df-buttons div {\n",
              "      margin-bottom: 4px;\n",
              "    }\n",
              "\n",
              "    [theme=dark] .colab-df-convert {\n",
              "      background-color: #3B4455;\n",
              "      fill: #D2E3FC;\n",
              "    }\n",
              "\n",
              "    [theme=dark] .colab-df-convert:hover {\n",
              "      background-color: #434B5C;\n",
              "      box-shadow: 0px 1px 3px 1px rgba(0, 0, 0, 0.15);\n",
              "      filter: drop-shadow(0px 1px 2px rgba(0, 0, 0, 0.3));\n",
              "      fill: #FFFFFF;\n",
              "    }\n",
              "  </style>\n",
              "\n",
              "    <script>\n",
              "      const buttonEl =\n",
              "        document.querySelector('#df-fd03be6c-09a5-433c-bf94-134eb6fdae6b button.colab-df-convert');\n",
              "      buttonEl.style.display =\n",
              "        google.colab.kernel.accessAllowed ? 'block' : 'none';\n",
              "\n",
              "      async function convertToInteractive(key) {\n",
              "        const element = document.querySelector('#df-fd03be6c-09a5-433c-bf94-134eb6fdae6b');\n",
              "        const dataTable =\n",
              "          await google.colab.kernel.invokeFunction('convertToInteractive',\n",
              "                                                    [key], {});\n",
              "        if (!dataTable) return;\n",
              "\n",
              "        const docLinkHtml = 'Like what you see? Visit the ' +\n",
              "          '<a target=\"_blank\" href=https://colab.research.google.com/notebooks/data_table.ipynb>data table notebook</a>'\n",
              "          + ' to learn more about interactive tables.';\n",
              "        element.innerHTML = '';\n",
              "        dataTable['output_type'] = 'display_data';\n",
              "        await google.colab.output.renderOutput(dataTable, element);\n",
              "        const docLink = document.createElement('div');\n",
              "        docLink.innerHTML = docLinkHtml;\n",
              "        element.appendChild(docLink);\n",
              "      }\n",
              "    </script>\n",
              "  </div>\n",
              "\n",
              "\n",
              "<div id=\"df-59e0418d-cf16-4b66-8801-1dac6a42121d\">\n",
              "  <button class=\"colab-df-quickchart\" onclick=\"quickchart('df-59e0418d-cf16-4b66-8801-1dac6a42121d')\"\n",
              "            title=\"Suggest charts\"\n",
              "            style=\"display:none;\">\n",
              "\n",
              "<svg xmlns=\"http://www.w3.org/2000/svg\" height=\"24px\"viewBox=\"0 0 24 24\"\n",
              "     width=\"24px\">\n",
              "    <g>\n",
              "        <path d=\"M19 3H5c-1.1 0-2 .9-2 2v14c0 1.1.9 2 2 2h14c1.1 0 2-.9 2-2V5c0-1.1-.9-2-2-2zM9 17H7v-7h2v7zm4 0h-2V7h2v10zm4 0h-2v-4h2v4z\"/>\n",
              "    </g>\n",
              "</svg>\n",
              "  </button>\n",
              "\n",
              "<style>\n",
              "  .colab-df-quickchart {\n",
              "      --bg-color: #E8F0FE;\n",
              "      --fill-color: #1967D2;\n",
              "      --hover-bg-color: #E2EBFA;\n",
              "      --hover-fill-color: #174EA6;\n",
              "      --disabled-fill-color: #AAA;\n",
              "      --disabled-bg-color: #DDD;\n",
              "  }\n",
              "\n",
              "  [theme=dark] .colab-df-quickchart {\n",
              "      --bg-color: #3B4455;\n",
              "      --fill-color: #D2E3FC;\n",
              "      --hover-bg-color: #434B5C;\n",
              "      --hover-fill-color: #FFFFFF;\n",
              "      --disabled-bg-color: #3B4455;\n",
              "      --disabled-fill-color: #666;\n",
              "  }\n",
              "\n",
              "  .colab-df-quickchart {\n",
              "    background-color: var(--bg-color);\n",
              "    border: none;\n",
              "    border-radius: 50%;\n",
              "    cursor: pointer;\n",
              "    display: none;\n",
              "    fill: var(--fill-color);\n",
              "    height: 32px;\n",
              "    padding: 0;\n",
              "    width: 32px;\n",
              "  }\n",
              "\n",
              "  .colab-df-quickchart:hover {\n",
              "    background-color: var(--hover-bg-color);\n",
              "    box-shadow: 0 1px 2px rgba(60, 64, 67, 0.3), 0 1px 3px 1px rgba(60, 64, 67, 0.15);\n",
              "    fill: var(--button-hover-fill-color);\n",
              "  }\n",
              "\n",
              "  .colab-df-quickchart-complete:disabled,\n",
              "  .colab-df-quickchart-complete:disabled:hover {\n",
              "    background-color: var(--disabled-bg-color);\n",
              "    fill: var(--disabled-fill-color);\n",
              "    box-shadow: none;\n",
              "  }\n",
              "\n",
              "  .colab-df-spinner {\n",
              "    border: 2px solid var(--fill-color);\n",
              "    border-color: transparent;\n",
              "    border-bottom-color: var(--fill-color);\n",
              "    animation:\n",
              "      spin 1s steps(1) infinite;\n",
              "  }\n",
              "\n",
              "  @keyframes spin {\n",
              "    0% {\n",
              "      border-color: transparent;\n",
              "      border-bottom-color: var(--fill-color);\n",
              "      border-left-color: var(--fill-color);\n",
              "    }\n",
              "    20% {\n",
              "      border-color: transparent;\n",
              "      border-left-color: var(--fill-color);\n",
              "      border-top-color: var(--fill-color);\n",
              "    }\n",
              "    30% {\n",
              "      border-color: transparent;\n",
              "      border-left-color: var(--fill-color);\n",
              "      border-top-color: var(--fill-color);\n",
              "      border-right-color: var(--fill-color);\n",
              "    }\n",
              "    40% {\n",
              "      border-color: transparent;\n",
              "      border-right-color: var(--fill-color);\n",
              "      border-top-color: var(--fill-color);\n",
              "    }\n",
              "    60% {\n",
              "      border-color: transparent;\n",
              "      border-right-color: var(--fill-color);\n",
              "    }\n",
              "    80% {\n",
              "      border-color: transparent;\n",
              "      border-right-color: var(--fill-color);\n",
              "      border-bottom-color: var(--fill-color);\n",
              "    }\n",
              "    90% {\n",
              "      border-color: transparent;\n",
              "      border-bottom-color: var(--fill-color);\n",
              "    }\n",
              "  }\n",
              "</style>\n",
              "\n",
              "  <script>\n",
              "    async function quickchart(key) {\n",
              "      const quickchartButtonEl =\n",
              "        document.querySelector('#' + key + ' button');\n",
              "      quickchartButtonEl.disabled = true;  // To prevent multiple clicks.\n",
              "      quickchartButtonEl.classList.add('colab-df-spinner');\n",
              "      try {\n",
              "        const charts = await google.colab.kernel.invokeFunction(\n",
              "            'suggestCharts', [key], {});\n",
              "      } catch (error) {\n",
              "        console.error('Error during call to suggestCharts:', error);\n",
              "      }\n",
              "      quickchartButtonEl.classList.remove('colab-df-spinner');\n",
              "      quickchartButtonEl.classList.add('colab-df-quickchart-complete');\n",
              "    }\n",
              "    (() => {\n",
              "      let quickchartButtonEl =\n",
              "        document.querySelector('#df-59e0418d-cf16-4b66-8801-1dac6a42121d button');\n",
              "      quickchartButtonEl.style.display =\n",
              "        google.colab.kernel.accessAllowed ? 'block' : 'none';\n",
              "    })();\n",
              "  </script>\n",
              "</div>\n",
              "\n",
              "    </div>\n",
              "  </div>\n"
            ],
            "application/vnd.google.colaboratory.intrinsic+json": {
              "type": "dataframe",
              "variable_name": "df"
            }
          },
          "metadata": {},
          "execution_count": 5
        }
      ],
      "source": [
        "df.head()"
      ]
    },
    {
      "cell_type": "code",
      "execution_count": 6,
      "id": "0ecdd2b3-5378-4b0a-be81-b139915a05e9",
      "metadata": {
        "id": "0ecdd2b3-5378-4b0a-be81-b139915a05e9"
      },
      "outputs": [],
      "source": [
        "#fig = plt.figure(0)\n",
        "#plt.grid(True)\n",
        "#plt.title(\"Plot of scaled data\")\n",
        "#plt.scatter(X[:,0],X[:,1])\n",
        "#plt.show()"
      ]
    },
    {
      "cell_type": "markdown",
      "id": "b0623256-ab6f-40ba-96ce-89bb065e68b1",
      "metadata": {
        "id": "b0623256-ab6f-40ba-96ce-89bb065e68b1"
      },
      "source": [
        "## K-Means"
      ]
    },
    {
      "cell_type": "code",
      "execution_count": 7,
      "id": "d12fa644-0f98-44e4-8ebe-fa864e044399",
      "metadata": {
        "id": "d12fa644-0f98-44e4-8ebe-fa864e044399"
      },
      "outputs": [],
      "source": [
        "from sklearn.cluster import KMeans"
      ]
    },
    {
      "cell_type": "code",
      "execution_count": 8,
      "id": "9559fff2-9c8c-49c6-ab1f-1a258a11833d",
      "metadata": {
        "id": "9559fff2-9c8c-49c6-ab1f-1a258a11833d",
        "colab": {
          "base_uri": "https://localhost:8080/"
        },
        "outputId": "5faa9da8-d212-4391-95d6-d6fe0c7eb0c0"
      },
      "outputs": [
        {
          "output_type": "stream",
          "name": "stdout",
          "text": [
            "\n",
            "System:\n",
            "    python: 3.10.12 (main, Sep 11 2024, 15:47:36) [GCC 11.4.0]\n",
            "executable: /usr/bin/python3\n",
            "   machine: Linux-6.1.85+-x86_64-with-glibc2.35\n",
            "\n",
            "Python dependencies:\n",
            "      sklearn: 1.5.2\n",
            "          pip: 24.1.2\n",
            "   setuptools: 71.0.4\n",
            "        numpy: 1.26.4\n",
            "        scipy: 1.13.1\n",
            "       Cython: 3.0.11\n",
            "       pandas: 2.2.2\n",
            "   matplotlib: 3.7.1\n",
            "       joblib: 1.4.2\n",
            "threadpoolctl: 3.5.0\n",
            "\n",
            "Built with OpenMP: True\n",
            "\n",
            "threadpoolctl info:\n",
            "       user_api: blas\n",
            "   internal_api: openblas\n",
            "    num_threads: 2\n",
            "         prefix: libopenblas\n",
            "       filepath: /usr/local/lib/python3.10/dist-packages/numpy.libs/libopenblas64_p-r0-0cf96a72.3.23.dev.so\n",
            "        version: 0.3.23.dev\n",
            "threading_layer: pthreads\n",
            "   architecture: Haswell\n",
            "\n",
            "       user_api: blas\n",
            "   internal_api: openblas\n",
            "    num_threads: 2\n",
            "         prefix: libopenblas\n",
            "       filepath: /usr/local/lib/python3.10/dist-packages/scipy.libs/libopenblasp-r0-01191904.3.27.so\n",
            "        version: 0.3.27\n",
            "threading_layer: pthreads\n",
            "   architecture: Haswell\n",
            "\n",
            "       user_api: openmp\n",
            "   internal_api: openmp\n",
            "    num_threads: 2\n",
            "         prefix: libgomp\n",
            "       filepath: /usr/local/lib/python3.10/dist-packages/scikit_learn.libs/libgomp-a34b3233.so.1.0.0\n",
            "        version: None\n"
          ]
        }
      ],
      "source": [
        "import sklearn\n",
        "sklearn.show_versions()"
      ]
    },
    {
      "cell_type": "code",
      "execution_count": 9,
      "id": "99e9c211-b636-4a97-97fb-2a425f01633a",
      "metadata": {
        "id": "99e9c211-b636-4a97-97fb-2a425f01633a",
        "colab": {
          "base_uri": "https://localhost:8080/",
          "height": 451
        },
        "outputId": "30ea0d6b-bbf2-4879-a580-e320d44e8814"
      },
      "outputs": [
        {
          "output_type": "display_data",
          "data": {
            "text/plain": [
              "<Figure size 640x480 with 1 Axes>"
            ],
            "image/png": "[encoded data removed]"
          },
          "metadata": {}
        }
      ],
      "source": [
        "ss = []\n",
        "possible_k = {}\n",
        "Krange = list(range(2,15))\n",
        "X = df.to_numpy()\n",
        "\n",
        "for i in Krange:\n",
        "    model = KMeans(n_clusters=i)\n",
        "    current_cluster = model.fit_predict(X)\n",
        "    centers = model.cluster_centers_\n",
        "    ss.append(np.sum((X - centers[current_cluster])**2))\n",
        "    possible_k[str(i)] = current_cluster\n",
        "\n",
        "plt.plot(Krange,ss)\n",
        "plt.xlabel(\"K\")\n",
        "plt.ylabel(\"Sum of squares\")\n",
        "plt.show()\n"
      ]
    },
    {
      "cell_type": "code",
      "execution_count": 11,
      "id": "422c6859-1ecf-42a1-99a8-c2e55b1e5d27",
      "metadata": {
        "id": "422c6859-1ecf-42a1-99a8-c2e55b1e5d27"
      },
      "outputs": [],
      "source": [
        "#ss = []\n",
        "#for i in range(1,11):\n",
        "#   KM = KMeans(n_clusters=i, max_iter=500)\n",
        "#    KM.fit(df)\n",
        "#    ss.append(KM.inertia_)\n",
        "\n"
      ]
    },
    {
      "cell_type": "code",
      "execution_count": 15,
      "id": "0a53f752-94cc-424e-9f49-b1788afb3072",
      "metadata": {
        "id": "0a53f752-94cc-424e-9f49-b1788afb3072",
        "colab": {
          "base_uri": "https://localhost:8080/",
          "height": 450
        },
        "outputId": "e3b4ec3e-a235-47de-a4c5-b0fc905fae14"
      },
      "outputs": [
        {
          "output_type": "display_data",
          "data": {
            "text/plain": [
              "<Figure size 640x480 with 1 Axes>"
            ],
            "image/png": "[encoded data removed]"
          },
          "metadata": {}
        }
      ],
      "source": [
        "K = 8\n",
        "best_K = possible_k[str(K)]\n",
        "count = np.bincount(best_K)\n",
        "_ = plt.bar(range(K), height=count, align='center')\n",
        "_ = plt.xlabel('Number of Clusters')\n",
        "_ = plt.ylabel('Count')\n",
        "_ = plt.show()"
      ]
    }
  ],
  "metadata": {
    "kernelspec": {
      "display_name": "Python 3 (ipykernel)",
      "language": "python",
      "name": "python3"
    },
    "language_info": {
      "codemirror_mode": {
        "name": "ipython",
        "version": 3
      },
      "file_extension": ".py",
      "mimetype": "text/x-python",
      "name": "python",
      "nbconvert_exporter": "python",
      "pygments_lexer": "ipython3",
      "version": "3.11.5"
    },
    "colab": {
      "provenance": [],
      "include_colab_link": true
    }
  },
  "nbformat": 4,
  "nbformat_minor": 5
}