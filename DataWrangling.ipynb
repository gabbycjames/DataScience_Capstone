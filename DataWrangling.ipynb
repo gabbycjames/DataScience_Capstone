{
 "cells": [
  {
   "cell_type": "markdown",
   "id": "301defb0-c0b8-4eea-b44d-0af1a83c1f15",
   "metadata": {
    "tags": []
   },
   "source": [
    "This notebook is for Data Wrangling and Cleaning"
   ]
  },
  {
   "cell_type": "code",
   "execution_count": 1,
   "id": "627a5892-c1fd-4d0a-8e8a-bfe5bc3ce9b0",
   "metadata": {
    "tags": []
   },
   "outputs": [],
   "source": [
    "# Imports\n",
    "import pandas as pd\n",
    "pd.options.mode.chained_assignment=None \n",
    "import numpy as np\n",
    "import matplotlib.pyplot as plt\n",
    "import seaborn as sns"
   ]
  },
  {
   "cell_type": "markdown",
   "id": "95c912bc-4f12-44ae-b15a-8325e6e4a9f1",
   "metadata": {},
   "source": [
    "This is the main dataset that contains information for each Food Environment Atlas category."
   ]
  },
  {
   "cell_type": "code",
   "execution_count": 2,
   "id": "8a28961e-10fe-4a35-a54f-66941c68e669",
   "metadata": {
    "tags": []
   },
   "outputs": [
    {
     "data": {
      "text/html": [
       "<div>\n",
       "<style scoped>\n",
       "    .dataframe tbody tr th:only-of-type {\n",
       "        vertical-align: middle;\n",
       "    }\n",
       "\n",
       "    .dataframe tbody tr th {\n",
       "        vertical-align: top;\n",
       "    }\n",
       "\n",
       "    .dataframe thead th {\n",
       "        text-align: right;\n",
       "    }\n",
       "</style>\n",
       "<table border=\"1\" class=\"dataframe\">\n",
       "  <thead>\n",
       "    <tr style=\"text-align: right;\">\n",
       "      <th></th>\n",
       "      <th>FIPS</th>\n",
       "      <th>State</th>\n",
       "      <th>County</th>\n",
       "      <th>Variable_Code</th>\n",
       "      <th>Value</th>\n",
       "    </tr>\n",
       "  </thead>\n",
       "  <tbody>\n",
       "    <tr>\n",
       "      <th>0</th>\n",
       "      <td>1001</td>\n",
       "      <td>AL</td>\n",
       "      <td>Autauga</td>\n",
       "      <td>LACCESS_POP10</td>\n",
       "      <td>18428.439690</td>\n",
       "    </tr>\n",
       "    <tr>\n",
       "      <th>1</th>\n",
       "      <td>1001</td>\n",
       "      <td>AL</td>\n",
       "      <td>Autauga</td>\n",
       "      <td>LACCESS_POP15</td>\n",
       "      <td>17496.693040</td>\n",
       "    </tr>\n",
       "    <tr>\n",
       "      <th>2</th>\n",
       "      <td>1001</td>\n",
       "      <td>AL</td>\n",
       "      <td>Autauga</td>\n",
       "      <td>PCH_LACCESS_POP_10_15</td>\n",
       "      <td>-5.056026</td>\n",
       "    </tr>\n",
       "    <tr>\n",
       "      <th>3</th>\n",
       "      <td>1001</td>\n",
       "      <td>AL</td>\n",
       "      <td>Autauga</td>\n",
       "      <td>PCT_LACCESS_POP10</td>\n",
       "      <td>33.769657</td>\n",
       "    </tr>\n",
       "    <tr>\n",
       "      <th>4</th>\n",
       "      <td>1001</td>\n",
       "      <td>AL</td>\n",
       "      <td>Autauga</td>\n",
       "      <td>PCT_LACCESS_POP15</td>\n",
       "      <td>32.062255</td>\n",
       "    </tr>\n",
       "  </tbody>\n",
       "</table>\n",
       "</div>"
      ],
      "text/plain": [
       "   FIPS State   County          Variable_Code         Value\n",
       "0  1001    AL  Autauga          LACCESS_POP10  18428.439690\n",
       "1  1001    AL  Autauga          LACCESS_POP15  17496.693040\n",
       "2  1001    AL  Autauga  PCH_LACCESS_POP_10_15     -5.056026\n",
       "3  1001    AL  Autauga      PCT_LACCESS_POP10     33.769657\n",
       "4  1001    AL  Autauga      PCT_LACCESS_POP15     32.062255"
      ]
     },
     "execution_count": 2,
     "metadata": {},
     "output_type": "execute_result"
    }
   ],
   "source": [
    "# Importing Dataset\n",
    "file_food_atlas = 'StateAndCountyData.csv'\n",
    "data_state_county = pd.read_csv(file_food_atlas)\n",
    "data_state_county.head()"
   ]
  },
  {
   "cell_type": "code",
   "execution_count": 3,
   "id": "46c3d756-1007-498a-939e-8fd82544df72",
   "metadata": {
    "tags": []
   },
   "outputs": [
    {
     "data": {
      "text/plain": [
       "FIPS               int64\n",
       "State             object\n",
       "County            object\n",
       "Variable_Code     object\n",
       "Value            float64\n",
       "dtype: object"
      ]
     },
     "execution_count": 3,
     "metadata": {},
     "output_type": "execute_result"
    }
   ],
   "source": [
    "data_state_county.dtypes"
   ]
  },
  {
   "cell_type": "code",
   "execution_count": 4,
   "id": "24eedefe-d9a7-49e6-9c34-285182484bba",
   "metadata": {
    "tags": []
   },
   "outputs": [
    {
     "name": "stdout",
     "output_type": "stream",
     "text": [
      "<class 'pandas.core.frame.DataFrame'>\n",
      "RangeIndex: 852810 entries, 0 to 852809\n",
      "Data columns (total 5 columns):\n",
      " #   Column         Non-Null Count   Dtype  \n",
      "---  ------         --------------   -----  \n",
      " 0   FIPS           852810 non-null  int64  \n",
      " 1   State          852810 non-null  object \n",
      " 2   County         852810 non-null  object \n",
      " 3   Variable_Code  852810 non-null  object \n",
      " 4   Value          852810 non-null  float64\n",
      "dtypes: float64(1), int64(1), object(3)\n",
      "memory usage: 32.5+ MB\n"
     ]
    }
   ],
   "source": [
    "data_state_county.info()"
   ]
  },
  {
   "cell_type": "code",
   "execution_count": 5,
   "id": "446e084f-5c67-40b4-88fa-423d246d36ed",
   "metadata": {
    "tags": []
   },
   "outputs": [
    {
     "data": {
      "text/html": [
       "<div>\n",
       "<style scoped>\n",
       "    .dataframe tbody tr th:only-of-type {\n",
       "        vertical-align: middle;\n",
       "    }\n",
       "\n",
       "    .dataframe tbody tr th {\n",
       "        vertical-align: top;\n",
       "    }\n",
       "\n",
       "    .dataframe thead th {\n",
       "        text-align: right;\n",
       "    }\n",
       "</style>\n",
       "<table border=\"1\" class=\"dataframe\">\n",
       "  <thead>\n",
       "    <tr style=\"text-align: right;\">\n",
       "      <th></th>\n",
       "      <th>FIPS</th>\n",
       "      <th>Value</th>\n",
       "    </tr>\n",
       "  </thead>\n",
       "  <tbody>\n",
       "    <tr>\n",
       "      <th>count</th>\n",
       "      <td>852810.000000</td>\n",
       "      <td>8.528100e+05</td>\n",
       "    </tr>\n",
       "    <tr>\n",
       "      <th>mean</th>\n",
       "      <td>30336.233835</td>\n",
       "      <td>1.053919e+04</td>\n",
       "    </tr>\n",
       "    <tr>\n",
       "      <th>std</th>\n",
       "      <td>15188.596259</td>\n",
       "      <td>2.148199e+05</td>\n",
       "    </tr>\n",
       "    <tr>\n",
       "      <th>min</th>\n",
       "      <td>1.000000</td>\n",
       "      <td>-1.000000e+02</td>\n",
       "    </tr>\n",
       "    <tr>\n",
       "      <th>25%</th>\n",
       "      <td>18171.000000</td>\n",
       "      <td>0.000000e+00</td>\n",
       "    </tr>\n",
       "    <tr>\n",
       "      <th>50%</th>\n",
       "      <td>29171.000000</td>\n",
       "      <td>3.000000e+00</td>\n",
       "    </tr>\n",
       "    <tr>\n",
       "      <th>75%</th>\n",
       "      <td>45069.000000</td>\n",
       "      <td>2.910000e+01</td>\n",
       "    </tr>\n",
       "    <tr>\n",
       "      <th>max</th>\n",
       "      <td>56045.000000</td>\n",
       "      <td>3.955704e+07</td>\n",
       "    </tr>\n",
       "  </tbody>\n",
       "</table>\n",
       "</div>"
      ],
      "text/plain": [
       "                FIPS         Value\n",
       "count  852810.000000  8.528100e+05\n",
       "mean    30336.233835  1.053919e+04\n",
       "std     15188.596259  2.148199e+05\n",
       "min         1.000000 -1.000000e+02\n",
       "25%     18171.000000  0.000000e+00\n",
       "50%     29171.000000  3.000000e+00\n",
       "75%     45069.000000  2.910000e+01\n",
       "max     56045.000000  3.955704e+07"
      ]
     },
     "execution_count": 5,
     "metadata": {},
     "output_type": "execute_result"
    }
   ],
   "source": [
    "data_state_county.describe()"
   ]
  },
  {
   "cell_type": "code",
   "execution_count": 6,
   "id": "0a4da7d2-63b3-4b7d-a4b1-48b39f5ebbf6",
   "metadata": {
    "tags": []
   },
   "outputs": [
    {
     "data": {
      "text/plain": [
       "Index(['FIPS', 'State', 'County', 'Variable_Code', 'Value'], dtype='object')"
      ]
     },
     "execution_count": 6,
     "metadata": {},
     "output_type": "execute_result"
    }
   ],
   "source": [
    "data_state_county.columns"
   ]
  },
  {
   "cell_type": "markdown",
   "id": "586840dc-7521-4c11-b454-4323e5e1a522",
   "metadata": {},
   "source": [
    "Importing State Dataset -- This dataset contains supplemental information at the state level"
   ]
  },
  {
   "cell_type": "code",
   "execution_count": 7,
   "id": "a2348e80-09be-4a21-80ad-97d75d849473",
   "metadata": {
    "tags": []
   },
   "outputs": [
    {
     "data": {
      "text/html": [
       "<div>\n",
       "<style scoped>\n",
       "    .dataframe tbody tr th:only-of-type {\n",
       "        vertical-align: middle;\n",
       "    }\n",
       "\n",
       "    .dataframe tbody tr th {\n",
       "        vertical-align: top;\n",
       "    }\n",
       "\n",
       "    .dataframe thead th {\n",
       "        text-align: right;\n",
       "    }\n",
       "</style>\n",
       "<table border=\"1\" class=\"dataframe\">\n",
       "  <thead>\n",
       "    <tr style=\"text-align: right;\">\n",
       "      <th></th>\n",
       "      <th>State_FIPS</th>\n",
       "      <th>State</th>\n",
       "      <th>Variable_Code</th>\n",
       "      <th>Value</th>\n",
       "    </tr>\n",
       "  </thead>\n",
       "  <tbody>\n",
       "    <tr>\n",
       "      <th>0</th>\n",
       "      <td>1</td>\n",
       "      <td>AL</td>\n",
       "      <td>WIC_PART_2012</td>\n",
       "      <td>141899.8333</td>\n",
       "    </tr>\n",
       "    <tr>\n",
       "      <th>1</th>\n",
       "      <td>1</td>\n",
       "      <td>AL</td>\n",
       "      <td>WIC_PART_2013</td>\n",
       "      <td>139000.5000</td>\n",
       "    </tr>\n",
       "    <tr>\n",
       "      <th>2</th>\n",
       "      <td>1</td>\n",
       "      <td>AL</td>\n",
       "      <td>WIC_PART_2014</td>\n",
       "      <td>131046.2500</td>\n",
       "    </tr>\n",
       "    <tr>\n",
       "      <th>3</th>\n",
       "      <td>1</td>\n",
       "      <td>AL</td>\n",
       "      <td>WIC_PART_2015</td>\n",
       "      <td>132132.7500</td>\n",
       "    </tr>\n",
       "    <tr>\n",
       "      <th>4</th>\n",
       "      <td>1</td>\n",
       "      <td>AL</td>\n",
       "      <td>WIC_PART_2016</td>\n",
       "      <td>129159.9167</td>\n",
       "    </tr>\n",
       "  </tbody>\n",
       "</table>\n",
       "</div>"
      ],
      "text/plain": [
       "   State_FIPS State  Variable_Code        Value\n",
       "0           1    AL  WIC_PART_2012  141899.8333\n",
       "1           1    AL  WIC_PART_2013  139000.5000\n",
       "2           1    AL  WIC_PART_2014  131046.2500\n",
       "3           1    AL  WIC_PART_2015  132132.7500\n",
       "4           1    AL  WIC_PART_2016  129159.9167"
      ]
     },
     "execution_count": 7,
     "metadata": {},
     "output_type": "execute_result"
    }
   ],
   "source": [
    "# Importing State Dataset\n",
    "file_state_data = 'SupplementalDataState.csv'\n",
    "data_state = pd.read_csv(file_state_data)\n",
    "data_state.head()"
   ]
  },
  {
   "cell_type": "markdown",
   "id": "57a1a3dc-23f2-4230-9214-fa2ec0fecdfe",
   "metadata": {},
   "source": [
    "Importing County Dataset -- This dataset contains supplemental information"
   ]
  },
  {
   "cell_type": "code",
   "execution_count": 8,
   "id": "d459e9f6-0013-4002-a977-fba67f18d3d7",
   "metadata": {
    "tags": []
   },
   "outputs": [
    {
     "data": {
      "text/html": [
       "<div>\n",
       "<style scoped>\n",
       "    .dataframe tbody tr th:only-of-type {\n",
       "        vertical-align: middle;\n",
       "    }\n",
       "\n",
       "    .dataframe tbody tr th {\n",
       "        vertical-align: top;\n",
       "    }\n",
       "\n",
       "    .dataframe thead th {\n",
       "        text-align: right;\n",
       "    }\n",
       "</style>\n",
       "<table border=\"1\" class=\"dataframe\">\n",
       "  <thead>\n",
       "    <tr style=\"text-align: right;\">\n",
       "      <th></th>\n",
       "      <th>FIPS</th>\n",
       "      <th>State</th>\n",
       "      <th>County</th>\n",
       "      <th>Variable_Code</th>\n",
       "      <th>Value</th>\n",
       "    </tr>\n",
       "  </thead>\n",
       "  <tbody>\n",
       "    <tr>\n",
       "      <th>0</th>\n",
       "      <td>1001</td>\n",
       "      <td>AL</td>\n",
       "      <td>Autauga County</td>\n",
       "      <td>2010_Census_Population</td>\n",
       "      <td>54571</td>\n",
       "    </tr>\n",
       "    <tr>\n",
       "      <th>1</th>\n",
       "      <td>1001</td>\n",
       "      <td>AL</td>\n",
       "      <td>Autauga County</td>\n",
       "      <td>Population_Estimate_2011</td>\n",
       "      <td>55208</td>\n",
       "    </tr>\n",
       "    <tr>\n",
       "      <th>2</th>\n",
       "      <td>1001</td>\n",
       "      <td>AL</td>\n",
       "      <td>Autauga County</td>\n",
       "      <td>Population_Estimate_2012</td>\n",
       "      <td>54936</td>\n",
       "    </tr>\n",
       "    <tr>\n",
       "      <th>3</th>\n",
       "      <td>1001</td>\n",
       "      <td>AL</td>\n",
       "      <td>Autauga County</td>\n",
       "      <td>Population_Estimate_2013</td>\n",
       "      <td>54713</td>\n",
       "    </tr>\n",
       "    <tr>\n",
       "      <th>4</th>\n",
       "      <td>1001</td>\n",
       "      <td>AL</td>\n",
       "      <td>Autauga County</td>\n",
       "      <td>Population_Estimate_2014</td>\n",
       "      <td>54876</td>\n",
       "    </tr>\n",
       "  </tbody>\n",
       "</table>\n",
       "</div>"
      ],
      "text/plain": [
       "   FIPS State          County             Variable_Code  Value\n",
       "0  1001    AL  Autauga County    2010_Census_Population  54571\n",
       "1  1001    AL  Autauga County  Population_Estimate_2011  55208\n",
       "2  1001    AL  Autauga County  Population_Estimate_2012  54936\n",
       "3  1001    AL  Autauga County  Population_Estimate_2013  54713\n",
       "4  1001    AL  Autauga County  Population_Estimate_2014  54876"
      ]
     },
     "execution_count": 8,
     "metadata": {},
     "output_type": "execute_result"
    }
   ],
   "source": [
    "# Importing County Dataset\n",
    "file_county_data = 'SupplementalDataCounty.csv'\n",
    "data_county = pd.read_csv(file_county_data)\n",
    "data_county.head()"
   ]
  },
  {
   "cell_type": "code",
   "execution_count": 9,
   "id": "5741e0e8-a79d-401d-aa0a-8038a9c10204",
   "metadata": {
    "tags": []
   },
   "outputs": [
    {
     "data": {
      "text/plain": [
       "FIPS              int64\n",
       "State            object\n",
       "County           object\n",
       "Variable_Code    object\n",
       "Value             int64\n",
       "dtype: object"
      ]
     },
     "execution_count": 9,
     "metadata": {},
     "output_type": "execute_result"
    }
   ],
   "source": [
    "data_county.dtypes"
   ]
  },
  {
   "cell_type": "markdown",
   "id": "b0348de9-1277-43b7-9ae9-91d8733f058e",
   "metadata": {},
   "source": [
    "Importing Variable List -- Might be useful later"
   ]
  },
  {
   "cell_type": "code",
   "execution_count": 10,
   "id": "1df918f9-a0bb-4ff3-8336-143da7a63045",
   "metadata": {
    "tags": []
   },
   "outputs": [
    {
     "data": {
      "text/html": [
       "<div>\n",
       "<style scoped>\n",
       "    .dataframe tbody tr th:only-of-type {\n",
       "        vertical-align: middle;\n",
       "    }\n",
       "\n",
       "    .dataframe tbody tr th {\n",
       "        vertical-align: top;\n",
       "    }\n",
       "\n",
       "    .dataframe thead th {\n",
       "        text-align: right;\n",
       "    }\n",
       "</style>\n",
       "<table border=\"1\" class=\"dataframe\">\n",
       "  <thead>\n",
       "    <tr style=\"text-align: right;\">\n",
       "      <th></th>\n",
       "      <th>Variable_Name</th>\n",
       "      <th>Category_Name</th>\n",
       "      <th>Category_Code</th>\n",
       "      <th>Subcategory_Name</th>\n",
       "      <th>Variable_Code</th>\n",
       "      <th>Geography</th>\n",
       "      <th>Units</th>\n",
       "    </tr>\n",
       "  </thead>\n",
       "  <tbody>\n",
       "    <tr>\n",
       "      <th>0</th>\n",
       "      <td>Population, low access to store, 2010</td>\n",
       "      <td>Access and Proximity to Grocery Store</td>\n",
       "      <td>ACCESS</td>\n",
       "      <td>Overall</td>\n",
       "      <td>LACCESS_POP10</td>\n",
       "      <td>CNTY10</td>\n",
       "      <td>Count</td>\n",
       "    </tr>\n",
       "    <tr>\n",
       "      <th>1</th>\n",
       "      <td>Population, low access to store, 2015</td>\n",
       "      <td>Access and Proximity to Grocery Store</td>\n",
       "      <td>ACCESS</td>\n",
       "      <td>Overall</td>\n",
       "      <td>LACCESS_POP15</td>\n",
       "      <td>CNTY10</td>\n",
       "      <td>Count</td>\n",
       "    </tr>\n",
       "    <tr>\n",
       "      <th>2</th>\n",
       "      <td>Population, low access to store (% change), 20...</td>\n",
       "      <td>Access and Proximity to Grocery Store</td>\n",
       "      <td>ACCESS</td>\n",
       "      <td>Overall</td>\n",
       "      <td>PCH_LACCESS_POP_10_15</td>\n",
       "      <td>CNTY10</td>\n",
       "      <td>% change</td>\n",
       "    </tr>\n",
       "    <tr>\n",
       "      <th>3</th>\n",
       "      <td>Population, low access to store (%), 2010</td>\n",
       "      <td>Access and Proximity to Grocery Store</td>\n",
       "      <td>ACCESS</td>\n",
       "      <td>Overall</td>\n",
       "      <td>PCT_LACCESS_POP10</td>\n",
       "      <td>CNTY10</td>\n",
       "      <td>Percent</td>\n",
       "    </tr>\n",
       "    <tr>\n",
       "      <th>4</th>\n",
       "      <td>Population, low access to store (%), 2015</td>\n",
       "      <td>Access and Proximity to Grocery Store</td>\n",
       "      <td>ACCESS</td>\n",
       "      <td>Overall</td>\n",
       "      <td>PCT_LACCESS_POP15</td>\n",
       "      <td>CNTY10</td>\n",
       "      <td>Percent</td>\n",
       "    </tr>\n",
       "  </tbody>\n",
       "</table>\n",
       "</div>"
      ],
      "text/plain": [
       "                                       Variable_Name  \\\n",
       "0              Population, low access to store, 2010   \n",
       "1              Population, low access to store, 2015   \n",
       "2  Population, low access to store (% change), 20...   \n",
       "3          Population, low access to store (%), 2010   \n",
       "4          Population, low access to store (%), 2015   \n",
       "\n",
       "                           Category_Name Category_Code Subcategory_Name  \\\n",
       "0  Access and Proximity to Grocery Store        ACCESS          Overall   \n",
       "1  Access and Proximity to Grocery Store        ACCESS          Overall   \n",
       "2  Access and Proximity to Grocery Store        ACCESS          Overall   \n",
       "3  Access and Proximity to Grocery Store        ACCESS          Overall   \n",
       "4  Access and Proximity to Grocery Store        ACCESS          Overall   \n",
       "\n",
       "           Variable_Code Geography     Units  \n",
       "0          LACCESS_POP10    CNTY10     Count  \n",
       "1          LACCESS_POP15    CNTY10     Count  \n",
       "2  PCH_LACCESS_POP_10_15    CNTY10  % change  \n",
       "3      PCT_LACCESS_POP10    CNTY10   Percent  \n",
       "4      PCT_LACCESS_POP15    CNTY10   Percent  "
      ]
     },
     "execution_count": 10,
     "metadata": {},
     "output_type": "execute_result"
    }
   ],
   "source": [
    "file_variables = 'VariableList.csv'\n",
    "variable_list = pd.read_csv(file_variables)\n",
    "variable_list.head()"
   ]
  },
  {
   "cell_type": "code",
   "execution_count": 11,
   "id": "16e7c1f2-7d13-42f5-a96a-7fd63104c139",
   "metadata": {
    "tags": []
   },
   "outputs": [
    {
     "data": {
      "text/plain": [
       "Variable_Name       object\n",
       "Category_Name       object\n",
       "Category_Code       object\n",
       "Subcategory_Name    object\n",
       "Variable_Code       object\n",
       "Geography           object\n",
       "Units               object\n",
       "dtype: object"
      ]
     },
     "execution_count": 11,
     "metadata": {},
     "output_type": "execute_result"
    }
   ],
   "source": [
    "variable_list.dtypes"
   ]
  },
  {
   "cell_type": "markdown",
   "id": "634a719a-1c50-4546-930f-0e1f2c5cf628",
   "metadata": {},
   "source": [
    "Filtering the data by the years 2010 and 2015"
   ]
  },
  {
   "cell_type": "code",
   "execution_count": 12,
   "id": "974d1d24-c393-486a-bd7a-83f8a1805ed0",
   "metadata": {
    "tags": []
   },
   "outputs": [
    {
     "name": "stderr",
     "output_type": "stream",
     "text": [
      "/tmp/ipykernel_29172/3209300512.py:1: UserWarning: This pattern is interpreted as a regular expression, and has match groups. To actually get the groups, use str.extract.\n",
      "  filtered_df = data_state_county[data_state_county['Variable_Code'].str.contains('(10|15)$')]\n"
     ]
    }
   ],
   "source": [
    "filtered_df = data_state_county[data_state_county['Variable_Code'].str.contains('(10|15)$')]"
   ]
  },
  {
   "cell_type": "code",
   "execution_count": 13,
   "id": "dd1fd196-fa64-4df7-9414-33128548912e",
   "metadata": {
    "tags": []
   },
   "outputs": [
    {
     "data": {
      "text/html": [
       "<div>\n",
       "<style scoped>\n",
       "    .dataframe tbody tr th:only-of-type {\n",
       "        vertical-align: middle;\n",
       "    }\n",
       "\n",
       "    .dataframe tbody tr th {\n",
       "        vertical-align: top;\n",
       "    }\n",
       "\n",
       "    .dataframe thead th {\n",
       "        text-align: right;\n",
       "    }\n",
       "</style>\n",
       "<table border=\"1\" class=\"dataframe\">\n",
       "  <thead>\n",
       "    <tr style=\"text-align: right;\">\n",
       "      <th></th>\n",
       "      <th>FIPS</th>\n",
       "      <th>State</th>\n",
       "      <th>County</th>\n",
       "      <th>Variable_Code</th>\n",
       "      <th>Value</th>\n",
       "    </tr>\n",
       "  </thead>\n",
       "  <tbody>\n",
       "    <tr>\n",
       "      <th>0</th>\n",
       "      <td>1001</td>\n",
       "      <td>AL</td>\n",
       "      <td>Autauga</td>\n",
       "      <td>LACCESS_POP10</td>\n",
       "      <td>18428.439690</td>\n",
       "    </tr>\n",
       "    <tr>\n",
       "      <th>1</th>\n",
       "      <td>1001</td>\n",
       "      <td>AL</td>\n",
       "      <td>Autauga</td>\n",
       "      <td>LACCESS_POP15</td>\n",
       "      <td>17496.693040</td>\n",
       "    </tr>\n",
       "    <tr>\n",
       "      <th>2</th>\n",
       "      <td>1001</td>\n",
       "      <td>AL</td>\n",
       "      <td>Autauga</td>\n",
       "      <td>PCH_LACCESS_POP_10_15</td>\n",
       "      <td>-5.056026</td>\n",
       "    </tr>\n",
       "    <tr>\n",
       "      <th>3</th>\n",
       "      <td>1001</td>\n",
       "      <td>AL</td>\n",
       "      <td>Autauga</td>\n",
       "      <td>PCT_LACCESS_POP10</td>\n",
       "      <td>33.769657</td>\n",
       "    </tr>\n",
       "    <tr>\n",
       "      <th>4</th>\n",
       "      <td>1001</td>\n",
       "      <td>AL</td>\n",
       "      <td>Autauga</td>\n",
       "      <td>PCT_LACCESS_POP15</td>\n",
       "      <td>32.062255</td>\n",
       "    </tr>\n",
       "  </tbody>\n",
       "</table>\n",
       "</div>"
      ],
      "text/plain": [
       "   FIPS State   County          Variable_Code         Value\n",
       "0  1001    AL  Autauga          LACCESS_POP10  18428.439690\n",
       "1  1001    AL  Autauga          LACCESS_POP15  17496.693040\n",
       "2  1001    AL  Autauga  PCH_LACCESS_POP_10_15     -5.056026\n",
       "3  1001    AL  Autauga      PCT_LACCESS_POP10     33.769657\n",
       "4  1001    AL  Autauga      PCT_LACCESS_POP15     32.062255"
      ]
     },
     "execution_count": 13,
     "metadata": {},
     "output_type": "execute_result"
    }
   ],
   "source": [
    "filtered_df.head()"
   ]
  },
  {
   "cell_type": "markdown",
   "id": "b389d9d6-fbda-4ea4-a001-88f3a529d546",
   "metadata": {},
   "source": [
    "Clearing the County and State columns to prevent duplicate values"
   ]
  },
  {
   "cell_type": "code",
   "execution_count": 14,
   "id": "6ccddf63-88df-427f-be4d-da3674e2c553",
   "metadata": {
    "tags": []
   },
   "outputs": [],
   "source": [
    "filtered_df['County'] = filtered_df['County'].str.replace(r'[^\\w\\s]', '', regex=True) # Remove punctuation\n",
    "filtered_df['County'] = filtered_df['County'].str.replace('County', '') # Remove 'County' word, only present sometimes\n",
    "filtered_df['County'] = filtered_df['County'].str.strip() # Remove leading and trailing spaces\n",
    "filtered_df['County'] = filtered_df['County'].str.lower() # Convert to lowercase"
   ]
  },
  {
   "cell_type": "code",
   "execution_count": 15,
   "id": "4c6aeb08-5292-4df8-a581-c9f05781f363",
   "metadata": {
    "tags": []
   },
   "outputs": [
    {
     "data": {
      "text/html": [
       "<div>\n",
       "<style scoped>\n",
       "    .dataframe tbody tr th:only-of-type {\n",
       "        vertical-align: middle;\n",
       "    }\n",
       "\n",
       "    .dataframe tbody tr th {\n",
       "        vertical-align: top;\n",
       "    }\n",
       "\n",
       "    .dataframe thead th {\n",
       "        text-align: right;\n",
       "    }\n",
       "</style>\n",
       "<table border=\"1\" class=\"dataframe\">\n",
       "  <thead>\n",
       "    <tr style=\"text-align: right;\">\n",
       "      <th></th>\n",
       "      <th>FIPS</th>\n",
       "      <th>State</th>\n",
       "      <th>County</th>\n",
       "      <th>Variable_Code</th>\n",
       "      <th>Value</th>\n",
       "    </tr>\n",
       "  </thead>\n",
       "  <tbody>\n",
       "    <tr>\n",
       "      <th>0</th>\n",
       "      <td>1001</td>\n",
       "      <td>AL</td>\n",
       "      <td>autauga</td>\n",
       "      <td>LACCESS_POP10</td>\n",
       "      <td>18428.439690</td>\n",
       "    </tr>\n",
       "    <tr>\n",
       "      <th>1</th>\n",
       "      <td>1001</td>\n",
       "      <td>AL</td>\n",
       "      <td>autauga</td>\n",
       "      <td>LACCESS_POP15</td>\n",
       "      <td>17496.693040</td>\n",
       "    </tr>\n",
       "    <tr>\n",
       "      <th>2</th>\n",
       "      <td>1001</td>\n",
       "      <td>AL</td>\n",
       "      <td>autauga</td>\n",
       "      <td>PCH_LACCESS_POP_10_15</td>\n",
       "      <td>-5.056026</td>\n",
       "    </tr>\n",
       "    <tr>\n",
       "      <th>3</th>\n",
       "      <td>1001</td>\n",
       "      <td>AL</td>\n",
       "      <td>autauga</td>\n",
       "      <td>PCT_LACCESS_POP10</td>\n",
       "      <td>33.769657</td>\n",
       "    </tr>\n",
       "    <tr>\n",
       "      <th>4</th>\n",
       "      <td>1001</td>\n",
       "      <td>AL</td>\n",
       "      <td>autauga</td>\n",
       "      <td>PCT_LACCESS_POP15</td>\n",
       "      <td>32.062255</td>\n",
       "    </tr>\n",
       "  </tbody>\n",
       "</table>\n",
       "</div>"
      ],
      "text/plain": [
       "   FIPS State   County          Variable_Code         Value\n",
       "0  1001    AL  autauga          LACCESS_POP10  18428.439690\n",
       "1  1001    AL  autauga          LACCESS_POP15  17496.693040\n",
       "2  1001    AL  autauga  PCH_LACCESS_POP_10_15     -5.056026\n",
       "3  1001    AL  autauga      PCT_LACCESS_POP10     33.769657\n",
       "4  1001    AL  autauga      PCT_LACCESS_POP15     32.062255"
      ]
     },
     "execution_count": 15,
     "metadata": {},
     "output_type": "execute_result"
    }
   ],
   "source": [
    "filtered_df.head()"
   ]
  },
  {
   "cell_type": "code",
   "execution_count": 16,
   "id": "4b45d93b-6547-4071-b690-8569e63abc5e",
   "metadata": {
    "tags": []
   },
   "outputs": [],
   "source": [
    "filtered_df['State'] = filtered_df.loc[:, 'State'].str.replace(r'[^\\w\\s]', '', regex=True) # Remove punctuation\n",
    "filtered_df['State'] = filtered_df['State'].str.strip() # Remove leading and trailing spaces\n",
    "filtered_df['State'] = filtered_df['State'].str.upper() # Convert to uppercase"
   ]
  },
  {
   "cell_type": "code",
   "execution_count": 17,
   "id": "2a04cd68-e748-4dc7-a9de-2980e8bc7af9",
   "metadata": {
    "tags": []
   },
   "outputs": [],
   "source": [
    "pivot_df = filtered_df.pivot_table(index=['FIPS', 'State', 'County'], columns='Variable_Code', values='Value').reset_index()"
   ]
  },
  {
   "cell_type": "code",
   "execution_count": 18,
   "id": "3cf15c7d-a91b-4ee5-9309-328e0f0481e2",
   "metadata": {
    "tags": []
   },
   "outputs": [
    {
     "name": "stderr",
     "output_type": "stream",
     "text": [
      "/tmp/ipykernel_29172/2238852378.py:1: UserWarning: This pattern is interpreted as a regular expression, and has match groups. To actually get the groups, use str.extract.\n",
      "  filtered_counties = data_county[data_county['Variable_Code'].str.contains('(10|15)$')]\n"
     ]
    }
   ],
   "source": [
    "filtered_counties = data_county[data_county['Variable_Code'].str.contains('(10|15)$')]\n",
    "\n",
    "filtered_counties['County'] = filtered_counties['County'].str.replace(r'[^\\w\\s]', '', regex=True) # Remove punctuation\n",
    "filtered_counties['County'] = filtered_counties['County'].str.replace('County', '') # Remove 'County' word, only present sometimes\n",
    "filtered_counties['County'] = filtered_counties['County'].str.strip() # Remove leading and trailing spaces\n",
    "filtered_counties['County'] = filtered_counties['County'].str.lower() # Convert to lowercase\n",
    "\n",
    "filtered_counties['State'] = filtered_counties['State'].str.replace(r'[^\\w\\s]', '', regex=True) # Remove punctuation\n",
    "filtered_counties['State'] = filtered_counties['State'].str.strip() # Remove leading and trailing spaces\n",
    "filtered_counties['State'] = filtered_counties['State'].str.upper() # Convert to lowercase\n",
    "\n",
    "counties = filtered_counties.pivot_table(index=['FIPS', 'State', 'County'], columns='Variable_Code', values='Value').reset_index()"
   ]
  },
  {
   "cell_type": "code",
   "execution_count": 19,
   "id": "c233e00e-fdaf-4179-afab-21e65acc39c8",
   "metadata": {
    "tags": []
   },
   "outputs": [
    {
     "data": {
      "text/html": [
       "<div>\n",
       "<style scoped>\n",
       "    .dataframe tbody tr th:only-of-type {\n",
       "        vertical-align: middle;\n",
       "    }\n",
       "\n",
       "    .dataframe tbody tr th {\n",
       "        vertical-align: top;\n",
       "    }\n",
       "\n",
       "    .dataframe thead th {\n",
       "        text-align: right;\n",
       "    }\n",
       "</style>\n",
       "<table border=\"1\" class=\"dataframe\">\n",
       "  <thead>\n",
       "    <tr style=\"text-align: right;\">\n",
       "      <th>Variable_Code</th>\n",
       "      <th>FIPS</th>\n",
       "      <th>State</th>\n",
       "      <th>County</th>\n",
       "      <th>Population_Estimate_2015</th>\n",
       "    </tr>\n",
       "  </thead>\n",
       "  <tbody>\n",
       "    <tr>\n",
       "      <th>0</th>\n",
       "      <td>1001</td>\n",
       "      <td>AL</td>\n",
       "      <td>autauga</td>\n",
       "      <td>54838</td>\n",
       "    </tr>\n",
       "    <tr>\n",
       "      <th>1</th>\n",
       "      <td>1003</td>\n",
       "      <td>AL</td>\n",
       "      <td>baldwin</td>\n",
       "      <td>202995</td>\n",
       "    </tr>\n",
       "    <tr>\n",
       "      <th>2</th>\n",
       "      <td>1005</td>\n",
       "      <td>AL</td>\n",
       "      <td>barbour</td>\n",
       "      <td>26294</td>\n",
       "    </tr>\n",
       "    <tr>\n",
       "      <th>3</th>\n",
       "      <td>1007</td>\n",
       "      <td>AL</td>\n",
       "      <td>bibb</td>\n",
       "      <td>22562</td>\n",
       "    </tr>\n",
       "    <tr>\n",
       "      <th>4</th>\n",
       "      <td>1009</td>\n",
       "      <td>AL</td>\n",
       "      <td>blount</td>\n",
       "      <td>57522</td>\n",
       "    </tr>\n",
       "  </tbody>\n",
       "</table>\n",
       "</div>"
      ],
      "text/plain": [
       "Variable_Code  FIPS State   County  Population_Estimate_2015\n",
       "0              1001    AL  autauga                     54838\n",
       "1              1003    AL  baldwin                    202995\n",
       "2              1005    AL  barbour                     26294\n",
       "3              1007    AL     bibb                     22562\n",
       "4              1009    AL   blount                     57522"
      ]
     },
     "execution_count": 19,
     "metadata": {},
     "output_type": "execute_result"
    }
   ],
   "source": [
    "counties.head()"
   ]
  },
  {
   "cell_type": "code",
   "execution_count": 20,
   "id": "a8692fc2-60d6-4e1e-92e3-c109b800a895",
   "metadata": {
    "tags": []
   },
   "outputs": [
    {
     "data": {
      "text/plain": [
       "Variable_Code\n",
       "FIPS                        0\n",
       "State                       0\n",
       "County                      0\n",
       "Population_Estimate_2015    0\n",
       "dtype: int64"
      ]
     },
     "execution_count": 20,
     "metadata": {},
     "output_type": "execute_result"
    }
   ],
   "source": [
    "counties.isna().sum()"
   ]
  },
  {
   "cell_type": "markdown",
   "id": "ce3d544e-4aea-436f-8f09-9b25e4281141",
   "metadata": {},
   "source": [
    "Isolating state totals in a separate dataframe."
   ]
  },
  {
   "cell_type": "code",
   "execution_count": 21,
   "id": "76b15780-67ea-494e-9240-83a89e475b2f",
   "metadata": {
    "tags": []
   },
   "outputs": [],
   "source": [
    "state_totals = pivot_df[pivot_df['County']=='total']"
   ]
  },
  {
   "cell_type": "code",
   "execution_count": 22,
   "id": "c5a5a089-28d6-43bd-8f82-83f90b3c4829",
   "metadata": {
    "tags": []
   },
   "outputs": [],
   "source": [
    "state_totals = state_totals.dropna(axis=1, how='all')"
   ]
  },
  {
   "cell_type": "code",
   "execution_count": 23,
   "id": "5ed81aa3-7616-45f4-9427-e95f25318602",
   "metadata": {
    "tags": []
   },
   "outputs": [
    {
     "data": {
      "text/html": [
       "<div>\n",
       "<style scoped>\n",
       "    .dataframe tbody tr th:only-of-type {\n",
       "        vertical-align: middle;\n",
       "    }\n",
       "\n",
       "    .dataframe tbody tr th {\n",
       "        vertical-align: top;\n",
       "    }\n",
       "\n",
       "    .dataframe thead th {\n",
       "        text-align: right;\n",
       "    }\n",
       "</style>\n",
       "<table border=\"1\" class=\"dataframe\">\n",
       "  <thead>\n",
       "    <tr style=\"text-align: right;\">\n",
       "      <th>Variable_Code</th>\n",
       "      <th>FIPS</th>\n",
       "      <th>State</th>\n",
       "      <th>County</th>\n",
       "      <th>CACFP_PART_2015</th>\n",
       "      <th>NSLP_PART_2015</th>\n",
       "      <th>SBP_PART_2015</th>\n",
       "      <th>SFSP_PART_2015</th>\n",
       "      <th>State_Population_2015</th>\n",
       "      <th>WIC_PART_2015</th>\n",
       "    </tr>\n",
       "  </thead>\n",
       "  <tbody>\n",
       "    <tr>\n",
       "      <th>0</th>\n",
       "      <td>1</td>\n",
       "      <td>AL</td>\n",
       "      <td>total</td>\n",
       "      <td>51263.75</td>\n",
       "      <td>5.313053e+05</td>\n",
       "      <td>2.542703e+05</td>\n",
       "      <td>49715.0</td>\n",
       "      <td>4853160.0</td>\n",
       "      <td>1.321328e+05</td>\n",
       "    </tr>\n",
       "    <tr>\n",
       "      <th>1</th>\n",
       "      <td>2</td>\n",
       "      <td>AK</td>\n",
       "      <td>total</td>\n",
       "      <td>10786.50</td>\n",
       "      <td>5.361692e+04</td>\n",
       "      <td>2.511123e+04</td>\n",
       "      <td>5850.0</td>\n",
       "      <td>737547.0</td>\n",
       "      <td>1.968200e+04</td>\n",
       "    </tr>\n",
       "    <tr>\n",
       "      <th>2</th>\n",
       "      <td>4</td>\n",
       "      <td>AZ</td>\n",
       "      <td>total</td>\n",
       "      <td>42551.50</td>\n",
       "      <td>6.474257e+05</td>\n",
       "      <td>3.087424e+05</td>\n",
       "      <td>14763.0</td>\n",
       "      <td>6833596.0</td>\n",
       "      <td>1.670722e+05</td>\n",
       "    </tr>\n",
       "    <tr>\n",
       "      <th>3</th>\n",
       "      <td>5</td>\n",
       "      <td>AR</td>\n",
       "      <td>total</td>\n",
       "      <td>67984.50</td>\n",
       "      <td>3.209214e+05</td>\n",
       "      <td>1.801209e+05</td>\n",
       "      <td>31081.0</td>\n",
       "      <td>2978407.0</td>\n",
       "      <td>8.421958e+04</td>\n",
       "    </tr>\n",
       "    <tr>\n",
       "      <th>4</th>\n",
       "      <td>6</td>\n",
       "      <td>CA</td>\n",
       "      <td>total</td>\n",
       "      <td>562667.00</td>\n",
       "      <td>3.271744e+06</td>\n",
       "      <td>1.691159e+06</td>\n",
       "      <td>128025.0</td>\n",
       "      <td>38953142.0</td>\n",
       "      <td>1.265005e+06</td>\n",
       "    </tr>\n",
       "  </tbody>\n",
       "</table>\n",
       "</div>"
      ],
      "text/plain": [
       "Variable_Code  FIPS State County  CACFP_PART_2015  NSLP_PART_2015  \\\n",
       "0                 1    AL  total         51263.75    5.313053e+05   \n",
       "1                 2    AK  total         10786.50    5.361692e+04   \n",
       "2                 4    AZ  total         42551.50    6.474257e+05   \n",
       "3                 5    AR  total         67984.50    3.209214e+05   \n",
       "4                 6    CA  total        562667.00    3.271744e+06   \n",
       "\n",
       "Variable_Code  SBP_PART_2015  SFSP_PART_2015  State_Population_2015  \\\n",
       "0               2.542703e+05         49715.0              4853160.0   \n",
       "1               2.511123e+04          5850.0               737547.0   \n",
       "2               3.087424e+05         14763.0              6833596.0   \n",
       "3               1.801209e+05         31081.0              2978407.0   \n",
       "4               1.691159e+06        128025.0             38953142.0   \n",
       "\n",
       "Variable_Code  WIC_PART_2015  \n",
       "0               1.321328e+05  \n",
       "1               1.968200e+04  \n",
       "2               1.670722e+05  \n",
       "3               8.421958e+04  \n",
       "4               1.265005e+06  "
      ]
     },
     "execution_count": 23,
     "metadata": {},
     "output_type": "execute_result"
    }
   ],
   "source": [
    "state_totals.head()"
   ]
  },
  {
   "cell_type": "code",
   "execution_count": 24,
   "id": "5b198b37-95f8-4f9f-aa93-4adb88febe11",
   "metadata": {
    "tags": []
   },
   "outputs": [
    {
     "data": {
      "text/plain": [
       "Index(['FIPS', 'State', 'County', 'CACFP_PART_2015', 'NSLP_PART_2015',\n",
       "       'SBP_PART_2015', 'SFSP_PART_2015', 'State_Population_2015',\n",
       "       'WIC_PART_2015'],\n",
       "      dtype='object', name='Variable_Code')"
      ]
     },
     "execution_count": 24,
     "metadata": {},
     "output_type": "execute_result"
    }
   ],
   "source": [
    "state_totals.columns"
   ]
  },
  {
   "cell_type": "markdown",
   "id": "e8e7f81c-26a8-4a5c-8a15-b33bc70daf09",
   "metadata": {},
   "source": [
    "Exploring pivot df"
   ]
  },
  {
   "cell_type": "markdown",
   "id": "09c2e6fc-264d-4fe8-a9cf-050961eed916",
   "metadata": {},
   "source": [
    "Exploring the pivot table"
   ]
  },
  {
   "cell_type": "code",
   "execution_count": 25,
   "id": "87de38bd-7342-41d7-a952-2a123b76ec78",
   "metadata": {
    "tags": []
   },
   "outputs": [
    {
     "data": {
      "text/plain": [
       "Variable_Code\n",
       "FIPS                          int64\n",
       "State                        object\n",
       "County                       object\n",
       "CACFP_PART_2015             float64\n",
       "CHILDPOVRATE15              float64\n",
       "                             ...   \n",
       "Population_Estimate_2015    float64\n",
       "SBP_PART_2015               float64\n",
       "SFSP_PART_2015              float64\n",
       "State_Population_2015       float64\n",
       "WIC_PART_2015               float64\n",
       "Length: 72, dtype: object"
      ]
     },
     "execution_count": 25,
     "metadata": {},
     "output_type": "execute_result"
    }
   ],
   "source": [
    "pivot_df.dtypes"
   ]
  },
  {
   "cell_type": "code",
   "execution_count": 26,
   "id": "f8374862-604d-4d9e-9507-5daa330e407a",
   "metadata": {
    "tags": []
   },
   "outputs": [
    {
     "name": "stdout",
     "output_type": "stream",
     "text": [
      "<class 'pandas.core.frame.DataFrame'>\n",
      "RangeIndex: 3328 entries, 0 to 3327\n",
      "Data columns (total 72 columns):\n",
      " #   Column                     Non-Null Count  Dtype  \n",
      "---  ------                     --------------  -----  \n",
      " 0   FIPS                       3328 non-null   int64  \n",
      " 1   State                      3328 non-null   object \n",
      " 2   County                     3328 non-null   object \n",
      " 3   CACFP_PART_2015            51 non-null     float64\n",
      " 4   CHILDPOVRATE15             3139 non-null   float64\n",
      " 5   FARM_TO_SCHOOL15           2925 non-null   float64\n",
      " 6   FDPIR15                    3143 non-null   float64\n",
      " 7   LACCESS_BLACK15            3124 non-null   float64\n",
      " 8   LACCESS_CHILD10            3143 non-null   float64\n",
      " 9   LACCESS_CHILD15            3124 non-null   float64\n",
      " 10  LACCESS_CHILD_10_15        3115 non-null   float64\n",
      " 11  LACCESS_HHNV10             3143 non-null   float64\n",
      " 12  LACCESS_HHNV15             3140 non-null   float64\n",
      " 13  LACCESS_HISP15             3124 non-null   float64\n",
      " 14  LACCESS_LOWI10             3143 non-null   float64\n",
      " 15  LACCESS_LOWI15             3123 non-null   float64\n",
      " 16  LACCESS_MULTIR15           3124 non-null   float64\n",
      " 17  LACCESS_NHASIAN15          3124 non-null   float64\n",
      " 18  LACCESS_NHNA15             3124 non-null   float64\n",
      " 19  LACCESS_NHPI15             3124 non-null   float64\n",
      " 20  LACCESS_POP10              3143 non-null   float64\n",
      " 21  LACCESS_POP15              3124 non-null   float64\n",
      " 22  LACCESS_SENIORS10          3143 non-null   float64\n",
      " 23  LACCESS_SENIORS15          3124 non-null   float64\n",
      " 24  LACCESS_SNAP15             3123 non-null   float64\n",
      " 25  LACCESS_WHITE15            3124 non-null   float64\n",
      " 26  MEDHHINC15                 3139 non-null   float64\n",
      " 27  NSLP_PART_2015             51 non-null     float64\n",
      " 28  PCH_FDPIR_12_15            3136 non-null   float64\n",
      " 29  PCH_LACCESS_HHNV_10_15     3129 non-null   float64\n",
      " 30  PCH_LACCESS_LOWI_10_15     3115 non-null   float64\n",
      " 31  PCH_LACCESS_POP_10_15      3117 non-null   float64\n",
      " 32  PCH_LACCESS_SENIORS_10_15  3117 non-null   float64\n",
      " 33  PCT_18YOUNGER10            3143 non-null   float64\n",
      " 34  PCT_65OLDER10              3143 non-null   float64\n",
      " 35  PCT_FREE_LUNCH10           3122 non-null   float64\n",
      " 36  PCT_FREE_LUNCH15           2854 non-null   float64\n",
      " 37  PCT_HISP10                 3143 non-null   float64\n",
      " 38  PCT_LACCESS_BLACK15        3124 non-null   float64\n",
      " 39  PCT_LACCESS_CHILD10        3143 non-null   float64\n",
      " 40  PCT_LACCESS_CHILD15        3124 non-null   float64\n",
      " 41  PCT_LACCESS_HHNV10         3143 non-null   float64\n",
      " 42  PCT_LACCESS_HHNV15         3140 non-null   float64\n",
      " 43  PCT_LACCESS_HISP15         3124 non-null   float64\n",
      " 44  PCT_LACCESS_LOWI10         3143 non-null   float64\n",
      " 45  PCT_LACCESS_LOWI15         3123 non-null   float64\n",
      " 46  PCT_LACCESS_MULTIR15       3124 non-null   float64\n",
      " 47  PCT_LACCESS_NHASIAN15      3124 non-null   float64\n",
      " 48  PCT_LACCESS_NHNA15         3124 non-null   float64\n",
      " 49  PCT_LACCESS_NHPI15         3124 non-null   float64\n",
      " 50  PCT_LACCESS_POP10          3143 non-null   float64\n",
      " 51  PCT_LACCESS_POP15          3124 non-null   float64\n",
      " 52  PCT_LACCESS_SENIORS10      3143 non-null   float64\n",
      " 53  PCT_LACCESS_SENIORS15      3124 non-null   float64\n",
      " 54  PCT_LACCESS_SNAP15         3123 non-null   float64\n",
      " 55  PCT_LACCESS_WHITE15        3124 non-null   float64\n",
      " 56  PCT_NHASIAN10              3143 non-null   float64\n",
      " 57  PCT_NHBLACK10              3143 non-null   float64\n",
      " 58  PCT_NHNA10                 3143 non-null   float64\n",
      " 59  PCT_NHPI10                 3143 non-null   float64\n",
      " 60  PCT_NHWHITE10              3143 non-null   float64\n",
      " 61  PCT_REDUCED_LUNCH10        3112 non-null   float64\n",
      " 62  PCT_REDUCED_LUNCH15        2854 non-null   float64\n",
      " 63  PERCHLDPOV10               3143 non-null   float64\n",
      " 64  PERPOV10                   3143 non-null   float64\n",
      " 65  POPLOSS10                  3141 non-null   float64\n",
      " 66  POVRATE15                  3139 non-null   float64\n",
      " 67  Population_Estimate_2015   3142 non-null   float64\n",
      " 68  SBP_PART_2015              51 non-null     float64\n",
      " 69  SFSP_PART_2015             51 non-null     float64\n",
      " 70  State_Population_2015      51 non-null     float64\n",
      " 71  WIC_PART_2015              51 non-null     float64\n",
      "dtypes: float64(69), int64(1), object(2)\n",
      "memory usage: 1.8+ MB\n"
     ]
    }
   ],
   "source": [
    "pivot_df.info()"
   ]
  },
  {
   "cell_type": "markdown",
   "id": "84da293a-a8b3-4f8a-9210-e79665dda4c2",
   "metadata": {},
   "source": [
    "FIPS, State, and County all have the most non-null values (6334 each)."
   ]
  },
  {
   "cell_type": "code",
   "execution_count": 27,
   "id": "1bfcbe56-ebdc-4b38-b4d5-23f2147f2239",
   "metadata": {
    "tags": []
   },
   "outputs": [
    {
     "data": {
      "text/html": [
       "<div>\n",
       "<style scoped>\n",
       "    .dataframe tbody tr th:only-of-type {\n",
       "        vertical-align: middle;\n",
       "    }\n",
       "\n",
       "    .dataframe tbody tr th {\n",
       "        vertical-align: top;\n",
       "    }\n",
       "\n",
       "    .dataframe thead th {\n",
       "        text-align: right;\n",
       "    }\n",
       "</style>\n",
       "<table border=\"1\" class=\"dataframe\">\n",
       "  <thead>\n",
       "    <tr style=\"text-align: right;\">\n",
       "      <th>Variable_Code</th>\n",
       "      <th>FIPS</th>\n",
       "      <th>CACFP_PART_2015</th>\n",
       "      <th>CHILDPOVRATE15</th>\n",
       "      <th>FARM_TO_SCHOOL15</th>\n",
       "      <th>FDPIR15</th>\n",
       "      <th>LACCESS_BLACK15</th>\n",
       "      <th>LACCESS_CHILD10</th>\n",
       "      <th>LACCESS_CHILD15</th>\n",
       "      <th>LACCESS_CHILD_10_15</th>\n",
       "      <th>LACCESS_HHNV10</th>\n",
       "      <th>...</th>\n",
       "      <th>PCT_REDUCED_LUNCH15</th>\n",
       "      <th>PERCHLDPOV10</th>\n",
       "      <th>PERPOV10</th>\n",
       "      <th>POPLOSS10</th>\n",
       "      <th>POVRATE15</th>\n",
       "      <th>Population_Estimate_2015</th>\n",
       "      <th>SBP_PART_2015</th>\n",
       "      <th>SFSP_PART_2015</th>\n",
       "      <th>State_Population_2015</th>\n",
       "      <th>WIC_PART_2015</th>\n",
       "    </tr>\n",
       "  </thead>\n",
       "  <tbody>\n",
       "    <tr>\n",
       "      <th>count</th>\n",
       "      <td>3328.000000</td>\n",
       "      <td>51.000000</td>\n",
       "      <td>3139.000000</td>\n",
       "      <td>2925.000000</td>\n",
       "      <td>3143.000000</td>\n",
       "      <td>3124.000000</td>\n",
       "      <td>3143.000000</td>\n",
       "      <td>3124.000000</td>\n",
       "      <td>3115.000000</td>\n",
       "      <td>3143.000000</td>\n",
       "      <td>...</td>\n",
       "      <td>2854.000000</td>\n",
       "      <td>3143.000000</td>\n",
       "      <td>3143.000000</td>\n",
       "      <td>3141.000000</td>\n",
       "      <td>3139.000000</td>\n",
       "      <td>3.142000e+03</td>\n",
       "      <td>5.100000e+01</td>\n",
       "      <td>51.000000</td>\n",
       "      <td>5.100000e+01</td>\n",
       "      <td>5.100000e+01</td>\n",
       "    </tr>\n",
       "    <tr>\n",
       "      <th>mean</th>\n",
       "      <td>29764.681490</td>\n",
       "      <td>81465.823529</td>\n",
       "      <td>23.238738</td>\n",
       "      <td>0.616410</td>\n",
       "      <td>0.159402</td>\n",
       "      <td>2269.428677</td>\n",
       "      <td>4959.224239</td>\n",
       "      <td>4742.980900</td>\n",
       "      <td>277.377250</td>\n",
       "      <td>660.785705</td>\n",
       "      <td>...</td>\n",
       "      <td>7.288870</td>\n",
       "      <td>0.225262</td>\n",
       "      <td>0.112313</td>\n",
       "      <td>0.168418</td>\n",
       "      <td>16.260975</td>\n",
       "      <td>1.020823e+05</td>\n",
       "      <td>2.728003e+05</td>\n",
       "      <td>49691.372549</td>\n",
       "      <td>6.289072e+06</td>\n",
       "      <td>1.536727e+05</td>\n",
       "    </tr>\n",
       "    <tr>\n",
       "      <th>std</th>\n",
       "      <td>15635.421817</td>\n",
       "      <td>108545.059263</td>\n",
       "      <td>9.364172</td>\n",
       "      <td>0.486343</td>\n",
       "      <td>0.977978</td>\n",
       "      <td>8793.761183</td>\n",
       "      <td>13169.301375</td>\n",
       "      <td>12216.611681</td>\n",
       "      <td>11060.345777</td>\n",
       "      <td>1121.141847</td>\n",
       "      <td>...</td>\n",
       "      <td>3.713097</td>\n",
       "      <td>0.417822</td>\n",
       "      <td>0.315801</td>\n",
       "      <td>0.374296</td>\n",
       "      <td>6.442319</td>\n",
       "      <td>3.281943e+05</td>\n",
       "      <td>3.570125e+05</td>\n",
       "      <td>66465.618598</td>\n",
       "      <td>7.177506e+06</td>\n",
       "      <td>2.180488e+05</td>\n",
       "    </tr>\n",
       "    <tr>\n",
       "      <th>min</th>\n",
       "      <td>1.000000</td>\n",
       "      <td>5581.000000</td>\n",
       "      <td>3.300000</td>\n",
       "      <td>0.000000</td>\n",
       "      <td>0.000000</td>\n",
       "      <td>0.000000</td>\n",
       "      <td>0.000000</td>\n",
       "      <td>0.000000</td>\n",
       "      <td>-100.000000</td>\n",
       "      <td>0.000000</td>\n",
       "      <td>...</td>\n",
       "      <td>0.000000</td>\n",
       "      <td>0.000000</td>\n",
       "      <td>0.000000</td>\n",
       "      <td>0.000000</td>\n",
       "      <td>3.400000</td>\n",
       "      <td>8.800000e+01</td>\n",
       "      <td>1.468345e+04</td>\n",
       "      <td>3997.000000</td>\n",
       "      <td>5.856680e+05</td>\n",
       "      <td>1.099542e+04</td>\n",
       "    </tr>\n",
       "    <tr>\n",
       "      <th>25%</th>\n",
       "      <td>18110.500000</td>\n",
       "      <td>18939.375000</td>\n",
       "      <td>16.250000</td>\n",
       "      <td>0.000000</td>\n",
       "      <td>0.000000</td>\n",
       "      <td>7.000000</td>\n",
       "      <td>365.133646</td>\n",
       "      <td>354.654348</td>\n",
       "      <td>-11.021858</td>\n",
       "      <td>118.101203</td>\n",
       "      <td>...</td>\n",
       "      <td>5.091226</td>\n",
       "      <td>0.000000</td>\n",
       "      <td>0.000000</td>\n",
       "      <td>0.000000</td>\n",
       "      <td>11.500000</td>\n",
       "      <td>1.094800e+04</td>\n",
       "      <td>7.343671e+04</td>\n",
       "      <td>12752.000000</td>\n",
       "      <td>1.746760e+06</td>\n",
       "      <td>3.905363e+04</td>\n",
       "    </tr>\n",
       "    <tr>\n",
       "      <th>50%</th>\n",
       "      <td>29072.000000</td>\n",
       "      <td>49897.500000</td>\n",
       "      <td>22.300000</td>\n",
       "      <td>1.000000</td>\n",
       "      <td>0.000000</td>\n",
       "      <td>86.612488</td>\n",
       "      <td>937.758224</td>\n",
       "      <td>956.123349</td>\n",
       "      <td>-0.048853</td>\n",
       "      <td>320.065422</td>\n",
       "      <td>...</td>\n",
       "      <td>7.302426</td>\n",
       "      <td>0.000000</td>\n",
       "      <td>0.000000</td>\n",
       "      <td>0.000000</td>\n",
       "      <td>15.200000</td>\n",
       "      <td>2.563250e+04</td>\n",
       "      <td>1.850943e+05</td>\n",
       "      <td>33013.000000</td>\n",
       "      <td>4.425999e+06</td>\n",
       "      <td>1.055036e+05</td>\n",
       "    </tr>\n",
       "    <tr>\n",
       "      <th>75%</th>\n",
       "      <td>45067.500000</td>\n",
       "      <td>88461.125000</td>\n",
       "      <td>29.100000</td>\n",
       "      <td>1.000000</td>\n",
       "      <td>0.000000</td>\n",
       "      <td>1007.743295</td>\n",
       "      <td>3008.123733</td>\n",
       "      <td>3020.174780</td>\n",
       "      <td>7.263646</td>\n",
       "      <td>706.480605</td>\n",
       "      <td>...</td>\n",
       "      <td>9.393252</td>\n",
       "      <td>0.000000</td>\n",
       "      <td>0.000000</td>\n",
       "      <td>0.000000</td>\n",
       "      <td>19.700000</td>\n",
       "      <td>6.748825e+04</td>\n",
       "      <td>2.937282e+05</td>\n",
       "      <td>61503.500000</td>\n",
       "      <td>6.998570e+06</td>\n",
       "      <td>1.580745e+05</td>\n",
       "    </tr>\n",
       "    <tr>\n",
       "      <th>max</th>\n",
       "      <td>56045.000000</td>\n",
       "      <td>562667.000000</td>\n",
       "      <td>61.600000</td>\n",
       "      <td>1.000000</td>\n",
       "      <td>20.000000</td>\n",
       "      <td>167913.190400</td>\n",
       "      <td>260308.794100</td>\n",
       "      <td>219002.492900</td>\n",
       "      <td>592130.563800</td>\n",
       "      <td>16334.423180</td>\n",
       "      <td>...</td>\n",
       "      <td>35.714286</td>\n",
       "      <td>1.000000</td>\n",
       "      <td>1.000000</td>\n",
       "      <td>1.000000</td>\n",
       "      <td>47.400000</td>\n",
       "      <td>1.009704e+07</td>\n",
       "      <td>1.902636e+06</td>\n",
       "      <td>438926.000000</td>\n",
       "      <td>3.895314e+07</td>\n",
       "      <td>1.265005e+06</td>\n",
       "    </tr>\n",
       "  </tbody>\n",
       "</table>\n",
       "<p>8 rows × 70 columns</p>\n",
       "</div>"
      ],
      "text/plain": [
       "Variable_Code          FIPS  CACFP_PART_2015  CHILDPOVRATE15  \\\n",
       "count           3328.000000        51.000000     3139.000000   \n",
       "mean           29764.681490     81465.823529       23.238738   \n",
       "std            15635.421817    108545.059263        9.364172   \n",
       "min                1.000000      5581.000000        3.300000   \n",
       "25%            18110.500000     18939.375000       16.250000   \n",
       "50%            29072.000000     49897.500000       22.300000   \n",
       "75%            45067.500000     88461.125000       29.100000   \n",
       "max            56045.000000    562667.000000       61.600000   \n",
       "\n",
       "Variable_Code  FARM_TO_SCHOOL15      FDPIR15  LACCESS_BLACK15  \\\n",
       "count               2925.000000  3143.000000      3124.000000   \n",
       "mean                   0.616410     0.159402      2269.428677   \n",
       "std                    0.486343     0.977978      8793.761183   \n",
       "min                    0.000000     0.000000         0.000000   \n",
       "25%                    0.000000     0.000000         7.000000   \n",
       "50%                    1.000000     0.000000        86.612488   \n",
       "75%                    1.000000     0.000000      1007.743295   \n",
       "max                    1.000000    20.000000    167913.190400   \n",
       "\n",
       "Variable_Code  LACCESS_CHILD10  LACCESS_CHILD15  LACCESS_CHILD_10_15  \\\n",
       "count              3143.000000      3124.000000          3115.000000   \n",
       "mean               4959.224239      4742.980900           277.377250   \n",
       "std               13169.301375     12216.611681         11060.345777   \n",
       "min                   0.000000         0.000000          -100.000000   \n",
       "25%                 365.133646       354.654348           -11.021858   \n",
       "50%                 937.758224       956.123349            -0.048853   \n",
       "75%                3008.123733      3020.174780             7.263646   \n",
       "max              260308.794100    219002.492900        592130.563800   \n",
       "\n",
       "Variable_Code  LACCESS_HHNV10  ...  PCT_REDUCED_LUNCH15  PERCHLDPOV10  \\\n",
       "count             3143.000000  ...          2854.000000   3143.000000   \n",
       "mean               660.785705  ...             7.288870      0.225262   \n",
       "std               1121.141847  ...             3.713097      0.417822   \n",
       "min                  0.000000  ...             0.000000      0.000000   \n",
       "25%                118.101203  ...             5.091226      0.000000   \n",
       "50%                320.065422  ...             7.302426      0.000000   \n",
       "75%                706.480605  ...             9.393252      0.000000   \n",
       "max              16334.423180  ...            35.714286      1.000000   \n",
       "\n",
       "Variable_Code     PERPOV10    POPLOSS10    POVRATE15  \\\n",
       "count          3143.000000  3141.000000  3139.000000   \n",
       "mean              0.112313     0.168418    16.260975   \n",
       "std               0.315801     0.374296     6.442319   \n",
       "min               0.000000     0.000000     3.400000   \n",
       "25%               0.000000     0.000000    11.500000   \n",
       "50%               0.000000     0.000000    15.200000   \n",
       "75%               0.000000     0.000000    19.700000   \n",
       "max               1.000000     1.000000    47.400000   \n",
       "\n",
       "Variable_Code  Population_Estimate_2015  SBP_PART_2015  SFSP_PART_2015  \\\n",
       "count                      3.142000e+03   5.100000e+01       51.000000   \n",
       "mean                       1.020823e+05   2.728003e+05    49691.372549   \n",
       "std                        3.281943e+05   3.570125e+05    66465.618598   \n",
       "min                        8.800000e+01   1.468345e+04     3997.000000   \n",
       "25%                        1.094800e+04   7.343671e+04    12752.000000   \n",
       "50%                        2.563250e+04   1.850943e+05    33013.000000   \n",
       "75%                        6.748825e+04   2.937282e+05    61503.500000   \n",
       "max                        1.009704e+07   1.902636e+06   438926.000000   \n",
       "\n",
       "Variable_Code  State_Population_2015  WIC_PART_2015  \n",
       "count                   5.100000e+01   5.100000e+01  \n",
       "mean                    6.289072e+06   1.536727e+05  \n",
       "std                     7.177506e+06   2.180488e+05  \n",
       "min                     5.856680e+05   1.099542e+04  \n",
       "25%                     1.746760e+06   3.905363e+04  \n",
       "50%                     4.425999e+06   1.055036e+05  \n",
       "75%                     6.998570e+06   1.580745e+05  \n",
       "max                     3.895314e+07   1.265005e+06  \n",
       "\n",
       "[8 rows x 70 columns]"
      ]
     },
     "execution_count": 27,
     "metadata": {},
     "output_type": "execute_result"
    }
   ],
   "source": [
    "pivot_df.describe()"
   ]
  },
  {
   "cell_type": "code",
   "execution_count": 28,
   "id": "90584e68-c85d-479c-8223-21976f034717",
   "metadata": {
    "tags": []
   },
   "outputs": [
    {
     "data": {
      "text/plain": [
       "Index(['FIPS', 'State', 'County', 'CACFP_PART_2015', 'CHILDPOVRATE15',\n",
       "       'FARM_TO_SCHOOL15', 'FDPIR15', 'LACCESS_BLACK15', 'LACCESS_CHILD10',\n",
       "       'LACCESS_CHILD15', 'LACCESS_CHILD_10_15', 'LACCESS_HHNV10',\n",
       "       'LACCESS_HHNV15', 'LACCESS_HISP15', 'LACCESS_LOWI10', 'LACCESS_LOWI15',\n",
       "       'LACCESS_MULTIR15', 'LACCESS_NHASIAN15', 'LACCESS_NHNA15',\n",
       "       'LACCESS_NHPI15', 'LACCESS_POP10', 'LACCESS_POP15', 'LACCESS_SENIORS10',\n",
       "       'LACCESS_SENIORS15', 'LACCESS_SNAP15', 'LACCESS_WHITE15', 'MEDHHINC15',\n",
       "       'NSLP_PART_2015', 'PCH_FDPIR_12_15', 'PCH_LACCESS_HHNV_10_15',\n",
       "       'PCH_LACCESS_LOWI_10_15', 'PCH_LACCESS_POP_10_15',\n",
       "       'PCH_LACCESS_SENIORS_10_15', 'PCT_18YOUNGER10', 'PCT_65OLDER10',\n",
       "       'PCT_FREE_LUNCH10', 'PCT_FREE_LUNCH15', 'PCT_HISP10',\n",
       "       'PCT_LACCESS_BLACK15', 'PCT_LACCESS_CHILD10', 'PCT_LACCESS_CHILD15',\n",
       "       'PCT_LACCESS_HHNV10', 'PCT_LACCESS_HHNV15', 'PCT_LACCESS_HISP15',\n",
       "       'PCT_LACCESS_LOWI10', 'PCT_LACCESS_LOWI15', 'PCT_LACCESS_MULTIR15',\n",
       "       'PCT_LACCESS_NHASIAN15', 'PCT_LACCESS_NHNA15', 'PCT_LACCESS_NHPI15',\n",
       "       'PCT_LACCESS_POP10', 'PCT_LACCESS_POP15', 'PCT_LACCESS_SENIORS10',\n",
       "       'PCT_LACCESS_SENIORS15', 'PCT_LACCESS_SNAP15', 'PCT_LACCESS_WHITE15',\n",
       "       'PCT_NHASIAN10', 'PCT_NHBLACK10', 'PCT_NHNA10', 'PCT_NHPI10',\n",
       "       'PCT_NHWHITE10', 'PCT_REDUCED_LUNCH10', 'PCT_REDUCED_LUNCH15',\n",
       "       'PERCHLDPOV10', 'PERPOV10', 'POPLOSS10', 'POVRATE15',\n",
       "       'Population_Estimate_2015', 'SBP_PART_2015', 'SFSP_PART_2015',\n",
       "       'State_Population_2015', 'WIC_PART_2015'],\n",
       "      dtype='object', name='Variable_Code')"
      ]
     },
     "execution_count": 28,
     "metadata": {},
     "output_type": "execute_result"
    }
   ],
   "source": [
    "pivot_df.columns"
   ]
  },
  {
   "cell_type": "markdown",
   "id": "3d6e764a-c6af-4a6a-a3a5-0f3027641819",
   "metadata": {},
   "source": [
    "Finding missing values"
   ]
  },
  {
   "cell_type": "code",
   "execution_count": 29,
   "id": "e3411dc5-3a9b-4356-a885-4f385c3e9802",
   "metadata": {
    "tags": []
   },
   "outputs": [
    {
     "data": {
      "text/html": [
       "<div>\n",
       "<style scoped>\n",
       "    .dataframe tbody tr th:only-of-type {\n",
       "        vertical-align: middle;\n",
       "    }\n",
       "\n",
       "    .dataframe tbody tr th {\n",
       "        vertical-align: top;\n",
       "    }\n",
       "\n",
       "    .dataframe thead th {\n",
       "        text-align: right;\n",
       "    }\n",
       "</style>\n",
       "<table border=\"1\" class=\"dataframe\">\n",
       "  <thead>\n",
       "    <tr style=\"text-align: right;\">\n",
       "      <th>Variable_Code</th>\n",
       "      <th>FIPS</th>\n",
       "      <th>State</th>\n",
       "      <th>County</th>\n",
       "      <th>CACFP_PART_2015</th>\n",
       "      <th>CHILDPOVRATE15</th>\n",
       "      <th>FARM_TO_SCHOOL15</th>\n",
       "      <th>FDPIR15</th>\n",
       "      <th>LACCESS_BLACK15</th>\n",
       "      <th>LACCESS_CHILD10</th>\n",
       "      <th>LACCESS_CHILD15</th>\n",
       "      <th>...</th>\n",
       "      <th>PCT_REDUCED_LUNCH15</th>\n",
       "      <th>PERCHLDPOV10</th>\n",
       "      <th>PERPOV10</th>\n",
       "      <th>POPLOSS10</th>\n",
       "      <th>POVRATE15</th>\n",
       "      <th>Population_Estimate_2015</th>\n",
       "      <th>SBP_PART_2015</th>\n",
       "      <th>SFSP_PART_2015</th>\n",
       "      <th>State_Population_2015</th>\n",
       "      <th>WIC_PART_2015</th>\n",
       "    </tr>\n",
       "  </thead>\n",
       "  <tbody>\n",
       "    <tr>\n",
       "      <th>0</th>\n",
       "      <td>False</td>\n",
       "      <td>False</td>\n",
       "      <td>False</td>\n",
       "      <td>False</td>\n",
       "      <td>True</td>\n",
       "      <td>True</td>\n",
       "      <td>True</td>\n",
       "      <td>True</td>\n",
       "      <td>True</td>\n",
       "      <td>True</td>\n",
       "      <td>...</td>\n",
       "      <td>True</td>\n",
       "      <td>True</td>\n",
       "      <td>True</td>\n",
       "      <td>True</td>\n",
       "      <td>True</td>\n",
       "      <td>True</td>\n",
       "      <td>False</td>\n",
       "      <td>False</td>\n",
       "      <td>False</td>\n",
       "      <td>False</td>\n",
       "    </tr>\n",
       "    <tr>\n",
       "      <th>1</th>\n",
       "      <td>False</td>\n",
       "      <td>False</td>\n",
       "      <td>False</td>\n",
       "      <td>False</td>\n",
       "      <td>True</td>\n",
       "      <td>True</td>\n",
       "      <td>True</td>\n",
       "      <td>True</td>\n",
       "      <td>True</td>\n",
       "      <td>True</td>\n",
       "      <td>...</td>\n",
       "      <td>True</td>\n",
       "      <td>True</td>\n",
       "      <td>True</td>\n",
       "      <td>True</td>\n",
       "      <td>True</td>\n",
       "      <td>True</td>\n",
       "      <td>False</td>\n",
       "      <td>False</td>\n",
       "      <td>False</td>\n",
       "      <td>False</td>\n",
       "    </tr>\n",
       "    <tr>\n",
       "      <th>2</th>\n",
       "      <td>False</td>\n",
       "      <td>False</td>\n",
       "      <td>False</td>\n",
       "      <td>False</td>\n",
       "      <td>True</td>\n",
       "      <td>True</td>\n",
       "      <td>True</td>\n",
       "      <td>True</td>\n",
       "      <td>True</td>\n",
       "      <td>True</td>\n",
       "      <td>...</td>\n",
       "      <td>True</td>\n",
       "      <td>True</td>\n",
       "      <td>True</td>\n",
       "      <td>True</td>\n",
       "      <td>True</td>\n",
       "      <td>True</td>\n",
       "      <td>False</td>\n",
       "      <td>False</td>\n",
       "      <td>False</td>\n",
       "      <td>False</td>\n",
       "    </tr>\n",
       "    <tr>\n",
       "      <th>3</th>\n",
       "      <td>False</td>\n",
       "      <td>False</td>\n",
       "      <td>False</td>\n",
       "      <td>False</td>\n",
       "      <td>True</td>\n",
       "      <td>True</td>\n",
       "      <td>True</td>\n",
       "      <td>True</td>\n",
       "      <td>True</td>\n",
       "      <td>True</td>\n",
       "      <td>...</td>\n",
       "      <td>True</td>\n",
       "      <td>True</td>\n",
       "      <td>True</td>\n",
       "      <td>True</td>\n",
       "      <td>True</td>\n",
       "      <td>True</td>\n",
       "      <td>False</td>\n",
       "      <td>False</td>\n",
       "      <td>False</td>\n",
       "      <td>False</td>\n",
       "    </tr>\n",
       "    <tr>\n",
       "      <th>4</th>\n",
       "      <td>False</td>\n",
       "      <td>False</td>\n",
       "      <td>False</td>\n",
       "      <td>False</td>\n",
       "      <td>True</td>\n",
       "      <td>True</td>\n",
       "      <td>True</td>\n",
       "      <td>True</td>\n",
       "      <td>True</td>\n",
       "      <td>True</td>\n",
       "      <td>...</td>\n",
       "      <td>True</td>\n",
       "      <td>True</td>\n",
       "      <td>True</td>\n",
       "      <td>True</td>\n",
       "      <td>True</td>\n",
       "      <td>True</td>\n",
       "      <td>False</td>\n",
       "      <td>False</td>\n",
       "      <td>False</td>\n",
       "      <td>False</td>\n",
       "    </tr>\n",
       "    <tr>\n",
       "      <th>...</th>\n",
       "      <td>...</td>\n",
       "      <td>...</td>\n",
       "      <td>...</td>\n",
       "      <td>...</td>\n",
       "      <td>...</td>\n",
       "      <td>...</td>\n",
       "      <td>...</td>\n",
       "      <td>...</td>\n",
       "      <td>...</td>\n",
       "      <td>...</td>\n",
       "      <td>...</td>\n",
       "      <td>...</td>\n",
       "      <td>...</td>\n",
       "      <td>...</td>\n",
       "      <td>...</td>\n",
       "      <td>...</td>\n",
       "      <td>...</td>\n",
       "      <td>...</td>\n",
       "      <td>...</td>\n",
       "      <td>...</td>\n",
       "      <td>...</td>\n",
       "    </tr>\n",
       "    <tr>\n",
       "      <th>3323</th>\n",
       "      <td>False</td>\n",
       "      <td>False</td>\n",
       "      <td>False</td>\n",
       "      <td>True</td>\n",
       "      <td>False</td>\n",
       "      <td>False</td>\n",
       "      <td>False</td>\n",
       "      <td>False</td>\n",
       "      <td>False</td>\n",
       "      <td>False</td>\n",
       "      <td>...</td>\n",
       "      <td>False</td>\n",
       "      <td>False</td>\n",
       "      <td>False</td>\n",
       "      <td>False</td>\n",
       "      <td>False</td>\n",
       "      <td>False</td>\n",
       "      <td>True</td>\n",
       "      <td>True</td>\n",
       "      <td>True</td>\n",
       "      <td>True</td>\n",
       "    </tr>\n",
       "    <tr>\n",
       "      <th>3324</th>\n",
       "      <td>False</td>\n",
       "      <td>False</td>\n",
       "      <td>False</td>\n",
       "      <td>True</td>\n",
       "      <td>False</td>\n",
       "      <td>False</td>\n",
       "      <td>False</td>\n",
       "      <td>False</td>\n",
       "      <td>False</td>\n",
       "      <td>False</td>\n",
       "      <td>...</td>\n",
       "      <td>False</td>\n",
       "      <td>False</td>\n",
       "      <td>False</td>\n",
       "      <td>False</td>\n",
       "      <td>False</td>\n",
       "      <td>False</td>\n",
       "      <td>True</td>\n",
       "      <td>True</td>\n",
       "      <td>True</td>\n",
       "      <td>True</td>\n",
       "    </tr>\n",
       "    <tr>\n",
       "      <th>3325</th>\n",
       "      <td>False</td>\n",
       "      <td>False</td>\n",
       "      <td>False</td>\n",
       "      <td>True</td>\n",
       "      <td>False</td>\n",
       "      <td>False</td>\n",
       "      <td>False</td>\n",
       "      <td>False</td>\n",
       "      <td>False</td>\n",
       "      <td>False</td>\n",
       "      <td>...</td>\n",
       "      <td>False</td>\n",
       "      <td>False</td>\n",
       "      <td>False</td>\n",
       "      <td>False</td>\n",
       "      <td>False</td>\n",
       "      <td>False</td>\n",
       "      <td>True</td>\n",
       "      <td>True</td>\n",
       "      <td>True</td>\n",
       "      <td>True</td>\n",
       "    </tr>\n",
       "    <tr>\n",
       "      <th>3326</th>\n",
       "      <td>False</td>\n",
       "      <td>False</td>\n",
       "      <td>False</td>\n",
       "      <td>True</td>\n",
       "      <td>False</td>\n",
       "      <td>False</td>\n",
       "      <td>False</td>\n",
       "      <td>False</td>\n",
       "      <td>False</td>\n",
       "      <td>False</td>\n",
       "      <td>...</td>\n",
       "      <td>False</td>\n",
       "      <td>False</td>\n",
       "      <td>False</td>\n",
       "      <td>False</td>\n",
       "      <td>False</td>\n",
       "      <td>False</td>\n",
       "      <td>True</td>\n",
       "      <td>True</td>\n",
       "      <td>True</td>\n",
       "      <td>True</td>\n",
       "    </tr>\n",
       "    <tr>\n",
       "      <th>3327</th>\n",
       "      <td>False</td>\n",
       "      <td>False</td>\n",
       "      <td>False</td>\n",
       "      <td>True</td>\n",
       "      <td>False</td>\n",
       "      <td>False</td>\n",
       "      <td>False</td>\n",
       "      <td>False</td>\n",
       "      <td>False</td>\n",
       "      <td>False</td>\n",
       "      <td>...</td>\n",
       "      <td>False</td>\n",
       "      <td>False</td>\n",
       "      <td>False</td>\n",
       "      <td>False</td>\n",
       "      <td>False</td>\n",
       "      <td>False</td>\n",
       "      <td>True</td>\n",
       "      <td>True</td>\n",
       "      <td>True</td>\n",
       "      <td>True</td>\n",
       "    </tr>\n",
       "  </tbody>\n",
       "</table>\n",
       "<p>3328 rows × 72 columns</p>\n",
       "</div>"
      ],
      "text/plain": [
       "Variable_Code   FIPS  State  County  CACFP_PART_2015  CHILDPOVRATE15  \\\n",
       "0              False  False   False            False            True   \n",
       "1              False  False   False            False            True   \n",
       "2              False  False   False            False            True   \n",
       "3              False  False   False            False            True   \n",
       "4              False  False   False            False            True   \n",
       "...              ...    ...     ...              ...             ...   \n",
       "3323           False  False   False             True           False   \n",
       "3324           False  False   False             True           False   \n",
       "3325           False  False   False             True           False   \n",
       "3326           False  False   False             True           False   \n",
       "3327           False  False   False             True           False   \n",
       "\n",
       "Variable_Code  FARM_TO_SCHOOL15  FDPIR15  LACCESS_BLACK15  LACCESS_CHILD10  \\\n",
       "0                          True     True             True             True   \n",
       "1                          True     True             True             True   \n",
       "2                          True     True             True             True   \n",
       "3                          True     True             True             True   \n",
       "4                          True     True             True             True   \n",
       "...                         ...      ...              ...              ...   \n",
       "3323                      False    False            False            False   \n",
       "3324                      False    False            False            False   \n",
       "3325                      False    False            False            False   \n",
       "3326                      False    False            False            False   \n",
       "3327                      False    False            False            False   \n",
       "\n",
       "Variable_Code  LACCESS_CHILD15  ...  PCT_REDUCED_LUNCH15  PERCHLDPOV10  \\\n",
       "0                         True  ...                 True          True   \n",
       "1                         True  ...                 True          True   \n",
       "2                         True  ...                 True          True   \n",
       "3                         True  ...                 True          True   \n",
       "4                         True  ...                 True          True   \n",
       "...                        ...  ...                  ...           ...   \n",
       "3323                     False  ...                False         False   \n",
       "3324                     False  ...                False         False   \n",
       "3325                     False  ...                False         False   \n",
       "3326                     False  ...                False         False   \n",
       "3327                     False  ...                False         False   \n",
       "\n",
       "Variable_Code  PERPOV10  POPLOSS10  POVRATE15  Population_Estimate_2015  \\\n",
       "0                  True       True       True                      True   \n",
       "1                  True       True       True                      True   \n",
       "2                  True       True       True                      True   \n",
       "3                  True       True       True                      True   \n",
       "4                  True       True       True                      True   \n",
       "...                 ...        ...        ...                       ...   \n",
       "3323              False      False      False                     False   \n",
       "3324              False      False      False                     False   \n",
       "3325              False      False      False                     False   \n",
       "3326              False      False      False                     False   \n",
       "3327              False      False      False                     False   \n",
       "\n",
       "Variable_Code  SBP_PART_2015  SFSP_PART_2015  State_Population_2015  \\\n",
       "0                      False           False                  False   \n",
       "1                      False           False                  False   \n",
       "2                      False           False                  False   \n",
       "3                      False           False                  False   \n",
       "4                      False           False                  False   \n",
       "...                      ...             ...                    ...   \n",
       "3323                    True            True                   True   \n",
       "3324                    True            True                   True   \n",
       "3325                    True            True                   True   \n",
       "3326                    True            True                   True   \n",
       "3327                    True            True                   True   \n",
       "\n",
       "Variable_Code  WIC_PART_2015  \n",
       "0                      False  \n",
       "1                      False  \n",
       "2                      False  \n",
       "3                      False  \n",
       "4                      False  \n",
       "...                      ...  \n",
       "3323                    True  \n",
       "3324                    True  \n",
       "3325                    True  \n",
       "3326                    True  \n",
       "3327                    True  \n",
       "\n",
       "[3328 rows x 72 columns]"
      ]
     },
     "execution_count": 29,
     "metadata": {},
     "output_type": "execute_result"
    }
   ],
   "source": [
    "pivot_df.isna()"
   ]
  },
  {
   "cell_type": "code",
   "execution_count": 30,
   "id": "eb2c7efa-586c-4086-95d1-1d2c52181f0b",
   "metadata": {
    "tags": []
   },
   "outputs": [],
   "source": [
    "missing_pop15 = pivot_df[pivot_df['Population_Estimate_2015'].isna()]"
   ]
  },
  {
   "cell_type": "code",
   "execution_count": 31,
   "id": "30478b4c-a507-46fc-8300-4c1561c9fb2a",
   "metadata": {
    "tags": []
   },
   "outputs": [],
   "source": [
    "complete_pop15 = pivot_df[~pivot_df['Population_Estimate_2015'].isna()]"
   ]
  },
  {
   "cell_type": "code",
   "execution_count": 32,
   "id": "23d97322-5fb0-4503-9a67-5d28ed87cc32",
   "metadata": {
    "tags": []
   },
   "outputs": [
    {
     "data": {
      "text/html": [
       "<div>\n",
       "<style scoped>\n",
       "    .dataframe tbody tr th:only-of-type {\n",
       "        vertical-align: middle;\n",
       "    }\n",
       "\n",
       "    .dataframe tbody tr th {\n",
       "        vertical-align: top;\n",
       "    }\n",
       "\n",
       "    .dataframe thead th {\n",
       "        text-align: right;\n",
       "    }\n",
       "</style>\n",
       "<table border=\"1\" class=\"dataframe\">\n",
       "  <thead>\n",
       "    <tr style=\"text-align: right;\">\n",
       "      <th>Variable_Code</th>\n",
       "      <th>FIPS</th>\n",
       "      <th>CACFP_PART_2015</th>\n",
       "      <th>CHILDPOVRATE15</th>\n",
       "      <th>FARM_TO_SCHOOL15</th>\n",
       "      <th>FDPIR15</th>\n",
       "      <th>LACCESS_BLACK15</th>\n",
       "      <th>LACCESS_CHILD10</th>\n",
       "      <th>LACCESS_CHILD15</th>\n",
       "      <th>LACCESS_CHILD_10_15</th>\n",
       "      <th>LACCESS_HHNV10</th>\n",
       "      <th>...</th>\n",
       "      <th>PCT_REDUCED_LUNCH15</th>\n",
       "      <th>PERCHLDPOV10</th>\n",
       "      <th>PERPOV10</th>\n",
       "      <th>POPLOSS10</th>\n",
       "      <th>POVRATE15</th>\n",
       "      <th>Population_Estimate_2015</th>\n",
       "      <th>SBP_PART_2015</th>\n",
       "      <th>SFSP_PART_2015</th>\n",
       "      <th>State_Population_2015</th>\n",
       "      <th>WIC_PART_2015</th>\n",
       "    </tr>\n",
       "  </thead>\n",
       "  <tbody>\n",
       "    <tr>\n",
       "      <th>count</th>\n",
       "      <td>3142.000000</td>\n",
       "      <td>0.0</td>\n",
       "      <td>3007.000000</td>\n",
       "      <td>2811.000000</td>\n",
       "      <td>3008.000000</td>\n",
       "      <td>2991.000000</td>\n",
       "      <td>3008.000000</td>\n",
       "      <td>2991.000000</td>\n",
       "      <td>2984.000000</td>\n",
       "      <td>3008.000000</td>\n",
       "      <td>...</td>\n",
       "      <td>2728.000000</td>\n",
       "      <td>3008.000000</td>\n",
       "      <td>3008.000000</td>\n",
       "      <td>3008.000000</td>\n",
       "      <td>3007.000000</td>\n",
       "      <td>3.142000e+03</td>\n",
       "      <td>0.0</td>\n",
       "      <td>0.0</td>\n",
       "      <td>0.0</td>\n",
       "      <td>0.0</td>\n",
       "    </tr>\n",
       "    <tr>\n",
       "      <th>mean</th>\n",
       "      <td>30383.649268</td>\n",
       "      <td>NaN</td>\n",
       "      <td>23.100931</td>\n",
       "      <td>0.620420</td>\n",
       "      <td>0.158245</td>\n",
       "      <td>2185.781425</td>\n",
       "      <td>5026.605428</td>\n",
       "      <td>4803.527469</td>\n",
       "      <td>287.490781</td>\n",
       "      <td>660.368223</td>\n",
       "      <td>...</td>\n",
       "      <td>7.419842</td>\n",
       "      <td>0.218085</td>\n",
       "      <td>0.107048</td>\n",
       "      <td>0.170545</td>\n",
       "      <td>16.146891</td>\n",
       "      <td>1.020823e+05</td>\n",
       "      <td>NaN</td>\n",
       "      <td>NaN</td>\n",
       "      <td>NaN</td>\n",
       "      <td>NaN</td>\n",
       "    </tr>\n",
       "    <tr>\n",
       "      <th>std</th>\n",
       "      <td>15162.508374</td>\n",
       "      <td>NaN</td>\n",
       "      <td>9.290579</td>\n",
       "      <td>0.485369</td>\n",
       "      <td>0.984529</td>\n",
       "      <td>8795.888453</td>\n",
       "      <td>13409.291442</td>\n",
       "      <td>12438.100224</td>\n",
       "      <td>11300.162612</td>\n",
       "      <td>1130.967068</td>\n",
       "      <td>...</td>\n",
       "      <td>3.693337</td>\n",
       "      <td>0.413014</td>\n",
       "      <td>0.309226</td>\n",
       "      <td>0.376174</td>\n",
       "      <td>6.385492</td>\n",
       "      <td>3.281943e+05</td>\n",
       "      <td>NaN</td>\n",
       "      <td>NaN</td>\n",
       "      <td>NaN</td>\n",
       "      <td>NaN</td>\n",
       "    </tr>\n",
       "    <tr>\n",
       "      <th>min</th>\n",
       "      <td>1001.000000</td>\n",
       "      <td>NaN</td>\n",
       "      <td>3.300000</td>\n",
       "      <td>0.000000</td>\n",
       "      <td>0.000000</td>\n",
       "      <td>0.000000</td>\n",
       "      <td>0.000000</td>\n",
       "      <td>0.000000</td>\n",
       "      <td>-100.000000</td>\n",
       "      <td>0.000000</td>\n",
       "      <td>...</td>\n",
       "      <td>0.000000</td>\n",
       "      <td>0.000000</td>\n",
       "      <td>0.000000</td>\n",
       "      <td>0.000000</td>\n",
       "      <td>3.400000</td>\n",
       "      <td>8.800000e+01</td>\n",
       "      <td>NaN</td>\n",
       "      <td>NaN</td>\n",
       "      <td>NaN</td>\n",
       "      <td>NaN</td>\n",
       "    </tr>\n",
       "    <tr>\n",
       "      <th>25%</th>\n",
       "      <td>18177.500000</td>\n",
       "      <td>NaN</td>\n",
       "      <td>16.200000</td>\n",
       "      <td>0.000000</td>\n",
       "      <td>0.000000</td>\n",
       "      <td>6.688703</td>\n",
       "      <td>364.415468</td>\n",
       "      <td>353.037120</td>\n",
       "      <td>-11.102732</td>\n",
       "      <td>118.110707</td>\n",
       "      <td>...</td>\n",
       "      <td>5.211623</td>\n",
       "      <td>0.000000</td>\n",
       "      <td>0.000000</td>\n",
       "      <td>0.000000</td>\n",
       "      <td>11.500000</td>\n",
       "      <td>1.094800e+04</td>\n",
       "      <td>NaN</td>\n",
       "      <td>NaN</td>\n",
       "      <td>NaN</td>\n",
       "      <td>NaN</td>\n",
       "    </tr>\n",
       "    <tr>\n",
       "      <th>50%</th>\n",
       "      <td>29176.000000</td>\n",
       "      <td>NaN</td>\n",
       "      <td>22.100000</td>\n",
       "      <td>1.000000</td>\n",
       "      <td>0.000000</td>\n",
       "      <td>77.426097</td>\n",
       "      <td>926.074984</td>\n",
       "      <td>945.627194</td>\n",
       "      <td>-0.055063</td>\n",
       "      <td>317.163467</td>\n",
       "      <td>...</td>\n",
       "      <td>7.423936</td>\n",
       "      <td>0.000000</td>\n",
       "      <td>0.000000</td>\n",
       "      <td>0.000000</td>\n",
       "      <td>15.100000</td>\n",
       "      <td>2.563250e+04</td>\n",
       "      <td>NaN</td>\n",
       "      <td>NaN</td>\n",
       "      <td>NaN</td>\n",
       "      <td>NaN</td>\n",
       "    </tr>\n",
       "    <tr>\n",
       "      <th>75%</th>\n",
       "      <td>45080.500000</td>\n",
       "      <td>NaN</td>\n",
       "      <td>28.900000</td>\n",
       "      <td>1.000000</td>\n",
       "      <td>0.000000</td>\n",
       "      <td>931.154326</td>\n",
       "      <td>2991.018464</td>\n",
       "      <td>2980.777311</td>\n",
       "      <td>7.028525</td>\n",
       "      <td>702.355623</td>\n",
       "      <td>...</td>\n",
       "      <td>9.499947</td>\n",
       "      <td>0.000000</td>\n",
       "      <td>0.000000</td>\n",
       "      <td>0.000000</td>\n",
       "      <td>19.500000</td>\n",
       "      <td>6.748825e+04</td>\n",
       "      <td>NaN</td>\n",
       "      <td>NaN</td>\n",
       "      <td>NaN</td>\n",
       "      <td>NaN</td>\n",
       "    </tr>\n",
       "    <tr>\n",
       "      <th>max</th>\n",
       "      <td>56045.000000</td>\n",
       "      <td>NaN</td>\n",
       "      <td>61.600000</td>\n",
       "      <td>1.000000</td>\n",
       "      <td>20.000000</td>\n",
       "      <td>167913.190400</td>\n",
       "      <td>260308.794100</td>\n",
       "      <td>219002.492900</td>\n",
       "      <td>592130.563800</td>\n",
       "      <td>16334.423180</td>\n",
       "      <td>...</td>\n",
       "      <td>35.714286</td>\n",
       "      <td>1.000000</td>\n",
       "      <td>1.000000</td>\n",
       "      <td>1.000000</td>\n",
       "      <td>47.400000</td>\n",
       "      <td>1.009704e+07</td>\n",
       "      <td>NaN</td>\n",
       "      <td>NaN</td>\n",
       "      <td>NaN</td>\n",
       "      <td>NaN</td>\n",
       "    </tr>\n",
       "  </tbody>\n",
       "</table>\n",
       "<p>8 rows × 70 columns</p>\n",
       "</div>"
      ],
      "text/plain": [
       "Variable_Code          FIPS  CACFP_PART_2015  CHILDPOVRATE15  \\\n",
       "count           3142.000000              0.0     3007.000000   \n",
       "mean           30383.649268              NaN       23.100931   \n",
       "std            15162.508374              NaN        9.290579   \n",
       "min             1001.000000              NaN        3.300000   \n",
       "25%            18177.500000              NaN       16.200000   \n",
       "50%            29176.000000              NaN       22.100000   \n",
       "75%            45080.500000              NaN       28.900000   \n",
       "max            56045.000000              NaN       61.600000   \n",
       "\n",
       "Variable_Code  FARM_TO_SCHOOL15      FDPIR15  LACCESS_BLACK15  \\\n",
       "count               2811.000000  3008.000000      2991.000000   \n",
       "mean                   0.620420     0.158245      2185.781425   \n",
       "std                    0.485369     0.984529      8795.888453   \n",
       "min                    0.000000     0.000000         0.000000   \n",
       "25%                    0.000000     0.000000         6.688703   \n",
       "50%                    1.000000     0.000000        77.426097   \n",
       "75%                    1.000000     0.000000       931.154326   \n",
       "max                    1.000000    20.000000    167913.190400   \n",
       "\n",
       "Variable_Code  LACCESS_CHILD10  LACCESS_CHILD15  LACCESS_CHILD_10_15  \\\n",
       "count              3008.000000      2991.000000          2984.000000   \n",
       "mean               5026.605428      4803.527469           287.490781   \n",
       "std               13409.291442     12438.100224         11300.162612   \n",
       "min                   0.000000         0.000000          -100.000000   \n",
       "25%                 364.415468       353.037120           -11.102732   \n",
       "50%                 926.074984       945.627194            -0.055063   \n",
       "75%                2991.018464      2980.777311             7.028525   \n",
       "max              260308.794100    219002.492900        592130.563800   \n",
       "\n",
       "Variable_Code  LACCESS_HHNV10  ...  PCT_REDUCED_LUNCH15  PERCHLDPOV10  \\\n",
       "count             3008.000000  ...          2728.000000   3008.000000   \n",
       "mean               660.368223  ...             7.419842      0.218085   \n",
       "std               1130.967068  ...             3.693337      0.413014   \n",
       "min                  0.000000  ...             0.000000      0.000000   \n",
       "25%                118.110707  ...             5.211623      0.000000   \n",
       "50%                317.163467  ...             7.423936      0.000000   \n",
       "75%                702.355623  ...             9.499947      0.000000   \n",
       "max              16334.423180  ...            35.714286      1.000000   \n",
       "\n",
       "Variable_Code     PERPOV10    POPLOSS10    POVRATE15  \\\n",
       "count          3008.000000  3008.000000  3007.000000   \n",
       "mean              0.107048     0.170545    16.146891   \n",
       "std               0.309226     0.376174     6.385492   \n",
       "min               0.000000     0.000000     3.400000   \n",
       "25%               0.000000     0.000000    11.500000   \n",
       "50%               0.000000     0.000000    15.100000   \n",
       "75%               0.000000     0.000000    19.500000   \n",
       "max               1.000000     1.000000    47.400000   \n",
       "\n",
       "Variable_Code  Population_Estimate_2015  SBP_PART_2015  SFSP_PART_2015  \\\n",
       "count                      3.142000e+03            0.0             0.0   \n",
       "mean                       1.020823e+05            NaN             NaN   \n",
       "std                        3.281943e+05            NaN             NaN   \n",
       "min                        8.800000e+01            NaN             NaN   \n",
       "25%                        1.094800e+04            NaN             NaN   \n",
       "50%                        2.563250e+04            NaN             NaN   \n",
       "75%                        6.748825e+04            NaN             NaN   \n",
       "max                        1.009704e+07            NaN             NaN   \n",
       "\n",
       "Variable_Code  State_Population_2015  WIC_PART_2015  \n",
       "count                            0.0            0.0  \n",
       "mean                             NaN            NaN  \n",
       "std                              NaN            NaN  \n",
       "min                              NaN            NaN  \n",
       "25%                              NaN            NaN  \n",
       "50%                              NaN            NaN  \n",
       "75%                              NaN            NaN  \n",
       "max                              NaN            NaN  \n",
       "\n",
       "[8 rows x 70 columns]"
      ]
     },
     "execution_count": 32,
     "metadata": {},
     "output_type": "execute_result"
    }
   ],
   "source": [
    "complete_pop15.describe()"
   ]
  },
  {
   "cell_type": "code",
   "execution_count": 33,
   "id": "eebabe05-c8a6-478c-9416-e2388faa6daf",
   "metadata": {
    "tags": []
   },
   "outputs": [
    {
     "data": {
      "text/html": [
       "<div>\n",
       "<style scoped>\n",
       "    .dataframe tbody tr th:only-of-type {\n",
       "        vertical-align: middle;\n",
       "    }\n",
       "\n",
       "    .dataframe tbody tr th {\n",
       "        vertical-align: top;\n",
       "    }\n",
       "\n",
       "    .dataframe thead th {\n",
       "        text-align: right;\n",
       "    }\n",
       "</style>\n",
       "<table border=\"1\" class=\"dataframe\">\n",
       "  <thead>\n",
       "    <tr style=\"text-align: right;\">\n",
       "      <th>Variable_Code</th>\n",
       "      <th>FIPS</th>\n",
       "      <th>State</th>\n",
       "      <th>County</th>\n",
       "      <th>CACFP_PART_2015</th>\n",
       "      <th>CHILDPOVRATE15</th>\n",
       "      <th>FARM_TO_SCHOOL15</th>\n",
       "      <th>FDPIR15</th>\n",
       "      <th>LACCESS_BLACK15</th>\n",
       "      <th>LACCESS_CHILD10</th>\n",
       "      <th>LACCESS_CHILD15</th>\n",
       "      <th>...</th>\n",
       "      <th>PCT_REDUCED_LUNCH15</th>\n",
       "      <th>PERCHLDPOV10</th>\n",
       "      <th>PERPOV10</th>\n",
       "      <th>POPLOSS10</th>\n",
       "      <th>POVRATE15</th>\n",
       "      <th>Population_Estimate_2015</th>\n",
       "      <th>SBP_PART_2015</th>\n",
       "      <th>SFSP_PART_2015</th>\n",
       "      <th>State_Population_2015</th>\n",
       "      <th>WIC_PART_2015</th>\n",
       "    </tr>\n",
       "  </thead>\n",
       "  <tbody>\n",
       "    <tr>\n",
       "      <th>51</th>\n",
       "      <td>1001</td>\n",
       "      <td>AL</td>\n",
       "      <td>autauga</td>\n",
       "      <td>NaN</td>\n",
       "      <td>18.8</td>\n",
       "      <td>0.0</td>\n",
       "      <td>0.0</td>\n",
       "      <td>4216.473194</td>\n",
       "      <td>4822.500269</td>\n",
       "      <td>4616.971480</td>\n",
       "      <td>...</td>\n",
       "      <td>NaN</td>\n",
       "      <td>0.0</td>\n",
       "      <td>0.0</td>\n",
       "      <td>0.0</td>\n",
       "      <td>12.7</td>\n",
       "      <td>54838.0</td>\n",
       "      <td>NaN</td>\n",
       "      <td>NaN</td>\n",
       "      <td>NaN</td>\n",
       "      <td>NaN</td>\n",
       "    </tr>\n",
       "    <tr>\n",
       "      <th>52</th>\n",
       "      <td>1003</td>\n",
       "      <td>AL</td>\n",
       "      <td>baldwin</td>\n",
       "      <td>NaN</td>\n",
       "      <td>19.6</td>\n",
       "      <td>1.0</td>\n",
       "      <td>0.0</td>\n",
       "      <td>3540.965826</td>\n",
       "      <td>7916.131932</td>\n",
       "      <td>7007.972675</td>\n",
       "      <td>...</td>\n",
       "      <td>6.346384</td>\n",
       "      <td>0.0</td>\n",
       "      <td>0.0</td>\n",
       "      <td>0.0</td>\n",
       "      <td>12.9</td>\n",
       "      <td>202995.0</td>\n",
       "      <td>NaN</td>\n",
       "      <td>NaN</td>\n",
       "      <td>NaN</td>\n",
       "      <td>NaN</td>\n",
       "    </tr>\n",
       "    <tr>\n",
       "      <th>53</th>\n",
       "      <td>1005</td>\n",
       "      <td>AL</td>\n",
       "      <td>barbour</td>\n",
       "      <td>NaN</td>\n",
       "      <td>45.2</td>\n",
       "      <td>0.0</td>\n",
       "      <td>0.0</td>\n",
       "      <td>2713.124930</td>\n",
       "      <td>940.419327</td>\n",
       "      <td>1031.927776</td>\n",
       "      <td>...</td>\n",
       "      <td>2.317528</td>\n",
       "      <td>1.0</td>\n",
       "      <td>1.0</td>\n",
       "      <td>0.0</td>\n",
       "      <td>32.0</td>\n",
       "      <td>26294.0</td>\n",
       "      <td>NaN</td>\n",
       "      <td>NaN</td>\n",
       "      <td>NaN</td>\n",
       "      <td>NaN</td>\n",
       "    </tr>\n",
       "    <tr>\n",
       "      <th>54</th>\n",
       "      <td>1007</td>\n",
       "      <td>AL</td>\n",
       "      <td>bibb</td>\n",
       "      <td>NaN</td>\n",
       "      <td>29.3</td>\n",
       "      <td>0.0</td>\n",
       "      <td>0.0</td>\n",
       "      <td>419.099942</td>\n",
       "      <td>249.204753</td>\n",
       "      <td>232.642670</td>\n",
       "      <td>...</td>\n",
       "      <td>9.060807</td>\n",
       "      <td>1.0</td>\n",
       "      <td>0.0</td>\n",
       "      <td>0.0</td>\n",
       "      <td>22.2</td>\n",
       "      <td>22562.0</td>\n",
       "      <td>NaN</td>\n",
       "      <td>NaN</td>\n",
       "      <td>NaN</td>\n",
       "      <td>NaN</td>\n",
       "    </tr>\n",
       "    <tr>\n",
       "      <th>55</th>\n",
       "      <td>1009</td>\n",
       "      <td>AL</td>\n",
       "      <td>blount</td>\n",
       "      <td>NaN</td>\n",
       "      <td>22.2</td>\n",
       "      <td>0.0</td>\n",
       "      <td>0.0</td>\n",
       "      <td>95.842687</td>\n",
       "      <td>384.911607</td>\n",
       "      <td>910.686113</td>\n",
       "      <td>...</td>\n",
       "      <td>7.895581</td>\n",
       "      <td>0.0</td>\n",
       "      <td>0.0</td>\n",
       "      <td>0.0</td>\n",
       "      <td>14.7</td>\n",
       "      <td>57522.0</td>\n",
       "      <td>NaN</td>\n",
       "      <td>NaN</td>\n",
       "      <td>NaN</td>\n",
       "      <td>NaN</td>\n",
       "    </tr>\n",
       "  </tbody>\n",
       "</table>\n",
       "<p>5 rows × 72 columns</p>\n",
       "</div>"
      ],
      "text/plain": [
       "Variable_Code  FIPS State   County  CACFP_PART_2015  CHILDPOVRATE15  \\\n",
       "51             1001    AL  autauga              NaN            18.8   \n",
       "52             1003    AL  baldwin              NaN            19.6   \n",
       "53             1005    AL  barbour              NaN            45.2   \n",
       "54             1007    AL     bibb              NaN            29.3   \n",
       "55             1009    AL   blount              NaN            22.2   \n",
       "\n",
       "Variable_Code  FARM_TO_SCHOOL15  FDPIR15  LACCESS_BLACK15  LACCESS_CHILD10  \\\n",
       "51                          0.0      0.0      4216.473194      4822.500269   \n",
       "52                          1.0      0.0      3540.965826      7916.131932   \n",
       "53                          0.0      0.0      2713.124930       940.419327   \n",
       "54                          0.0      0.0       419.099942       249.204753   \n",
       "55                          0.0      0.0        95.842687       384.911607   \n",
       "\n",
       "Variable_Code  LACCESS_CHILD15  ...  PCT_REDUCED_LUNCH15  PERCHLDPOV10  \\\n",
       "51                 4616.971480  ...                  NaN           0.0   \n",
       "52                 7007.972675  ...             6.346384           0.0   \n",
       "53                 1031.927776  ...             2.317528           1.0   \n",
       "54                  232.642670  ...             9.060807           1.0   \n",
       "55                  910.686113  ...             7.895581           0.0   \n",
       "\n",
       "Variable_Code  PERPOV10  POPLOSS10  POVRATE15  Population_Estimate_2015  \\\n",
       "51                  0.0        0.0       12.7                   54838.0   \n",
       "52                  0.0        0.0       12.9                  202995.0   \n",
       "53                  1.0        0.0       32.0                   26294.0   \n",
       "54                  0.0        0.0       22.2                   22562.0   \n",
       "55                  0.0        0.0       14.7                   57522.0   \n",
       "\n",
       "Variable_Code  SBP_PART_2015  SFSP_PART_2015  State_Population_2015  \\\n",
       "51                       NaN             NaN                    NaN   \n",
       "52                       NaN             NaN                    NaN   \n",
       "53                       NaN             NaN                    NaN   \n",
       "54                       NaN             NaN                    NaN   \n",
       "55                       NaN             NaN                    NaN   \n",
       "\n",
       "Variable_Code  WIC_PART_2015  \n",
       "51                       NaN  \n",
       "52                       NaN  \n",
       "53                       NaN  \n",
       "54                       NaN  \n",
       "55                       NaN  \n",
       "\n",
       "[5 rows x 72 columns]"
      ]
     },
     "execution_count": 33,
     "metadata": {},
     "output_type": "execute_result"
    }
   ],
   "source": [
    "complete_pop15.head()"
   ]
  },
  {
   "cell_type": "code",
   "execution_count": 34,
   "id": "b20c3f7c-99c7-4c63-a7f8-d37fa0ca8e78",
   "metadata": {
    "tags": []
   },
   "outputs": [],
   "source": [
    "populations = complete_pop15.groupby(\"State\")[\"Population_Estimate_2015\"].mean()"
   ]
  },
  {
   "cell_type": "code",
   "execution_count": 35,
   "id": "b5b9c90e-9f06-42a0-b9ca-e448039f118a",
   "metadata": {
    "tags": []
   },
   "outputs": [
    {
     "data": {
      "image/png": "[encoded data removed]",
      "text/plain": [
       "<Figure size 900x600 with 1 Axes>"
      ]
     },
     "metadata": {},
     "output_type": "display_data"
    }
   ],
   "source": [
    "populations.plot(kind=\"bar\", figsize=(9,6), title=\"Populations by State for 2015\")\n",
    "plt.xticks(rotation=45, fontsize=9)\n",
    "plt.show()"
   ]
  },
  {
   "cell_type": "code",
   "execution_count": 36,
   "id": "ba3200c7-15a3-4265-8b82-55ba244e0e75",
   "metadata": {
    "tags": []
   },
   "outputs": [],
   "source": [
    "missing_sum = pivot_df.isnull().sum()\n",
    "missing_percent = 100 * pivot_df.isnull().mean()\n",
    "missing = pd.concat([missing_sum, missing_percent], axis=1)\n",
    "missing = missing.sort_values([0, 1], ascending=False)"
   ]
  },
  {
   "cell_type": "code",
   "execution_count": 37,
   "id": "18cc4b4f-666f-4f28-a83e-f3c2caf91c87",
   "metadata": {
    "tags": []
   },
   "outputs": [],
   "source": [
    "missing = missing.rename(columns = {1:'Percent'})\n",
    "missing = missing.rename(columns = {0:'Sum'})"
   ]
  },
  {
   "cell_type": "code",
   "execution_count": 38,
   "id": "cf080c56-9bcc-4528-af57-3d29cd69e8fb",
   "metadata": {
    "tags": []
   },
   "outputs": [
    {
     "data": {
      "text/html": [
       "<div>\n",
       "<style scoped>\n",
       "    .dataframe tbody tr th:only-of-type {\n",
       "        vertical-align: middle;\n",
       "    }\n",
       "\n",
       "    .dataframe tbody tr th {\n",
       "        vertical-align: top;\n",
       "    }\n",
       "\n",
       "    .dataframe thead th {\n",
       "        text-align: right;\n",
       "    }\n",
       "</style>\n",
       "<table border=\"1\" class=\"dataframe\">\n",
       "  <thead>\n",
       "    <tr style=\"text-align: right;\">\n",
       "      <th></th>\n",
       "      <th>Sum</th>\n",
       "      <th>Percent</th>\n",
       "    </tr>\n",
       "    <tr>\n",
       "      <th>Variable_Code</th>\n",
       "      <th></th>\n",
       "      <th></th>\n",
       "    </tr>\n",
       "  </thead>\n",
       "  <tbody>\n",
       "    <tr>\n",
       "      <th>CACFP_PART_2015</th>\n",
       "      <td>3277</td>\n",
       "      <td>98.467548</td>\n",
       "    </tr>\n",
       "    <tr>\n",
       "      <th>NSLP_PART_2015</th>\n",
       "      <td>3277</td>\n",
       "      <td>98.467548</td>\n",
       "    </tr>\n",
       "    <tr>\n",
       "      <th>SBP_PART_2015</th>\n",
       "      <td>3277</td>\n",
       "      <td>98.467548</td>\n",
       "    </tr>\n",
       "    <tr>\n",
       "      <th>SFSP_PART_2015</th>\n",
       "      <td>3277</td>\n",
       "      <td>98.467548</td>\n",
       "    </tr>\n",
       "    <tr>\n",
       "      <th>State_Population_2015</th>\n",
       "      <td>3277</td>\n",
       "      <td>98.467548</td>\n",
       "    </tr>\n",
       "    <tr>\n",
       "      <th>WIC_PART_2015</th>\n",
       "      <td>3277</td>\n",
       "      <td>98.467548</td>\n",
       "    </tr>\n",
       "  </tbody>\n",
       "</table>\n",
       "</div>"
      ],
      "text/plain": [
       "                        Sum    Percent\n",
       "Variable_Code                         \n",
       "CACFP_PART_2015        3277  98.467548\n",
       "NSLP_PART_2015         3277  98.467548\n",
       "SBP_PART_2015          3277  98.467548\n",
       "SFSP_PART_2015         3277  98.467548\n",
       "State_Population_2015  3277  98.467548\n",
       "WIC_PART_2015          3277  98.467548"
      ]
     },
     "execution_count": 38,
     "metadata": {},
     "output_type": "execute_result"
    }
   ],
   "source": [
    "missing[missing.Percent > 50]"
   ]
  },
  {
   "cell_type": "code",
   "execution_count": 39,
   "id": "75070321-c022-451c-a64f-158ae58bfe74",
   "metadata": {
    "tags": []
   },
   "outputs": [],
   "source": [
    "pivot_df = pivot_df.drop(['CACFP_PART_2015', 'NSLP_PART_2015', 'SBP_PART_2015', 'SFSP_PART_2015', 'State_Population_2015', 'WIC_PART_2015'], axis=1)"
   ]
  },
  {
   "cell_type": "code",
   "execution_count": 40,
   "id": "cbb4d9ee-6b29-4af9-8d14-ab4f2b8d349e",
   "metadata": {
    "tags": []
   },
   "outputs": [
    {
     "data": {
      "text/plain": [
       "Variable_Code\n",
       "PCT_FREE_LUNCH15       474\n",
       "PCT_REDUCED_LUNCH15    474\n",
       "FARM_TO_SCHOOL15       403\n",
       "PCT_REDUCED_LUNCH10    216\n",
       "LACCESS_CHILD_10_15    213\n",
       "                      ... \n",
       "PCT_HISP10             185\n",
       "PCT_LACCESS_CHILD10    185\n",
       "State                    0\n",
       "County                   0\n",
       "FIPS                     0\n",
       "Length: 66, dtype: int64"
      ]
     },
     "execution_count": 40,
     "metadata": {},
     "output_type": "execute_result"
    }
   ],
   "source": [
    "pivot_df.isna().sum().sort_values(ascending=False)"
   ]
  },
  {
   "cell_type": "code",
   "execution_count": 41,
   "id": "e67cc2e7-4d26-4aba-85f0-5dc2c1225c7c",
   "metadata": {
    "tags": []
   },
   "outputs": [],
   "source": [
    "#pivot_df.info()"
   ]
  },
  {
   "cell_type": "code",
   "execution_count": 42,
   "id": "7835a2e6-6e76-422e-a04b-cf5b61e3adce",
   "metadata": {
    "tags": []
   },
   "outputs": [],
   "source": [
    "pivot_df = pivot_df.drop('PCH_FDPIR_12_15', axis=1) # Drop col. It contains data outside 2010 and 2015"
   ]
  },
  {
   "cell_type": "code",
   "execution_count": 43,
   "id": "73689df2-3494-42ef-9606-0d48a4bcd2a0",
   "metadata": {
    "tags": []
   },
   "outputs": [],
   "source": [
    "pivot_df['FARM_TO_SCHOOL15'] = pivot_df['FARM_TO_SCHOOL15'].fillna(0)"
   ]
  },
  {
   "cell_type": "code",
   "execution_count": 44,
   "id": "8b8ded3a-18d2-453b-9d44-6a9728196384",
   "metadata": {
    "tags": []
   },
   "outputs": [],
   "source": [
    "pivot_df['FARM_TO_SCHOOL15'] = pivot_df['FARM_TO_SCHOOL15'].astype('int')"
   ]
  },
  {
   "cell_type": "code",
   "execution_count": 45,
   "id": "00d6485c-1d24-4c2e-abfb-675717b40807",
   "metadata": {
    "tags": []
   },
   "outputs": [
    {
     "data": {
      "text/plain": [
       "2778    1\n",
       "2712    1\n",
       "1989    1\n",
       "1990    1\n",
       "1991    1\n",
       "       ..\n",
       "1317    0\n",
       "1316    0\n",
       "1315    0\n",
       "1314    0\n",
       "3327    0\n",
       "Name: FARM_TO_SCHOOL15, Length: 3328, dtype: category\n",
       "Categories (2, int64): [0, 1]"
      ]
     },
     "execution_count": 45,
     "metadata": {},
     "output_type": "execute_result"
    }
   ],
   "source": [
    "pivot_df['FARM_TO_SCHOOL15'] = pivot_df['FARM_TO_SCHOOL15'].astype('category')\n",
    "\n",
    "#categories_farm_to_school = ['No Program', 'Program Exists']\n",
    "#pivot_df['FARM_TO_SCHOOL15'] = pd.qcut(pivot_df['FARM_TO_SCHOOL15'], q=[0, 1], duplicates='drop')\n",
    "pivot_df['FARM_TO_SCHOOL15'].sort_values(ascending=False)"
   ]
  },
  {
   "cell_type": "code",
   "execution_count": 46,
   "id": "4b3e2536-3381-4154-a1bd-9c854232540b",
   "metadata": {
    "tags": []
   },
   "outputs": [
    {
     "data": {
      "text/plain": [
       "0       61\n",
       "1       61\n",
       "2       61\n",
       "3       61\n",
       "4       61\n",
       "        ..\n",
       "3130    60\n",
       "3132    60\n",
       "3134    60\n",
       "3136    60\n",
       "3138    60\n",
       "Length: 187, dtype: int64"
      ]
     },
     "execution_count": 46,
     "metadata": {},
     "output_type": "execute_result"
    }
   ],
   "source": [
    "row_nan_count_method = pivot_df.isnull().sum(axis=1)\n",
    "#row_nan_count_method.sort_values(ascending=False)\n",
    "missing_rows = row_nan_count_method[row_nan_count_method > 30]\n",
    "missing_rows"
   ]
  },
  {
   "cell_type": "code",
   "execution_count": 47,
   "id": "cd347fc3-ac30-41a6-97fb-ec0ba2550bdd",
   "metadata": {
    "tags": []
   },
   "outputs": [
    {
     "data": {
      "text/html": [
       "<div>\n",
       "<style scoped>\n",
       "    .dataframe tbody tr th:only-of-type {\n",
       "        vertical-align: middle;\n",
       "    }\n",
       "\n",
       "    .dataframe tbody tr th {\n",
       "        vertical-align: top;\n",
       "    }\n",
       "\n",
       "    .dataframe thead th {\n",
       "        text-align: right;\n",
       "    }\n",
       "</style>\n",
       "<table border=\"1\" class=\"dataframe\">\n",
       "  <thead>\n",
       "    <tr style=\"text-align: right;\">\n",
       "      <th>Variable_Code</th>\n",
       "      <th>FIPS</th>\n",
       "      <th>County</th>\n",
       "      <th>State</th>\n",
       "      <th>Population_Estimate_2015</th>\n",
       "    </tr>\n",
       "  </thead>\n",
       "  <tbody>\n",
       "    <tr>\n",
       "      <th>284</th>\n",
       "      <td>6037</td>\n",
       "      <td>los angeles</td>\n",
       "      <td>CA</td>\n",
       "      <td>10097037.0</td>\n",
       "    </tr>\n",
       "    <tr>\n",
       "      <th>690</th>\n",
       "      <td>17031</td>\n",
       "      <td>cook</td>\n",
       "      <td>IL</td>\n",
       "      <td>5247662.0</td>\n",
       "    </tr>\n",
       "    <tr>\n",
       "      <th>2770</th>\n",
       "      <td>48201</td>\n",
       "      <td>harris</td>\n",
       "      <td>TX</td>\n",
       "      <td>4561939.0</td>\n",
       "    </tr>\n",
       "    <tr>\n",
       "      <th>183</th>\n",
       "      <td>4013</td>\n",
       "      <td>maricopa</td>\n",
       "      <td>AZ</td>\n",
       "      <td>4175049.0</td>\n",
       "    </tr>\n",
       "    <tr>\n",
       "      <th>302</th>\n",
       "      <td>6073</td>\n",
       "      <td>san diego</td>\n",
       "      <td>CA</td>\n",
       "      <td>3284061.0</td>\n",
       "    </tr>\n",
       "    <tr>\n",
       "      <th>...</th>\n",
       "      <td>...</td>\n",
       "      <td>...</td>\n",
       "      <td>...</td>\n",
       "      <td>...</td>\n",
       "    </tr>\n",
       "    <tr>\n",
       "      <th>3129</th>\n",
       "      <td>51800</td>\n",
       "      <td>suffolk</td>\n",
       "      <td>VA</td>\n",
       "      <td>NaN</td>\n",
       "    </tr>\n",
       "    <tr>\n",
       "      <th>3131</th>\n",
       "      <td>51810</td>\n",
       "      <td>virginia beach</td>\n",
       "      <td>VA</td>\n",
       "      <td>NaN</td>\n",
       "    </tr>\n",
       "    <tr>\n",
       "      <th>3133</th>\n",
       "      <td>51820</td>\n",
       "      <td>waynesboro</td>\n",
       "      <td>VA</td>\n",
       "      <td>NaN</td>\n",
       "    </tr>\n",
       "    <tr>\n",
       "      <th>3135</th>\n",
       "      <td>51830</td>\n",
       "      <td>williamsburg</td>\n",
       "      <td>VA</td>\n",
       "      <td>NaN</td>\n",
       "    </tr>\n",
       "    <tr>\n",
       "      <th>3137</th>\n",
       "      <td>51840</td>\n",
       "      <td>winchester</td>\n",
       "      <td>VA</td>\n",
       "      <td>NaN</td>\n",
       "    </tr>\n",
       "  </tbody>\n",
       "</table>\n",
       "<p>3328 rows × 4 columns</p>\n",
       "</div>"
      ],
      "text/plain": [
       "Variable_Code   FIPS          County State  Population_Estimate_2015\n",
       "284             6037     los angeles    CA                10097037.0\n",
       "690            17031            cook    IL                 5247662.0\n",
       "2770           48201          harris    TX                 4561939.0\n",
       "183             4013        maricopa    AZ                 4175049.0\n",
       "302             6073       san diego    CA                 3284061.0\n",
       "...              ...             ...   ...                       ...\n",
       "3129           51800         suffolk    VA                       NaN\n",
       "3131           51810  virginia beach    VA                       NaN\n",
       "3133           51820      waynesboro    VA                       NaN\n",
       "3135           51830    williamsburg    VA                       NaN\n",
       "3137           51840      winchester    VA                       NaN\n",
       "\n",
       "[3328 rows x 4 columns]"
      ]
     },
     "execution_count": 47,
     "metadata": {},
     "output_type": "execute_result"
    }
   ],
   "source": [
    "pivot_df[[\"FIPS\", \"County\", \"State\", \"Population_Estimate_2015\"]].sort_values(ascending=False, by=\"Population_Estimate_2015\")"
   ]
  },
  {
   "cell_type": "code",
   "execution_count": 48,
   "id": "f0918565-3fb1-410a-9c94-44e718cf54f8",
   "metadata": {
    "tags": []
   },
   "outputs": [
    {
     "data": {
      "text/plain": [
       "186"
      ]
     },
     "execution_count": 48,
     "metadata": {},
     "output_type": "execute_result"
    }
   ],
   "source": [
    "pivot_df[\"Population_Estimate_2015\"].isna().sum()"
   ]
  },
  {
   "cell_type": "code",
   "execution_count": 49,
   "id": "66b2e4b6-aa95-4c6a-b1d3-06bca3571fde",
   "metadata": {
    "tags": []
   },
   "outputs": [],
   "source": [
    "df_condensed = pivot_df # Creating a new dataframe to deal with my condensed data."
   ]
  },
  {
   "cell_type": "code",
   "execution_count": 50,
   "id": "b4357317-d5ae-438f-9079-1c76abc119ec",
   "metadata": {
    "tags": []
   },
   "outputs": [],
   "source": [
    "df_condensed.dropna(axis=0, thresh=30, inplace=True)"
   ]
  },
  {
   "cell_type": "code",
   "execution_count": 51,
   "id": "0ba83b2b-4fce-4373-98ff-f328cf869c9d",
   "metadata": {
    "tags": []
   },
   "outputs": [
    {
     "data": {
      "text/plain": [
       "3083    34\n",
       "3062    32\n",
       "2659    30\n",
       "1385    28\n",
       "1111    28\n",
       "        ..\n",
       "1145     0\n",
       "1146     0\n",
       "1147     0\n",
       "1148     0\n",
       "3327     0\n",
       "Length: 3143, dtype: int64"
      ]
     },
     "execution_count": 51,
     "metadata": {},
     "output_type": "execute_result"
    }
   ],
   "source": [
    "df_condensed.isna().sum(axis=1).sort_values(ascending=False)"
   ]
  },
  {
   "cell_type": "code",
   "execution_count": 52,
   "id": "d099a6cb-2825-4ce8-8237-0f5cc1d74b0e",
   "metadata": {
    "tags": []
   },
   "outputs": [
    {
     "data": {
      "text/plain": [
       "Variable_Code\n",
       "PCT_REDUCED_LUNCH15         289\n",
       "PCT_FREE_LUNCH15            289\n",
       "Population_Estimate_2015    135\n",
       "PCT_REDUCED_LUNCH10          31\n",
       "LACCESS_CHILD_10_15          28\n",
       "                           ... \n",
       "LACCESS_POP10                 0\n",
       "PCT_LACCESS_CHILD10           0\n",
       "PCT_LACCESS_LOWI10            0\n",
       "LACCESS_SENIORS10             0\n",
       "FIPS                          0\n",
       "Length: 65, dtype: int64"
      ]
     },
     "execution_count": 52,
     "metadata": {},
     "output_type": "execute_result"
    }
   ],
   "source": [
    "df_condensed.isna().sum().sort_values(ascending=False)"
   ]
  },
  {
   "cell_type": "code",
   "execution_count": 53,
   "id": "3e54c52d-c686-40a1-93b8-0a65778b0127",
   "metadata": {
    "tags": []
   },
   "outputs": [
    {
     "name": "stdout",
     "output_type": "stream",
     "text": [
      "<class 'pandas.core.frame.DataFrame'>\n",
      "Index: 3143 entries, 51 to 3327\n",
      "Data columns (total 65 columns):\n",
      " #   Column                     Non-Null Count  Dtype   \n",
      "---  ------                     --------------  -----   \n",
      " 0   FIPS                       3143 non-null   int64   \n",
      " 1   State                      3143 non-null   object  \n",
      " 2   County                     3143 non-null   object  \n",
      " 3   CHILDPOVRATE15             3139 non-null   float64 \n",
      " 4   FARM_TO_SCHOOL15           3143 non-null   category\n",
      " 5   FDPIR15                    3143 non-null   float64 \n",
      " 6   LACCESS_BLACK15            3124 non-null   float64 \n",
      " 7   LACCESS_CHILD10            3143 non-null   float64 \n",
      " 8   LACCESS_CHILD15            3124 non-null   float64 \n",
      " 9   LACCESS_CHILD_10_15        3115 non-null   float64 \n",
      " 10  LACCESS_HHNV10             3143 non-null   float64 \n",
      " 11  LACCESS_HHNV15             3140 non-null   float64 \n",
      " 12  LACCESS_HISP15             3124 non-null   float64 \n",
      " 13  LACCESS_LOWI10             3143 non-null   float64 \n",
      " 14  LACCESS_LOWI15             3123 non-null   float64 \n",
      " 15  LACCESS_MULTIR15           3124 non-null   float64 \n",
      " 16  LACCESS_NHASIAN15          3124 non-null   float64 \n",
      " 17  LACCESS_NHNA15             3124 non-null   float64 \n",
      " 18  LACCESS_NHPI15             3124 non-null   float64 \n",
      " 19  LACCESS_POP10              3143 non-null   float64 \n",
      " 20  LACCESS_POP15              3124 non-null   float64 \n",
      " 21  LACCESS_SENIORS10          3143 non-null   float64 \n",
      " 22  LACCESS_SENIORS15          3124 non-null   float64 \n",
      " 23  LACCESS_SNAP15             3123 non-null   float64 \n",
      " 24  LACCESS_WHITE15            3124 non-null   float64 \n",
      " 25  MEDHHINC15                 3139 non-null   float64 \n",
      " 26  PCH_LACCESS_HHNV_10_15     3129 non-null   float64 \n",
      " 27  PCH_LACCESS_LOWI_10_15     3115 non-null   float64 \n",
      " 28  PCH_LACCESS_POP_10_15      3117 non-null   float64 \n",
      " 29  PCH_LACCESS_SENIORS_10_15  3117 non-null   float64 \n",
      " 30  PCT_18YOUNGER10            3143 non-null   float64 \n",
      " 31  PCT_65OLDER10              3143 non-null   float64 \n",
      " 32  PCT_FREE_LUNCH10           3122 non-null   float64 \n",
      " 33  PCT_FREE_LUNCH15           2854 non-null   float64 \n",
      " 34  PCT_HISP10                 3143 non-null   float64 \n",
      " 35  PCT_LACCESS_BLACK15        3124 non-null   float64 \n",
      " 36  PCT_LACCESS_CHILD10        3143 non-null   float64 \n",
      " 37  PCT_LACCESS_CHILD15        3124 non-null   float64 \n",
      " 38  PCT_LACCESS_HHNV10         3143 non-null   float64 \n",
      " 39  PCT_LACCESS_HHNV15         3140 non-null   float64 \n",
      " 40  PCT_LACCESS_HISP15         3124 non-null   float64 \n",
      " 41  PCT_LACCESS_LOWI10         3143 non-null   float64 \n",
      " 42  PCT_LACCESS_LOWI15         3123 non-null   float64 \n",
      " 43  PCT_LACCESS_MULTIR15       3124 non-null   float64 \n",
      " 44  PCT_LACCESS_NHASIAN15      3124 non-null   float64 \n",
      " 45  PCT_LACCESS_NHNA15         3124 non-null   float64 \n",
      " 46  PCT_LACCESS_NHPI15         3124 non-null   float64 \n",
      " 47  PCT_LACCESS_POP10          3143 non-null   float64 \n",
      " 48  PCT_LACCESS_POP15          3124 non-null   float64 \n",
      " 49  PCT_LACCESS_SENIORS10      3143 non-null   float64 \n",
      " 50  PCT_LACCESS_SENIORS15      3124 non-null   float64 \n",
      " 51  PCT_LACCESS_SNAP15         3123 non-null   float64 \n",
      " 52  PCT_LACCESS_WHITE15        3124 non-null   float64 \n",
      " 53  PCT_NHASIAN10              3143 non-null   float64 \n",
      " 54  PCT_NHBLACK10              3143 non-null   float64 \n",
      " 55  PCT_NHNA10                 3143 non-null   float64 \n",
      " 56  PCT_NHPI10                 3143 non-null   float64 \n",
      " 57  PCT_NHWHITE10              3143 non-null   float64 \n",
      " 58  PCT_REDUCED_LUNCH10        3112 non-null   float64 \n",
      " 59  PCT_REDUCED_LUNCH15        2854 non-null   float64 \n",
      " 60  PERCHLDPOV10               3143 non-null   float64 \n",
      " 61  PERPOV10                   3143 non-null   float64 \n",
      " 62  POPLOSS10                  3141 non-null   float64 \n",
      " 63  POVRATE15                  3139 non-null   float64 \n",
      " 64  Population_Estimate_2015   3008 non-null   float64 \n",
      "dtypes: category(1), float64(61), int64(1), object(2)\n",
      "memory usage: 1.6+ MB\n"
     ]
    }
   ],
   "source": [
    "df_condensed.info()"
   ]
  },
  {
   "cell_type": "code",
   "execution_count": 54,
   "id": "c697fba5-37f6-459d-854f-5cb3d63bd67b",
   "metadata": {},
   "outputs": [],
   "source": [
    "reduced_dict = df_condensed.groupby(\"State\")[\"PCT_REDUCED_LUNCH15\"].median().to_dict()\n",
    "df_condensed[\"PCT_REDUCED_LUNCH15\"] = df_condensed[\"PCT_REDUCED_LUNCH15\"].fillna(df_condensed[\"State\"].map(reduced_dict))"
   ]
  },
  {
   "cell_type": "code",
   "execution_count": 55,
   "id": "1c46c1b5-162e-4212-92bf-8b40c9df573f",
   "metadata": {
    "tags": []
   },
   "outputs": [],
   "source": [
    "free_dict = df_condensed.groupby(\"State\")[\"PCT_FREE_LUNCH15\"].median().to_dict()\n",
    "df_condensed[\"PCT_FREE_LUNCH15\"] = df_condensed[\"PCT_FREE_LUNCH15\"].fillna(df_condensed[\"State\"].map(free_dict))"
   ]
  },
  {
   "cell_type": "code",
   "execution_count": 56,
   "id": "aa333866-6511-402c-b0a5-0ab87900e5b5",
   "metadata": {
    "tags": []
   },
   "outputs": [],
   "source": [
    "df_condensed['PCT_REDUCED_LUNCH15'] = df_condensed['PCT_REDUCED_LUNCH15'].fillna(0)"
   ]
  },
  {
   "cell_type": "code",
   "execution_count": 57,
   "id": "2c072b61-c3c3-4ddb-b396-b595df19be14",
   "metadata": {
    "tags": []
   },
   "outputs": [],
   "source": [
    "df_condensed['PCT_FREE_LUNCH15'] = df_condensed['PCT_FREE_LUNCH15'].fillna(0)"
   ]
  },
  {
   "cell_type": "code",
   "execution_count": 58,
   "id": "8ca45681-237e-4f72-8d83-5613f386d7c1",
   "metadata": {
    "tags": []
   },
   "outputs": [],
   "source": [
    "reduced10_dict = df_condensed.groupby(\"State\")[\"PCT_REDUCED_LUNCH10\"].median().to_dict()\n",
    "df_condensed[\"PCT_REDUCED_LUNCH10\"] = df_condensed[\"PCT_REDUCED_LUNCH10\"].fillna(df_condensed[\"State\"].map(reduced10_dict))"
   ]
  },
  {
   "cell_type": "code",
   "execution_count": 59,
   "id": "4ca51eb1-5733-4bb7-b0cf-93f5f93134e1",
   "metadata": {
    "tags": []
   },
   "outputs": [
    {
     "data": {
      "text/plain": [
       "0"
      ]
     },
     "execution_count": 59,
     "metadata": {},
     "output_type": "execute_result"
    }
   ],
   "source": [
    "df_condensed[\"PCT_REDUCED_LUNCH10\"].isna().sum()"
   ]
  },
  {
   "cell_type": "code",
   "execution_count": 60,
   "id": "008cb968-3402-4cd6-b12d-6ff674115ca4",
   "metadata": {
    "tags": []
   },
   "outputs": [],
   "source": [
    "laccess_child1015_dict = df_condensed.groupby(\"State\")[\"LACCESS_CHILD_10_15\"].median().to_dict()\n",
    "df_condensed[\"LACCESS_CHILD_10_15\"] = df_condensed[\"LACCESS_CHILD_10_15\"].fillna(df_condensed[\"State\"].map(laccess_child1015_dict))"
   ]
  },
  {
   "cell_type": "code",
   "execution_count": 61,
   "id": "efaba557-914b-45cd-a020-80b8ef55a5df",
   "metadata": {
    "tags": []
   },
   "outputs": [
    {
     "data": {
      "text/plain": [
       "0"
      ]
     },
     "execution_count": 61,
     "metadata": {},
     "output_type": "execute_result"
    }
   ],
   "source": [
    "df_condensed[\"LACCESS_CHILD_10_15\"].isna().sum()"
   ]
  },
  {
   "cell_type": "code",
   "execution_count": 62,
   "id": "ba094939-e653-4dc5-8003-ab63b0aae359",
   "metadata": {
    "tags": []
   },
   "outputs": [],
   "source": [
    "pch_lowi = df_condensed.groupby(\"State\")[\"PCH_LACCESS_LOWI_10_15\"].median().to_dict()\n",
    "df_condensed[\"PCH_LACCESS_LOWI_10_15\"] = df_condensed[\"PCH_LACCESS_LOWI_10_15\"].fillna(df_condensed[\"State\"].map(pch_lowi))"
   ]
  },
  {
   "cell_type": "code",
   "execution_count": 63,
   "id": "40e4a463-fa30-4bdf-acdb-f84c13ff5742",
   "metadata": {
    "tags": []
   },
   "outputs": [
    {
     "data": {
      "text/plain": [
       "0"
      ]
     },
     "execution_count": 63,
     "metadata": {},
     "output_type": "execute_result"
    }
   ],
   "source": [
    "df_condensed[\"PCH_LACCESS_LOWI_10_15\"].isna().sum()"
   ]
  },
  {
   "cell_type": "code",
   "execution_count": 64,
   "id": "0d90245b-eb6a-4e1a-a46f-cad108b79734",
   "metadata": {
    "tags": []
   },
   "outputs": [],
   "source": [
    "pch_pop = df_condensed.groupby(\"State\")[\"PCH_LACCESS_POP_10_15\"].median().to_dict()\n",
    "df_condensed[\"PCH_LACCESS_POP_10_15\"] = df_condensed[\"PCH_LACCESS_POP_10_15\"].fillna(df_condensed[\"State\"].map(pch_pop))"
   ]
  },
  {
   "cell_type": "code",
   "execution_count": 65,
   "id": "7dd55fe6-1682-4fb4-ae43-91c4e94b61e4",
   "metadata": {
    "tags": []
   },
   "outputs": [
    {
     "data": {
      "text/plain": [
       "0"
      ]
     },
     "execution_count": 65,
     "metadata": {},
     "output_type": "execute_result"
    }
   ],
   "source": [
    "df_condensed[\"PCH_LACCESS_POP_10_15\"].isna().sum()"
   ]
  },
  {
   "cell_type": "code",
   "execution_count": 66,
   "id": "8215ef92-6ec5-4434-abfd-b3ef680b6add",
   "metadata": {
    "tags": []
   },
   "outputs": [],
   "source": [
    "pch_senior = df_condensed.groupby(\"State\")[\"PCH_LACCESS_SENIORS_10_15\"].median().to_dict()\n",
    "df_condensed[\"PCH_LACCESS_SENIORS_10_15\"] = df_condensed[\"PCH_LACCESS_SENIORS_10_15\"].fillna(df_condensed[\"State\"].map(pch_senior))"
   ]
  },
  {
   "cell_type": "code",
   "execution_count": 67,
   "id": "2c5cb934-bbd1-424a-bfb3-14eadf5e86a8",
   "metadata": {
    "tags": []
   },
   "outputs": [
    {
     "data": {
      "text/plain": [
       "0"
      ]
     },
     "execution_count": 67,
     "metadata": {},
     "output_type": "execute_result"
    }
   ],
   "source": [
    "df_condensed[\"PCH_LACCESS_SENIORS_10_15\"].isna().sum()"
   ]
  },
  {
   "cell_type": "code",
   "execution_count": 68,
   "id": "1f14b796-238e-4fe3-b3a0-3b36b28564fb",
   "metadata": {
    "tags": []
   },
   "outputs": [],
   "source": [
    "pct_free = df_condensed.groupby(\"State\")[\"PCT_FREE_LUNCH10\"].median().to_dict()\n",
    "df_condensed[\"PCT_FREE_LUNCH10\"] = df_condensed[\"PCT_FREE_LUNCH10\"].fillna(df_condensed[\"State\"].map(pct_free))"
   ]
  },
  {
   "cell_type": "code",
   "execution_count": 69,
   "id": "af272e0a-3b1d-4a6f-b4fe-d11ed67bcfc2",
   "metadata": {
    "tags": []
   },
   "outputs": [],
   "source": [
    "lowi15 = df_condensed.groupby(\"State\")[\"LACCESS_LOWI15\"].median().to_dict()\n",
    "df_condensed[\"LACCESS_LOWI15\"] = df_condensed[\"LACCESS_LOWI15\"].fillna(df_condensed[\"State\"].map(lowi15))"
   ]
  },
  {
   "cell_type": "code",
   "execution_count": 70,
   "id": "bdcb5f5c-15bb-424f-9fdb-e8b535b2eb49",
   "metadata": {
    "tags": []
   },
   "outputs": [
    {
     "data": {
      "text/plain": [
       "51      931.935186\n",
       "52      950.535290\n",
       "53      422.569040\n",
       "54       53.818772\n",
       "55      175.370338\n",
       "           ...    \n",
       "3323    352.866113\n",
       "3324     60.192270\n",
       "3325    158.918171\n",
       "3326     36.804973\n",
       "3327     29.336258\n",
       "Name: LACCESS_SNAP15, Length: 3143, dtype: float64"
      ]
     },
     "execution_count": 70,
     "metadata": {},
     "output_type": "execute_result"
    }
   ],
   "source": [
    "def fill_missing(df, col):\n",
    "    median = df.groupby(\"State\")[col].median().to_dict()\n",
    "    df[col] = df[col].fillna(df[\"State\"].map(median))\n",
    "    return df_condensed[col]\n",
    "fill_missing(df_condensed, \"LACCESS_SNAP15\")"
   ]
  },
  {
   "cell_type": "code",
   "execution_count": 71,
   "id": "757bcb35-f84f-4f12-8af6-189d8a6c7b1f",
   "metadata": {
    "tags": []
   },
   "outputs": [
    {
     "data": {
      "text/plain": [
       "0"
      ]
     },
     "execution_count": 71,
     "metadata": {},
     "output_type": "execute_result"
    }
   ],
   "source": [
    "df_condensed[\"LACCESS_SNAP15\"].isna().sum()"
   ]
  },
  {
   "cell_type": "code",
   "execution_count": 72,
   "id": "a21e6b93-6f27-401e-b872-0c3d1b1ee7c5",
   "metadata": {
    "tags": []
   },
   "outputs": [
    {
     "data": {
      "text/plain": [
       "51        2.025888\n",
       "52      -11.300383\n",
       "53        4.678792\n",
       "54      -18.422377\n",
       "55        2.050367\n",
       "           ...    \n",
       "3323    148.850330\n",
       "3324    -60.706750\n",
       "3325    185.641393\n",
       "3326    203.714261\n",
       "3327    151.427630\n",
       "Name: PCH_LACCESS_HHNV_10_15, Length: 3143, dtype: float64"
      ]
     },
     "execution_count": 72,
     "metadata": {},
     "output_type": "execute_result"
    }
   ],
   "source": [
    "fill_missing(df_condensed, \"PCT_LACCESS_SNAP15\")\n",
    "fill_missing(df_condensed, \"PCT_LACCESS_LOWI15\")\n",
    "fill_missing(df_condensed, \"LACCESS_NHNA15\")\n",
    "fill_missing(df_condensed, \"PCT_LACCESS_MULTIR15\")\n",
    "fill_missing(df_condensed, \"PCT_LACCESS_CHILD15\")\n",
    "fill_missing(df_condensed, \"LACCESS_MULTIR15\")\n",
    "fill_missing(df_condensed, \"PCT_LACCESS_BLACK15\")\n",
    "fill_missing(df_condensed, \"PCT_LACCESS_NHASIAN15\")\n",
    "fill_missing(df_condensed, \"LACCESS_HISP15\")\n",
    "fill_missing(df_condensed, \"PCT_LACCESS_NHNA15\")\n",
    "fill_missing(df_condensed, \"PCT_LACCESS_NHPI15\")\n",
    "fill_missing(df_condensed, \"PCT_LACCESS_POP15\")\n",
    "fill_missing(df_condensed, \"LACCESS_NHASIAN15\")\n",
    "fill_missing(df_condensed, \"PCT_LACCESS_HISP15\")\n",
    "fill_missing(df_condensed, \"LACCESS_WHITE15\")\n",
    "fill_missing(df_condensed, \"PCT_LACCESS_SENIORS15\")\n",
    "fill_missing(df_condensed, \"LACCESS_SENIORS15\")\n",
    "fill_missing(df_condensed, \"LACCESS_POP15\")\n",
    "fill_missing(df_condensed, \"LACCESS_NHPI15\")\n",
    "fill_missing(df_condensed, \"LACCESS_BLACK15\")\n",
    "fill_missing(df_condensed, \"LACCESS_CHILD15\")\n",
    "fill_missing(df_condensed, \"PCT_LACCESS_WHITE15\")\n",
    "fill_missing(df_condensed, \"PCH_LACCESS_HHNV_10_15\")"
   ]
  },
  {
   "cell_type": "code",
   "execution_count": 73,
   "id": "7ce3b499-8b22-49b8-9e0c-a82bce1a0335",
   "metadata": {
    "tags": []
   },
   "outputs": [],
   "source": [
    "hm = df_condensed.isna().sum().sort_values(ascending=False)"
   ]
  },
  {
   "cell_type": "code",
   "execution_count": 74,
   "id": "0b6c45b1-025c-4259-904d-379e173fae58",
   "metadata": {
    "tags": []
   },
   "outputs": [
    {
     "name": "stdout",
     "output_type": "stream",
     "text": [
      "Variable_Code\n",
      "Population_Estimate_2015    135\n",
      "POVRATE15                     4\n",
      "CHILDPOVRATE15                4\n",
      "MEDHHINC15                    4\n",
      "PCT_LACCESS_HHNV15            3\n",
      "LACCESS_HHNV15                3\n",
      "POPLOSS10                     2\n",
      "dtype: int64\n"
     ]
    }
   ],
   "source": [
    "print(hm[hm > 0])"
   ]
  },
  {
   "cell_type": "code",
   "execution_count": 88,
   "id": "4f223d6b-faeb-46b6-ad76-2b2d6489df91",
   "metadata": {
    "tags": []
   },
   "outputs": [],
   "source": [
    "df_condensed['POVRATE15'] = df_condensed['POVRATE15'].fillna(0)\n",
    "df_condensed['CHILDPOVRATE15'] = df_condensed['CHILDPOVRATE15'].fillna(0)\n",
    "df_condensed['PCT_LACCESS_HHNV15'] = df_condensed['PCT_LACCESS_HHNV15'].fillna(0)\n",
    "df_condensed['LACCESS_HHNV15'] = df_condensed['LACCESS_HHNV15'].fillna(0)"
   ]
  },
  {
   "cell_type": "code",
   "execution_count": 90,
   "id": "a847455a-588b-4b1a-a790-00f8c4e3d763",
   "metadata": {
    "tags": []
   },
   "outputs": [],
   "source": [
    "hm = df_condensed.isna().sum().sort_values(ascending=False)"
   ]
  },
  {
   "cell_type": "code",
   "execution_count": 92,
   "id": "0d9143f1-9cbc-49e9-9801-bdb64ed5c6d6",
   "metadata": {
    "tags": []
   },
   "outputs": [
    {
     "name": "stdout",
     "output_type": "stream",
     "text": [
      "Variable_Code\n",
      "Population_Estimate_2015    135\n",
      "MEDHHINC15                    4\n",
      "POPLOSS10                     2\n",
      "dtype: int64\n"
     ]
    }
   ],
   "source": [
    "print(hm[hm > 0])"
   ]
  },
  {
   "cell_type": "code",
   "execution_count": 95,
   "id": "9a853dc3-e29a-4476-8881-4e23158e86a5",
   "metadata": {
    "tags": []
   },
   "outputs": [
    {
     "data": {
      "text/plain": [
       "51      0.0\n",
       "52      0.0\n",
       "53      0.0\n",
       "54      0.0\n",
       "55      0.0\n",
       "       ... \n",
       "3323    0.0\n",
       "3324    0.0\n",
       "3325    0.0\n",
       "3326    0.0\n",
       "3327    0.0\n",
       "Name: POPLOSS10, Length: 3143, dtype: float64"
      ]
     },
     "execution_count": 95,
     "metadata": {},
     "output_type": "execute_result"
    }
   ],
   "source": [
    "fill_missing(df_condensed, \"MEDHHINC15\")\n",
    "fill_missing(df_condensed, \"POPLOSS10\")"
   ]
  },
  {
   "cell_type": "code",
   "execution_count": 97,
   "id": "38b6009a-44d7-4263-91ec-6517b69fa19d",
   "metadata": {
    "tags": []
   },
   "outputs": [
    {
     "data": {
      "text/plain": [
       "Variable_Code\n",
       "FIPS                          0\n",
       "State                         0\n",
       "County                        0\n",
       "CHILDPOVRATE15                0\n",
       "FARM_TO_SCHOOL15              0\n",
       "                           ... \n",
       "PERCHLDPOV10                  0\n",
       "PERPOV10                      0\n",
       "POPLOSS10                     0\n",
       "POVRATE15                     0\n",
       "Population_Estimate_2015    135\n",
       "Length: 65, dtype: int64"
      ]
     },
     "execution_count": 97,
     "metadata": {},
     "output_type": "execute_result"
    }
   ],
   "source": [
    "df_condensed.isna().sum()"
   ]
  },
  {
   "cell_type": "code",
   "execution_count": 98,
   "id": "0de96afd-b2cc-4518-b6e4-8c6ff06f3f4f",
   "metadata": {
    "tags": []
   },
   "outputs": [
    {
     "data": {
      "image/png": "[encoded data removed]",
      "text/plain": [
       "<Figure size 640x480 with 1 Axes>"
      ]
     },
     "metadata": {},
     "output_type": "display_data"
    }
   ],
   "source": [
    "plt.boxplot(df_condensed[\"LACCESS_CHILD_10_15\"])\n",
    "plt.show()"
   ]
  },
  {
   "cell_type": "code",
   "execution_count": 99,
   "id": "848d118c-c9ca-4672-87f0-2d5b2586e98c",
   "metadata": {
    "tags": []
   },
   "outputs": [
    {
     "data": {
      "image/png": "[encoded data removed]",
      "text/plain": [
       "<Figure size 640x480 with 1 Axes>"
      ]
     },
     "metadata": {},
     "output_type": "display_data"
    }
   ],
   "source": [
    "plt.boxplot(df_condensed[\"PCT_REDUCED_LUNCH10\"])\n",
    "plt.show()"
   ]
  },
  {
   "cell_type": "code",
   "execution_count": 100,
   "id": "9938dea3-70af-4e29-b0bd-b71e0b1b8c99",
   "metadata": {
    "tags": []
   },
   "outputs": [
    {
     "data": {
      "text/html": [
       "<div>\n",
       "<style scoped>\n",
       "    .dataframe tbody tr th:only-of-type {\n",
       "        vertical-align: middle;\n",
       "    }\n",
       "\n",
       "    .dataframe tbody tr th {\n",
       "        vertical-align: top;\n",
       "    }\n",
       "\n",
       "    .dataframe thead th {\n",
       "        text-align: right;\n",
       "    }\n",
       "</style>\n",
       "<table border=\"1\" class=\"dataframe\">\n",
       "  <thead>\n",
       "    <tr style=\"text-align: right;\">\n",
       "      <th>Variable_Code</th>\n",
       "      <th>FIPS</th>\n",
       "      <th>State</th>\n",
       "      <th>County</th>\n",
       "      <th>Population_Estimate_2015</th>\n",
       "    </tr>\n",
       "  </thead>\n",
       "  <tbody>\n",
       "    <tr>\n",
       "      <th>0</th>\n",
       "      <td>1001</td>\n",
       "      <td>AL</td>\n",
       "      <td>autauga</td>\n",
       "      <td>54838</td>\n",
       "    </tr>\n",
       "    <tr>\n",
       "      <th>1</th>\n",
       "      <td>1003</td>\n",
       "      <td>AL</td>\n",
       "      <td>baldwin</td>\n",
       "      <td>202995</td>\n",
       "    </tr>\n",
       "    <tr>\n",
       "      <th>2</th>\n",
       "      <td>1005</td>\n",
       "      <td>AL</td>\n",
       "      <td>barbour</td>\n",
       "      <td>26294</td>\n",
       "    </tr>\n",
       "    <tr>\n",
       "      <th>3</th>\n",
       "      <td>1007</td>\n",
       "      <td>AL</td>\n",
       "      <td>bibb</td>\n",
       "      <td>22562</td>\n",
       "    </tr>\n",
       "    <tr>\n",
       "      <th>4</th>\n",
       "      <td>1009</td>\n",
       "      <td>AL</td>\n",
       "      <td>blount</td>\n",
       "      <td>57522</td>\n",
       "    </tr>\n",
       "    <tr>\n",
       "      <th>...</th>\n",
       "      <td>...</td>\n",
       "      <td>...</td>\n",
       "      <td>...</td>\n",
       "      <td>...</td>\n",
       "    </tr>\n",
       "    <tr>\n",
       "      <th>3137</th>\n",
       "      <td>56037</td>\n",
       "      <td>WY</td>\n",
       "      <td>sweetwater</td>\n",
       "      <td>44754</td>\n",
       "    </tr>\n",
       "    <tr>\n",
       "      <th>3138</th>\n",
       "      <td>56039</td>\n",
       "      <td>WY</td>\n",
       "      <td>teton</td>\n",
       "      <td>23016</td>\n",
       "    </tr>\n",
       "    <tr>\n",
       "      <th>3139</th>\n",
       "      <td>56041</td>\n",
       "      <td>WY</td>\n",
       "      <td>uinta</td>\n",
       "      <td>20770</td>\n",
       "    </tr>\n",
       "    <tr>\n",
       "      <th>3140</th>\n",
       "      <td>56043</td>\n",
       "      <td>WY</td>\n",
       "      <td>washakie</td>\n",
       "      <td>8280</td>\n",
       "    </tr>\n",
       "    <tr>\n",
       "      <th>3141</th>\n",
       "      <td>56045</td>\n",
       "      <td>WY</td>\n",
       "      <td>weston</td>\n",
       "      <td>7197</td>\n",
       "    </tr>\n",
       "  </tbody>\n",
       "</table>\n",
       "<p>3142 rows × 4 columns</p>\n",
       "</div>"
      ],
      "text/plain": [
       "Variable_Code   FIPS State      County  Population_Estimate_2015\n",
       "0               1001    AL     autauga                     54838\n",
       "1               1003    AL     baldwin                    202995\n",
       "2               1005    AL     barbour                     26294\n",
       "3               1007    AL        bibb                     22562\n",
       "4               1009    AL      blount                     57522\n",
       "...              ...   ...         ...                       ...\n",
       "3137           56037    WY  sweetwater                     44754\n",
       "3138           56039    WY       teton                     23016\n",
       "3139           56041    WY       uinta                     20770\n",
       "3140           56043    WY    washakie                      8280\n",
       "3141           56045    WY      weston                      7197\n",
       "\n",
       "[3142 rows x 4 columns]"
      ]
     },
     "execution_count": 100,
     "metadata": {},
     "output_type": "execute_result"
    }
   ],
   "source": [
    "counties"
   ]
  },
  {
   "cell_type": "code",
   "execution_count": 101,
   "id": "f56bbbea-edbd-4d8e-be13-68d5b0f18cdc",
   "metadata": {
    "tags": []
   },
   "outputs": [
    {
     "data": {
      "text/plain": [
       "0"
      ]
     },
     "execution_count": 101,
     "metadata": {},
     "output_type": "execute_result"
    }
   ],
   "source": [
    "co = counties\n",
    "co = co.drop(['State','County'], axis=1)\n",
    "partial = df_condensed\n",
    "partial = partial.drop(\"Population_Estimate_2015\", axis=1)\n",
    "df_full = pd.merge(partial, co, on='FIPS')\n",
    "df_full['Population_Estimate_2015'].isna().sum()"
   ]
  },
  {
   "cell_type": "code",
   "execution_count": 102,
   "id": "b245d6e6-65d0-4222-a8cf-d7dabdd416e1",
   "metadata": {
    "tags": []
   },
   "outputs": [
    {
     "name": "stdout",
     "output_type": "stream",
     "text": [
      "<class 'pandas.core.frame.DataFrame'>\n",
      "RangeIndex: 3140 entries, 0 to 3139\n",
      "Data columns (total 65 columns):\n",
      " #   Column                     Non-Null Count  Dtype   \n",
      "---  ------                     --------------  -----   \n",
      " 0   FIPS                       3140 non-null   int64   \n",
      " 1   State                      3140 non-null   object  \n",
      " 2   County                     3140 non-null   object  \n",
      " 3   CHILDPOVRATE15             3140 non-null   float64 \n",
      " 4   FARM_TO_SCHOOL15           3140 non-null   category\n",
      " 5   FDPIR15                    3140 non-null   float64 \n",
      " 6   LACCESS_BLACK15            3140 non-null   float64 \n",
      " 7   LACCESS_CHILD10            3140 non-null   float64 \n",
      " 8   LACCESS_CHILD15            3140 non-null   float64 \n",
      " 9   LACCESS_CHILD_10_15        3140 non-null   float64 \n",
      " 10  LACCESS_HHNV10             3140 non-null   float64 \n",
      " 11  LACCESS_HHNV15             3140 non-null   float64 \n",
      " 12  LACCESS_HISP15             3140 non-null   float64 \n",
      " 13  LACCESS_LOWI10             3140 non-null   float64 \n",
      " 14  LACCESS_LOWI15             3140 non-null   float64 \n",
      " 15  LACCESS_MULTIR15           3140 non-null   float64 \n",
      " 16  LACCESS_NHASIAN15          3140 non-null   float64 \n",
      " 17  LACCESS_NHNA15             3140 non-null   float64 \n",
      " 18  LACCESS_NHPI15             3140 non-null   float64 \n",
      " 19  LACCESS_POP10              3140 non-null   float64 \n",
      " 20  LACCESS_POP15              3140 non-null   float64 \n",
      " 21  LACCESS_SENIORS10          3140 non-null   float64 \n",
      " 22  LACCESS_SENIORS15          3140 non-null   float64 \n",
      " 23  LACCESS_SNAP15             3140 non-null   float64 \n",
      " 24  LACCESS_WHITE15            3140 non-null   float64 \n",
      " 25  MEDHHINC15                 3140 non-null   float64 \n",
      " 26  PCH_LACCESS_HHNV_10_15     3140 non-null   float64 \n",
      " 27  PCH_LACCESS_LOWI_10_15     3140 non-null   float64 \n",
      " 28  PCH_LACCESS_POP_10_15      3140 non-null   float64 \n",
      " 29  PCH_LACCESS_SENIORS_10_15  3140 non-null   float64 \n",
      " 30  PCT_18YOUNGER10            3140 non-null   float64 \n",
      " 31  PCT_65OLDER10              3140 non-null   float64 \n",
      " 32  PCT_FREE_LUNCH10           3140 non-null   float64 \n",
      " 33  PCT_FREE_LUNCH15           3140 non-null   float64 \n",
      " 34  PCT_HISP10                 3140 non-null   float64 \n",
      " 35  PCT_LACCESS_BLACK15        3140 non-null   float64 \n",
      " 36  PCT_LACCESS_CHILD10        3140 non-null   float64 \n",
      " 37  PCT_LACCESS_CHILD15        3140 non-null   float64 \n",
      " 38  PCT_LACCESS_HHNV10         3140 non-null   float64 \n",
      " 39  PCT_LACCESS_HHNV15         3140 non-null   float64 \n",
      " 40  PCT_LACCESS_HISP15         3140 non-null   float64 \n",
      " 41  PCT_LACCESS_LOWI10         3140 non-null   float64 \n",
      " 42  PCT_LACCESS_LOWI15         3140 non-null   float64 \n",
      " 43  PCT_LACCESS_MULTIR15       3140 non-null   float64 \n",
      " 44  PCT_LACCESS_NHASIAN15      3140 non-null   float64 \n",
      " 45  PCT_LACCESS_NHNA15         3140 non-null   float64 \n",
      " 46  PCT_LACCESS_NHPI15         3140 non-null   float64 \n",
      " 47  PCT_LACCESS_POP10          3140 non-null   float64 \n",
      " 48  PCT_LACCESS_POP15          3140 non-null   float64 \n",
      " 49  PCT_LACCESS_SENIORS10      3140 non-null   float64 \n",
      " 50  PCT_LACCESS_SENIORS15      3140 non-null   float64 \n",
      " 51  PCT_LACCESS_SNAP15         3140 non-null   float64 \n",
      " 52  PCT_LACCESS_WHITE15        3140 non-null   float64 \n",
      " 53  PCT_NHASIAN10              3140 non-null   float64 \n",
      " 54  PCT_NHBLACK10              3140 non-null   float64 \n",
      " 55  PCT_NHNA10                 3140 non-null   float64 \n",
      " 56  PCT_NHPI10                 3140 non-null   float64 \n",
      " 57  PCT_NHWHITE10              3140 non-null   float64 \n",
      " 58  PCT_REDUCED_LUNCH10        3140 non-null   float64 \n",
      " 59  PCT_REDUCED_LUNCH15        3140 non-null   float64 \n",
      " 60  PERCHLDPOV10               3140 non-null   float64 \n",
      " 61  PERPOV10                   3140 non-null   float64 \n",
      " 62  POPLOSS10                  3140 non-null   float64 \n",
      " 63  POVRATE15                  3140 non-null   float64 \n",
      " 64  Population_Estimate_2015   3140 non-null   int64   \n",
      "dtypes: category(1), float64(60), int64(2), object(2)\n",
      "memory usage: 1.5+ MB\n"
     ]
    }
   ],
   "source": [
    "df_full.info()"
   ]
  },
  {
   "cell_type": "code",
   "execution_count": 103,
   "id": "60a39666-56ac-4140-a5f7-860f30bd9243",
   "metadata": {
    "tags": []
   },
   "outputs": [],
   "source": [
    "#population_dict = df_condensed.groupby(\"State\")[\"Population_Estimate_2015\"].median().to_dict()\n",
    "#df_condensed[\"Population_Estimate_2015\"] = df_condensed[\"Population_Estimate_2015\"].fillna(df_condensed[\"State\"].map(population_dict))\n",
    "#df_condensed[['FIPS', 'County', 'State', 'Population_Estimate_2015']]"
   ]
  },
  {
   "cell_type": "code",
   "execution_count": 104,
   "id": "35698ddd-33ad-467b-82cf-65da66a64b4d",
   "metadata": {
    "tags": []
   },
   "outputs": [],
   "source": [
    "#df_condensed[\"Population_Estimate_2015\"].isna().sum()"
   ]
  },
  {
   "cell_type": "code",
   "execution_count": 105,
   "id": "9ad65ef4-5c6b-4ace-9a76-f5f082921380",
   "metadata": {
    "tags": []
   },
   "outputs": [],
   "source": [
    "#population_dict"
   ]
  },
  {
   "cell_type": "code",
   "execution_count": 106,
   "id": "fef4cc2d-15e8-488e-bcaa-1c1ba45b7cac",
   "metadata": {
    "tags": []
   },
   "outputs": [],
   "source": [
    "#pop_median = df_condensed[\"Population_Estimate_2015\"].median()\n",
    "#df_condensed[\"Population_Estimate_2015\"] = df_condensed[\"Population_Estimate_2015\"].fillna(pop_median)\n",
    "#df_condensed[['FIPS', 'State', 'Population_Estimate_2015']].sort_values(ascending=True, by=['Population_Estimate_2015'])"
   ]
  },
  {
   "cell_type": "code",
   "execution_count": 107,
   "id": "292c8733-e312-48fe-9074-011a69fa8d2d",
   "metadata": {
    "tags": []
   },
   "outputs": [
    {
     "data": {
      "text/plain": [
       "Variable_Code\n",
       "FIPS                         0\n",
       "PCT_FREE_LUNCH15             0\n",
       "PCT_LACCESS_BLACK15          0\n",
       "PCT_LACCESS_CHILD10          0\n",
       "PCT_LACCESS_CHILD15          0\n",
       "                            ..\n",
       "PCH_LACCESS_LOWI_10_15       0\n",
       "PCH_LACCESS_POP_10_15        0\n",
       "PCH_LACCESS_SENIORS_10_15    0\n",
       "PCT_18YOUNGER10              0\n",
       "Population_Estimate_2015     0\n",
       "Length: 65, dtype: int64"
      ]
     },
     "execution_count": 107,
     "metadata": {},
     "output_type": "execute_result"
    }
   ],
   "source": [
    "df_full.isna().sum().sort_values(ascending=False)"
   ]
  },
  {
   "cell_type": "code",
   "execution_count": 108,
   "id": "854e7196-084d-4224-8c35-d6766ead4cf2",
   "metadata": {},
   "outputs": [
    {
     "data": {
      "text/html": [
       "<div>\n",
       "<style scoped>\n",
       "    .dataframe tbody tr th:only-of-type {\n",
       "        vertical-align: middle;\n",
       "    }\n",
       "\n",
       "    .dataframe tbody tr th {\n",
       "        vertical-align: top;\n",
       "    }\n",
       "\n",
       "    .dataframe thead th {\n",
       "        text-align: right;\n",
       "    }\n",
       "</style>\n",
       "<table border=\"1\" class=\"dataframe\">\n",
       "  <thead>\n",
       "    <tr style=\"text-align: right;\">\n",
       "      <th>Variable_Code</th>\n",
       "      <th>FIPS</th>\n",
       "      <th>State</th>\n",
       "      <th>County</th>\n",
       "      <th>CHILDPOVRATE15</th>\n",
       "      <th>FARM_TO_SCHOOL15</th>\n",
       "      <th>FDPIR15</th>\n",
       "      <th>LACCESS_BLACK15</th>\n",
       "      <th>LACCESS_CHILD10</th>\n",
       "      <th>LACCESS_CHILD15</th>\n",
       "      <th>LACCESS_CHILD_10_15</th>\n",
       "      <th>...</th>\n",
       "      <th>PCT_NHNA10</th>\n",
       "      <th>PCT_NHPI10</th>\n",
       "      <th>PCT_NHWHITE10</th>\n",
       "      <th>PCT_REDUCED_LUNCH10</th>\n",
       "      <th>PCT_REDUCED_LUNCH15</th>\n",
       "      <th>PERCHLDPOV10</th>\n",
       "      <th>PERPOV10</th>\n",
       "      <th>POPLOSS10</th>\n",
       "      <th>POVRATE15</th>\n",
       "      <th>Population_Estimate_2015</th>\n",
       "    </tr>\n",
       "  </thead>\n",
       "  <tbody>\n",
       "    <tr>\n",
       "      <th>0</th>\n",
       "      <td>1001</td>\n",
       "      <td>AL</td>\n",
       "      <td>autauga</td>\n",
       "      <td>18.8</td>\n",
       "      <td>0</td>\n",
       "      <td>0.0</td>\n",
       "      <td>4216.473194</td>\n",
       "      <td>4822.500269</td>\n",
       "      <td>4616.971480</td>\n",
       "      <td>-4.261872</td>\n",
       "      <td>...</td>\n",
       "      <td>0.397647</td>\n",
       "      <td>0.040314</td>\n",
       "      <td>77.246156</td>\n",
       "      <td>6.886107</td>\n",
       "      <td>5.492806</td>\n",
       "      <td>0.0</td>\n",
       "      <td>0.0</td>\n",
       "      <td>0.0</td>\n",
       "      <td>12.7</td>\n",
       "      <td>54838</td>\n",
       "    </tr>\n",
       "    <tr>\n",
       "      <th>1</th>\n",
       "      <td>1003</td>\n",
       "      <td>AL</td>\n",
       "      <td>baldwin</td>\n",
       "      <td>19.6</td>\n",
       "      <td>1</td>\n",
       "      <td>0.0</td>\n",
       "      <td>3540.965826</td>\n",
       "      <td>7916.131932</td>\n",
       "      <td>7007.972675</td>\n",
       "      <td>-11.472260</td>\n",
       "      <td>...</td>\n",
       "      <td>0.628755</td>\n",
       "      <td>0.043343</td>\n",
       "      <td>83.504787</td>\n",
       "      <td>5.542340</td>\n",
       "      <td>6.346384</td>\n",
       "      <td>0.0</td>\n",
       "      <td>0.0</td>\n",
       "      <td>0.0</td>\n",
       "      <td>12.9</td>\n",
       "      <td>202995</td>\n",
       "    </tr>\n",
       "    <tr>\n",
       "      <th>2</th>\n",
       "      <td>1005</td>\n",
       "      <td>AL</td>\n",
       "      <td>barbour</td>\n",
       "      <td>45.2</td>\n",
       "      <td>0</td>\n",
       "      <td>0.0</td>\n",
       "      <td>2713.124930</td>\n",
       "      <td>940.419327</td>\n",
       "      <td>1031.927776</td>\n",
       "      <td>9.730601</td>\n",
       "      <td>...</td>\n",
       "      <td>0.218524</td>\n",
       "      <td>0.087409</td>\n",
       "      <td>46.753105</td>\n",
       "      <td>4.582140</td>\n",
       "      <td>2.317528</td>\n",
       "      <td>1.0</td>\n",
       "      <td>1.0</td>\n",
       "      <td>0.0</td>\n",
       "      <td>32.0</td>\n",
       "      <td>26294</td>\n",
       "    </tr>\n",
       "    <tr>\n",
       "      <th>3</th>\n",
       "      <td>1007</td>\n",
       "      <td>AL</td>\n",
       "      <td>bibb</td>\n",
       "      <td>29.3</td>\n",
       "      <td>0</td>\n",
       "      <td>0.0</td>\n",
       "      <td>419.099942</td>\n",
       "      <td>249.204753</td>\n",
       "      <td>232.642670</td>\n",
       "      <td>-6.645974</td>\n",
       "      <td>...</td>\n",
       "      <td>0.279293</td>\n",
       "      <td>0.030548</td>\n",
       "      <td>75.020729</td>\n",
       "      <td>9.253986</td>\n",
       "      <td>9.060807</td>\n",
       "      <td>1.0</td>\n",
       "      <td>0.0</td>\n",
       "      <td>0.0</td>\n",
       "      <td>22.2</td>\n",
       "      <td>22562</td>\n",
       "    </tr>\n",
       "    <tr>\n",
       "      <th>4</th>\n",
       "      <td>1009</td>\n",
       "      <td>AL</td>\n",
       "      <td>blount</td>\n",
       "      <td>22.2</td>\n",
       "      <td>0</td>\n",
       "      <td>0.0</td>\n",
       "      <td>95.842687</td>\n",
       "      <td>384.911607</td>\n",
       "      <td>910.686113</td>\n",
       "      <td>136.596168</td>\n",
       "      <td>...</td>\n",
       "      <td>0.497191</td>\n",
       "      <td>0.031402</td>\n",
       "      <td>88.887338</td>\n",
       "      <td>8.097947</td>\n",
       "      <td>7.895581</td>\n",
       "      <td>0.0</td>\n",
       "      <td>0.0</td>\n",
       "      <td>0.0</td>\n",
       "      <td>14.7</td>\n",
       "      <td>57522</td>\n",
       "    </tr>\n",
       "  </tbody>\n",
       "</table>\n",
       "<p>5 rows × 65 columns</p>\n",
       "</div>"
      ],
      "text/plain": [
       "Variable_Code  FIPS State   County  CHILDPOVRATE15 FARM_TO_SCHOOL15  FDPIR15  \\\n",
       "0              1001    AL  autauga            18.8                0      0.0   \n",
       "1              1003    AL  baldwin            19.6                1      0.0   \n",
       "2              1005    AL  barbour            45.2                0      0.0   \n",
       "3              1007    AL     bibb            29.3                0      0.0   \n",
       "4              1009    AL   blount            22.2                0      0.0   \n",
       "\n",
       "Variable_Code  LACCESS_BLACK15  LACCESS_CHILD10  LACCESS_CHILD15  \\\n",
       "0                  4216.473194      4822.500269      4616.971480   \n",
       "1                  3540.965826      7916.131932      7007.972675   \n",
       "2                  2713.124930       940.419327      1031.927776   \n",
       "3                   419.099942       249.204753       232.642670   \n",
       "4                    95.842687       384.911607       910.686113   \n",
       "\n",
       "Variable_Code  LACCESS_CHILD_10_15  ...  PCT_NHNA10  PCT_NHPI10  \\\n",
       "0                        -4.261872  ...    0.397647    0.040314   \n",
       "1                       -11.472260  ...    0.628755    0.043343   \n",
       "2                         9.730601  ...    0.218524    0.087409   \n",
       "3                        -6.645974  ...    0.279293    0.030548   \n",
       "4                       136.596168  ...    0.497191    0.031402   \n",
       "\n",
       "Variable_Code  PCT_NHWHITE10  PCT_REDUCED_LUNCH10  PCT_REDUCED_LUNCH15  \\\n",
       "0                  77.246156             6.886107             5.492806   \n",
       "1                  83.504787             5.542340             6.346384   \n",
       "2                  46.753105             4.582140             2.317528   \n",
       "3                  75.020729             9.253986             9.060807   \n",
       "4                  88.887338             8.097947             7.895581   \n",
       "\n",
       "Variable_Code  PERCHLDPOV10  PERPOV10  POPLOSS10  POVRATE15  \\\n",
       "0                       0.0       0.0        0.0       12.7   \n",
       "1                       0.0       0.0        0.0       12.9   \n",
       "2                       1.0       1.0        0.0       32.0   \n",
       "3                       1.0       0.0        0.0       22.2   \n",
       "4                       0.0       0.0        0.0       14.7   \n",
       "\n",
       "Variable_Code  Population_Estimate_2015  \n",
       "0                                 54838  \n",
       "1                                202995  \n",
       "2                                 26294  \n",
       "3                                 22562  \n",
       "4                                 57522  \n",
       "\n",
       "[5 rows x 65 columns]"
      ]
     },
     "execution_count": 108,
     "metadata": {},
     "output_type": "execute_result"
    }
   ],
   "source": [
    "df_full.head()"
   ]
  },
  {
   "cell_type": "code",
   "execution_count": 109,
   "id": "21dda677-d18e-4062-9e93-0a7ce48fca33",
   "metadata": {
    "tags": []
   },
   "outputs": [
    {
     "name": "stdout",
     "output_type": "stream",
     "text": [
      "<class 'pandas.core.frame.DataFrame'>\n",
      "RangeIndex: 3140 entries, 0 to 3139\n",
      "Data columns (total 65 columns):\n",
      " #   Column                     Non-Null Count  Dtype   \n",
      "---  ------                     --------------  -----   \n",
      " 0   FIPS                       3140 non-null   int64   \n",
      " 1   State                      3140 non-null   object  \n",
      " 2   County                     3140 non-null   object  \n",
      " 3   CHILDPOVRATE15             3140 non-null   float64 \n",
      " 4   FARM_TO_SCHOOL15           3140 non-null   category\n",
      " 5   FDPIR15                    3140 non-null   float64 \n",
      " 6   LACCESS_BLACK15            3140 non-null   float64 \n",
      " 7   LACCESS_CHILD10            3140 non-null   float64 \n",
      " 8   LACCESS_CHILD15            3140 non-null   float64 \n",
      " 9   LACCESS_CHILD_10_15        3140 non-null   float64 \n",
      " 10  LACCESS_HHNV10             3140 non-null   float64 \n",
      " 11  LACCESS_HHNV15             3140 non-null   float64 \n",
      " 12  LACCESS_HISP15             3140 non-null   float64 \n",
      " 13  LACCESS_LOWI10             3140 non-null   float64 \n",
      " 14  LACCESS_LOWI15             3140 non-null   float64 \n",
      " 15  LACCESS_MULTIR15           3140 non-null   float64 \n",
      " 16  LACCESS_NHASIAN15          3140 non-null   float64 \n",
      " 17  LACCESS_NHNA15             3140 non-null   float64 \n",
      " 18  LACCESS_NHPI15             3140 non-null   float64 \n",
      " 19  LACCESS_POP10              3140 non-null   float64 \n",
      " 20  LACCESS_POP15              3140 non-null   float64 \n",
      " 21  LACCESS_SENIORS10          3140 non-null   float64 \n",
      " 22  LACCESS_SENIORS15          3140 non-null   float64 \n",
      " 23  LACCESS_SNAP15             3140 non-null   float64 \n",
      " 24  LACCESS_WHITE15            3140 non-null   float64 \n",
      " 25  MEDHHINC15                 3140 non-null   float64 \n",
      " 26  PCH_LACCESS_HHNV_10_15     3140 non-null   float64 \n",
      " 27  PCH_LACCESS_LOWI_10_15     3140 non-null   float64 \n",
      " 28  PCH_LACCESS_POP_10_15      3140 non-null   float64 \n",
      " 29  PCH_LACCESS_SENIORS_10_15  3140 non-null   float64 \n",
      " 30  PCT_18YOUNGER10            3140 non-null   float64 \n",
      " 31  PCT_65OLDER10              3140 non-null   float64 \n",
      " 32  PCT_FREE_LUNCH10           3140 non-null   float64 \n",
      " 33  PCT_FREE_LUNCH15           3140 non-null   float64 \n",
      " 34  PCT_HISP10                 3140 non-null   float64 \n",
      " 35  PCT_LACCESS_BLACK15        3140 non-null   float64 \n",
      " 36  PCT_LACCESS_CHILD10        3140 non-null   float64 \n",
      " 37  PCT_LACCESS_CHILD15        3140 non-null   float64 \n",
      " 38  PCT_LACCESS_HHNV10         3140 non-null   float64 \n",
      " 39  PCT_LACCESS_HHNV15         3140 non-null   float64 \n",
      " 40  PCT_LACCESS_HISP15         3140 non-null   float64 \n",
      " 41  PCT_LACCESS_LOWI10         3140 non-null   float64 \n",
      " 42  PCT_LACCESS_LOWI15         3140 non-null   float64 \n",
      " 43  PCT_LACCESS_MULTIR15       3140 non-null   float64 \n",
      " 44  PCT_LACCESS_NHASIAN15      3140 non-null   float64 \n",
      " 45  PCT_LACCESS_NHNA15         3140 non-null   float64 \n",
      " 46  PCT_LACCESS_NHPI15         3140 non-null   float64 \n",
      " 47  PCT_LACCESS_POP10          3140 non-null   float64 \n",
      " 48  PCT_LACCESS_POP15          3140 non-null   float64 \n",
      " 49  PCT_LACCESS_SENIORS10      3140 non-null   float64 \n",
      " 50  PCT_LACCESS_SENIORS15      3140 non-null   float64 \n",
      " 51  PCT_LACCESS_SNAP15         3140 non-null   float64 \n",
      " 52  PCT_LACCESS_WHITE15        3140 non-null   float64 \n",
      " 53  PCT_NHASIAN10              3140 non-null   float64 \n",
      " 54  PCT_NHBLACK10              3140 non-null   float64 \n",
      " 55  PCT_NHNA10                 3140 non-null   float64 \n",
      " 56  PCT_NHPI10                 3140 non-null   float64 \n",
      " 57  PCT_NHWHITE10              3140 non-null   float64 \n",
      " 58  PCT_REDUCED_LUNCH10        3140 non-null   float64 \n",
      " 59  PCT_REDUCED_LUNCH15        3140 non-null   float64 \n",
      " 60  PERCHLDPOV10               3140 non-null   float64 \n",
      " 61  PERPOV10                   3140 non-null   float64 \n",
      " 62  POPLOSS10                  3140 non-null   float64 \n",
      " 63  POVRATE15                  3140 non-null   float64 \n",
      " 64  Population_Estimate_2015   3140 non-null   int64   \n",
      "dtypes: category(1), float64(60), int64(2), object(2)\n",
      "memory usage: 1.5+ MB\n"
     ]
    }
   ],
   "source": [
    "df_full.info()"
   ]
  },
  {
   "cell_type": "code",
   "execution_count": 110,
   "id": "b60aac59-be2a-41c6-a69b-587b5f655fb7",
   "metadata": {
    "tags": []
   },
   "outputs": [
    {
     "data": {
      "text/html": [
       "<div>\n",
       "<style scoped>\n",
       "    .dataframe tbody tr th:only-of-type {\n",
       "        vertical-align: middle;\n",
       "    }\n",
       "\n",
       "    .dataframe tbody tr th {\n",
       "        vertical-align: top;\n",
       "    }\n",
       "\n",
       "    .dataframe thead th {\n",
       "        text-align: right;\n",
       "    }\n",
       "</style>\n",
       "<table border=\"1\" class=\"dataframe\">\n",
       "  <thead>\n",
       "    <tr style=\"text-align: right;\">\n",
       "      <th>Variable_Code</th>\n",
       "      <th>FIPS</th>\n",
       "      <th>CHILDPOVRATE15</th>\n",
       "      <th>FDPIR15</th>\n",
       "      <th>LACCESS_BLACK15</th>\n",
       "      <th>LACCESS_CHILD10</th>\n",
       "      <th>LACCESS_CHILD15</th>\n",
       "      <th>LACCESS_CHILD_10_15</th>\n",
       "      <th>LACCESS_HHNV10</th>\n",
       "      <th>LACCESS_HHNV15</th>\n",
       "      <th>LACCESS_HISP15</th>\n",
       "      <th>...</th>\n",
       "      <th>PCT_NHNA10</th>\n",
       "      <th>PCT_NHPI10</th>\n",
       "      <th>PCT_NHWHITE10</th>\n",
       "      <th>PCT_REDUCED_LUNCH10</th>\n",
       "      <th>PCT_REDUCED_LUNCH15</th>\n",
       "      <th>PERCHLDPOV10</th>\n",
       "      <th>PERPOV10</th>\n",
       "      <th>POPLOSS10</th>\n",
       "      <th>POVRATE15</th>\n",
       "      <th>Population_Estimate_2015</th>\n",
       "    </tr>\n",
       "  </thead>\n",
       "  <tbody>\n",
       "    <tr>\n",
       "      <th>count</th>\n",
       "      <td>3140.000000</td>\n",
       "      <td>3140.000000</td>\n",
       "      <td>3140.000000</td>\n",
       "      <td>3140.000000</td>\n",
       "      <td>3140.000000</td>\n",
       "      <td>3140.000000</td>\n",
       "      <td>3140.000000</td>\n",
       "      <td>3140.000000</td>\n",
       "      <td>3140.000000</td>\n",
       "      <td>3140.000000</td>\n",
       "      <td>...</td>\n",
       "      <td>3140.000000</td>\n",
       "      <td>3140.000000</td>\n",
       "      <td>3140.000000</td>\n",
       "      <td>3140.000000</td>\n",
       "      <td>3140.000000</td>\n",
       "      <td>3140.000000</td>\n",
       "      <td>3140.000000</td>\n",
       "      <td>3140.000000</td>\n",
       "      <td>3140.000000</td>\n",
       "      <td>3.140000e+03</td>\n",
       "    </tr>\n",
       "    <tr>\n",
       "      <th>mean</th>\n",
       "      <td>30387.632484</td>\n",
       "      <td>23.231338</td>\n",
       "      <td>0.157006</td>\n",
       "      <td>2259.975196</td>\n",
       "      <td>4962.448457</td>\n",
       "      <td>4721.790551</td>\n",
       "      <td>275.148527</td>\n",
       "      <td>660.900434</td>\n",
       "      <td>673.258855</td>\n",
       "      <td>2315.081679</td>\n",
       "      <td>...</td>\n",
       "      <td>1.812958</td>\n",
       "      <td>0.080520</td>\n",
       "      <td>78.343850</td>\n",
       "      <td>8.501296</td>\n",
       "      <td>7.011192</td>\n",
       "      <td>0.224841</td>\n",
       "      <td>0.111783</td>\n",
       "      <td>0.168471</td>\n",
       "      <td>16.255796</td>\n",
       "      <td>1.021402e+05</td>\n",
       "    </tr>\n",
       "    <tr>\n",
       "      <th>std</th>\n",
       "      <td>15156.372045</td>\n",
       "      <td>9.371860</td>\n",
       "      <td>0.970675</td>\n",
       "      <td>8772.373013</td>\n",
       "      <td>13175.136944</td>\n",
       "      <td>12188.860573</td>\n",
       "      <td>11016.241702</td>\n",
       "      <td>1121.570831</td>\n",
       "      <td>1100.684969</td>\n",
       "      <td>12129.881384</td>\n",
       "      <td>...</td>\n",
       "      <td>7.241848</td>\n",
       "      <td>0.946025</td>\n",
       "      <td>19.805889</td>\n",
       "      <td>3.277897</td>\n",
       "      <td>3.800416</td>\n",
       "      <td>0.417544</td>\n",
       "      <td>0.315150</td>\n",
       "      <td>0.374344</td>\n",
       "      <td>6.447826</td>\n",
       "      <td>3.282909e+05</td>\n",
       "    </tr>\n",
       "    <tr>\n",
       "      <th>min</th>\n",
       "      <td>1001.000000</td>\n",
       "      <td>0.000000</td>\n",
       "      <td>0.000000</td>\n",
       "      <td>0.000000</td>\n",
       "      <td>0.000000</td>\n",
       "      <td>0.000000</td>\n",
       "      <td>-100.000000</td>\n",
       "      <td>0.000000</td>\n",
       "      <td>0.000000</td>\n",
       "      <td>0.000000</td>\n",
       "      <td>...</td>\n",
       "      <td>0.000000</td>\n",
       "      <td>0.000000</td>\n",
       "      <td>2.860408</td>\n",
       "      <td>0.000000</td>\n",
       "      <td>0.000000</td>\n",
       "      <td>0.000000</td>\n",
       "      <td>0.000000</td>\n",
       "      <td>0.000000</td>\n",
       "      <td>0.000000</td>\n",
       "      <td>8.800000e+01</td>\n",
       "    </tr>\n",
       "    <tr>\n",
       "      <th>25%</th>\n",
       "      <td>18178.500000</td>\n",
       "      <td>16.200000</td>\n",
       "      <td>0.000000</td>\n",
       "      <td>7.000000</td>\n",
       "      <td>365.182063</td>\n",
       "      <td>357.517444</td>\n",
       "      <td>-10.797016</td>\n",
       "      <td>118.110707</td>\n",
       "      <td>125.513236</td>\n",
       "      <td>31.157285</td>\n",
       "      <td>...</td>\n",
       "      <td>0.194960</td>\n",
       "      <td>0.010005</td>\n",
       "      <td>66.994751</td>\n",
       "      <td>6.573317</td>\n",
       "      <td>4.912017</td>\n",
       "      <td>0.000000</td>\n",
       "      <td>0.000000</td>\n",
       "      <td>0.000000</td>\n",
       "      <td>11.500000</td>\n",
       "      <td>1.095400e+04</td>\n",
       "    </tr>\n",
       "    <tr>\n",
       "      <th>50%</th>\n",
       "      <td>29176.000000</td>\n",
       "      <td>22.300000</td>\n",
       "      <td>0.000000</td>\n",
       "      <td>88.031385</td>\n",
       "      <td>937.561324</td>\n",
       "      <td>951.889339</td>\n",
       "      <td>-0.038024</td>\n",
       "      <td>320.013520</td>\n",
       "      <td>339.534664</td>\n",
       "      <td>133.865260</td>\n",
       "      <td>...</td>\n",
       "      <td>0.304993</td>\n",
       "      <td>0.022943</td>\n",
       "      <td>85.772028</td>\n",
       "      <td>8.119723</td>\n",
       "      <td>7.075466</td>\n",
       "      <td>0.000000</td>\n",
       "      <td>0.000000</td>\n",
       "      <td>0.000000</td>\n",
       "      <td>15.200000</td>\n",
       "      <td>2.564850e+04</td>\n",
       "    </tr>\n",
       "    <tr>\n",
       "      <th>75%</th>\n",
       "      <td>45079.500000</td>\n",
       "      <td>29.100000</td>\n",
       "      <td>0.000000</td>\n",
       "      <td>1003.774030</td>\n",
       "      <td>3009.332967</td>\n",
       "      <td>2982.926315</td>\n",
       "      <td>7.006581</td>\n",
       "      <td>706.477808</td>\n",
       "      <td>754.501764</td>\n",
       "      <td>871.943431</td>\n",
       "      <td>...</td>\n",
       "      <td>0.625350</td>\n",
       "      <td>0.046501</td>\n",
       "      <td>94.175301</td>\n",
       "      <td>10.033524</td>\n",
       "      <td>9.187047</td>\n",
       "      <td>0.000000</td>\n",
       "      <td>0.000000</td>\n",
       "      <td>0.000000</td>\n",
       "      <td>19.700000</td>\n",
       "      <td>6.749650e+04</td>\n",
       "    </tr>\n",
       "    <tr>\n",
       "      <th>max</th>\n",
       "      <td>56045.000000</td>\n",
       "      <td>61.600000</td>\n",
       "      <td>20.000000</td>\n",
       "      <td>167913.190400</td>\n",
       "      <td>260308.794100</td>\n",
       "      <td>219002.492900</td>\n",
       "      <td>592130.563800</td>\n",
       "      <td>16334.423180</td>\n",
       "      <td>13845.220200</td>\n",
       "      <td>263440.500100</td>\n",
       "      <td>...</td>\n",
       "      <td>86.319184</td>\n",
       "      <td>48.888889</td>\n",
       "      <td>99.163180</td>\n",
       "      <td>57.417468</td>\n",
       "      <td>35.714286</td>\n",
       "      <td>1.000000</td>\n",
       "      <td>1.000000</td>\n",
       "      <td>1.000000</td>\n",
       "      <td>47.400000</td>\n",
       "      <td>1.009704e+07</td>\n",
       "    </tr>\n",
       "  </tbody>\n",
       "</table>\n",
       "<p>8 rows × 62 columns</p>\n",
       "</div>"
      ],
      "text/plain": [
       "Variable_Code          FIPS  CHILDPOVRATE15      FDPIR15  LACCESS_BLACK15  \\\n",
       "count           3140.000000     3140.000000  3140.000000      3140.000000   \n",
       "mean           30387.632484       23.231338     0.157006      2259.975196   \n",
       "std            15156.372045        9.371860     0.970675      8772.373013   \n",
       "min             1001.000000        0.000000     0.000000         0.000000   \n",
       "25%            18178.500000       16.200000     0.000000         7.000000   \n",
       "50%            29176.000000       22.300000     0.000000        88.031385   \n",
       "75%            45079.500000       29.100000     0.000000      1003.774030   \n",
       "max            56045.000000       61.600000    20.000000    167913.190400   \n",
       "\n",
       "Variable_Code  LACCESS_CHILD10  LACCESS_CHILD15  LACCESS_CHILD_10_15  \\\n",
       "count              3140.000000      3140.000000          3140.000000   \n",
       "mean               4962.448457      4721.790551           275.148527   \n",
       "std               13175.136944     12188.860573         11016.241702   \n",
       "min                   0.000000         0.000000          -100.000000   \n",
       "25%                 365.182063       357.517444           -10.797016   \n",
       "50%                 937.561324       951.889339            -0.038024   \n",
       "75%                3009.332967      2982.926315             7.006581   \n",
       "max              260308.794100    219002.492900        592130.563800   \n",
       "\n",
       "Variable_Code  LACCESS_HHNV10  LACCESS_HHNV15  LACCESS_HISP15  ...  \\\n",
       "count             3140.000000     3140.000000     3140.000000  ...   \n",
       "mean               660.900434      673.258855     2315.081679  ...   \n",
       "std               1121.570831     1100.684969    12129.881384  ...   \n",
       "min                  0.000000        0.000000        0.000000  ...   \n",
       "25%                118.110707      125.513236       31.157285  ...   \n",
       "50%                320.013520      339.534664      133.865260  ...   \n",
       "75%                706.477808      754.501764      871.943431  ...   \n",
       "max              16334.423180    13845.220200   263440.500100  ...   \n",
       "\n",
       "Variable_Code   PCT_NHNA10   PCT_NHPI10  PCT_NHWHITE10  PCT_REDUCED_LUNCH10  \\\n",
       "count          3140.000000  3140.000000    3140.000000          3140.000000   \n",
       "mean              1.812958     0.080520      78.343850             8.501296   \n",
       "std               7.241848     0.946025      19.805889             3.277897   \n",
       "min               0.000000     0.000000       2.860408             0.000000   \n",
       "25%               0.194960     0.010005      66.994751             6.573317   \n",
       "50%               0.304993     0.022943      85.772028             8.119723   \n",
       "75%               0.625350     0.046501      94.175301            10.033524   \n",
       "max              86.319184    48.888889      99.163180            57.417468   \n",
       "\n",
       "Variable_Code  PCT_REDUCED_LUNCH15  PERCHLDPOV10     PERPOV10    POPLOSS10  \\\n",
       "count                  3140.000000   3140.000000  3140.000000  3140.000000   \n",
       "mean                      7.011192      0.224841     0.111783     0.168471   \n",
       "std                       3.800416      0.417544     0.315150     0.374344   \n",
       "min                       0.000000      0.000000     0.000000     0.000000   \n",
       "25%                       4.912017      0.000000     0.000000     0.000000   \n",
       "50%                       7.075466      0.000000     0.000000     0.000000   \n",
       "75%                       9.187047      0.000000     0.000000     0.000000   \n",
       "max                      35.714286      1.000000     1.000000     1.000000   \n",
       "\n",
       "Variable_Code    POVRATE15  Population_Estimate_2015  \n",
       "count          3140.000000              3.140000e+03  \n",
       "mean             16.255796              1.021402e+05  \n",
       "std               6.447826              3.282909e+05  \n",
       "min               0.000000              8.800000e+01  \n",
       "25%              11.500000              1.095400e+04  \n",
       "50%              15.200000              2.564850e+04  \n",
       "75%              19.700000              6.749650e+04  \n",
       "max              47.400000              1.009704e+07  \n",
       "\n",
       "[8 rows x 62 columns]"
      ]
     },
     "execution_count": 110,
     "metadata": {},
     "output_type": "execute_result"
    }
   ],
   "source": [
    "df_full.describe()"
   ]
  },
  {
   "cell_type": "code",
   "execution_count": 118,
   "id": "c19741ad-7eb1-49e0-981c-dd3ec855cbfc",
   "metadata": {
    "tags": []
   },
   "outputs": [
    {
     "data": {
      "image/png": "[encoded data removed]",
      "text/plain": [
       "<Figure size 640x480 with 1 Axes>"
      ]
     },
     "metadata": {},
     "output_type": "display_data"
    }
   ],
   "source": [
    "pov_by_state = df_full.groupby(\"State\")[\"POVRATE15\"].mean().sort_values(ascending=True)\n",
    "pov_by_state.plot(kind=\"bar\", title=\"Poverty Rate by State\")\n",
    "plt.show()"
   ]
  },
  {
   "cell_type": "code",
   "execution_count": 114,
   "id": "25b493c3-c18a-40c4-835a-52590c1c21fa",
   "metadata": {
    "tags": []
   },
   "outputs": [
    {
     "data": {
      "image/png": "[encoded data removed]",
      "text/plain": [
       "<Figure size 640x480 with 1 Axes>"
      ]
     },
     "metadata": {},
     "output_type": "display_data"
    }
   ],
   "source": [
    "df_full.plot(x=\"LACCESS_CHILD10\", y=\"LACCESS_CHILD15\", kind=\"scatter\")\n",
    "plt.show()"
   ]
  },
  {
   "cell_type": "code",
   "execution_count": 119,
   "id": "5448da73-3cfe-4913-a99f-504f3f358046",
   "metadata": {
    "tags": []
   },
   "outputs": [
    {
     "data": {
      "image/png": "[encoded data removed]",
      "text/plain": [
       "<Figure size 640x480 with 1 Axes>"
      ]
     },
     "metadata": {},
     "output_type": "display_data"
    }
   ],
   "source": [
    "median_income = df_full.groupby(\"State\")[\"MEDHHINC15\"].mean().sort_values(ascending=True)\n",
    "median_income.plot(kind=\"bar\", title=\"Median Household Income by State\")\n",
    "plt.show()"
   ]
  },
  {
   "cell_type": "code",
   "execution_count": 122,
   "id": "00e4c659-7f3e-4ee0-8d1e-430367994edf",
   "metadata": {
    "tags": []
   },
   "outputs": [
    {
     "data": {
      "image/png": "[encoded data removed]",
      "text/plain": [
       "<Figure size 640x480 with 1 Axes>"
      ]
     },
     "metadata": {},
     "output_type": "display_data"
    }
   ],
   "source": [
    "df_full.plot(x=\"PCT_18YOUNGER10\", y=\"PCT_65OLDER10\", kind=\"scatter\")\n",
    "plt.show()"
   ]
  },
  {
   "cell_type": "code",
   "execution_count": 124,
   "id": "b3c1eb76-a9d0-4c37-9a6d-6d5ad2e177f5",
   "metadata": {
    "tags": []
   },
   "outputs": [
    {
     "data": {
      "image/png": "[encoded data removed]",
      "text/plain": [
       "<Figure size 640x480 with 1 Axes>"
      ]
     },
     "metadata": {},
     "output_type": "display_data"
    }
   ],
   "source": [
    "df_full.plot(x=\"PERPOV10\", y=\"PERCHLDPOV10\", kind=\"scatter\")\n",
    "plt.show() # Instead show this as bar graph with comparative bars per state."
   ]
  },
  {
   "cell_type": "code",
   "execution_count": null,
   "id": "c542fb34-2a1c-43b3-82e7-11c125c3f086",
   "metadata": {},
   "outputs": [],
   "source": []
  }
 ],
 "metadata": {
  "kernelspec": {
   "display_name": "Python 3 (ipykernel)",
   "language": "python",
   "name": "python3"
  },
  "language_info": {
   "codemirror_mode": {
    "name": "ipython",
    "version": 3
   },
   "file_extension": ".py",
   "mimetype": "text/x-python",
   "name": "python",
   "nbconvert_exporter": "python",
   "pygments_lexer": "ipython3",
   "version": "3.11.5"
  }
 },
 "nbformat": 4,
 "nbformat_minor": 5
}
